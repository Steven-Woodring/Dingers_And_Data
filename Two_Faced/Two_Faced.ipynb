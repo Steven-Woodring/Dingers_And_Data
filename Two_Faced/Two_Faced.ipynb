{
 "cells": [
  {
   "cell_type": "code",
   "execution_count": 1,
   "id": "32c720d5",
   "metadata": {},
   "outputs": [],
   "source": [
    "# Import dependencies\n",
    "import pandas as pd\n",
    "pd.set_option('display.max_columns', 500)\n",
    "\n",
    "import plotly.graph_objects as go\n",
    "import chart_studio.plotly as py"
   ]
  },
  {
   "cell_type": "markdown",
   "id": "d81f614a",
   "metadata": {},
   "source": [
    "## Data Processing"
   ]
  },
  {
   "cell_type": "code",
   "execution_count": 2,
   "id": "9f51b46c",
   "metadata": {},
   "outputs": [
    {
     "data": {
      "text/html": [
       "<div>\n",
       "<style scoped>\n",
       "    .dataframe tbody tr th:only-of-type {\n",
       "        vertical-align: middle;\n",
       "    }\n",
       "\n",
       "    .dataframe tbody tr th {\n",
       "        vertical-align: top;\n",
       "    }\n",
       "\n",
       "    .dataframe thead th {\n",
       "        text-align: right;\n",
       "    }\n",
       "</style>\n",
       "<table border=\"1\" class=\"dataframe\">\n",
       "  <thead>\n",
       "    <tr style=\"text-align: right;\">\n",
       "      <th></th>\n",
       "      <th>Season</th>\n",
       "      <th>Team</th>\n",
       "      <th>Level</th>\n",
       "      <th>Face</th>\n",
       "      <th>Age</th>\n",
       "      <th>G</th>\n",
       "      <th>AB</th>\n",
       "      <th>PA</th>\n",
       "      <th>1B</th>\n",
       "      <th>2B</th>\n",
       "      <th>3B</th>\n",
       "      <th>HR</th>\n",
       "      <th>H</th>\n",
       "      <th>AVG</th>\n",
       "      <th>R</th>\n",
       "      <th>RBI</th>\n",
       "      <th>BB</th>\n",
       "      <th>IBB</th>\n",
       "      <th>SO</th>\n",
       "      <th>HBP</th>\n",
       "      <th>SF</th>\n",
       "      <th>BB%</th>\n",
       "      <th>K%</th>\n",
       "      <th>BB/K</th>\n",
       "      <th>OBP</th>\n",
       "      <th>SLG</th>\n",
       "      <th>OPS</th>\n",
       "      <th>BABIP</th>\n",
       "      <th>GB/FB</th>\n",
       "      <th>LD%</th>\n",
       "      <th>GB%</th>\n",
       "      <th>FB%</th>\n",
       "      <th>IFFB%</th>\n",
       "      <th>HR/FB</th>\n",
       "      <th>wOBA</th>\n",
       "      <th>wRAA</th>\n",
       "      <th>wRC</th>\n",
       "      <th>Bat</th>\n",
       "      <th>Fld</th>\n",
       "      <th>RAR</th>\n",
       "      <th>WAR</th>\n",
       "      <th>wRC+</th>\n",
       "      <th>WPA</th>\n",
       "      <th>Barrel%</th>\n",
       "    </tr>\n",
       "  </thead>\n",
       "  <tbody>\n",
       "    <tr>\n",
       "      <th>0</th>\n",
       "      <td>2015</td>\n",
       "      <td>TEX</td>\n",
       "      <td>MLB</td>\n",
       "      <td>Bearded</td>\n",
       "      <td>21</td>\n",
       "      <td>36</td>\n",
       "      <td>108</td>\n",
       "      <td>123</td>\n",
       "      <td>12</td>\n",
       "      <td>3</td>\n",
       "      <td>1</td>\n",
       "      <td>6</td>\n",
       "      <td>22</td>\n",
       "      <td>0.204</td>\n",
       "      <td>16</td>\n",
       "      <td>14</td>\n",
       "      <td>15</td>\n",
       "      <td>3</td>\n",
       "      <td>57</td>\n",
       "      <td>0</td>\n",
       "      <td>0</td>\n",
       "      <td>0.122</td>\n",
       "      <td>0.463</td>\n",
       "      <td>0.26</td>\n",
       "      <td>0.301</td>\n",
       "      <td>0.417</td>\n",
       "      <td>0.717</td>\n",
       "      <td>0.356</td>\n",
       "      <td>0.95</td>\n",
       "      <td>0.275</td>\n",
       "      <td>0.353</td>\n",
       "      <td>0.373</td>\n",
       "      <td>0.158</td>\n",
       "      <td>0.316</td>\n",
       "      <td>0.305</td>\n",
       "      <td>-0.8</td>\n",
       "      <td>13</td>\n",
       "      <td>-1.9</td>\n",
       "      <td>1.6</td>\n",
       "      <td>5.0</td>\n",
       "      <td>0.5</td>\n",
       "      <td>87</td>\n",
       "      <td>-0.37</td>\n",
       "      <td>0.157</td>\n",
       "    </tr>\n",
       "    <tr>\n",
       "      <th>1</th>\n",
       "      <td>2016</td>\n",
       "      <td>TEX</td>\n",
       "      <td>MLB</td>\n",
       "      <td>Bearded</td>\n",
       "      <td>22</td>\n",
       "      <td>17</td>\n",
       "      <td>25</td>\n",
       "      <td>30</td>\n",
       "      <td>0</td>\n",
       "      <td>0</td>\n",
       "      <td>0</td>\n",
       "      <td>1</td>\n",
       "      <td>1</td>\n",
       "      <td>0.040</td>\n",
       "      <td>2</td>\n",
       "      <td>1</td>\n",
       "      <td>5</td>\n",
       "      <td>0</td>\n",
       "      <td>19</td>\n",
       "      <td>0</td>\n",
       "      <td>0</td>\n",
       "      <td>0.167</td>\n",
       "      <td>0.633</td>\n",
       "      <td>0.26</td>\n",
       "      <td>0.200</td>\n",
       "      <td>0.160</td>\n",
       "      <td>0.360</td>\n",
       "      <td>0.000</td>\n",
       "      <td>0.25</td>\n",
       "      <td>0.167</td>\n",
       "      <td>0.167</td>\n",
       "      <td>0.667</td>\n",
       "      <td>0.000</td>\n",
       "      <td>0.250</td>\n",
       "      <td>0.182</td>\n",
       "      <td>-3.4</td>\n",
       "      <td>0</td>\n",
       "      <td>-3.7</td>\n",
       "      <td>-0.8</td>\n",
       "      <td>-3.8</td>\n",
       "      <td>-0.4</td>\n",
       "      <td>-3</td>\n",
       "      <td>-0.59</td>\n",
       "      <td>0.167</td>\n",
       "    </tr>\n",
       "    <tr>\n",
       "      <th>2</th>\n",
       "      <td>2017</td>\n",
       "      <td>TEX</td>\n",
       "      <td>MLB</td>\n",
       "      <td>Bearded</td>\n",
       "      <td>23</td>\n",
       "      <td>145</td>\n",
       "      <td>449</td>\n",
       "      <td>532</td>\n",
       "      <td>32</td>\n",
       "      <td>18</td>\n",
       "      <td>3</td>\n",
       "      <td>41</td>\n",
       "      <td>94</td>\n",
       "      <td>0.209</td>\n",
       "      <td>85</td>\n",
       "      <td>80</td>\n",
       "      <td>75</td>\n",
       "      <td>1</td>\n",
       "      <td>196</td>\n",
       "      <td>8</td>\n",
       "      <td>0</td>\n",
       "      <td>0.141</td>\n",
       "      <td>0.368</td>\n",
       "      <td>0.38</td>\n",
       "      <td>0.333</td>\n",
       "      <td>0.537</td>\n",
       "      <td>0.869</td>\n",
       "      <td>0.250</td>\n",
       "      <td>0.51</td>\n",
       "      <td>0.179</td>\n",
       "      <td>0.279</td>\n",
       "      <td>0.542</td>\n",
       "      <td>0.118</td>\n",
       "      <td>0.301</td>\n",
       "      <td>0.364</td>\n",
       "      <td>19.2</td>\n",
       "      <td>84</td>\n",
       "      <td>12.5</td>\n",
       "      <td>-2.5</td>\n",
       "      <td>28.6</td>\n",
       "      <td>2.8</td>\n",
       "      <td>119</td>\n",
       "      <td>0.52</td>\n",
       "      <td>0.209</td>\n",
       "    </tr>\n",
       "    <tr>\n",
       "      <th>3</th>\n",
       "      <td>2018</td>\n",
       "      <td>TEX</td>\n",
       "      <td>MLB</td>\n",
       "      <td>Bearded</td>\n",
       "      <td>24</td>\n",
       "      <td>148</td>\n",
       "      <td>500</td>\n",
       "      <td>577</td>\n",
       "      <td>38</td>\n",
       "      <td>24</td>\n",
       "      <td>1</td>\n",
       "      <td>40</td>\n",
       "      <td>103</td>\n",
       "      <td>0.206</td>\n",
       "      <td>82</td>\n",
       "      <td>92</td>\n",
       "      <td>74</td>\n",
       "      <td>4</td>\n",
       "      <td>207</td>\n",
       "      <td>3</td>\n",
       "      <td>0</td>\n",
       "      <td>0.128</td>\n",
       "      <td>0.359</td>\n",
       "      <td>0.36</td>\n",
       "      <td>0.312</td>\n",
       "      <td>0.498</td>\n",
       "      <td>0.810</td>\n",
       "      <td>0.249</td>\n",
       "      <td>0.59</td>\n",
       "      <td>0.206</td>\n",
       "      <td>0.296</td>\n",
       "      <td>0.498</td>\n",
       "      <td>0.117</td>\n",
       "      <td>0.276</td>\n",
       "      <td>0.343</td>\n",
       "      <td>13.4</td>\n",
       "      <td>81</td>\n",
       "      <td>5.6</td>\n",
       "      <td>9.0</td>\n",
       "      <td>30.3</td>\n",
       "      <td>3.1</td>\n",
       "      <td>108</td>\n",
       "      <td>-0.42</td>\n",
       "      <td>0.222</td>\n",
       "    </tr>\n",
       "    <tr>\n",
       "      <th>4</th>\n",
       "      <td>2019</td>\n",
       "      <td>TEX</td>\n",
       "      <td>MLB</td>\n",
       "      <td>Bearded</td>\n",
       "      <td>25</td>\n",
       "      <td>70</td>\n",
       "      <td>241</td>\n",
       "      <td>297</td>\n",
       "      <td>23</td>\n",
       "      <td>15</td>\n",
       "      <td>1</td>\n",
       "      <td>22</td>\n",
       "      <td>61</td>\n",
       "      <td>0.253</td>\n",
       "      <td>54</td>\n",
       "      <td>49</td>\n",
       "      <td>52</td>\n",
       "      <td>4</td>\n",
       "      <td>114</td>\n",
       "      <td>2</td>\n",
       "      <td>1</td>\n",
       "      <td>0.175</td>\n",
       "      <td>0.384</td>\n",
       "      <td>0.46</td>\n",
       "      <td>0.389</td>\n",
       "      <td>0.598</td>\n",
       "      <td>0.986</td>\n",
       "      <td>0.368</td>\n",
       "      <td>0.58</td>\n",
       "      <td>0.256</td>\n",
       "      <td>0.272</td>\n",
       "      <td>0.472</td>\n",
       "      <td>0.119</td>\n",
       "      <td>0.373</td>\n",
       "      <td>0.401</td>\n",
       "      <td>20.8</td>\n",
       "      <td>58</td>\n",
       "      <td>16.7</td>\n",
       "      <td>4.2</td>\n",
       "      <td>32.8</td>\n",
       "      <td>3.2</td>\n",
       "      <td>144</td>\n",
       "      <td>0.51</td>\n",
       "      <td>0.256</td>\n",
       "    </tr>\n",
       "    <tr>\n",
       "      <th>5</th>\n",
       "      <td>2020</td>\n",
       "      <td>TEX</td>\n",
       "      <td>MLB</td>\n",
       "      <td>Bearded</td>\n",
       "      <td>26</td>\n",
       "      <td>57</td>\n",
       "      <td>193</td>\n",
       "      <td>226</td>\n",
       "      <td>17</td>\n",
       "      <td>8</td>\n",
       "      <td>0</td>\n",
       "      <td>10</td>\n",
       "      <td>35</td>\n",
       "      <td>0.181</td>\n",
       "      <td>23</td>\n",
       "      <td>26</td>\n",
       "      <td>29</td>\n",
       "      <td>2</td>\n",
       "      <td>79</td>\n",
       "      <td>4</td>\n",
       "      <td>0</td>\n",
       "      <td>0.128</td>\n",
       "      <td>0.350</td>\n",
       "      <td>0.37</td>\n",
       "      <td>0.301</td>\n",
       "      <td>0.378</td>\n",
       "      <td>0.679</td>\n",
       "      <td>0.240</td>\n",
       "      <td>0.48</td>\n",
       "      <td>0.183</td>\n",
       "      <td>0.266</td>\n",
       "      <td>0.550</td>\n",
       "      <td>0.117</td>\n",
       "      <td>0.167</td>\n",
       "      <td>0.297</td>\n",
       "      <td>-4.4</td>\n",
       "      <td>24</td>\n",
       "      <td>-3.6</td>\n",
       "      <td>5.6</td>\n",
       "      <td>10.3</td>\n",
       "      <td>1.0</td>\n",
       "      <td>87</td>\n",
       "      <td>0.46</td>\n",
       "      <td>0.140</td>\n",
       "    </tr>\n",
       "    <tr>\n",
       "      <th>6</th>\n",
       "      <td>2021</td>\n",
       "      <td>TEX</td>\n",
       "      <td>MLB</td>\n",
       "      <td>Bearded</td>\n",
       "      <td>27</td>\n",
       "      <td>95</td>\n",
       "      <td>310</td>\n",
       "      <td>388</td>\n",
       "      <td>37</td>\n",
       "      <td>6</td>\n",
       "      <td>1</td>\n",
       "      <td>25</td>\n",
       "      <td>69</td>\n",
       "      <td>0.223</td>\n",
       "      <td>57</td>\n",
       "      <td>55</td>\n",
       "      <td>74</td>\n",
       "      <td>4</td>\n",
       "      <td>125</td>\n",
       "      <td>4</td>\n",
       "      <td>0</td>\n",
       "      <td>0.191</td>\n",
       "      <td>0.322</td>\n",
       "      <td>0.59</td>\n",
       "      <td>0.379</td>\n",
       "      <td>0.490</td>\n",
       "      <td>0.869</td>\n",
       "      <td>0.275</td>\n",
       "      <td>0.76</td>\n",
       "      <td>0.178</td>\n",
       "      <td>0.356</td>\n",
       "      <td>0.467</td>\n",
       "      <td>0.095</td>\n",
       "      <td>0.298</td>\n",
       "      <td>0.372</td>\n",
       "      <td>18.6</td>\n",
       "      <td>66</td>\n",
       "      <td>18.5</td>\n",
       "      <td>7.9</td>\n",
       "      <td>37.4</td>\n",
       "      <td>3.8</td>\n",
       "      <td>139</td>\n",
       "      <td>-0.02</td>\n",
       "      <td>0.184</td>\n",
       "    </tr>\n",
       "    <tr>\n",
       "      <th>7</th>\n",
       "      <td>2021</td>\n",
       "      <td>NYY</td>\n",
       "      <td>MLB</td>\n",
       "      <td>Clean-Shaven</td>\n",
       "      <td>27</td>\n",
       "      <td>58</td>\n",
       "      <td>188</td>\n",
       "      <td>228</td>\n",
       "      <td>10</td>\n",
       "      <td>7</td>\n",
       "      <td>0</td>\n",
       "      <td>13</td>\n",
       "      <td>30</td>\n",
       "      <td>0.160</td>\n",
       "      <td>33</td>\n",
       "      <td>22</td>\n",
       "      <td>37</td>\n",
       "      <td>1</td>\n",
       "      <td>88</td>\n",
       "      <td>2</td>\n",
       "      <td>1</td>\n",
       "      <td>0.162</td>\n",
       "      <td>0.386</td>\n",
       "      <td>0.42</td>\n",
       "      <td>0.303</td>\n",
       "      <td>0.404</td>\n",
       "      <td>0.707</td>\n",
       "      <td>0.193</td>\n",
       "      <td>0.46</td>\n",
       "      <td>0.146</td>\n",
       "      <td>0.271</td>\n",
       "      <td>0.583</td>\n",
       "      <td>0.125</td>\n",
       "      <td>0.232</td>\n",
       "      <td>0.308</td>\n",
       "      <td>-1.2</td>\n",
       "      <td>26</td>\n",
       "      <td>-1.4</td>\n",
       "      <td>1.1</td>\n",
       "      <td>6.2</td>\n",
       "      <td>0.6</td>\n",
       "      <td>95</td>\n",
       "      <td>0.16</td>\n",
       "      <td>0.188</td>\n",
       "    </tr>\n",
       "    <tr>\n",
       "      <th>8</th>\n",
       "      <td>2022</td>\n",
       "      <td>NYY</td>\n",
       "      <td>MLB</td>\n",
       "      <td>Clean-Shaven</td>\n",
       "      <td>28</td>\n",
       "      <td>82</td>\n",
       "      <td>233</td>\n",
       "      <td>273</td>\n",
       "      <td>20</td>\n",
       "      <td>4</td>\n",
       "      <td>1</td>\n",
       "      <td>12</td>\n",
       "      <td>37</td>\n",
       "      <td>0.159</td>\n",
       "      <td>32</td>\n",
       "      <td>24</td>\n",
       "      <td>40</td>\n",
       "      <td>0</td>\n",
       "      <td>106</td>\n",
       "      <td>0</td>\n",
       "      <td>0</td>\n",
       "      <td>0.147</td>\n",
       "      <td>0.388</td>\n",
       "      <td>0.38</td>\n",
       "      <td>0.282</td>\n",
       "      <td>0.339</td>\n",
       "      <td>0.621</td>\n",
       "      <td>0.217</td>\n",
       "      <td>0.50</td>\n",
       "      <td>0.190</td>\n",
       "      <td>0.270</td>\n",
       "      <td>0.540</td>\n",
       "      <td>0.162</td>\n",
       "      <td>0.176</td>\n",
       "      <td>0.281</td>\n",
       "      <td>-6.5</td>\n",
       "      <td>25</td>\n",
       "      <td>-5.6</td>\n",
       "      <td>1.4</td>\n",
       "      <td>2.7</td>\n",
       "      <td>0.3</td>\n",
       "      <td>82</td>\n",
       "      <td>-1.71</td>\n",
       "      <td>0.173</td>\n",
       "    </tr>\n",
       "    <tr>\n",
       "      <th>9</th>\n",
       "      <td>2022</td>\n",
       "      <td>LAD</td>\n",
       "      <td>MLB</td>\n",
       "      <td>Bearded</td>\n",
       "      <td>28</td>\n",
       "      <td>6</td>\n",
       "      <td>15</td>\n",
       "      <td>15</td>\n",
       "      <td>2</td>\n",
       "      <td>1</td>\n",
       "      <td>0</td>\n",
       "      <td>1</td>\n",
       "      <td>4</td>\n",
       "      <td>0.267</td>\n",
       "      <td>2</td>\n",
       "      <td>3</td>\n",
       "      <td>0</td>\n",
       "      <td>0</td>\n",
       "      <td>8</td>\n",
       "      <td>0</td>\n",
       "      <td>0</td>\n",
       "      <td>0.000</td>\n",
       "      <td>0.533</td>\n",
       "      <td>0.00</td>\n",
       "      <td>0.267</td>\n",
       "      <td>0.533</td>\n",
       "      <td>0.800</td>\n",
       "      <td>0.500</td>\n",
       "      <td>0.67</td>\n",
       "      <td>0.286</td>\n",
       "      <td>0.286</td>\n",
       "      <td>0.429</td>\n",
       "      <td>0.333</td>\n",
       "      <td>0.333</td>\n",
       "      <td>0.339</td>\n",
       "      <td>0.3</td>\n",
       "      <td>2</td>\n",
       "      <td>0.4</td>\n",
       "      <td>0.7</td>\n",
       "      <td>1.3</td>\n",
       "      <td>0.1</td>\n",
       "      <td>120</td>\n",
       "      <td>0.14</td>\n",
       "      <td>0.143</td>\n",
       "    </tr>\n",
       "  </tbody>\n",
       "</table>\n",
       "</div>"
      ],
      "text/plain": [
       "   Season Team Level          Face  Age    G   AB   PA  1B  2B  3B  HR    H  \\\n",
       "0    2015  TEX   MLB       Bearded   21   36  108  123  12   3   1   6   22   \n",
       "1    2016  TEX   MLB       Bearded   22   17   25   30   0   0   0   1    1   \n",
       "2    2017  TEX   MLB       Bearded   23  145  449  532  32  18   3  41   94   \n",
       "3    2018  TEX   MLB       Bearded   24  148  500  577  38  24   1  40  103   \n",
       "4    2019  TEX   MLB       Bearded   25   70  241  297  23  15   1  22   61   \n",
       "5    2020  TEX   MLB       Bearded   26   57  193  226  17   8   0  10   35   \n",
       "6    2021  TEX   MLB       Bearded   27   95  310  388  37   6   1  25   69   \n",
       "7    2021  NYY   MLB  Clean-Shaven   27   58  188  228  10   7   0  13   30   \n",
       "8    2022  NYY   MLB  Clean-Shaven   28   82  233  273  20   4   1  12   37   \n",
       "9    2022  LAD   MLB       Bearded   28    6   15   15   2   1   0   1    4   \n",
       "\n",
       "     AVG   R  RBI  BB  IBB   SO  HBP  SF    BB%     K%  BB/K    OBP    SLG  \\\n",
       "0  0.204  16   14  15    3   57    0   0  0.122  0.463  0.26  0.301  0.417   \n",
       "1  0.040   2    1   5    0   19    0   0  0.167  0.633  0.26  0.200  0.160   \n",
       "2  0.209  85   80  75    1  196    8   0  0.141  0.368  0.38  0.333  0.537   \n",
       "3  0.206  82   92  74    4  207    3   0  0.128  0.359  0.36  0.312  0.498   \n",
       "4  0.253  54   49  52    4  114    2   1  0.175  0.384  0.46  0.389  0.598   \n",
       "5  0.181  23   26  29    2   79    4   0  0.128  0.350  0.37  0.301  0.378   \n",
       "6  0.223  57   55  74    4  125    4   0  0.191  0.322  0.59  0.379  0.490   \n",
       "7  0.160  33   22  37    1   88    2   1  0.162  0.386  0.42  0.303  0.404   \n",
       "8  0.159  32   24  40    0  106    0   0  0.147  0.388  0.38  0.282  0.339   \n",
       "9  0.267   2    3   0    0    8    0   0  0.000  0.533  0.00  0.267  0.533   \n",
       "\n",
       "     OPS  BABIP  GB/FB    LD%    GB%    FB%  IFFB%  HR/FB   wOBA  wRAA  wRC  \\\n",
       "0  0.717  0.356   0.95  0.275  0.353  0.373  0.158  0.316  0.305  -0.8   13   \n",
       "1  0.360  0.000   0.25  0.167  0.167  0.667  0.000  0.250  0.182  -3.4    0   \n",
       "2  0.869  0.250   0.51  0.179  0.279  0.542  0.118  0.301  0.364  19.2   84   \n",
       "3  0.810  0.249   0.59  0.206  0.296  0.498  0.117  0.276  0.343  13.4   81   \n",
       "4  0.986  0.368   0.58  0.256  0.272  0.472  0.119  0.373  0.401  20.8   58   \n",
       "5  0.679  0.240   0.48  0.183  0.266  0.550  0.117  0.167  0.297  -4.4   24   \n",
       "6  0.869  0.275   0.76  0.178  0.356  0.467  0.095  0.298  0.372  18.6   66   \n",
       "7  0.707  0.193   0.46  0.146  0.271  0.583  0.125  0.232  0.308  -1.2   26   \n",
       "8  0.621  0.217   0.50  0.190  0.270  0.540  0.162  0.176  0.281  -6.5   25   \n",
       "9  0.800  0.500   0.67  0.286  0.286  0.429  0.333  0.333  0.339   0.3    2   \n",
       "\n",
       "    Bat  Fld   RAR  WAR  wRC+   WPA  Barrel%  \n",
       "0  -1.9  1.6   5.0  0.5    87 -0.37    0.157  \n",
       "1  -3.7 -0.8  -3.8 -0.4    -3 -0.59    0.167  \n",
       "2  12.5 -2.5  28.6  2.8   119  0.52    0.209  \n",
       "3   5.6  9.0  30.3  3.1   108 -0.42    0.222  \n",
       "4  16.7  4.2  32.8  3.2   144  0.51    0.256  \n",
       "5  -3.6  5.6  10.3  1.0    87  0.46    0.140  \n",
       "6  18.5  7.9  37.4  3.8   139 -0.02    0.184  \n",
       "7  -1.4  1.1   6.2  0.6    95  0.16    0.188  \n",
       "8  -5.6  1.4   2.7  0.3    82 -1.71    0.173  \n",
       "9   0.4  0.7   1.3  0.1   120  0.14    0.143  "
      ]
     },
     "execution_count": 2,
     "metadata": {},
     "output_type": "execute_result"
    }
   ],
   "source": [
    "# Read in Gallo career stats from FanGraphs\n",
    "gallo_df = pd.read_csv('Resources/Data/joey_gallo.csv')\n",
    "gallo_df"
   ]
  },
  {
   "cell_type": "code",
   "execution_count": 3,
   "id": "ffbad8d3",
   "metadata": {},
   "outputs": [
    {
     "data": {
      "text/html": [
       "<div>\n",
       "<style scoped>\n",
       "    .dataframe tbody tr th:only-of-type {\n",
       "        vertical-align: middle;\n",
       "    }\n",
       "\n",
       "    .dataframe tbody tr th {\n",
       "        vertical-align: top;\n",
       "    }\n",
       "\n",
       "    .dataframe thead th {\n",
       "        text-align: right;\n",
       "    }\n",
       "</style>\n",
       "<table border=\"1\" class=\"dataframe\">\n",
       "  <thead>\n",
       "    <tr style=\"text-align: right;\">\n",
       "      <th></th>\n",
       "      <th>Face</th>\n",
       "      <th>G</th>\n",
       "      <th>AB</th>\n",
       "      <th>PA</th>\n",
       "      <th>1B</th>\n",
       "      <th>2B</th>\n",
       "      <th>3B</th>\n",
       "      <th>HR</th>\n",
       "      <th>H</th>\n",
       "      <th>R</th>\n",
       "      <th>RBI</th>\n",
       "      <th>BB</th>\n",
       "      <th>IBB</th>\n",
       "      <th>SO</th>\n",
       "      <th>HBP</th>\n",
       "      <th>SF</th>\n",
       "    </tr>\n",
       "  </thead>\n",
       "  <tbody>\n",
       "    <tr>\n",
       "      <th>0</th>\n",
       "      <td>Bearded</td>\n",
       "      <td>574</td>\n",
       "      <td>1841</td>\n",
       "      <td>2188</td>\n",
       "      <td>161</td>\n",
       "      <td>75</td>\n",
       "      <td>7</td>\n",
       "      <td>146</td>\n",
       "      <td>389</td>\n",
       "      <td>321</td>\n",
       "      <td>320</td>\n",
       "      <td>324</td>\n",
       "      <td>18</td>\n",
       "      <td>805</td>\n",
       "      <td>21</td>\n",
       "      <td>1</td>\n",
       "    </tr>\n",
       "    <tr>\n",
       "      <th>1</th>\n",
       "      <td>Clean-Shaven</td>\n",
       "      <td>140</td>\n",
       "      <td>421</td>\n",
       "      <td>501</td>\n",
       "      <td>30</td>\n",
       "      <td>11</td>\n",
       "      <td>1</td>\n",
       "      <td>25</td>\n",
       "      <td>67</td>\n",
       "      <td>65</td>\n",
       "      <td>46</td>\n",
       "      <td>77</td>\n",
       "      <td>1</td>\n",
       "      <td>194</td>\n",
       "      <td>2</td>\n",
       "      <td>1</td>\n",
       "    </tr>\n",
       "  </tbody>\n",
       "</table>\n",
       "</div>"
      ],
      "text/plain": [
       "           Face    G    AB    PA   1B  2B  3B   HR    H    R  RBI   BB  IBB  \\\n",
       "0       Bearded  574  1841  2188  161  75   7  146  389  321  320  324   18   \n",
       "1  Clean-Shaven  140   421   501   30  11   1   25   67   65   46   77    1   \n",
       "\n",
       "    SO  HBP  SF  \n",
       "0  805   21   1  \n",
       "1  194    2   1  "
      ]
     },
     "execution_count": 3,
     "metadata": {},
     "output_type": "execute_result"
    }
   ],
   "source": [
    "# Group by facial hair style\n",
    "columns_to_keep = ['Face', 'G', 'AB', 'PA', '1B', '2B', '3B', 'HR', 'H', 'R', 'RBI', 'BB', 'IBB', 'SO', 'HBP', 'SF']\n",
    "hair_df = gallo_df[columns_to_keep].groupby(['Face']).sum()\n",
    "hair_df.reset_index(inplace=True)\n",
    "hair_df"
   ]
  },
  {
   "cell_type": "code",
   "execution_count": 4,
   "id": "46c1b2b3",
   "metadata": {},
   "outputs": [
    {
     "data": {
      "text/html": [
       "<div>\n",
       "<style scoped>\n",
       "    .dataframe tbody tr th:only-of-type {\n",
       "        vertical-align: middle;\n",
       "    }\n",
       "\n",
       "    .dataframe tbody tr th {\n",
       "        vertical-align: top;\n",
       "    }\n",
       "\n",
       "    .dataframe thead th {\n",
       "        text-align: right;\n",
       "    }\n",
       "</style>\n",
       "<table border=\"1\" class=\"dataframe\">\n",
       "  <thead>\n",
       "    <tr style=\"text-align: right;\">\n",
       "      <th></th>\n",
       "      <th>Face</th>\n",
       "      <th>G</th>\n",
       "      <th>AB</th>\n",
       "      <th>PA</th>\n",
       "      <th>1B</th>\n",
       "      <th>2B</th>\n",
       "      <th>3B</th>\n",
       "      <th>HR</th>\n",
       "      <th>H</th>\n",
       "      <th>R</th>\n",
       "      <th>RBI</th>\n",
       "      <th>BB</th>\n",
       "      <th>IBB</th>\n",
       "      <th>SO</th>\n",
       "      <th>HBP</th>\n",
       "      <th>SF</th>\n",
       "      <th>AVG</th>\n",
       "      <th>HR%</th>\n",
       "      <th>BB%</th>\n",
       "      <th>K%</th>\n",
       "      <th>BB/K</th>\n",
       "      <th>OBP</th>\n",
       "      <th>SLG</th>\n",
       "      <th>OPS</th>\n",
       "    </tr>\n",
       "  </thead>\n",
       "  <tbody>\n",
       "    <tr>\n",
       "      <th>0</th>\n",
       "      <td>Bearded</td>\n",
       "      <td>574</td>\n",
       "      <td>1841</td>\n",
       "      <td>2188</td>\n",
       "      <td>161</td>\n",
       "      <td>75</td>\n",
       "      <td>7</td>\n",
       "      <td>146</td>\n",
       "      <td>389</td>\n",
       "      <td>321</td>\n",
       "      <td>320</td>\n",
       "      <td>324</td>\n",
       "      <td>18</td>\n",
       "      <td>805</td>\n",
       "      <td>21</td>\n",
       "      <td>1</td>\n",
       "      <td>0.211</td>\n",
       "      <td>0.067</td>\n",
       "      <td>0.148</td>\n",
       "      <td>0.368</td>\n",
       "      <td>0.402</td>\n",
       "      <td>0.336</td>\n",
       "      <td>0.498</td>\n",
       "      <td>0.833</td>\n",
       "    </tr>\n",
       "    <tr>\n",
       "      <th>1</th>\n",
       "      <td>Clean-Shaven</td>\n",
       "      <td>140</td>\n",
       "      <td>421</td>\n",
       "      <td>501</td>\n",
       "      <td>30</td>\n",
       "      <td>11</td>\n",
       "      <td>1</td>\n",
       "      <td>25</td>\n",
       "      <td>67</td>\n",
       "      <td>65</td>\n",
       "      <td>46</td>\n",
       "      <td>77</td>\n",
       "      <td>1</td>\n",
       "      <td>194</td>\n",
       "      <td>2</td>\n",
       "      <td>1</td>\n",
       "      <td>0.159</td>\n",
       "      <td>0.050</td>\n",
       "      <td>0.154</td>\n",
       "      <td>0.387</td>\n",
       "      <td>0.397</td>\n",
       "      <td>0.291</td>\n",
       "      <td>0.368</td>\n",
       "      <td>0.660</td>\n",
       "    </tr>\n",
       "  </tbody>\n",
       "</table>\n",
       "</div>"
      ],
      "text/plain": [
       "           Face    G    AB    PA   1B  2B  3B   HR    H    R  RBI   BB  IBB  \\\n",
       "0       Bearded  574  1841  2188  161  75   7  146  389  321  320  324   18   \n",
       "1  Clean-Shaven  140   421   501   30  11   1   25   67   65   46   77    1   \n",
       "\n",
       "    SO  HBP  SF    AVG    HR%    BB%     K%   BB/K    OBP    SLG    OPS  \n",
       "0  805   21   1  0.211  0.067  0.148  0.368  0.402  0.336  0.498  0.833  \n",
       "1  194    2   1  0.159  0.050  0.154  0.387  0.397  0.291  0.368  0.660  "
      ]
     },
     "execution_count": 4,
     "metadata": {},
     "output_type": "execute_result"
    }
   ],
   "source": [
    "# Calculate statistical columns for facial hair breakdown\n",
    "hair_df['AVG'] = hair_df['H'] / hair_df['AB']\n",
    "hair_df['HR%'] = hair_df['HR'] / hair_df['PA']\n",
    "hair_df['BB%'] = hair_df['BB'] / hair_df['PA']\n",
    "hair_df['K%'] = hair_df['SO'] / hair_df['PA']\n",
    "hair_df['BB/K'] = hair_df['BB'] / hair_df['SO']\n",
    "hair_df['AVG'] = hair_df['H'] / hair_df['AB']\n",
    "hair_df['OBP'] = (hair_df['H'] + hair_df['BB'] + hair_df['HBP']) / (hair_df['AB'] + hair_df['BB'] + hair_df['HBP'] + hair_df['SF'])\n",
    "hair_df['SLG'] = (hair_df['1B'] + hair_df['2B']*2 + hair_df['3B']*3 + hair_df['HR']*4) / hair_df['AB']\n",
    "hair_df['OPS'] = hair_df['OBP'] + hair_df['SLG']\n",
    "\n",
    "hair_df = hair_df.round({'AVG': 3, 'HR%': 3, 'BB%': 3, 'K%': 3, 'BB/K': 3, 'OBP': 3, 'SLG': 3, 'OPS': 3})\n",
    "\n",
    "hair_df"
   ]
  },
  {
   "cell_type": "markdown",
   "id": "ee06ef7b",
   "metadata": {},
   "source": [
    "## Viz"
   ]
  },
  {
   "cell_type": "code",
   "execution_count": 5,
   "id": "6198d59e",
   "metadata": {},
   "outputs": [],
   "source": [
    "# Create variables for use in chart\n",
    "\n",
    "# data variables\n",
    "x = ['HR%', 'AVG', 'OBP', 'SLG']\n",
    "y_beard = list(hair_df.loc[0, x])\n",
    "y_shave = list(hair_df.loc[1, x])\n",
    "\n",
    "\n",
    "# # hover label variables\n",
    "# faces = hair_df['Face']\n",
    "# games - hair_df['G']\n",
    "# runs_allowed = sched_df['Opp Runs']\n",
    "# opponents = sched_df['Opp']\n",
    "# wins = sched_df['Ws']\n",
    "# losses = sched_df['Ls']\n",
    "# win_percents = [\"{:.3f}\".format(wp)[1:] for wp in y]\n",
    "\n",
    "# hover = [\n",
    "#     f'NYY {r}  {loc}  {ra} {opp}<br>    <b>{w}-{l} ({wp})</b>'\n",
    "#     for r, loc, ra, opp, w, l, wp in\n",
    "#     zip(runs, locations, runs_allowed, opponents, wins, losses, win_percents)\n",
    "# ]\n",
    "\n",
    "\n",
    "# color variables\n",
    "navy = '#0C2340'\n",
    "gray = '#C4CED3'"
   ]
  },
  {
   "cell_type": "code",
   "execution_count": 88,
   "id": "ae9cbc31",
   "metadata": {},
   "outputs": [
    {
     "data": {
      "application/vnd.plotly.v1+json": {
       "config": {
        "plotlyServerURL": "https://plotly.com"
       },
       "data": [
        {
         "insidetextanchor": "middle",
         "marker": {
          "color": "#0C2340",
          "line": {
           "width": 0
          }
         },
         "name": "<b>Bearded</b>",
         "text": [
          "<b>.067</b>",
          "<b>.211</b>",
          "<b>.336</b>",
          "<b>.498</b>"
         ],
         "textfont": {
          "color": "white",
          "size": 18
         },
         "type": "bar",
         "x": [
          "HR%",
          "AVG",
          "OBP",
          "SLG"
         ],
         "y": [
          0.067,
          0.211,
          0.336,
          0.498
         ]
        },
        {
         "insidetextanchor": "middle",
         "marker": {
          "color": "white",
          "line": {
           "width": 0
          }
         },
         "name": "<b>Shaven</b>",
         "text": [
          "<b>.050</b>",
          "<b>.159</b>",
          "<b>.291</b>",
          "<b>.368</b>"
         ],
         "textfont": {
          "color": "#0C2340",
          "size": 18
         },
         "type": "bar",
         "x": [
          "HR%",
          "AVG",
          "OBP",
          "SLG"
         ],
         "y": [
          0.05,
          0.159,
          0.291,
          0.368
         ]
        }
       ],
       "layout": {
        "hoverlabel": {
         "bgcolor": "rgb(180, 190, 195)",
         "font": {
          "size": 16
         }
        },
        "legend": {
         "bgcolor": "rgb(160, 170, 175)",
         "bordercolor": "white",
         "borderwidth": 2,
         "font": {
          "color": "#0C2340",
          "size": 20
         },
         "orientation": "h",
         "title": {
          "text": ""
         },
         "x": 0.327,
         "xanchor": "left",
         "y": 0.956,
         "yanchor": "top"
        },
        "margin": {
         "b": 70,
         "l": 90,
         "pad": 10,
         "t": 110
        },
        "paper_bgcolor": "rgb(180, 190, 195)",
        "plot_bgcolor": "rgb(180, 190, 195)",
        "template": {
         "data": {
          "bar": [
           {
            "error_x": {
             "color": "#2a3f5f"
            },
            "error_y": {
             "color": "#2a3f5f"
            },
            "marker": {
             "line": {
              "color": "#E5ECF6",
              "width": 0.5
             },
             "pattern": {
              "fillmode": "overlay",
              "size": 10,
              "solidity": 0.2
             }
            },
            "type": "bar"
           }
          ],
          "barpolar": [
           {
            "marker": {
             "line": {
              "color": "#E5ECF6",
              "width": 0.5
             },
             "pattern": {
              "fillmode": "overlay",
              "size": 10,
              "solidity": 0.2
             }
            },
            "type": "barpolar"
           }
          ],
          "carpet": [
           {
            "aaxis": {
             "endlinecolor": "#2a3f5f",
             "gridcolor": "white",
             "linecolor": "white",
             "minorgridcolor": "white",
             "startlinecolor": "#2a3f5f"
            },
            "baxis": {
             "endlinecolor": "#2a3f5f",
             "gridcolor": "white",
             "linecolor": "white",
             "minorgridcolor": "white",
             "startlinecolor": "#2a3f5f"
            },
            "type": "carpet"
           }
          ],
          "choropleth": [
           {
            "colorbar": {
             "outlinewidth": 0,
             "ticks": ""
            },
            "type": "choropleth"
           }
          ],
          "contour": [
           {
            "colorbar": {
             "outlinewidth": 0,
             "ticks": ""
            },
            "colorscale": [
             [
              0,
              "#0d0887"
             ],
             [
              0.1111111111111111,
              "#46039f"
             ],
             [
              0.2222222222222222,
              "#7201a8"
             ],
             [
              0.3333333333333333,
              "#9c179e"
             ],
             [
              0.4444444444444444,
              "#bd3786"
             ],
             [
              0.5555555555555556,
              "#d8576b"
             ],
             [
              0.6666666666666666,
              "#ed7953"
             ],
             [
              0.7777777777777778,
              "#fb9f3a"
             ],
             [
              0.8888888888888888,
              "#fdca26"
             ],
             [
              1,
              "#f0f921"
             ]
            ],
            "type": "contour"
           }
          ],
          "contourcarpet": [
           {
            "colorbar": {
             "outlinewidth": 0,
             "ticks": ""
            },
            "type": "contourcarpet"
           }
          ],
          "heatmap": [
           {
            "colorbar": {
             "outlinewidth": 0,
             "ticks": ""
            },
            "colorscale": [
             [
              0,
              "#0d0887"
             ],
             [
              0.1111111111111111,
              "#46039f"
             ],
             [
              0.2222222222222222,
              "#7201a8"
             ],
             [
              0.3333333333333333,
              "#9c179e"
             ],
             [
              0.4444444444444444,
              "#bd3786"
             ],
             [
              0.5555555555555556,
              "#d8576b"
             ],
             [
              0.6666666666666666,
              "#ed7953"
             ],
             [
              0.7777777777777778,
              "#fb9f3a"
             ],
             [
              0.8888888888888888,
              "#fdca26"
             ],
             [
              1,
              "#f0f921"
             ]
            ],
            "type": "heatmap"
           }
          ],
          "heatmapgl": [
           {
            "colorbar": {
             "outlinewidth": 0,
             "ticks": ""
            },
            "colorscale": [
             [
              0,
              "#0d0887"
             ],
             [
              0.1111111111111111,
              "#46039f"
             ],
             [
              0.2222222222222222,
              "#7201a8"
             ],
             [
              0.3333333333333333,
              "#9c179e"
             ],
             [
              0.4444444444444444,
              "#bd3786"
             ],
             [
              0.5555555555555556,
              "#d8576b"
             ],
             [
              0.6666666666666666,
              "#ed7953"
             ],
             [
              0.7777777777777778,
              "#fb9f3a"
             ],
             [
              0.8888888888888888,
              "#fdca26"
             ],
             [
              1,
              "#f0f921"
             ]
            ],
            "type": "heatmapgl"
           }
          ],
          "histogram": [
           {
            "marker": {
             "pattern": {
              "fillmode": "overlay",
              "size": 10,
              "solidity": 0.2
             }
            },
            "type": "histogram"
           }
          ],
          "histogram2d": [
           {
            "colorbar": {
             "outlinewidth": 0,
             "ticks": ""
            },
            "colorscale": [
             [
              0,
              "#0d0887"
             ],
             [
              0.1111111111111111,
              "#46039f"
             ],
             [
              0.2222222222222222,
              "#7201a8"
             ],
             [
              0.3333333333333333,
              "#9c179e"
             ],
             [
              0.4444444444444444,
              "#bd3786"
             ],
             [
              0.5555555555555556,
              "#d8576b"
             ],
             [
              0.6666666666666666,
              "#ed7953"
             ],
             [
              0.7777777777777778,
              "#fb9f3a"
             ],
             [
              0.8888888888888888,
              "#fdca26"
             ],
             [
              1,
              "#f0f921"
             ]
            ],
            "type": "histogram2d"
           }
          ],
          "histogram2dcontour": [
           {
            "colorbar": {
             "outlinewidth": 0,
             "ticks": ""
            },
            "colorscale": [
             [
              0,
              "#0d0887"
             ],
             [
              0.1111111111111111,
              "#46039f"
             ],
             [
              0.2222222222222222,
              "#7201a8"
             ],
             [
              0.3333333333333333,
              "#9c179e"
             ],
             [
              0.4444444444444444,
              "#bd3786"
             ],
             [
              0.5555555555555556,
              "#d8576b"
             ],
             [
              0.6666666666666666,
              "#ed7953"
             ],
             [
              0.7777777777777778,
              "#fb9f3a"
             ],
             [
              0.8888888888888888,
              "#fdca26"
             ],
             [
              1,
              "#f0f921"
             ]
            ],
            "type": "histogram2dcontour"
           }
          ],
          "mesh3d": [
           {
            "colorbar": {
             "outlinewidth": 0,
             "ticks": ""
            },
            "type": "mesh3d"
           }
          ],
          "parcoords": [
           {
            "line": {
             "colorbar": {
              "outlinewidth": 0,
              "ticks": ""
             }
            },
            "type": "parcoords"
           }
          ],
          "pie": [
           {
            "automargin": true,
            "type": "pie"
           }
          ],
          "scatter": [
           {
            "fillpattern": {
             "fillmode": "overlay",
             "size": 10,
             "solidity": 0.2
            },
            "type": "scatter"
           }
          ],
          "scatter3d": [
           {
            "line": {
             "colorbar": {
              "outlinewidth": 0,
              "ticks": ""
             }
            },
            "marker": {
             "colorbar": {
              "outlinewidth": 0,
              "ticks": ""
             }
            },
            "type": "scatter3d"
           }
          ],
          "scattercarpet": [
           {
            "marker": {
             "colorbar": {
              "outlinewidth": 0,
              "ticks": ""
             }
            },
            "type": "scattercarpet"
           }
          ],
          "scattergeo": [
           {
            "marker": {
             "colorbar": {
              "outlinewidth": 0,
              "ticks": ""
             }
            },
            "type": "scattergeo"
           }
          ],
          "scattergl": [
           {
            "marker": {
             "colorbar": {
              "outlinewidth": 0,
              "ticks": ""
             }
            },
            "type": "scattergl"
           }
          ],
          "scattermapbox": [
           {
            "marker": {
             "colorbar": {
              "outlinewidth": 0,
              "ticks": ""
             }
            },
            "type": "scattermapbox"
           }
          ],
          "scatterpolar": [
           {
            "marker": {
             "colorbar": {
              "outlinewidth": 0,
              "ticks": ""
             }
            },
            "type": "scatterpolar"
           }
          ],
          "scatterpolargl": [
           {
            "marker": {
             "colorbar": {
              "outlinewidth": 0,
              "ticks": ""
             }
            },
            "type": "scatterpolargl"
           }
          ],
          "scatterternary": [
           {
            "marker": {
             "colorbar": {
              "outlinewidth": 0,
              "ticks": ""
             }
            },
            "type": "scatterternary"
           }
          ],
          "surface": [
           {
            "colorbar": {
             "outlinewidth": 0,
             "ticks": ""
            },
            "colorscale": [
             [
              0,
              "#0d0887"
             ],
             [
              0.1111111111111111,
              "#46039f"
             ],
             [
              0.2222222222222222,
              "#7201a8"
             ],
             [
              0.3333333333333333,
              "#9c179e"
             ],
             [
              0.4444444444444444,
              "#bd3786"
             ],
             [
              0.5555555555555556,
              "#d8576b"
             ],
             [
              0.6666666666666666,
              "#ed7953"
             ],
             [
              0.7777777777777778,
              "#fb9f3a"
             ],
             [
              0.8888888888888888,
              "#fdca26"
             ],
             [
              1,
              "#f0f921"
             ]
            ],
            "type": "surface"
           }
          ],
          "table": [
           {
            "cells": {
             "fill": {
              "color": "#EBF0F8"
             },
             "line": {
              "color": "white"
             }
            },
            "header": {
             "fill": {
              "color": "#C8D4E3"
             },
             "line": {
              "color": "white"
             }
            },
            "type": "table"
           }
          ]
         },
         "layout": {
          "annotationdefaults": {
           "arrowcolor": "#2a3f5f",
           "arrowhead": 0,
           "arrowwidth": 1
          },
          "autotypenumbers": "strict",
          "coloraxis": {
           "colorbar": {
            "outlinewidth": 0,
            "ticks": ""
           }
          },
          "colorscale": {
           "diverging": [
            [
             0,
             "#8e0152"
            ],
            [
             0.1,
             "#c51b7d"
            ],
            [
             0.2,
             "#de77ae"
            ],
            [
             0.3,
             "#f1b6da"
            ],
            [
             0.4,
             "#fde0ef"
            ],
            [
             0.5,
             "#f7f7f7"
            ],
            [
             0.6,
             "#e6f5d0"
            ],
            [
             0.7,
             "#b8e186"
            ],
            [
             0.8,
             "#7fbc41"
            ],
            [
             0.9,
             "#4d9221"
            ],
            [
             1,
             "#276419"
            ]
           ],
           "sequential": [
            [
             0,
             "#0d0887"
            ],
            [
             0.1111111111111111,
             "#46039f"
            ],
            [
             0.2222222222222222,
             "#7201a8"
            ],
            [
             0.3333333333333333,
             "#9c179e"
            ],
            [
             0.4444444444444444,
             "#bd3786"
            ],
            [
             0.5555555555555556,
             "#d8576b"
            ],
            [
             0.6666666666666666,
             "#ed7953"
            ],
            [
             0.7777777777777778,
             "#fb9f3a"
            ],
            [
             0.8888888888888888,
             "#fdca26"
            ],
            [
             1,
             "#f0f921"
            ]
           ],
           "sequentialminus": [
            [
             0,
             "#0d0887"
            ],
            [
             0.1111111111111111,
             "#46039f"
            ],
            [
             0.2222222222222222,
             "#7201a8"
            ],
            [
             0.3333333333333333,
             "#9c179e"
            ],
            [
             0.4444444444444444,
             "#bd3786"
            ],
            [
             0.5555555555555556,
             "#d8576b"
            ],
            [
             0.6666666666666666,
             "#ed7953"
            ],
            [
             0.7777777777777778,
             "#fb9f3a"
            ],
            [
             0.8888888888888888,
             "#fdca26"
            ],
            [
             1,
             "#f0f921"
            ]
           ]
          },
          "colorway": [
           "#636efa",
           "#EF553B",
           "#00cc96",
           "#ab63fa",
           "#FFA15A",
           "#19d3f3",
           "#FF6692",
           "#B6E880",
           "#FF97FF",
           "#FECB52"
          ],
          "font": {
           "color": "#2a3f5f"
          },
          "geo": {
           "bgcolor": "white",
           "lakecolor": "white",
           "landcolor": "#E5ECF6",
           "showlakes": true,
           "showland": true,
           "subunitcolor": "white"
          },
          "hoverlabel": {
           "align": "left"
          },
          "hovermode": "closest",
          "mapbox": {
           "style": "light"
          },
          "paper_bgcolor": "white",
          "plot_bgcolor": "#E5ECF6",
          "polar": {
           "angularaxis": {
            "gridcolor": "white",
            "linecolor": "white",
            "ticks": ""
           },
           "bgcolor": "#E5ECF6",
           "radialaxis": {
            "gridcolor": "white",
            "linecolor": "white",
            "ticks": ""
           }
          },
          "scene": {
           "xaxis": {
            "backgroundcolor": "#E5ECF6",
            "gridcolor": "white",
            "gridwidth": 2,
            "linecolor": "white",
            "showbackground": true,
            "ticks": "",
            "zerolinecolor": "white"
           },
           "yaxis": {
            "backgroundcolor": "#E5ECF6",
            "gridcolor": "white",
            "gridwidth": 2,
            "linecolor": "white",
            "showbackground": true,
            "ticks": "",
            "zerolinecolor": "white"
           },
           "zaxis": {
            "backgroundcolor": "#E5ECF6",
            "gridcolor": "white",
            "gridwidth": 2,
            "linecolor": "white",
            "showbackground": true,
            "ticks": "",
            "zerolinecolor": "white"
           }
          },
          "shapedefaults": {
           "line": {
            "color": "#2a3f5f"
           }
          },
          "ternary": {
           "aaxis": {
            "gridcolor": "white",
            "linecolor": "white",
            "ticks": ""
           },
           "baxis": {
            "gridcolor": "white",
            "linecolor": "white",
            "ticks": ""
           },
           "bgcolor": "#E5ECF6",
           "caxis": {
            "gridcolor": "white",
            "linecolor": "white",
            "ticks": ""
           }
          },
          "title": {
           "x": 0.05
          },
          "xaxis": {
           "automargin": true,
           "gridcolor": "white",
           "linecolor": "white",
           "ticks": "",
           "title": {
            "standoff": 15
           },
           "zerolinecolor": "white",
           "zerolinewidth": 2
          },
          "yaxis": {
           "automargin": true,
           "gridcolor": "white",
           "linecolor": "white",
           "ticks": "",
           "title": {
            "standoff": 15
           },
           "zerolinecolor": "white",
           "zerolinewidth": 2
          }
         }
        },
        "title": {
         "font": {
          "color": "#0C2340",
          "size": 32
         },
         "text": "<b>Joey Gallo</b><br><em>A Two-Faced Hitter</em>",
         "x": 0.5,
         "xanchor": "center",
         "y": 0.9,
         "yanchor": "top"
        },
        "xaxis": {
         "tickfont": {
          "color": "#0C2340",
          "size": 22
         },
         "tickmode": "array",
         "ticktext": [
          "<b>HR%</b>",
          "<b>AVG</b>",
          "<b>OBP</b>",
          "<b>SLG</b>"
         ],
         "tickvals": [
          "HR%",
          "AVG",
          "OBP",
          "SLG"
         ]
        },
        "yaxis": {
         "gridcolor": "#C4CED3",
         "gridwidth": 2,
         "tickfont": {
          "color": "#0C2340",
          "size": 22
         },
         "tickmode": "array",
         "ticktext": [
          "<b>0</b>",
          "<b>.100</b>",
          "<b>.200</b>",
          "<b>.300</b>",
          "<b>.400</b>",
          "<b>.500</b>"
         ],
         "tickvals": [
          0,
          0.1,
          0.2,
          0.3,
          0.4,
          0.5
         ],
         "zerolinecolor": "#C4CED3",
         "zerolinewidth": 2
        }
       }
      },
      "text/html": [
       "<div>                            <div id=\"4b072e88-0ba8-4263-a6a3-bcdbe45811df\" class=\"plotly-graph-div\" style=\"height:525px; width:100%;\"></div>            <script type=\"text/javascript\">                require([\"plotly\"], function(Plotly) {                    window.PLOTLYENV=window.PLOTLYENV || {};                                    if (document.getElementById(\"4b072e88-0ba8-4263-a6a3-bcdbe45811df\")) {                    Plotly.newPlot(                        \"4b072e88-0ba8-4263-a6a3-bcdbe45811df\",                        [{\"insidetextanchor\":\"middle\",\"marker\":{\"color\":\"#0C2340\",\"line\":{\"width\":0}},\"name\":\"<b>Bearded</b>\",\"text\":[\"<b>.067</b>\",\"<b>.211</b>\",\"<b>.336</b>\",\"<b>.498</b>\"],\"x\":[\"HR%\",\"AVG\",\"OBP\",\"SLG\"],\"y\":[0.067,0.211,0.336,0.498],\"type\":\"bar\",\"textfont\":{\"color\":\"white\",\"size\":18}},{\"insidetextanchor\":\"middle\",\"marker\":{\"color\":\"white\",\"line\":{\"width\":0}},\"name\":\"<b>Shaven</b>\",\"text\":[\"<b>.050</b>\",\"<b>.159</b>\",\"<b>.291</b>\",\"<b>.368</b>\"],\"x\":[\"HR%\",\"AVG\",\"OBP\",\"SLG\"],\"y\":[0.05,0.159,0.291,0.368],\"type\":\"bar\",\"textfont\":{\"color\":\"#0C2340\",\"size\":18}}],                        {\"template\":{\"data\":{\"histogram2dcontour\":[{\"type\":\"histogram2dcontour\",\"colorbar\":{\"outlinewidth\":0,\"ticks\":\"\"},\"colorscale\":[[0.0,\"#0d0887\"],[0.1111111111111111,\"#46039f\"],[0.2222222222222222,\"#7201a8\"],[0.3333333333333333,\"#9c179e\"],[0.4444444444444444,\"#bd3786\"],[0.5555555555555556,\"#d8576b\"],[0.6666666666666666,\"#ed7953\"],[0.7777777777777778,\"#fb9f3a\"],[0.8888888888888888,\"#fdca26\"],[1.0,\"#f0f921\"]]}],\"choropleth\":[{\"type\":\"choropleth\",\"colorbar\":{\"outlinewidth\":0,\"ticks\":\"\"}}],\"histogram2d\":[{\"type\":\"histogram2d\",\"colorbar\":{\"outlinewidth\":0,\"ticks\":\"\"},\"colorscale\":[[0.0,\"#0d0887\"],[0.1111111111111111,\"#46039f\"],[0.2222222222222222,\"#7201a8\"],[0.3333333333333333,\"#9c179e\"],[0.4444444444444444,\"#bd3786\"],[0.5555555555555556,\"#d8576b\"],[0.6666666666666666,\"#ed7953\"],[0.7777777777777778,\"#fb9f3a\"],[0.8888888888888888,\"#fdca26\"],[1.0,\"#f0f921\"]]}],\"heatmap\":[{\"type\":\"heatmap\",\"colorbar\":{\"outlinewidth\":0,\"ticks\":\"\"},\"colorscale\":[[0.0,\"#0d0887\"],[0.1111111111111111,\"#46039f\"],[0.2222222222222222,\"#7201a8\"],[0.3333333333333333,\"#9c179e\"],[0.4444444444444444,\"#bd3786\"],[0.5555555555555556,\"#d8576b\"],[0.6666666666666666,\"#ed7953\"],[0.7777777777777778,\"#fb9f3a\"],[0.8888888888888888,\"#fdca26\"],[1.0,\"#f0f921\"]]}],\"heatmapgl\":[{\"type\":\"heatmapgl\",\"colorbar\":{\"outlinewidth\":0,\"ticks\":\"\"},\"colorscale\":[[0.0,\"#0d0887\"],[0.1111111111111111,\"#46039f\"],[0.2222222222222222,\"#7201a8\"],[0.3333333333333333,\"#9c179e\"],[0.4444444444444444,\"#bd3786\"],[0.5555555555555556,\"#d8576b\"],[0.6666666666666666,\"#ed7953\"],[0.7777777777777778,\"#fb9f3a\"],[0.8888888888888888,\"#fdca26\"],[1.0,\"#f0f921\"]]}],\"contourcarpet\":[{\"type\":\"contourcarpet\",\"colorbar\":{\"outlinewidth\":0,\"ticks\":\"\"}}],\"contour\":[{\"type\":\"contour\",\"colorbar\":{\"outlinewidth\":0,\"ticks\":\"\"},\"colorscale\":[[0.0,\"#0d0887\"],[0.1111111111111111,\"#46039f\"],[0.2222222222222222,\"#7201a8\"],[0.3333333333333333,\"#9c179e\"],[0.4444444444444444,\"#bd3786\"],[0.5555555555555556,\"#d8576b\"],[0.6666666666666666,\"#ed7953\"],[0.7777777777777778,\"#fb9f3a\"],[0.8888888888888888,\"#fdca26\"],[1.0,\"#f0f921\"]]}],\"surface\":[{\"type\":\"surface\",\"colorbar\":{\"outlinewidth\":0,\"ticks\":\"\"},\"colorscale\":[[0.0,\"#0d0887\"],[0.1111111111111111,\"#46039f\"],[0.2222222222222222,\"#7201a8\"],[0.3333333333333333,\"#9c179e\"],[0.4444444444444444,\"#bd3786\"],[0.5555555555555556,\"#d8576b\"],[0.6666666666666666,\"#ed7953\"],[0.7777777777777778,\"#fb9f3a\"],[0.8888888888888888,\"#fdca26\"],[1.0,\"#f0f921\"]]}],\"mesh3d\":[{\"type\":\"mesh3d\",\"colorbar\":{\"outlinewidth\":0,\"ticks\":\"\"}}],\"scatter\":[{\"fillpattern\":{\"fillmode\":\"overlay\",\"size\":10,\"solidity\":0.2},\"type\":\"scatter\"}],\"parcoords\":[{\"type\":\"parcoords\",\"line\":{\"colorbar\":{\"outlinewidth\":0,\"ticks\":\"\"}}}],\"scatterpolargl\":[{\"type\":\"scatterpolargl\",\"marker\":{\"colorbar\":{\"outlinewidth\":0,\"ticks\":\"\"}}}],\"bar\":[{\"error_x\":{\"color\":\"#2a3f5f\"},\"error_y\":{\"color\":\"#2a3f5f\"},\"marker\":{\"line\":{\"color\":\"#E5ECF6\",\"width\":0.5},\"pattern\":{\"fillmode\":\"overlay\",\"size\":10,\"solidity\":0.2}},\"type\":\"bar\"}],\"scattergeo\":[{\"type\":\"scattergeo\",\"marker\":{\"colorbar\":{\"outlinewidth\":0,\"ticks\":\"\"}}}],\"scatterpolar\":[{\"type\":\"scatterpolar\",\"marker\":{\"colorbar\":{\"outlinewidth\":0,\"ticks\":\"\"}}}],\"histogram\":[{\"marker\":{\"pattern\":{\"fillmode\":\"overlay\",\"size\":10,\"solidity\":0.2}},\"type\":\"histogram\"}],\"scattergl\":[{\"type\":\"scattergl\",\"marker\":{\"colorbar\":{\"outlinewidth\":0,\"ticks\":\"\"}}}],\"scatter3d\":[{\"type\":\"scatter3d\",\"line\":{\"colorbar\":{\"outlinewidth\":0,\"ticks\":\"\"}},\"marker\":{\"colorbar\":{\"outlinewidth\":0,\"ticks\":\"\"}}}],\"scattermapbox\":[{\"type\":\"scattermapbox\",\"marker\":{\"colorbar\":{\"outlinewidth\":0,\"ticks\":\"\"}}}],\"scatterternary\":[{\"type\":\"scatterternary\",\"marker\":{\"colorbar\":{\"outlinewidth\":0,\"ticks\":\"\"}}}],\"scattercarpet\":[{\"type\":\"scattercarpet\",\"marker\":{\"colorbar\":{\"outlinewidth\":0,\"ticks\":\"\"}}}],\"carpet\":[{\"aaxis\":{\"endlinecolor\":\"#2a3f5f\",\"gridcolor\":\"white\",\"linecolor\":\"white\",\"minorgridcolor\":\"white\",\"startlinecolor\":\"#2a3f5f\"},\"baxis\":{\"endlinecolor\":\"#2a3f5f\",\"gridcolor\":\"white\",\"linecolor\":\"white\",\"minorgridcolor\":\"white\",\"startlinecolor\":\"#2a3f5f\"},\"type\":\"carpet\"}],\"table\":[{\"cells\":{\"fill\":{\"color\":\"#EBF0F8\"},\"line\":{\"color\":\"white\"}},\"header\":{\"fill\":{\"color\":\"#C8D4E3\"},\"line\":{\"color\":\"white\"}},\"type\":\"table\"}],\"barpolar\":[{\"marker\":{\"line\":{\"color\":\"#E5ECF6\",\"width\":0.5},\"pattern\":{\"fillmode\":\"overlay\",\"size\":10,\"solidity\":0.2}},\"type\":\"barpolar\"}],\"pie\":[{\"automargin\":true,\"type\":\"pie\"}]},\"layout\":{\"autotypenumbers\":\"strict\",\"colorway\":[\"#636efa\",\"#EF553B\",\"#00cc96\",\"#ab63fa\",\"#FFA15A\",\"#19d3f3\",\"#FF6692\",\"#B6E880\",\"#FF97FF\",\"#FECB52\"],\"font\":{\"color\":\"#2a3f5f\"},\"hovermode\":\"closest\",\"hoverlabel\":{\"align\":\"left\"},\"paper_bgcolor\":\"white\",\"plot_bgcolor\":\"#E5ECF6\",\"polar\":{\"bgcolor\":\"#E5ECF6\",\"angularaxis\":{\"gridcolor\":\"white\",\"linecolor\":\"white\",\"ticks\":\"\"},\"radialaxis\":{\"gridcolor\":\"white\",\"linecolor\":\"white\",\"ticks\":\"\"}},\"ternary\":{\"bgcolor\":\"#E5ECF6\",\"aaxis\":{\"gridcolor\":\"white\",\"linecolor\":\"white\",\"ticks\":\"\"},\"baxis\":{\"gridcolor\":\"white\",\"linecolor\":\"white\",\"ticks\":\"\"},\"caxis\":{\"gridcolor\":\"white\",\"linecolor\":\"white\",\"ticks\":\"\"}},\"coloraxis\":{\"colorbar\":{\"outlinewidth\":0,\"ticks\":\"\"}},\"colorscale\":{\"sequential\":[[0.0,\"#0d0887\"],[0.1111111111111111,\"#46039f\"],[0.2222222222222222,\"#7201a8\"],[0.3333333333333333,\"#9c179e\"],[0.4444444444444444,\"#bd3786\"],[0.5555555555555556,\"#d8576b\"],[0.6666666666666666,\"#ed7953\"],[0.7777777777777778,\"#fb9f3a\"],[0.8888888888888888,\"#fdca26\"],[1.0,\"#f0f921\"]],\"sequentialminus\":[[0.0,\"#0d0887\"],[0.1111111111111111,\"#46039f\"],[0.2222222222222222,\"#7201a8\"],[0.3333333333333333,\"#9c179e\"],[0.4444444444444444,\"#bd3786\"],[0.5555555555555556,\"#d8576b\"],[0.6666666666666666,\"#ed7953\"],[0.7777777777777778,\"#fb9f3a\"],[0.8888888888888888,\"#fdca26\"],[1.0,\"#f0f921\"]],\"diverging\":[[0,\"#8e0152\"],[0.1,\"#c51b7d\"],[0.2,\"#de77ae\"],[0.3,\"#f1b6da\"],[0.4,\"#fde0ef\"],[0.5,\"#f7f7f7\"],[0.6,\"#e6f5d0\"],[0.7,\"#b8e186\"],[0.8,\"#7fbc41\"],[0.9,\"#4d9221\"],[1,\"#276419\"]]},\"xaxis\":{\"gridcolor\":\"white\",\"linecolor\":\"white\",\"ticks\":\"\",\"title\":{\"standoff\":15},\"zerolinecolor\":\"white\",\"automargin\":true,\"zerolinewidth\":2},\"yaxis\":{\"gridcolor\":\"white\",\"linecolor\":\"white\",\"ticks\":\"\",\"title\":{\"standoff\":15},\"zerolinecolor\":\"white\",\"automargin\":true,\"zerolinewidth\":2},\"scene\":{\"xaxis\":{\"backgroundcolor\":\"#E5ECF6\",\"gridcolor\":\"white\",\"linecolor\":\"white\",\"showbackground\":true,\"ticks\":\"\",\"zerolinecolor\":\"white\",\"gridwidth\":2},\"yaxis\":{\"backgroundcolor\":\"#E5ECF6\",\"gridcolor\":\"white\",\"linecolor\":\"white\",\"showbackground\":true,\"ticks\":\"\",\"zerolinecolor\":\"white\",\"gridwidth\":2},\"zaxis\":{\"backgroundcolor\":\"#E5ECF6\",\"gridcolor\":\"white\",\"linecolor\":\"white\",\"showbackground\":true,\"ticks\":\"\",\"zerolinecolor\":\"white\",\"gridwidth\":2}},\"shapedefaults\":{\"line\":{\"color\":\"#2a3f5f\"}},\"annotationdefaults\":{\"arrowcolor\":\"#2a3f5f\",\"arrowhead\":0,\"arrowwidth\":1},\"geo\":{\"bgcolor\":\"white\",\"landcolor\":\"#E5ECF6\",\"subunitcolor\":\"white\",\"showland\":true,\"showlakes\":true,\"lakecolor\":\"white\"},\"title\":{\"x\":0.05},\"mapbox\":{\"style\":\"light\"}}},\"xaxis\":{\"tickfont\":{\"size\":22,\"color\":\"#0C2340\"},\"tickmode\":\"array\",\"ticktext\":[\"<b>HR%</b>\",\"<b>AVG</b>\",\"<b>OBP</b>\",\"<b>SLG</b>\"],\"tickvals\":[\"HR%\",\"AVG\",\"OBP\",\"SLG\"]},\"yaxis\":{\"tickfont\":{\"size\":22,\"color\":\"#0C2340\"},\"tickmode\":\"array\",\"ticktext\":[\"<b>0</b>\",\"<b>.100</b>\",\"<b>.200</b>\",\"<b>.300</b>\",\"<b>.400</b>\",\"<b>.500</b>\"],\"tickvals\":[0,0.1,0.2,0.3,0.4,0.5],\"zerolinecolor\":\"#C4CED3\",\"zerolinewidth\":2,\"gridcolor\":\"#C4CED3\",\"gridwidth\":2},\"title\":{\"font\":{\"size\":32,\"color\":\"#0C2340\"},\"text\":\"<b>Joey Gallo</b><br><em>A Two-Faced Hitter</em>\",\"y\":0.9,\"x\":0.5,\"xanchor\":\"center\",\"yanchor\":\"top\"},\"legend\":{\"title\":{\"text\":\"\"},\"font\":{\"size\":20,\"color\":\"#0C2340\"},\"orientation\":\"h\",\"yanchor\":\"top\",\"y\":0.956,\"xanchor\":\"left\",\"x\":0.327,\"bordercolor\":\"white\",\"borderwidth\":2,\"bgcolor\":\"rgb(160, 170, 175)\"},\"hoverlabel\":{\"font\":{\"size\":16},\"bgcolor\":\"rgb(180, 190, 195)\"},\"margin\":{\"t\":110,\"b\":70,\"l\":90,\"pad\":10},\"paper_bgcolor\":\"rgb(180, 190, 195)\",\"plot_bgcolor\":\"rgb(180, 190, 195)\"},                        {\"responsive\": true}                    ).then(function(){\n",
       "                            \n",
       "var gd = document.getElementById('4b072e88-0ba8-4263-a6a3-bcdbe45811df');\n",
       "var x = new MutationObserver(function (mutations, observer) {{\n",
       "        var display = window.getComputedStyle(gd).display;\n",
       "        if (!display || display === 'none') {{\n",
       "            console.log([gd, 'removed!']);\n",
       "            Plotly.purge(gd);\n",
       "            observer.disconnect();\n",
       "        }}\n",
       "}});\n",
       "\n",
       "// Listen for the removal of the full notebook cells\n",
       "var notebookContainer = gd.closest('#notebook-container');\n",
       "if (notebookContainer) {{\n",
       "    x.observe(notebookContainer, {childList: true});\n",
       "}}\n",
       "\n",
       "// Listen for the clearing of the current output cell\n",
       "var outputEl = gd.closest('.output');\n",
       "if (outputEl) {{\n",
       "    x.observe(outputEl, {childList: true});\n",
       "}}\n",
       "\n",
       "                        })                };                });            </script>        </div>"
      ]
     },
     "metadata": {},
     "output_type": "display_data"
    }
   ],
   "source": [
    "# Create traces\n",
    "fig = go.Figure()\n",
    "\n",
    "fig.add_trace(\n",
    "    go.Bar(\n",
    "        x=x, y=y_beard, name=\"<b>Bearded</b>\", marker_color=navy,\n",
    "        text=[f'<b>{\"{:.3f}\".format(y)[1:]}</b>' for y in y_beard], insidetextanchor='middle'\n",
    "))\n",
    "\n",
    "fig.add_trace(\n",
    "    go.Bar(\n",
    "        x=x, y=y_shave, name=\"<b>Shaven</b>\", marker_color='white',\n",
    "        text=[f'<b>{\"{:.3f}\".format(y)[1:]}</b>' for y in y_shave], insidetextanchor='middle'\n",
    "))\n",
    "\n",
    "fig.for_each_trace(lambda t: t.update(textfont_color=navy) if (t.marker.color == 'white') else t.update(textfont_color='white'))\n",
    "\n",
    "\n",
    "# Format traces\n",
    "fig.update_traces(\n",
    "    marker=dict(line=dict(width=0)),\n",
    "    #marker=dict(line=dict(color=[navy,'white'])),\n",
    "    textfont=dict(\n",
    "        #color=[navy, 'white'],\n",
    "        size=18)\n",
    ")\n",
    "\n",
    "\n",
    "# Format axes\n",
    "fig.update_xaxes(\n",
    "    tickmode='array',\n",
    "    ticktext=[f'<b>{stat}</b>' for stat in x],\n",
    "    tickvals=x,\n",
    "    tickfont=dict(\n",
    "        size=22,\n",
    "        color=navy),\n",
    "#     gridcolor='rgb(210, 220, 225)',\n",
    "#     gridwidth=2,\n",
    ")\n",
    "\n",
    "fig.update_yaxes(\n",
    "#     title=dict(\n",
    "#         text=\"<br><b>Win %</b>\",\n",
    "#         font=dict(\n",
    "#             size=26,\n",
    "#             color='white')),\n",
    "    tickfont=dict(\n",
    "        size=22,\n",
    "        color=navy),\n",
    "    tickmode='array',\n",
    "    ticktext=[f'<b>{y}</b>' for y in ['0','.100','.200','.300','.400','.500']],\n",
    "    tickvals=[0, 0.1, 0.2, 0.3, 0.4, 0.5],\n",
    "    zerolinecolor=gray,\n",
    "    zerolinewidth=2,\n",
    "    gridcolor=gray,\n",
    "    gridwidth=2\n",
    ")\n",
    "\n",
    "\n",
    "# Format layout\n",
    "fig.update_layout(\n",
    "    title=dict(\n",
    "        text=\"<b>Joey Gallo</b><br><em>A Two-Faced Hitter</em>\",\n",
    "        y=0.9,\n",
    "        x=0.5,\n",
    "        xanchor='center',\n",
    "        yanchor='top',\n",
    "        font=dict(\n",
    "            size=32,\n",
    "            color=navy)),\n",
    "#     xaxis_range=['2022-04-28','2022-08-24'],\n",
    "#     yaxis_range=[0.54,0.81],\n",
    "    legend=dict(\n",
    "        title_text='',\n",
    "        orientation='h',\n",
    "        yanchor=\"top\",\n",
    "        y=0.956,\n",
    "        xanchor=\"left\",\n",
    "        x=0.327,\n",
    "        font=dict(\n",
    "            size=20,\n",
    "            color=navy),\n",
    "        #itemsizing='constant',\n",
    "        bordercolor='white',\n",
    "        borderwidth=2,\n",
    "        bgcolor='rgb(160, 170, 175)'),\n",
    "#     hovermode='x',\n",
    "    hoverlabel=dict(\n",
    "        bgcolor='rgb(180, 190, 195)',\n",
    "        font_size=16),\n",
    "    paper_bgcolor='rgb(180, 190, 195)',\n",
    "    plot_bgcolor='rgb(180, 190, 195)',\n",
    "    margin=dict(\n",
    "        t=110,\n",
    "        b=70,\n",
    "        l=90,\n",
    "        pad=10)\n",
    ")\n",
    "\n",
    "\n",
    "# Save chart online to Plotly Chart Studio\n",
    "#py.iplot(fig, filename='Record-Against-Winning-Teams')"
   ]
  }
 ],
 "metadata": {
  "kernelspec": {
   "display_name": "PythonData",
   "language": "python",
   "name": "pythondata"
  },
  "language_info": {
   "codemirror_mode": {
    "name": "ipython",
    "version": 3
   },
   "file_extension": ".py",
   "mimetype": "text/x-python",
   "name": "python",
   "nbconvert_exporter": "python",
   "pygments_lexer": "ipython3",
   "version": "3.7.11"
  }
 },
 "nbformat": 4,
 "nbformat_minor": 5
}
