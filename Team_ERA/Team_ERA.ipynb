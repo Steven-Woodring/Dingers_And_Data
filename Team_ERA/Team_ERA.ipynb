{
 "cells": [
  {
   "cell_type": "code",
   "execution_count": 1,
   "id": "4370ca8a",
   "metadata": {},
   "outputs": [],
   "source": [
    "# Import dependencies\n",
    "import pandas as pd\n",
    "import plotly.graph_objects as go\n",
    "import datetime as dt"
   ]
  },
  {
   "cell_type": "markdown",
   "id": "5dca1f57",
   "metadata": {},
   "source": [
    "## Data Processing"
   ]
  },
  {
   "cell_type": "code",
   "execution_count": 2,
   "id": "fe3a2c1b",
   "metadata": {},
   "outputs": [
    {
     "data": {
      "text/html": [
       "<div>\n",
       "<style scoped>\n",
       "    .dataframe tbody tr th:only-of-type {\n",
       "        vertical-align: middle;\n",
       "    }\n",
       "\n",
       "    .dataframe tbody tr th {\n",
       "        vertical-align: top;\n",
       "    }\n",
       "\n",
       "    .dataframe thead th {\n",
       "        text-align: right;\n",
       "    }\n",
       "</style>\n",
       "<table border=\"1\" class=\"dataframe\">\n",
       "  <thead>\n",
       "    <tr style=\"text-align: right;\">\n",
       "      <th></th>\n",
       "      <th>Rk</th>\n",
       "      <th>Gtm</th>\n",
       "      <th>Date</th>\n",
       "      <th>At</th>\n",
       "      <th>Opp</th>\n",
       "      <th>Rslt</th>\n",
       "      <th>IP</th>\n",
       "      <th>H</th>\n",
       "      <th>R</th>\n",
       "      <th>ER</th>\n",
       "      <th>UER</th>\n",
       "      <th>BB</th>\n",
       "      <th>SO</th>\n",
       "      <th>HR</th>\n",
       "      <th>HBP</th>\n",
       "      <th>ERA</th>\n",
       "    </tr>\n",
       "  </thead>\n",
       "  <tbody>\n",
       "    <tr>\n",
       "      <th>0</th>\n",
       "      <td>1</td>\n",
       "      <td>1</td>\n",
       "      <td>Apr 8</td>\n",
       "      <td>NaN</td>\n",
       "      <td>BOS</td>\n",
       "      <td>W,6-5</td>\n",
       "      <td>11.0</td>\n",
       "      <td>9</td>\n",
       "      <td>5</td>\n",
       "      <td>4</td>\n",
       "      <td>1</td>\n",
       "      <td>3</td>\n",
       "      <td>11</td>\n",
       "      <td>1</td>\n",
       "      <td>1</td>\n",
       "      <td>3.27</td>\n",
       "    </tr>\n",
       "    <tr>\n",
       "      <th>1</th>\n",
       "      <td>2</td>\n",
       "      <td>2</td>\n",
       "      <td>Apr 9</td>\n",
       "      <td>NaN</td>\n",
       "      <td>BOS</td>\n",
       "      <td>W,4-2</td>\n",
       "      <td>9.0</td>\n",
       "      <td>5</td>\n",
       "      <td>2</td>\n",
       "      <td>2</td>\n",
       "      <td>0</td>\n",
       "      <td>4</td>\n",
       "      <td>12</td>\n",
       "      <td>1</td>\n",
       "      <td>0</td>\n",
       "      <td>2.70</td>\n",
       "    </tr>\n",
       "    <tr>\n",
       "      <th>2</th>\n",
       "      <td>3</td>\n",
       "      <td>3</td>\n",
       "      <td>Apr 10</td>\n",
       "      <td>NaN</td>\n",
       "      <td>BOS</td>\n",
       "      <td>L,3-4</td>\n",
       "      <td>9.0</td>\n",
       "      <td>5</td>\n",
       "      <td>4</td>\n",
       "      <td>4</td>\n",
       "      <td>0</td>\n",
       "      <td>4</td>\n",
       "      <td>8</td>\n",
       "      <td>1</td>\n",
       "      <td>1</td>\n",
       "      <td>3.10</td>\n",
       "    </tr>\n",
       "    <tr>\n",
       "      <th>3</th>\n",
       "      <td>4</td>\n",
       "      <td>4</td>\n",
       "      <td>Apr 11</td>\n",
       "      <td>NaN</td>\n",
       "      <td>TOR</td>\n",
       "      <td>L,0-3</td>\n",
       "      <td>9.0</td>\n",
       "      <td>10</td>\n",
       "      <td>3</td>\n",
       "      <td>3</td>\n",
       "      <td>0</td>\n",
       "      <td>0</td>\n",
       "      <td>10</td>\n",
       "      <td>1</td>\n",
       "      <td>1</td>\n",
       "      <td>3.08</td>\n",
       "    </tr>\n",
       "    <tr>\n",
       "      <th>4</th>\n",
       "      <td>5</td>\n",
       "      <td>5</td>\n",
       "      <td>Apr 12</td>\n",
       "      <td>NaN</td>\n",
       "      <td>TOR</td>\n",
       "      <td>W,4-0</td>\n",
       "      <td>9.0</td>\n",
       "      <td>5</td>\n",
       "      <td>0</td>\n",
       "      <td>0</td>\n",
       "      <td>0</td>\n",
       "      <td>0</td>\n",
       "      <td>10</td>\n",
       "      <td>0</td>\n",
       "      <td>0</td>\n",
       "      <td>2.49</td>\n",
       "    </tr>\n",
       "  </tbody>\n",
       "</table>\n",
       "</div>"
      ],
      "text/plain": [
       "   Rk  Gtm    Date   At  Opp   Rslt    IP   H  R  ER  UER  BB  SO  HR  HBP  \\\n",
       "0   1    1   Apr 8  NaN  BOS  W,6-5  11.0   9  5   4    1   3  11   1    1   \n",
       "1   2    2   Apr 9  NaN  BOS  W,4-2   9.0   5  2   2    0   4  12   1    0   \n",
       "2   3    3  Apr 10  NaN  BOS  L,3-4   9.0   5  4   4    0   4   8   1    1   \n",
       "3   4    4  Apr 11  NaN  TOR  L,0-3   9.0  10  3   3    0   0  10   1    1   \n",
       "4   5    5  Apr 12  NaN  TOR  W,4-0   9.0   5  0   0    0   0  10   0    0   \n",
       "\n",
       "    ERA  \n",
       "0  3.27  \n",
       "1  2.70  \n",
       "2  3.10  \n",
       "3  3.08  \n",
       "4  2.49  "
      ]
     },
     "execution_count": 2,
     "metadata": {},
     "output_type": "execute_result"
    }
   ],
   "source": [
    "# Read in team pitching logs\n",
    "pitching_df = pd.read_csv('Resources/Data/pitching_logs.csv')\n",
    "pitching_df.head()"
   ]
  },
  {
   "cell_type": "code",
   "execution_count": 3,
   "id": "f1989539",
   "metadata": {},
   "outputs": [
    {
     "data": {
      "text/html": [
       "<div>\n",
       "<style scoped>\n",
       "    .dataframe tbody tr th:only-of-type {\n",
       "        vertical-align: middle;\n",
       "    }\n",
       "\n",
       "    .dataframe tbody tr th {\n",
       "        vertical-align: top;\n",
       "    }\n",
       "\n",
       "    .dataframe thead th {\n",
       "        text-align: right;\n",
       "    }\n",
       "</style>\n",
       "<table border=\"1\" class=\"dataframe\">\n",
       "  <thead>\n",
       "    <tr style=\"text-align: right;\">\n",
       "      <th></th>\n",
       "      <th>Rk</th>\n",
       "      <th>Gtm</th>\n",
       "      <th>Date</th>\n",
       "      <th>At</th>\n",
       "      <th>Opp</th>\n",
       "      <th>Rslt</th>\n",
       "      <th>IP</th>\n",
       "      <th>H</th>\n",
       "      <th>R</th>\n",
       "      <th>ER</th>\n",
       "      <th>...</th>\n",
       "      <th>HBP</th>\n",
       "      <th>ERA</th>\n",
       "      <th>totalSO</th>\n",
       "      <th>totalHR</th>\n",
       "      <th>totalWH</th>\n",
       "      <th>floatIP</th>\n",
       "      <th>totalIP</th>\n",
       "      <th>SO/IP</th>\n",
       "      <th>HR/9</th>\n",
       "      <th>WHIP</th>\n",
       "    </tr>\n",
       "  </thead>\n",
       "  <tbody>\n",
       "    <tr>\n",
       "      <th>103</th>\n",
       "      <td>104</td>\n",
       "      <td>104</td>\n",
       "      <td>Aug 1</td>\n",
       "      <td>NaN</td>\n",
       "      <td>SEA</td>\n",
       "      <td>W,7-2</td>\n",
       "      <td>9.0</td>\n",
       "      <td>7</td>\n",
       "      <td>2</td>\n",
       "      <td>2</td>\n",
       "      <td>...</td>\n",
       "      <td>0</td>\n",
       "      <td>3.18</td>\n",
       "      <td>955</td>\n",
       "      <td>100</td>\n",
       "      <td>1029</td>\n",
       "      <td>9.0</td>\n",
       "      <td>934.0</td>\n",
       "      <td>1.022484</td>\n",
       "      <td>0.96</td>\n",
       "      <td>1.10</td>\n",
       "    </tr>\n",
       "    <tr>\n",
       "      <th>104</th>\n",
       "      <td>105</td>\n",
       "      <td>105</td>\n",
       "      <td>Aug 2</td>\n",
       "      <td>NaN</td>\n",
       "      <td>SEA</td>\n",
       "      <td>L,6-8</td>\n",
       "      <td>9.0</td>\n",
       "      <td>8</td>\n",
       "      <td>8</td>\n",
       "      <td>7</td>\n",
       "      <td>...</td>\n",
       "      <td>0</td>\n",
       "      <td>3.22</td>\n",
       "      <td>963</td>\n",
       "      <td>103</td>\n",
       "      <td>1041</td>\n",
       "      <td>9.0</td>\n",
       "      <td>943.0</td>\n",
       "      <td>1.021209</td>\n",
       "      <td>0.98</td>\n",
       "      <td>1.10</td>\n",
       "    </tr>\n",
       "    <tr>\n",
       "      <th>105</th>\n",
       "      <td>106</td>\n",
       "      <td>106</td>\n",
       "      <td>Aug 3</td>\n",
       "      <td>NaN</td>\n",
       "      <td>SEA</td>\n",
       "      <td>L,3-7</td>\n",
       "      <td>9.0</td>\n",
       "      <td>10</td>\n",
       "      <td>7</td>\n",
       "      <td>7</td>\n",
       "      <td>...</td>\n",
       "      <td>0</td>\n",
       "      <td>3.25</td>\n",
       "      <td>972</td>\n",
       "      <td>107</td>\n",
       "      <td>1052</td>\n",
       "      <td>9.0</td>\n",
       "      <td>952.0</td>\n",
       "      <td>1.021008</td>\n",
       "      <td>1.01</td>\n",
       "      <td>1.11</td>\n",
       "    </tr>\n",
       "    <tr>\n",
       "      <th>106</th>\n",
       "      <td>107</td>\n",
       "      <td>107</td>\n",
       "      <td>Aug 5</td>\n",
       "      <td>@</td>\n",
       "      <td>STL</td>\n",
       "      <td>L,3-4</td>\n",
       "      <td>8.0</td>\n",
       "      <td>5</td>\n",
       "      <td>4</td>\n",
       "      <td>4</td>\n",
       "      <td>...</td>\n",
       "      <td>0</td>\n",
       "      <td>3.26</td>\n",
       "      <td>981</td>\n",
       "      <td>107</td>\n",
       "      <td>1063</td>\n",
       "      <td>8.0</td>\n",
       "      <td>960.0</td>\n",
       "      <td>1.021875</td>\n",
       "      <td>1.00</td>\n",
       "      <td>1.11</td>\n",
       "    </tr>\n",
       "    <tr>\n",
       "      <th>107</th>\n",
       "      <td>108</td>\n",
       "      <td>108</td>\n",
       "      <td>Aug 6</td>\n",
       "      <td>@</td>\n",
       "      <td>STL</td>\n",
       "      <td>L,0-1</td>\n",
       "      <td>8.0</td>\n",
       "      <td>5</td>\n",
       "      <td>1</td>\n",
       "      <td>1</td>\n",
       "      <td>...</td>\n",
       "      <td>0</td>\n",
       "      <td>3.24</td>\n",
       "      <td>986</td>\n",
       "      <td>107</td>\n",
       "      <td>1070</td>\n",
       "      <td>8.0</td>\n",
       "      <td>968.0</td>\n",
       "      <td>1.018595</td>\n",
       "      <td>0.99</td>\n",
       "      <td>1.11</td>\n",
       "    </tr>\n",
       "  </tbody>\n",
       "</table>\n",
       "<p>5 rows × 24 columns</p>\n",
       "</div>"
      ],
      "text/plain": [
       "      Rk  Gtm   Date   At  Opp   Rslt   IP   H  R  ER  ...  HBP   ERA  \\\n",
       "103  104  104  Aug 1  NaN  SEA  W,7-2  9.0   7  2   2  ...    0  3.18   \n",
       "104  105  105  Aug 2  NaN  SEA  L,6-8  9.0   8  8   7  ...    0  3.22   \n",
       "105  106  106  Aug 3  NaN  SEA  L,3-7  9.0  10  7   7  ...    0  3.25   \n",
       "106  107  107  Aug 5    @  STL  L,3-4  8.0   5  4   4  ...    0  3.26   \n",
       "107  108  108  Aug 6    @  STL  L,0-1  8.0   5  1   1  ...    0  3.24   \n",
       "\n",
       "     totalSO  totalHR  totalWH  floatIP  totalIP     SO/IP  HR/9  WHIP  \n",
       "103      955      100     1029      9.0    934.0  1.022484  0.96  1.10  \n",
       "104      963      103     1041      9.0    943.0  1.021209  0.98  1.10  \n",
       "105      972      107     1052      9.0    952.0  1.021008  1.01  1.11  \n",
       "106      981      107     1063      8.0    960.0  1.021875  1.00  1.11  \n",
       "107      986      107     1070      8.0    968.0  1.018595  0.99  1.11  \n",
       "\n",
       "[5 rows x 24 columns]"
      ]
     },
     "execution_count": 3,
     "metadata": {},
     "output_type": "execute_result"
    }
   ],
   "source": [
    "# Create SO/9 and HR/9 columns\n",
    "pitching_df['totalSO'] = pitching_df['SO'].cumsum()\n",
    "pitching_df['totalHR'] = pitching_df['HR'].cumsum()\n",
    "pitching_df['totalWH'] = pitching_df['BB'].cumsum() + pitching_df['H'].cumsum()\n",
    "pitching_df['floatIP'] = pitching_df['IP'].apply(lambda x: int(x) + (x % 1)*10/3)\n",
    "pitching_df['totalIP'] = pitching_df['floatIP'].cumsum()\n",
    "pitching_df['SO/IP'] = pitching_df['totalSO'] / pitching_df['totalIP']\n",
    "pitching_df['HR/9'] = pitching_df['totalHR'] / pitching_df['totalIP'] * 9\n",
    "pitching_df['WHIP'] = pitching_df['totalWH'] / pitching_df['totalIP']\n",
    "pitching_df = pitching_df.round({'floatIP': 2, 'totalIP': 2, 'SO/9': 2, 'HR/9': 2, 'WHIP': 2})\n",
    "pitching_df.tail()"
   ]
  },
  {
   "cell_type": "code",
   "execution_count": 4,
   "id": "a63aef71",
   "metadata": {},
   "outputs": [
    {
     "data": {
      "text/html": [
       "<div>\n",
       "<style scoped>\n",
       "    .dataframe tbody tr th:only-of-type {\n",
       "        vertical-align: middle;\n",
       "    }\n",
       "\n",
       "    .dataframe tbody tr th {\n",
       "        vertical-align: top;\n",
       "    }\n",
       "\n",
       "    .dataframe thead th {\n",
       "        text-align: right;\n",
       "    }\n",
       "</style>\n",
       "<table border=\"1\" class=\"dataframe\">\n",
       "  <thead>\n",
       "    <tr style=\"text-align: right;\">\n",
       "      <th></th>\n",
       "      <th>Rk</th>\n",
       "      <th>Gtm</th>\n",
       "      <th>Date</th>\n",
       "      <th>At</th>\n",
       "      <th>Opp</th>\n",
       "      <th>Rslt</th>\n",
       "      <th>R</th>\n",
       "      <th>ERA</th>\n",
       "      <th>SO/IP</th>\n",
       "      <th>HR/9</th>\n",
       "      <th>WHIP</th>\n",
       "    </tr>\n",
       "  </thead>\n",
       "  <tbody>\n",
       "    <tr>\n",
       "      <th>0</th>\n",
       "      <td>1</td>\n",
       "      <td>1</td>\n",
       "      <td>Apr 8</td>\n",
       "      <td>NaN</td>\n",
       "      <td>BOS</td>\n",
       "      <td>W,6-5</td>\n",
       "      <td>5</td>\n",
       "      <td>3.27</td>\n",
       "      <td>1.000000</td>\n",
       "      <td>0.82</td>\n",
       "      <td>1.09</td>\n",
       "    </tr>\n",
       "    <tr>\n",
       "      <th>1</th>\n",
       "      <td>2</td>\n",
       "      <td>2</td>\n",
       "      <td>Apr 9</td>\n",
       "      <td>NaN</td>\n",
       "      <td>BOS</td>\n",
       "      <td>W,4-2</td>\n",
       "      <td>2</td>\n",
       "      <td>2.70</td>\n",
       "      <td>1.150000</td>\n",
       "      <td>0.90</td>\n",
       "      <td>1.05</td>\n",
       "    </tr>\n",
       "    <tr>\n",
       "      <th>2</th>\n",
       "      <td>3</td>\n",
       "      <td>3</td>\n",
       "      <td>Apr 10</td>\n",
       "      <td>NaN</td>\n",
       "      <td>BOS</td>\n",
       "      <td>L,3-4</td>\n",
       "      <td>4</td>\n",
       "      <td>3.10</td>\n",
       "      <td>1.068966</td>\n",
       "      <td>0.93</td>\n",
       "      <td>1.03</td>\n",
       "    </tr>\n",
       "    <tr>\n",
       "      <th>3</th>\n",
       "      <td>4</td>\n",
       "      <td>4</td>\n",
       "      <td>Apr 11</td>\n",
       "      <td>NaN</td>\n",
       "      <td>TOR</td>\n",
       "      <td>L,0-3</td>\n",
       "      <td>3</td>\n",
       "      <td>3.08</td>\n",
       "      <td>1.078947</td>\n",
       "      <td>0.95</td>\n",
       "      <td>1.05</td>\n",
       "    </tr>\n",
       "    <tr>\n",
       "      <th>4</th>\n",
       "      <td>5</td>\n",
       "      <td>5</td>\n",
       "      <td>Apr 12</td>\n",
       "      <td>NaN</td>\n",
       "      <td>TOR</td>\n",
       "      <td>W,4-0</td>\n",
       "      <td>0</td>\n",
       "      <td>2.49</td>\n",
       "      <td>1.085106</td>\n",
       "      <td>0.77</td>\n",
       "      <td>0.96</td>\n",
       "    </tr>\n",
       "  </tbody>\n",
       "</table>\n",
       "</div>"
      ],
      "text/plain": [
       "   Rk  Gtm    Date   At  Opp   Rslt  R   ERA     SO/IP  HR/9  WHIP\n",
       "0   1    1   Apr 8  NaN  BOS  W,6-5  5  3.27  1.000000  0.82  1.09\n",
       "1   2    2   Apr 9  NaN  BOS  W,4-2  2  2.70  1.150000  0.90  1.05\n",
       "2   3    3  Apr 10  NaN  BOS  L,3-4  4  3.10  1.068966  0.93  1.03\n",
       "3   4    4  Apr 11  NaN  TOR  L,0-3  3  3.08  1.078947  0.95  1.05\n",
       "4   5    5  Apr 12  NaN  TOR  W,4-0  0  2.49  1.085106  0.77  0.96"
      ]
     },
     "execution_count": 4,
     "metadata": {},
     "output_type": "execute_result"
    }
   ],
   "source": [
    "# Filter for necessary columns\n",
    "pitching_df = pitching_df[['Rk', 'Gtm', 'Date', 'At', 'Opp', 'Rslt', 'R', 'ERA', 'SO/IP', 'HR/9', 'WHIP']]\n",
    "pitching_df.head()"
   ]
  },
  {
   "cell_type": "code",
   "execution_count": 5,
   "id": "a9f472c3",
   "metadata": {},
   "outputs": [
    {
     "data": {
      "text/plain": [
       "Rk                int64\n",
       "Gtm               int64\n",
       "Date     datetime64[ns]\n",
       "At               object\n",
       "Opp              object\n",
       "Rslt             object\n",
       "R                 int64\n",
       "ERA             float64\n",
       "SO/IP           float64\n",
       "HR/9            float64\n",
       "WHIP            float64\n",
       "Day              object\n",
       "dtype: object"
      ]
     },
     "execution_count": 5,
     "metadata": {},
     "output_type": "execute_result"
    }
   ],
   "source": [
    "# Convert Date string to datetime\n",
    "pitching_df['Date'] = pitching_df['Date'] + ' 2022'\n",
    "pitching_df['Date'] = pd.to_datetime(pitching_df['Date'], format=\"%b %d %Y\")\n",
    "pitching_df['Day'] = pitching_df['Date'].apply(lambda x: x.strftime('%b %d'))\n",
    "pitching_df.dtypes"
   ]
  },
  {
   "cell_type": "markdown",
   "id": "d79a0265",
   "metadata": {},
   "source": [
    "## Viz"
   ]
  },
  {
   "cell_type": "code",
   "execution_count": 11,
   "id": "ae3ac899",
   "metadata": {},
   "outputs": [
    {
     "data": {
      "application/vnd.plotly.v1+json": {
       "config": {
        "plotlyServerURL": "https://plot.ly"
       },
       "data": [
        {
         "customdata": [
          "6 - 5 BOS",
          "4 - 2 BOS",
          "3 - 4 BOS",
          "0 - 3 TOR",
          "4 - 0 TOR",
          "4 - 6 TOR",
          "3 - 0 TOR",
          "1 - 2 BAL",
          "5 - 2 BAL",
          "0 - 5 BAL",
          "4 - 2 DET",
          "5 - 3 DET",
          "0 - 3 DET",
          "4 - 1 CLE",
          "5 - 4 CLE",
          "10 - 2 CLE",
          "12 - 8 BAL",
          "5 - 2 BAL",
          "10 - 5 BAL",
          "12 - 2 KCR",
          "3 - 0 KCR",
          "6 - 4 KCR",
          "3 - 2 TOR",
          "9 - 1 TOR",
          "1 - 2 TOR",
          "2 - 1 TEX",
          "2 - 4 TEX",
          "1 - 0 TEX",
          "6 - 5 TOR",
          "5 - 3 TOR",
          "15 - 7 CHW",
          "10 - 4 CHW",
          "2 - 3 CHW",
          "5 - 1 CHW",
          "6 - 2 BAL",
          "5 - 4 BAL",
          "3 - 2 BAL",
          "6 - 9 BAL",
          "7 - 5 CHW",
          "1 - 3 CHW",
          "0 - 5 CHW",
          "4 - 6 BAL",
          "7 - 6 BAL",
          "2 - 0 BAL",
          "7 - 2 TBR",
          "2 - 0 TBR",
          "1 - 3 TBR",
          "2 - 4 TBR",
          "9 - 1 LAA",
          "6 - 1 LAA",
          "2 - 1 LAA",
          "13 - 0 DET",
          "3 - 0 DET",
          "5 - 4 DET",
          "10 - 4 MIN",
          "1 - 8 MIN",
          "10 - 7 MIN",
          "2 - 1 CHC",
          "8 - 0 CHC",
          "18 - 4 CHC",
          "2 - 0 TBR",
          "4 - 3 TBR",
          "2 - 1 TBR",
          "12 - 3 TOR",
          "4 - 0 TOR",
          "9 - 10 TOR",
          "4 - 2 TBR",
          "4 - 5 TBR",
          "5 - 4 TBR",
          "7 - 6 HOU",
          "1 - 3 HOU",
          "0 - 3 HOU",
          "6 - 3 HOU",
          "9 - 5 OAK",
          "2 - 1 OAK",
          "5 - 3 OAK",
          "1 - 2 HOU",
          "13 - 4 CLE",
          "6 - 1 CLE",
          "0 - 2 CLE",
          "2 - 5 PIT",
          "16 - 0 PIT",
          "6 - 5 BOS",
          "12 - 5 BOS",
          "5 - 6 BOS",
          "6 - 11 BOS",
          "3 - 4 CIN",
          "7 - 6 CIN",
          "6 - 7 CIN",
          "4 - 5 BOS",
          "14 - 1 BOS",
          "13 - 2 BOS",
          "2 - 3 HOU",
          "5 - 7 HOU",
          "7 - 6 BAL",
          "3 - 6 BAL",
          "6 - 0 BAL",
          "3 - 6 NYM",
          "2 - 3 NYM",
          "1 - 0 KCR",
          "11 - 5 KCR",
          "8 - 2 KCR",
          "6 - 8 KCR",
          "7 - 2 SEA",
          "6 - 8 SEA",
          "3 - 7 SEA",
          "3 - 4 STL",
          "0 - 1 STL"
         ],
         "hovertemplate": "NYY %{customdata}<br><b>   ERA: %{text}</b><extra></extra>",
         "line": {
          "color": "white",
          "shape": "spline",
          "smoothing": 1.3,
          "width": 15
         },
         "mode": "lines",
         "name": "ERA",
         "text": [
          "3.27",
          "2.70",
          "3.10",
          "3.08",
          "2.49",
          "2.89",
          "2.49",
          "2.26",
          "2.23",
          "2.53",
          "2.48",
          "2.52",
          "2.58",
          "2.47",
          "2.57",
          "2.53",
          "2.85",
          "2.80",
          "2.92",
          "2.84",
          "2.70",
          "2.72",
          "2.69",
          "2.62",
          "2.60",
          "2.54",
          "2.60",
          "2.50",
          "2.59",
          "2.60",
          "2.75",
          "2.78",
          "2.80",
          "2.74",
          "2.72",
          "2.76",
          "2.74",
          "2.86",
          "2.91",
          "2.91",
          "2.96",
          "3.04",
          "3.07",
          "3.00",
          "2.98",
          "2.91",
          "2.92",
          "2.95",
          "2.91",
          "2.87",
          "2.83",
          "2.78",
          "2.73",
          "2.74",
          "2.77",
          "2.87",
          "2.94",
          "2.88",
          "2.83",
          "2.85",
          "2.81",
          "2.81",
          "2.78",
          "2.79",
          "2.74",
          "2.86",
          "2.84",
          "2.88",
          "2.90",
          "2.94",
          "2.94",
          "2.94",
          "2.94",
          "2.97",
          "2.93",
          "2.93",
          "2.92",
          "2.93",
          "2.91",
          "2.90",
          "2.93",
          "2.90",
          "2.92",
          "2.95",
          "2.97",
          "3.04",
          "3.05",
          "3.08",
          "3.11",
          "3.11",
          "3.09",
          "3.08",
          "3.08",
          "3.13",
          "3.16",
          "3.18",
          "3.15",
          "3.17",
          "3.17",
          "3.14",
          "3.16",
          "3.14",
          "3.19",
          "3.18",
          "3.22",
          "3.25",
          "3.26",
          "3.24"
         ],
         "type": "scatter",
         "x": [
          "2022-04-08T00:00:00",
          "2022-04-09T00:00:00",
          "2022-04-10T00:00:00",
          "2022-04-11T00:00:00",
          "2022-04-12T00:00:00",
          "2022-04-13T00:00:00",
          "2022-04-14T00:00:00",
          "2022-04-15T00:00:00",
          "2022-04-16T00:00:00",
          "2022-04-17T00:00:00",
          "2022-04-19T00:00:00",
          "2022-04-20T00:00:00",
          "2022-04-21T00:00:00",
          "2022-04-22T00:00:00",
          "2022-04-23T00:00:00",
          "2022-04-24T00:00:00",
          "2022-04-26T00:00:00",
          "2022-04-27T00:00:00",
          "2022-04-28T00:00:00",
          "2022-04-29T00:00:00",
          "2022-04-30T00:00:00",
          "2022-05-01T00:00:00",
          "2022-05-02T00:00:00",
          "2022-05-03T00:00:00",
          "2022-05-04T00:00:00",
          "2022-05-08T00:00:00",
          "2022-05-08T00:00:00",
          "2022-05-09T00:00:00",
          "2022-05-10T00:00:00",
          "2022-05-11T00:00:00",
          "2022-05-12T00:00:00",
          "2022-05-13T00:00:00",
          "2022-05-14T00:00:00",
          "2022-05-15T00:00:00",
          "2022-05-16T00:00:00",
          "2022-05-17T00:00:00",
          "2022-05-18T00:00:00",
          "2022-05-19T00:00:00",
          "2022-05-21T00:00:00",
          "2022-05-22T00:00:00",
          "2022-05-22T00:00:00",
          "2022-05-23T00:00:00",
          "2022-05-24T00:00:00",
          "2022-05-25T00:00:00",
          "2022-05-26T00:00:00",
          "2022-05-27T00:00:00",
          "2022-05-28T00:00:00",
          "2022-05-29T00:00:00",
          "2022-05-31T00:00:00",
          "2022-06-02T00:00:00",
          "2022-06-02T00:00:00",
          "2022-06-03T00:00:00",
          "2022-06-04T00:00:00",
          "2022-06-05T00:00:00",
          "2022-06-07T00:00:00",
          "2022-06-08T00:00:00",
          "2022-06-09T00:00:00",
          "2022-06-10T00:00:00",
          "2022-06-11T00:00:00",
          "2022-06-12T00:00:00",
          "2022-06-14T00:00:00",
          "2022-06-15T00:00:00",
          "2022-06-16T00:00:00",
          "2022-06-17T00:00:00",
          "2022-06-18T00:00:00",
          "2022-06-19T00:00:00",
          "2022-06-20T00:00:00",
          "2022-06-21T00:00:00",
          "2022-06-22T00:00:00",
          "2022-06-23T00:00:00",
          "2022-06-24T00:00:00",
          "2022-06-25T00:00:00",
          "2022-06-26T00:00:00",
          "2022-06-27T00:00:00",
          "2022-06-28T00:00:00",
          "2022-06-29T00:00:00",
          "2022-06-30T00:00:00",
          "2022-07-02T00:00:00",
          "2022-07-02T00:00:00",
          "2022-07-03T00:00:00",
          "2022-07-05T00:00:00",
          "2022-07-06T00:00:00",
          "2022-07-07T00:00:00",
          "2022-07-08T00:00:00",
          "2022-07-09T00:00:00",
          "2022-07-10T00:00:00",
          "2022-07-12T00:00:00",
          "2022-07-13T00:00:00",
          "2022-07-14T00:00:00",
          "2022-07-15T00:00:00",
          "2022-07-16T00:00:00",
          "2022-07-17T00:00:00",
          "2022-07-21T00:00:00",
          "2022-07-21T00:00:00",
          "2022-07-22T00:00:00",
          "2022-07-23T00:00:00",
          "2022-07-24T00:00:00",
          "2022-07-26T00:00:00",
          "2022-07-27T00:00:00",
          "2022-07-28T00:00:00",
          "2022-07-29T00:00:00",
          "2022-07-30T00:00:00",
          "2022-07-31T00:00:00",
          "2022-08-01T00:00:00",
          "2022-08-02T00:00:00",
          "2022-08-03T00:00:00",
          "2022-08-05T00:00:00",
          "2022-08-06T00:00:00"
         ],
         "xhoverformat": "<b>%b %d</b>",
         "y": [
          3.27,
          2.7,
          3.1,
          3.08,
          2.49,
          2.89,
          2.49,
          2.26,
          2.23,
          2.53,
          2.48,
          2.52,
          2.58,
          2.47,
          2.57,
          2.53,
          2.85,
          2.8,
          2.92,
          2.84,
          2.7,
          2.72,
          2.69,
          2.62,
          2.6,
          2.54,
          2.6,
          2.5,
          2.59,
          2.6,
          2.75,
          2.78,
          2.8,
          2.74,
          2.72,
          2.76,
          2.74,
          2.86,
          2.91,
          2.91,
          2.96,
          3.04,
          3.07,
          3,
          2.98,
          2.91,
          2.92,
          2.95,
          2.91,
          2.87,
          2.83,
          2.78,
          2.73,
          2.74,
          2.77,
          2.87,
          2.94,
          2.88,
          2.83,
          2.85,
          2.81,
          2.81,
          2.78,
          2.79,
          2.74,
          2.86,
          2.84,
          2.88,
          2.9,
          2.94,
          2.94,
          2.94,
          2.94,
          2.97,
          2.93,
          2.93,
          2.92,
          2.93,
          2.91,
          2.9,
          2.93,
          2.9,
          2.92,
          2.95,
          2.97,
          3.04,
          3.05,
          3.08,
          3.11,
          3.11,
          3.09,
          3.08,
          3.08,
          3.13,
          3.16,
          3.18,
          3.15,
          3.17,
          3.17,
          3.14,
          3.16,
          3.14,
          3.19,
          3.18,
          3.22,
          3.25,
          3.26,
          3.24
         ]
        },
        {
         "hoverinfo": "skip",
         "line": {
          "shape": "spline",
          "smoothing": 1.3,
          "width": 15
         },
         "marker": {
          "color": "white",
          "line": {
           "color": "#0C2340",
           "width": 2.5
          },
          "size": 22
         },
         "mode": "markers+text",
         "showlegend": false,
         "text": [
          "<b>3.24</b>"
         ],
         "textfont": {
          "color": "white",
          "size": 18
         },
         "textposition": "middle right",
         "type": "scatter",
         "x": [
          "2022-08-06T00:00:00"
         ],
         "xhoverformat": "<b>%b %d</b>",
         "y": [
          3.24
         ]
        }
       ],
       "layout": {
        "hoverlabel": {
         "bgcolor": "#0C2340",
         "font": {
          "size": 16
         }
        },
        "hovermode": "x",
        "margin": {
         "b": 70,
         "pad": 3,
         "t": 110
        },
        "paper_bgcolor": "#0C2340",
        "plot_bgcolor": "#0C2340",
        "showlegend": false,
        "template": {
         "data": {
          "bar": [
           {
            "error_x": {
             "color": "#2a3f5f"
            },
            "error_y": {
             "color": "#2a3f5f"
            },
            "marker": {
             "line": {
              "color": "#E5ECF6",
              "width": 0.5
             },
             "pattern": {
              "fillmode": "overlay",
              "size": 10,
              "solidity": 0.2
             }
            },
            "type": "bar"
           }
          ],
          "barpolar": [
           {
            "marker": {
             "line": {
              "color": "#E5ECF6",
              "width": 0.5
             },
             "pattern": {
              "fillmode": "overlay",
              "size": 10,
              "solidity": 0.2
             }
            },
            "type": "barpolar"
           }
          ],
          "carpet": [
           {
            "aaxis": {
             "endlinecolor": "#2a3f5f",
             "gridcolor": "white",
             "linecolor": "white",
             "minorgridcolor": "white",
             "startlinecolor": "#2a3f5f"
            },
            "baxis": {
             "endlinecolor": "#2a3f5f",
             "gridcolor": "white",
             "linecolor": "white",
             "minorgridcolor": "white",
             "startlinecolor": "#2a3f5f"
            },
            "type": "carpet"
           }
          ],
          "choropleth": [
           {
            "colorbar": {
             "outlinewidth": 0,
             "ticks": ""
            },
            "type": "choropleth"
           }
          ],
          "contour": [
           {
            "colorbar": {
             "outlinewidth": 0,
             "ticks": ""
            },
            "colorscale": [
             [
              0,
              "#0d0887"
             ],
             [
              0.1111111111111111,
              "#46039f"
             ],
             [
              0.2222222222222222,
              "#7201a8"
             ],
             [
              0.3333333333333333,
              "#9c179e"
             ],
             [
              0.4444444444444444,
              "#bd3786"
             ],
             [
              0.5555555555555556,
              "#d8576b"
             ],
             [
              0.6666666666666666,
              "#ed7953"
             ],
             [
              0.7777777777777778,
              "#fb9f3a"
             ],
             [
              0.8888888888888888,
              "#fdca26"
             ],
             [
              1,
              "#f0f921"
             ]
            ],
            "type": "contour"
           }
          ],
          "contourcarpet": [
           {
            "colorbar": {
             "outlinewidth": 0,
             "ticks": ""
            },
            "type": "contourcarpet"
           }
          ],
          "heatmap": [
           {
            "colorbar": {
             "outlinewidth": 0,
             "ticks": ""
            },
            "colorscale": [
             [
              0,
              "#0d0887"
             ],
             [
              0.1111111111111111,
              "#46039f"
             ],
             [
              0.2222222222222222,
              "#7201a8"
             ],
             [
              0.3333333333333333,
              "#9c179e"
             ],
             [
              0.4444444444444444,
              "#bd3786"
             ],
             [
              0.5555555555555556,
              "#d8576b"
             ],
             [
              0.6666666666666666,
              "#ed7953"
             ],
             [
              0.7777777777777778,
              "#fb9f3a"
             ],
             [
              0.8888888888888888,
              "#fdca26"
             ],
             [
              1,
              "#f0f921"
             ]
            ],
            "type": "heatmap"
           }
          ],
          "heatmapgl": [
           {
            "colorbar": {
             "outlinewidth": 0,
             "ticks": ""
            },
            "colorscale": [
             [
              0,
              "#0d0887"
             ],
             [
              0.1111111111111111,
              "#46039f"
             ],
             [
              0.2222222222222222,
              "#7201a8"
             ],
             [
              0.3333333333333333,
              "#9c179e"
             ],
             [
              0.4444444444444444,
              "#bd3786"
             ],
             [
              0.5555555555555556,
              "#d8576b"
             ],
             [
              0.6666666666666666,
              "#ed7953"
             ],
             [
              0.7777777777777778,
              "#fb9f3a"
             ],
             [
              0.8888888888888888,
              "#fdca26"
             ],
             [
              1,
              "#f0f921"
             ]
            ],
            "type": "heatmapgl"
           }
          ],
          "histogram": [
           {
            "marker": {
             "pattern": {
              "fillmode": "overlay",
              "size": 10,
              "solidity": 0.2
             }
            },
            "type": "histogram"
           }
          ],
          "histogram2d": [
           {
            "colorbar": {
             "outlinewidth": 0,
             "ticks": ""
            },
            "colorscale": [
             [
              0,
              "#0d0887"
             ],
             [
              0.1111111111111111,
              "#46039f"
             ],
             [
              0.2222222222222222,
              "#7201a8"
             ],
             [
              0.3333333333333333,
              "#9c179e"
             ],
             [
              0.4444444444444444,
              "#bd3786"
             ],
             [
              0.5555555555555556,
              "#d8576b"
             ],
             [
              0.6666666666666666,
              "#ed7953"
             ],
             [
              0.7777777777777778,
              "#fb9f3a"
             ],
             [
              0.8888888888888888,
              "#fdca26"
             ],
             [
              1,
              "#f0f921"
             ]
            ],
            "type": "histogram2d"
           }
          ],
          "histogram2dcontour": [
           {
            "colorbar": {
             "outlinewidth": 0,
             "ticks": ""
            },
            "colorscale": [
             [
              0,
              "#0d0887"
             ],
             [
              0.1111111111111111,
              "#46039f"
             ],
             [
              0.2222222222222222,
              "#7201a8"
             ],
             [
              0.3333333333333333,
              "#9c179e"
             ],
             [
              0.4444444444444444,
              "#bd3786"
             ],
             [
              0.5555555555555556,
              "#d8576b"
             ],
             [
              0.6666666666666666,
              "#ed7953"
             ],
             [
              0.7777777777777778,
              "#fb9f3a"
             ],
             [
              0.8888888888888888,
              "#fdca26"
             ],
             [
              1,
              "#f0f921"
             ]
            ],
            "type": "histogram2dcontour"
           }
          ],
          "mesh3d": [
           {
            "colorbar": {
             "outlinewidth": 0,
             "ticks": ""
            },
            "type": "mesh3d"
           }
          ],
          "parcoords": [
           {
            "line": {
             "colorbar": {
              "outlinewidth": 0,
              "ticks": ""
             }
            },
            "type": "parcoords"
           }
          ],
          "pie": [
           {
            "automargin": true,
            "type": "pie"
           }
          ],
          "scatter": [
           {
            "fillpattern": {
             "fillmode": "overlay",
             "size": 10,
             "solidity": 0.2
            },
            "type": "scatter"
           }
          ],
          "scatter3d": [
           {
            "line": {
             "colorbar": {
              "outlinewidth": 0,
              "ticks": ""
             }
            },
            "marker": {
             "colorbar": {
              "outlinewidth": 0,
              "ticks": ""
             }
            },
            "type": "scatter3d"
           }
          ],
          "scattercarpet": [
           {
            "marker": {
             "colorbar": {
              "outlinewidth": 0,
              "ticks": ""
             }
            },
            "type": "scattercarpet"
           }
          ],
          "scattergeo": [
           {
            "marker": {
             "colorbar": {
              "outlinewidth": 0,
              "ticks": ""
             }
            },
            "type": "scattergeo"
           }
          ],
          "scattergl": [
           {
            "marker": {
             "colorbar": {
              "outlinewidth": 0,
              "ticks": ""
             }
            },
            "type": "scattergl"
           }
          ],
          "scattermapbox": [
           {
            "marker": {
             "colorbar": {
              "outlinewidth": 0,
              "ticks": ""
             }
            },
            "type": "scattermapbox"
           }
          ],
          "scatterpolar": [
           {
            "marker": {
             "colorbar": {
              "outlinewidth": 0,
              "ticks": ""
             }
            },
            "type": "scatterpolar"
           }
          ],
          "scatterpolargl": [
           {
            "marker": {
             "colorbar": {
              "outlinewidth": 0,
              "ticks": ""
             }
            },
            "type": "scatterpolargl"
           }
          ],
          "scatterternary": [
           {
            "marker": {
             "colorbar": {
              "outlinewidth": 0,
              "ticks": ""
             }
            },
            "type": "scatterternary"
           }
          ],
          "surface": [
           {
            "colorbar": {
             "outlinewidth": 0,
             "ticks": ""
            },
            "colorscale": [
             [
              0,
              "#0d0887"
             ],
             [
              0.1111111111111111,
              "#46039f"
             ],
             [
              0.2222222222222222,
              "#7201a8"
             ],
             [
              0.3333333333333333,
              "#9c179e"
             ],
             [
              0.4444444444444444,
              "#bd3786"
             ],
             [
              0.5555555555555556,
              "#d8576b"
             ],
             [
              0.6666666666666666,
              "#ed7953"
             ],
             [
              0.7777777777777778,
              "#fb9f3a"
             ],
             [
              0.8888888888888888,
              "#fdca26"
             ],
             [
              1,
              "#f0f921"
             ]
            ],
            "type": "surface"
           }
          ],
          "table": [
           {
            "cells": {
             "fill": {
              "color": "#EBF0F8"
             },
             "line": {
              "color": "white"
             }
            },
            "header": {
             "fill": {
              "color": "#C8D4E3"
             },
             "line": {
              "color": "white"
             }
            },
            "type": "table"
           }
          ]
         },
         "layout": {
          "annotationdefaults": {
           "arrowcolor": "#2a3f5f",
           "arrowhead": 0,
           "arrowwidth": 1
          },
          "autotypenumbers": "strict",
          "coloraxis": {
           "colorbar": {
            "outlinewidth": 0,
            "ticks": ""
           }
          },
          "colorscale": {
           "diverging": [
            [
             0,
             "#8e0152"
            ],
            [
             0.1,
             "#c51b7d"
            ],
            [
             0.2,
             "#de77ae"
            ],
            [
             0.3,
             "#f1b6da"
            ],
            [
             0.4,
             "#fde0ef"
            ],
            [
             0.5,
             "#f7f7f7"
            ],
            [
             0.6,
             "#e6f5d0"
            ],
            [
             0.7,
             "#b8e186"
            ],
            [
             0.8,
             "#7fbc41"
            ],
            [
             0.9,
             "#4d9221"
            ],
            [
             1,
             "#276419"
            ]
           ],
           "sequential": [
            [
             0,
             "#0d0887"
            ],
            [
             0.1111111111111111,
             "#46039f"
            ],
            [
             0.2222222222222222,
             "#7201a8"
            ],
            [
             0.3333333333333333,
             "#9c179e"
            ],
            [
             0.4444444444444444,
             "#bd3786"
            ],
            [
             0.5555555555555556,
             "#d8576b"
            ],
            [
             0.6666666666666666,
             "#ed7953"
            ],
            [
             0.7777777777777778,
             "#fb9f3a"
            ],
            [
             0.8888888888888888,
             "#fdca26"
            ],
            [
             1,
             "#f0f921"
            ]
           ],
           "sequentialminus": [
            [
             0,
             "#0d0887"
            ],
            [
             0.1111111111111111,
             "#46039f"
            ],
            [
             0.2222222222222222,
             "#7201a8"
            ],
            [
             0.3333333333333333,
             "#9c179e"
            ],
            [
             0.4444444444444444,
             "#bd3786"
            ],
            [
             0.5555555555555556,
             "#d8576b"
            ],
            [
             0.6666666666666666,
             "#ed7953"
            ],
            [
             0.7777777777777778,
             "#fb9f3a"
            ],
            [
             0.8888888888888888,
             "#fdca26"
            ],
            [
             1,
             "#f0f921"
            ]
           ]
          },
          "colorway": [
           "#636efa",
           "#EF553B",
           "#00cc96",
           "#ab63fa",
           "#FFA15A",
           "#19d3f3",
           "#FF6692",
           "#B6E880",
           "#FF97FF",
           "#FECB52"
          ],
          "font": {
           "color": "#2a3f5f"
          },
          "geo": {
           "bgcolor": "white",
           "lakecolor": "white",
           "landcolor": "#E5ECF6",
           "showlakes": true,
           "showland": true,
           "subunitcolor": "white"
          },
          "hoverlabel": {
           "align": "left"
          },
          "hovermode": "closest",
          "mapbox": {
           "style": "light"
          },
          "paper_bgcolor": "white",
          "plot_bgcolor": "#E5ECF6",
          "polar": {
           "angularaxis": {
            "gridcolor": "white",
            "linecolor": "white",
            "ticks": ""
           },
           "bgcolor": "#E5ECF6",
           "radialaxis": {
            "gridcolor": "white",
            "linecolor": "white",
            "ticks": ""
           }
          },
          "scene": {
           "xaxis": {
            "backgroundcolor": "#E5ECF6",
            "gridcolor": "white",
            "gridwidth": 2,
            "linecolor": "white",
            "showbackground": true,
            "ticks": "",
            "zerolinecolor": "white"
           },
           "yaxis": {
            "backgroundcolor": "#E5ECF6",
            "gridcolor": "white",
            "gridwidth": 2,
            "linecolor": "white",
            "showbackground": true,
            "ticks": "",
            "zerolinecolor": "white"
           },
           "zaxis": {
            "backgroundcolor": "#E5ECF6",
            "gridcolor": "white",
            "gridwidth": 2,
            "linecolor": "white",
            "showbackground": true,
            "ticks": "",
            "zerolinecolor": "white"
           }
          },
          "shapedefaults": {
           "line": {
            "color": "#2a3f5f"
           }
          },
          "ternary": {
           "aaxis": {
            "gridcolor": "white",
            "linecolor": "white",
            "ticks": ""
           },
           "baxis": {
            "gridcolor": "white",
            "linecolor": "white",
            "ticks": ""
           },
           "bgcolor": "#E5ECF6",
           "caxis": {
            "gridcolor": "white",
            "linecolor": "white",
            "ticks": ""
           }
          },
          "title": {
           "x": 0.05
          },
          "xaxis": {
           "automargin": true,
           "gridcolor": "white",
           "linecolor": "white",
           "ticks": "",
           "title": {
            "standoff": 15
           },
           "zerolinecolor": "white",
           "zerolinewidth": 2
          },
          "yaxis": {
           "automargin": true,
           "gridcolor": "white",
           "linecolor": "white",
           "ticks": "",
           "title": {
            "standoff": 15
           },
           "zerolinecolor": "white",
           "zerolinewidth": 2
          }
         }
        },
        "title": {
         "font": {
          "color": "white",
          "size": 30
         },
         "text": "<b>Yankees Team ERA</b><br>Time to Blame Blake?",
         "x": 0.5,
         "xanchor": "center",
         "y": 0.9,
         "yanchor": "top"
        },
        "xaxis": {
         "dtick": "M1",
         "gridcolor": "rgb(20,45,75)",
         "gridwidth": 2,
         "range": [
          "2022-04-01",
          "2022-08-17"
         ],
         "tickfont": {
          "color": "#C4CED3",
          "size": 24
         },
         "tickformat": "<b>%b</b>",
         "ticklabelmode": "period"
        },
        "yaxis": {
         "gridcolor": "rgb(20,45,75)",
         "gridwidth": 2,
         "range": [
          1.9,
          3.6
         ],
         "tickfont": {
          "color": "#C4CED3",
          "size": 20
         },
         "tickmode": "array",
         "ticktext": [
          "<b>2.00</b>",
          "<b>2.25</b>",
          "<b>2.50</b>",
          "<b>2.75</b>",
          "<b>3.00</b>",
          "<b>3.25</b>",
          "<b>3.50</b>"
         ],
         "tickvals": [
          2,
          2.25,
          2.5,
          2.75,
          3,
          3.25,
          3.5
         ],
         "title": {
          "font": {
           "color": "white",
           "size": 26
          },
          "text": "<br><b>ERA</b>"
         },
         "zerolinecolor": "rgb(20,45,75)",
         "zerolinewidth": 2
        }
       }
      },
      "text/html": [
       "<div>                            <div id=\"5f009c05-1574-4135-8874-352daeedf9a5\" class=\"plotly-graph-div\" style=\"height:525px; width:100%;\"></div>            <script type=\"text/javascript\">                require([\"plotly\"], function(Plotly) {                    window.PLOTLYENV=window.PLOTLYENV || {};                                    if (document.getElementById(\"5f009c05-1574-4135-8874-352daeedf9a5\")) {                    Plotly.newPlot(                        \"5f009c05-1574-4135-8874-352daeedf9a5\",                        [{\"customdata\":[\"6 - 5 BOS\",\"4 - 2 BOS\",\"3 - 4 BOS\",\"0 - 3 TOR\",\"4 - 0 TOR\",\"4 - 6 TOR\",\"3 - 0 TOR\",\"1 - 2 BAL\",\"5 - 2 BAL\",\"0 - 5 BAL\",\"4 - 2 DET\",\"5 - 3 DET\",\"0 - 3 DET\",\"4 - 1 CLE\",\"5 - 4 CLE\",\"10 - 2 CLE\",\"12 - 8 BAL\",\"5 - 2 BAL\",\"10 - 5 BAL\",\"12 - 2 KCR\",\"3 - 0 KCR\",\"6 - 4 KCR\",\"3 - 2 TOR\",\"9 - 1 TOR\",\"1 - 2 TOR\",\"2 - 1 TEX\",\"2 - 4 TEX\",\"1 - 0 TEX\",\"6 - 5 TOR\",\"5 - 3 TOR\",\"15 - 7 CHW\",\"10 - 4 CHW\",\"2 - 3 CHW\",\"5 - 1 CHW\",\"6 - 2 BAL\",\"5 - 4 BAL\",\"3 - 2 BAL\",\"6 - 9 BAL\",\"7 - 5 CHW\",\"1 - 3 CHW\",\"0 - 5 CHW\",\"4 - 6 BAL\",\"7 - 6 BAL\",\"2 - 0 BAL\",\"7 - 2 TBR\",\"2 - 0 TBR\",\"1 - 3 TBR\",\"2 - 4 TBR\",\"9 - 1 LAA\",\"6 - 1 LAA\",\"2 - 1 LAA\",\"13 - 0 DET\",\"3 - 0 DET\",\"5 - 4 DET\",\"10 - 4 MIN\",\"1 - 8 MIN\",\"10 - 7 MIN\",\"2 - 1 CHC\",\"8 - 0 CHC\",\"18 - 4 CHC\",\"2 - 0 TBR\",\"4 - 3 TBR\",\"2 - 1 TBR\",\"12 - 3 TOR\",\"4 - 0 TOR\",\"9 - 10 TOR\",\"4 - 2 TBR\",\"4 - 5 TBR\",\"5 - 4 TBR\",\"7 - 6 HOU\",\"1 - 3 HOU\",\"0 - 3 HOU\",\"6 - 3 HOU\",\"9 - 5 OAK\",\"2 - 1 OAK\",\"5 - 3 OAK\",\"1 - 2 HOU\",\"13 - 4 CLE\",\"6 - 1 CLE\",\"0 - 2 CLE\",\"2 - 5 PIT\",\"16 - 0 PIT\",\"6 - 5 BOS\",\"12 - 5 BOS\",\"5 - 6 BOS\",\"6 - 11 BOS\",\"3 - 4 CIN\",\"7 - 6 CIN\",\"6 - 7 CIN\",\"4 - 5 BOS\",\"14 - 1 BOS\",\"13 - 2 BOS\",\"2 - 3 HOU\",\"5 - 7 HOU\",\"7 - 6 BAL\",\"3 - 6 BAL\",\"6 - 0 BAL\",\"3 - 6 NYM\",\"2 - 3 NYM\",\"1 - 0 KCR\",\"11 - 5 KCR\",\"8 - 2 KCR\",\"6 - 8 KCR\",\"7 - 2 SEA\",\"6 - 8 SEA\",\"3 - 7 SEA\",\"3 - 4 STL\",\"0 - 1 STL\"],\"hovertemplate\":\"NYY %{customdata}<br><b>   ERA: %{text}</b><extra></extra>\",\"line\":{\"color\":\"white\",\"shape\":\"spline\",\"smoothing\":1.3,\"width\":15},\"mode\":\"lines\",\"name\":\"ERA\",\"text\":[\"3.27\",\"2.70\",\"3.10\",\"3.08\",\"2.49\",\"2.89\",\"2.49\",\"2.26\",\"2.23\",\"2.53\",\"2.48\",\"2.52\",\"2.58\",\"2.47\",\"2.57\",\"2.53\",\"2.85\",\"2.80\",\"2.92\",\"2.84\",\"2.70\",\"2.72\",\"2.69\",\"2.62\",\"2.60\",\"2.54\",\"2.60\",\"2.50\",\"2.59\",\"2.60\",\"2.75\",\"2.78\",\"2.80\",\"2.74\",\"2.72\",\"2.76\",\"2.74\",\"2.86\",\"2.91\",\"2.91\",\"2.96\",\"3.04\",\"3.07\",\"3.00\",\"2.98\",\"2.91\",\"2.92\",\"2.95\",\"2.91\",\"2.87\",\"2.83\",\"2.78\",\"2.73\",\"2.74\",\"2.77\",\"2.87\",\"2.94\",\"2.88\",\"2.83\",\"2.85\",\"2.81\",\"2.81\",\"2.78\",\"2.79\",\"2.74\",\"2.86\",\"2.84\",\"2.88\",\"2.90\",\"2.94\",\"2.94\",\"2.94\",\"2.94\",\"2.97\",\"2.93\",\"2.93\",\"2.92\",\"2.93\",\"2.91\",\"2.90\",\"2.93\",\"2.90\",\"2.92\",\"2.95\",\"2.97\",\"3.04\",\"3.05\",\"3.08\",\"3.11\",\"3.11\",\"3.09\",\"3.08\",\"3.08\",\"3.13\",\"3.16\",\"3.18\",\"3.15\",\"3.17\",\"3.17\",\"3.14\",\"3.16\",\"3.14\",\"3.19\",\"3.18\",\"3.22\",\"3.25\",\"3.26\",\"3.24\"],\"x\":[\"2022-04-08T00:00:00\",\"2022-04-09T00:00:00\",\"2022-04-10T00:00:00\",\"2022-04-11T00:00:00\",\"2022-04-12T00:00:00\",\"2022-04-13T00:00:00\",\"2022-04-14T00:00:00\",\"2022-04-15T00:00:00\",\"2022-04-16T00:00:00\",\"2022-04-17T00:00:00\",\"2022-04-19T00:00:00\",\"2022-04-20T00:00:00\",\"2022-04-21T00:00:00\",\"2022-04-22T00:00:00\",\"2022-04-23T00:00:00\",\"2022-04-24T00:00:00\",\"2022-04-26T00:00:00\",\"2022-04-27T00:00:00\",\"2022-04-28T00:00:00\",\"2022-04-29T00:00:00\",\"2022-04-30T00:00:00\",\"2022-05-01T00:00:00\",\"2022-05-02T00:00:00\",\"2022-05-03T00:00:00\",\"2022-05-04T00:00:00\",\"2022-05-08T00:00:00\",\"2022-05-08T00:00:00\",\"2022-05-09T00:00:00\",\"2022-05-10T00:00:00\",\"2022-05-11T00:00:00\",\"2022-05-12T00:00:00\",\"2022-05-13T00:00:00\",\"2022-05-14T00:00:00\",\"2022-05-15T00:00:00\",\"2022-05-16T00:00:00\",\"2022-05-17T00:00:00\",\"2022-05-18T00:00:00\",\"2022-05-19T00:00:00\",\"2022-05-21T00:00:00\",\"2022-05-22T00:00:00\",\"2022-05-22T00:00:00\",\"2022-05-23T00:00:00\",\"2022-05-24T00:00:00\",\"2022-05-25T00:00:00\",\"2022-05-26T00:00:00\",\"2022-05-27T00:00:00\",\"2022-05-28T00:00:00\",\"2022-05-29T00:00:00\",\"2022-05-31T00:00:00\",\"2022-06-02T00:00:00\",\"2022-06-02T00:00:00\",\"2022-06-03T00:00:00\",\"2022-06-04T00:00:00\",\"2022-06-05T00:00:00\",\"2022-06-07T00:00:00\",\"2022-06-08T00:00:00\",\"2022-06-09T00:00:00\",\"2022-06-10T00:00:00\",\"2022-06-11T00:00:00\",\"2022-06-12T00:00:00\",\"2022-06-14T00:00:00\",\"2022-06-15T00:00:00\",\"2022-06-16T00:00:00\",\"2022-06-17T00:00:00\",\"2022-06-18T00:00:00\",\"2022-06-19T00:00:00\",\"2022-06-20T00:00:00\",\"2022-06-21T00:00:00\",\"2022-06-22T00:00:00\",\"2022-06-23T00:00:00\",\"2022-06-24T00:00:00\",\"2022-06-25T00:00:00\",\"2022-06-26T00:00:00\",\"2022-06-27T00:00:00\",\"2022-06-28T00:00:00\",\"2022-06-29T00:00:00\",\"2022-06-30T00:00:00\",\"2022-07-02T00:00:00\",\"2022-07-02T00:00:00\",\"2022-07-03T00:00:00\",\"2022-07-05T00:00:00\",\"2022-07-06T00:00:00\",\"2022-07-07T00:00:00\",\"2022-07-08T00:00:00\",\"2022-07-09T00:00:00\",\"2022-07-10T00:00:00\",\"2022-07-12T00:00:00\",\"2022-07-13T00:00:00\",\"2022-07-14T00:00:00\",\"2022-07-15T00:00:00\",\"2022-07-16T00:00:00\",\"2022-07-17T00:00:00\",\"2022-07-21T00:00:00\",\"2022-07-21T00:00:00\",\"2022-07-22T00:00:00\",\"2022-07-23T00:00:00\",\"2022-07-24T00:00:00\",\"2022-07-26T00:00:00\",\"2022-07-27T00:00:00\",\"2022-07-28T00:00:00\",\"2022-07-29T00:00:00\",\"2022-07-30T00:00:00\",\"2022-07-31T00:00:00\",\"2022-08-01T00:00:00\",\"2022-08-02T00:00:00\",\"2022-08-03T00:00:00\",\"2022-08-05T00:00:00\",\"2022-08-06T00:00:00\"],\"y\":[3.27,2.7,3.1,3.08,2.49,2.89,2.49,2.26,2.23,2.53,2.48,2.52,2.58,2.47,2.57,2.53,2.85,2.8,2.92,2.84,2.7,2.72,2.69,2.62,2.6,2.54,2.6,2.5,2.59,2.6,2.75,2.78,2.8,2.74,2.72,2.76,2.74,2.86,2.91,2.91,2.96,3.04,3.07,3.0,2.98,2.91,2.92,2.95,2.91,2.87,2.83,2.78,2.73,2.74,2.77,2.87,2.94,2.88,2.83,2.85,2.81,2.81,2.78,2.79,2.74,2.86,2.84,2.88,2.9,2.94,2.94,2.94,2.94,2.97,2.93,2.93,2.92,2.93,2.91,2.9,2.93,2.9,2.92,2.95,2.97,3.04,3.05,3.08,3.11,3.11,3.09,3.08,3.08,3.13,3.16,3.18,3.15,3.17,3.17,3.14,3.16,3.14,3.19,3.18,3.22,3.25,3.26,3.24],\"type\":\"scatter\",\"xhoverformat\":\"<b>%b %d</b>\"},{\"hoverinfo\":\"skip\",\"marker\":{\"color\":\"white\",\"line\":{\"color\":\"#0C2340\",\"width\":2.5},\"size\":22},\"mode\":\"markers+text\",\"showlegend\":false,\"text\":[\"<b>3.24</b>\"],\"textfont\":{\"color\":\"white\",\"size\":18},\"textposition\":\"middle right\",\"x\":[\"2022-08-06T00:00:00\"],\"y\":[3.24],\"type\":\"scatter\",\"line\":{\"shape\":\"spline\",\"smoothing\":1.3,\"width\":15},\"xhoverformat\":\"<b>%b %d</b>\"}],                        {\"template\":{\"data\":{\"histogram2dcontour\":[{\"type\":\"histogram2dcontour\",\"colorbar\":{\"outlinewidth\":0,\"ticks\":\"\"},\"colorscale\":[[0.0,\"#0d0887\"],[0.1111111111111111,\"#46039f\"],[0.2222222222222222,\"#7201a8\"],[0.3333333333333333,\"#9c179e\"],[0.4444444444444444,\"#bd3786\"],[0.5555555555555556,\"#d8576b\"],[0.6666666666666666,\"#ed7953\"],[0.7777777777777778,\"#fb9f3a\"],[0.8888888888888888,\"#fdca26\"],[1.0,\"#f0f921\"]]}],\"choropleth\":[{\"type\":\"choropleth\",\"colorbar\":{\"outlinewidth\":0,\"ticks\":\"\"}}],\"histogram2d\":[{\"type\":\"histogram2d\",\"colorbar\":{\"outlinewidth\":0,\"ticks\":\"\"},\"colorscale\":[[0.0,\"#0d0887\"],[0.1111111111111111,\"#46039f\"],[0.2222222222222222,\"#7201a8\"],[0.3333333333333333,\"#9c179e\"],[0.4444444444444444,\"#bd3786\"],[0.5555555555555556,\"#d8576b\"],[0.6666666666666666,\"#ed7953\"],[0.7777777777777778,\"#fb9f3a\"],[0.8888888888888888,\"#fdca26\"],[1.0,\"#f0f921\"]]}],\"heatmap\":[{\"type\":\"heatmap\",\"colorbar\":{\"outlinewidth\":0,\"ticks\":\"\"},\"colorscale\":[[0.0,\"#0d0887\"],[0.1111111111111111,\"#46039f\"],[0.2222222222222222,\"#7201a8\"],[0.3333333333333333,\"#9c179e\"],[0.4444444444444444,\"#bd3786\"],[0.5555555555555556,\"#d8576b\"],[0.6666666666666666,\"#ed7953\"],[0.7777777777777778,\"#fb9f3a\"],[0.8888888888888888,\"#fdca26\"],[1.0,\"#f0f921\"]]}],\"heatmapgl\":[{\"type\":\"heatmapgl\",\"colorbar\":{\"outlinewidth\":0,\"ticks\":\"\"},\"colorscale\":[[0.0,\"#0d0887\"],[0.1111111111111111,\"#46039f\"],[0.2222222222222222,\"#7201a8\"],[0.3333333333333333,\"#9c179e\"],[0.4444444444444444,\"#bd3786\"],[0.5555555555555556,\"#d8576b\"],[0.6666666666666666,\"#ed7953\"],[0.7777777777777778,\"#fb9f3a\"],[0.8888888888888888,\"#fdca26\"],[1.0,\"#f0f921\"]]}],\"contourcarpet\":[{\"type\":\"contourcarpet\",\"colorbar\":{\"outlinewidth\":0,\"ticks\":\"\"}}],\"contour\":[{\"type\":\"contour\",\"colorbar\":{\"outlinewidth\":0,\"ticks\":\"\"},\"colorscale\":[[0.0,\"#0d0887\"],[0.1111111111111111,\"#46039f\"],[0.2222222222222222,\"#7201a8\"],[0.3333333333333333,\"#9c179e\"],[0.4444444444444444,\"#bd3786\"],[0.5555555555555556,\"#d8576b\"],[0.6666666666666666,\"#ed7953\"],[0.7777777777777778,\"#fb9f3a\"],[0.8888888888888888,\"#fdca26\"],[1.0,\"#f0f921\"]]}],\"surface\":[{\"type\":\"surface\",\"colorbar\":{\"outlinewidth\":0,\"ticks\":\"\"},\"colorscale\":[[0.0,\"#0d0887\"],[0.1111111111111111,\"#46039f\"],[0.2222222222222222,\"#7201a8\"],[0.3333333333333333,\"#9c179e\"],[0.4444444444444444,\"#bd3786\"],[0.5555555555555556,\"#d8576b\"],[0.6666666666666666,\"#ed7953\"],[0.7777777777777778,\"#fb9f3a\"],[0.8888888888888888,\"#fdca26\"],[1.0,\"#f0f921\"]]}],\"mesh3d\":[{\"type\":\"mesh3d\",\"colorbar\":{\"outlinewidth\":0,\"ticks\":\"\"}}],\"scatter\":[{\"fillpattern\":{\"fillmode\":\"overlay\",\"size\":10,\"solidity\":0.2},\"type\":\"scatter\"}],\"parcoords\":[{\"type\":\"parcoords\",\"line\":{\"colorbar\":{\"outlinewidth\":0,\"ticks\":\"\"}}}],\"scatterpolargl\":[{\"type\":\"scatterpolargl\",\"marker\":{\"colorbar\":{\"outlinewidth\":0,\"ticks\":\"\"}}}],\"bar\":[{\"error_x\":{\"color\":\"#2a3f5f\"},\"error_y\":{\"color\":\"#2a3f5f\"},\"marker\":{\"line\":{\"color\":\"#E5ECF6\",\"width\":0.5},\"pattern\":{\"fillmode\":\"overlay\",\"size\":10,\"solidity\":0.2}},\"type\":\"bar\"}],\"scattergeo\":[{\"type\":\"scattergeo\",\"marker\":{\"colorbar\":{\"outlinewidth\":0,\"ticks\":\"\"}}}],\"scatterpolar\":[{\"type\":\"scatterpolar\",\"marker\":{\"colorbar\":{\"outlinewidth\":0,\"ticks\":\"\"}}}],\"histogram\":[{\"marker\":{\"pattern\":{\"fillmode\":\"overlay\",\"size\":10,\"solidity\":0.2}},\"type\":\"histogram\"}],\"scattergl\":[{\"type\":\"scattergl\",\"marker\":{\"colorbar\":{\"outlinewidth\":0,\"ticks\":\"\"}}}],\"scatter3d\":[{\"type\":\"scatter3d\",\"line\":{\"colorbar\":{\"outlinewidth\":0,\"ticks\":\"\"}},\"marker\":{\"colorbar\":{\"outlinewidth\":0,\"ticks\":\"\"}}}],\"scattermapbox\":[{\"type\":\"scattermapbox\",\"marker\":{\"colorbar\":{\"outlinewidth\":0,\"ticks\":\"\"}}}],\"scatterternary\":[{\"type\":\"scatterternary\",\"marker\":{\"colorbar\":{\"outlinewidth\":0,\"ticks\":\"\"}}}],\"scattercarpet\":[{\"type\":\"scattercarpet\",\"marker\":{\"colorbar\":{\"outlinewidth\":0,\"ticks\":\"\"}}}],\"carpet\":[{\"aaxis\":{\"endlinecolor\":\"#2a3f5f\",\"gridcolor\":\"white\",\"linecolor\":\"white\",\"minorgridcolor\":\"white\",\"startlinecolor\":\"#2a3f5f\"},\"baxis\":{\"endlinecolor\":\"#2a3f5f\",\"gridcolor\":\"white\",\"linecolor\":\"white\",\"minorgridcolor\":\"white\",\"startlinecolor\":\"#2a3f5f\"},\"type\":\"carpet\"}],\"table\":[{\"cells\":{\"fill\":{\"color\":\"#EBF0F8\"},\"line\":{\"color\":\"white\"}},\"header\":{\"fill\":{\"color\":\"#C8D4E3\"},\"line\":{\"color\":\"white\"}},\"type\":\"table\"}],\"barpolar\":[{\"marker\":{\"line\":{\"color\":\"#E5ECF6\",\"width\":0.5},\"pattern\":{\"fillmode\":\"overlay\",\"size\":10,\"solidity\":0.2}},\"type\":\"barpolar\"}],\"pie\":[{\"automargin\":true,\"type\":\"pie\"}]},\"layout\":{\"autotypenumbers\":\"strict\",\"colorway\":[\"#636efa\",\"#EF553B\",\"#00cc96\",\"#ab63fa\",\"#FFA15A\",\"#19d3f3\",\"#FF6692\",\"#B6E880\",\"#FF97FF\",\"#FECB52\"],\"font\":{\"color\":\"#2a3f5f\"},\"hovermode\":\"closest\",\"hoverlabel\":{\"align\":\"left\"},\"paper_bgcolor\":\"white\",\"plot_bgcolor\":\"#E5ECF6\",\"polar\":{\"bgcolor\":\"#E5ECF6\",\"angularaxis\":{\"gridcolor\":\"white\",\"linecolor\":\"white\",\"ticks\":\"\"},\"radialaxis\":{\"gridcolor\":\"white\",\"linecolor\":\"white\",\"ticks\":\"\"}},\"ternary\":{\"bgcolor\":\"#E5ECF6\",\"aaxis\":{\"gridcolor\":\"white\",\"linecolor\":\"white\",\"ticks\":\"\"},\"baxis\":{\"gridcolor\":\"white\",\"linecolor\":\"white\",\"ticks\":\"\"},\"caxis\":{\"gridcolor\":\"white\",\"linecolor\":\"white\",\"ticks\":\"\"}},\"coloraxis\":{\"colorbar\":{\"outlinewidth\":0,\"ticks\":\"\"}},\"colorscale\":{\"sequential\":[[0.0,\"#0d0887\"],[0.1111111111111111,\"#46039f\"],[0.2222222222222222,\"#7201a8\"],[0.3333333333333333,\"#9c179e\"],[0.4444444444444444,\"#bd3786\"],[0.5555555555555556,\"#d8576b\"],[0.6666666666666666,\"#ed7953\"],[0.7777777777777778,\"#fb9f3a\"],[0.8888888888888888,\"#fdca26\"],[1.0,\"#f0f921\"]],\"sequentialminus\":[[0.0,\"#0d0887\"],[0.1111111111111111,\"#46039f\"],[0.2222222222222222,\"#7201a8\"],[0.3333333333333333,\"#9c179e\"],[0.4444444444444444,\"#bd3786\"],[0.5555555555555556,\"#d8576b\"],[0.6666666666666666,\"#ed7953\"],[0.7777777777777778,\"#fb9f3a\"],[0.8888888888888888,\"#fdca26\"],[1.0,\"#f0f921\"]],\"diverging\":[[0,\"#8e0152\"],[0.1,\"#c51b7d\"],[0.2,\"#de77ae\"],[0.3,\"#f1b6da\"],[0.4,\"#fde0ef\"],[0.5,\"#f7f7f7\"],[0.6,\"#e6f5d0\"],[0.7,\"#b8e186\"],[0.8,\"#7fbc41\"],[0.9,\"#4d9221\"],[1,\"#276419\"]]},\"xaxis\":{\"gridcolor\":\"white\",\"linecolor\":\"white\",\"ticks\":\"\",\"title\":{\"standoff\":15},\"zerolinecolor\":\"white\",\"automargin\":true,\"zerolinewidth\":2},\"yaxis\":{\"gridcolor\":\"white\",\"linecolor\":\"white\",\"ticks\":\"\",\"title\":{\"standoff\":15},\"zerolinecolor\":\"white\",\"automargin\":true,\"zerolinewidth\":2},\"scene\":{\"xaxis\":{\"backgroundcolor\":\"#E5ECF6\",\"gridcolor\":\"white\",\"linecolor\":\"white\",\"showbackground\":true,\"ticks\":\"\",\"zerolinecolor\":\"white\",\"gridwidth\":2},\"yaxis\":{\"backgroundcolor\":\"#E5ECF6\",\"gridcolor\":\"white\",\"linecolor\":\"white\",\"showbackground\":true,\"ticks\":\"\",\"zerolinecolor\":\"white\",\"gridwidth\":2},\"zaxis\":{\"backgroundcolor\":\"#E5ECF6\",\"gridcolor\":\"white\",\"linecolor\":\"white\",\"showbackground\":true,\"ticks\":\"\",\"zerolinecolor\":\"white\",\"gridwidth\":2}},\"shapedefaults\":{\"line\":{\"color\":\"#2a3f5f\"}},\"annotationdefaults\":{\"arrowcolor\":\"#2a3f5f\",\"arrowhead\":0,\"arrowwidth\":1},\"geo\":{\"bgcolor\":\"white\",\"landcolor\":\"#E5ECF6\",\"subunitcolor\":\"white\",\"showland\":true,\"showlakes\":true,\"lakecolor\":\"white\"},\"title\":{\"x\":0.05},\"mapbox\":{\"style\":\"light\"}}},\"xaxis\":{\"tickfont\":{\"size\":24,\"color\":\"#C4CED3\"},\"dtick\":\"M1\",\"tickformat\":\"<b>%b</b>\",\"ticklabelmode\":\"period\",\"gridcolor\":\"rgb(20,45,75)\",\"gridwidth\":2,\"range\":[\"2022-04-01\",\"2022-08-17\"]},\"yaxis\":{\"title\":{\"font\":{\"size\":26,\"color\":\"white\"},\"text\":\"<br><b>ERA</b>\"},\"tickfont\":{\"size\":20,\"color\":\"#C4CED3\"},\"tickmode\":\"array\",\"ticktext\":[\"<b>2.00</b>\",\"<b>2.25</b>\",\"<b>2.50</b>\",\"<b>2.75</b>\",\"<b>3.00</b>\",\"<b>3.25</b>\",\"<b>3.50</b>\"],\"tickvals\":[2,2.25,2.5,2.75,3,3.25,3.5],\"zerolinecolor\":\"rgb(20,45,75)\",\"zerolinewidth\":2,\"gridcolor\":\"rgb(20,45,75)\",\"gridwidth\":2,\"range\":[1.9,3.6]},\"title\":{\"font\":{\"size\":30,\"color\":\"white\"},\"text\":\"<b>Yankees Team ERA</b><br>Time to Blame Blake?\",\"y\":0.9,\"x\":0.5,\"xanchor\":\"center\",\"yanchor\":\"top\"},\"hoverlabel\":{\"font\":{\"size\":16},\"bgcolor\":\"#0C2340\"},\"margin\":{\"t\":110,\"b\":70,\"pad\":3},\"showlegend\":false,\"hovermode\":\"x\",\"paper_bgcolor\":\"#0C2340\",\"plot_bgcolor\":\"#0C2340\"},                        {\"responsive\": true}                    ).then(function(){\n",
       "                            \n",
       "var gd = document.getElementById('5f009c05-1574-4135-8874-352daeedf9a5');\n",
       "var x = new MutationObserver(function (mutations, observer) {{\n",
       "        var display = window.getComputedStyle(gd).display;\n",
       "        if (!display || display === 'none') {{\n",
       "            console.log([gd, 'removed!']);\n",
       "            Plotly.purge(gd);\n",
       "            observer.disconnect();\n",
       "        }}\n",
       "}});\n",
       "\n",
       "// Listen for the removal of the full notebook cells\n",
       "var notebookContainer = gd.closest('#notebook-container');\n",
       "if (notebookContainer) {{\n",
       "    x.observe(notebookContainer, {childList: true});\n",
       "}}\n",
       "\n",
       "// Listen for the clearing of the current output cell\n",
       "var outputEl = gd.closest('.output');\n",
       "if (outputEl) {{\n",
       "    x.observe(outputEl, {childList: true});\n",
       "}}\n",
       "\n",
       "                        })                };                });            </script>        </div>"
      ]
     },
     "metadata": {},
     "output_type": "display_data"
    }
   ],
   "source": [
    "# Create variables for use in chart\n",
    "x = pitching_df['Date']\n",
    "y = pitching_df['ERA']\n",
    "era_text = [\"{:.2f}\".format(era) for era in pitching_df['ERA']]\n",
    "runs = pitching_df['Rslt'].apply(lambda x: int(x[2:4]) if (x[4] == '-') else int(x[2]))\n",
    "runs_allowed = pitching_df['R']\n",
    "opponent = pitching_df['Opp']\n",
    "score = [f'{r} - {ra} {opp}' for r, ra, opp in zip(runs, runs_allowed, opponent)]\n",
    "\n",
    "navy = '#0C2340'\n",
    "gray = '#C4CED3'\n",
    "\n",
    "\n",
    "# Create traces\n",
    "fig = go.Figure()\n",
    "\n",
    "fig.add_trace(\n",
    "    go.Scatter(\n",
    "        x=x, y=y, mode='lines', name='ERA', line_color='white',\n",
    "        text=era_text, customdata=score, hovertemplate='NYY %{customdata}<br><b>   ERA: %{text}</b><extra></extra>'\n",
    "))\n",
    "\n",
    "\n",
    "# Add traces for annotations and text for end of lines\n",
    "for i, d in enumerate(fig.data):\n",
    "    fig.add_trace(go.Scatter(x=[d.x[-1]],\n",
    "                             y=[d.y[-1]],\n",
    "                             mode='markers+text',\n",
    "                             text=['<b>' + str(y) + '</b>' for y in [d.y[-1]]],\n",
    "                             textfont = dict(\n",
    "                                 size=18,\n",
    "                                 color='white'),\n",
    "                             textposition='middle right',\n",
    "                             marker = dict(\n",
    "                                 size=22,\n",
    "                                 color = d.line.color,\n",
    "                                 line=dict(\n",
    "                                     width=2.5,\n",
    "                                     color=navy)),\n",
    "                             hoverinfo='skip',\n",
    "                             showlegend=False))\n",
    "\n",
    "\n",
    "# Format traces\n",
    "fig.update_traces(\n",
    "#     marker=dict(\n",
    "#         size=12,\n",
    "#         color=gray,\n",
    "#         line=dict(\n",
    "#             width=2,\n",
    "#             color=navy)),\n",
    "    line=dict(\n",
    "        shape='spline',\n",
    "        smoothing=1.3,\n",
    "        width=15),\n",
    "    #hovertemplate='<br><br>ERA: <b>%{customdata}</b><br><extra></extra>',\n",
    "    xhoverformat='<b>%b %d</b>'\n",
    ")\n",
    "\n",
    "\n",
    "# Format axes\n",
    "fig.update_xaxes(\n",
    "#     tickmode='array',\n",
    "#     ticktext=['<b>' + date + '</b>' for date in ['April','May','Jun','Jul','Aug']],\n",
    "#     tickvals=['2022-04-15','2022-05-15','2022-06-15','2022-07-15','2022-08-15'],\n",
    "    dtick='M1',\n",
    "    tickformat='<b>%b</b>',\n",
    "    ticklabelmode='period',\n",
    "#     dtick=2*7*24*60*60*1000,\n",
    "#     tick0=\"2022-04-01\"\n",
    "#     ticks= \"outside\",\n",
    "#     tickcolor= gray,\n",
    "#     ticklen=8, \n",
    "#     minor=dict(\n",
    "#         ticklen=4,  \n",
    "#         dtick=2*7*24*60*60*1000,\n",
    "#         tick0=\"2022-05-22\"), \n",
    "    tickfont=dict(\n",
    "        size=24,\n",
    "        color=gray),\n",
    "    gridcolor='rgb(20,45,75)',\n",
    "    gridwidth=2\n",
    "    #showgrid=False\n",
    ")\n",
    "\n",
    "fig.update_yaxes(\n",
    "    title=dict(\n",
    "        text=\"<br><b>ERA</b>\",\n",
    "        font=dict(\n",
    "            size=26,\n",
    "            color='white')),\n",
    "    tickfont=dict(\n",
    "        size=20,\n",
    "        color=gray),\n",
    "    tickmode='array',\n",
    "    ticktext=['<b>' + x + '</b>' for x in ['2.00','2.25','2.50','2.75','3.00','3.25','3.50']],\n",
    "    tickvals=[2, 2.25, 2.5, 2.75, 3, 3.25, 3.5],\n",
    "    zerolinecolor='rgb(20,45,75)',\n",
    "    zerolinewidth=2,\n",
    "    gridcolor='rgb(20,45,75)',\n",
    "    gridwidth=2,\n",
    ")\n",
    "\n",
    "\n",
    "# Format layout\n",
    "fig.update_layout(\n",
    "    title=dict(\n",
    "        text=\"<b>Yankees Team ERA</b><br>Time to Blame Blake?\",\n",
    "        y=0.9,\n",
    "        x=0.5,\n",
    "        xanchor='center',\n",
    "        yanchor='top',\n",
    "        font=dict(\n",
    "            size=30,\n",
    "            color='white')),\n",
    "    xaxis_range=['2022-04-01','2022-08-17'],\n",
    "    yaxis_range=[1.9,3.6],\n",
    "    showlegend=False,\n",
    "    hovermode='x',\n",
    "    hoverlabel=dict(\n",
    "        bgcolor=navy,\n",
    "        font_size=16),\n",
    "        #font_family=\"Rockwell\"\n",
    "#     legend=dict(\n",
    "#         title_text='',\n",
    "#         orientation='h',\n",
    "#         yanchor=\"top\",\n",
    "#         y=0.947,\n",
    "#         xanchor=\"left\",\n",
    "#         x=0.345,\n",
    "#         font=dict(\n",
    "#             size=18,\n",
    "#             color='white'),\n",
    "#         bordercolor=gray,\n",
    "#         borderwidth=2,\n",
    "#         bgcolor=navy),\n",
    "    paper_bgcolor=navy,\n",
    "    plot_bgcolor=navy,\n",
    "    #width=1500,\n",
    "    margin=dict(t=110, b=70, pad=3)\n",
    ")"
   ]
  }
 ],
 "metadata": {
  "kernelspec": {
   "display_name": "PythonData",
   "language": "python",
   "name": "pythondata"
  },
  "language_info": {
   "codemirror_mode": {
    "name": "ipython",
    "version": 3
   },
   "file_extension": ".py",
   "mimetype": "text/x-python",
   "name": "python",
   "nbconvert_exporter": "python",
   "pygments_lexer": "ipython3",
   "version": "3.7.11"
  }
 },
 "nbformat": 4,
 "nbformat_minor": 5
}
