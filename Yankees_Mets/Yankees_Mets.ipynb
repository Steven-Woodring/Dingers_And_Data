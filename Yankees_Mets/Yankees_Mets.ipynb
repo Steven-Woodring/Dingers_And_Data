{
 "cells": [
  {
   "cell_type": "code",
   "execution_count": 1,
   "id": "93b7c27a",
   "metadata": {},
   "outputs": [],
   "source": [
    "# Import dependencies\n",
    "import pandas as pd\n",
    "pd.set_option('display.max_columns', 500)\n",
    "import numpy as np\n",
    "\n",
    "import plotly.graph_objects as go\n",
    "import chart_studio.plotly as py"
   ]
  },
  {
   "cell_type": "markdown",
   "id": "bb3a4fd2",
   "metadata": {},
   "source": [
    "## Data Processing"
   ]
  },
  {
   "cell_type": "code",
   "execution_count": 2,
   "id": "a88142a9",
   "metadata": {},
   "outputs": [
    {
     "data": {
      "text/html": [
       "<div>\n",
       "<style scoped>\n",
       "    .dataframe tbody tr th:only-of-type {\n",
       "        vertical-align: middle;\n",
       "    }\n",
       "\n",
       "    .dataframe tbody tr th {\n",
       "        vertical-align: top;\n",
       "    }\n",
       "\n",
       "    .dataframe thead th {\n",
       "        text-align: right;\n",
       "    }\n",
       "</style>\n",
       "<table border=\"1\" class=\"dataframe\">\n",
       "  <thead>\n",
       "    <tr style=\"text-align: right;\">\n",
       "      <th></th>\n",
       "      <th>Team</th>\n",
       "      <th>AVG</th>\n",
       "      <th>OPS</th>\n",
       "      <th>ERA</th>\n",
       "      <th>WHIP</th>\n",
       "      <th>BAA</th>\n",
       "      <th>FPCT</th>\n",
       "    </tr>\n",
       "  </thead>\n",
       "  <tbody>\n",
       "    <tr>\n",
       "      <th>0</th>\n",
       "      <td>Mets Rank</td>\n",
       "      <td>5</td>\n",
       "      <td>7</td>\n",
       "      <td>6</td>\n",
       "      <td>5</td>\n",
       "      <td>9</td>\n",
       "      <td>6</td>\n",
       "    </tr>\n",
       "    <tr>\n",
       "      <th>1</th>\n",
       "      <td>Yankees Rank</td>\n",
       "      <td>16</td>\n",
       "      <td>3</td>\n",
       "      <td>3</td>\n",
       "      <td>2</td>\n",
       "      <td>3</td>\n",
       "      <td>3</td>\n",
       "    </tr>\n",
       "    <tr>\n",
       "      <th>2</th>\n",
       "      <td>Mets</td>\n",
       "      <td>25</td>\n",
       "      <td>23</td>\n",
       "      <td>24</td>\n",
       "      <td>25</td>\n",
       "      <td>21</td>\n",
       "      <td>24</td>\n",
       "    </tr>\n",
       "    <tr>\n",
       "      <th>3</th>\n",
       "      <td>Yankees</td>\n",
       "      <td>14</td>\n",
       "      <td>27</td>\n",
       "      <td>27</td>\n",
       "      <td>28</td>\n",
       "      <td>27</td>\n",
       "      <td>27</td>\n",
       "    </tr>\n",
       "  </tbody>\n",
       "</table>\n",
       "</div>"
      ],
      "text/plain": [
       "           Team  AVG  OPS  ERA  WHIP  BAA  FPCT\n",
       "0     Mets Rank    5    7    6     5    9     6\n",
       "1  Yankees Rank   16    3    3     2    3     3\n",
       "2          Mets   25   23   24    25   21    24\n",
       "3       Yankees   14   27   27    28   27    27"
      ]
     },
     "execution_count": 2,
     "metadata": {},
     "output_type": "execute_result"
    }
   ],
   "source": [
    "# Read in Yankees and Mets team ranks data\n",
    "yanks_mets_df = pd.read_csv('Resources/Data/yankees_mets_ranks.csv')\n",
    "yanks_mets_df"
   ]
  },
  {
   "cell_type": "markdown",
   "id": "3b26951d",
   "metadata": {},
   "source": [
    "## Viz"
   ]
  },
  {
   "cell_type": "code",
   "execution_count": 3,
   "id": "63ebba5f",
   "metadata": {},
   "outputs": [],
   "source": [
    "# Create variables for use in chart\n",
    "\n",
    "# Data variables\n",
    "x = list(yanks_mets_df.columns)[1:]\n",
    "y1 = list(yanks_mets_df.loc[yanks_mets_df['Team'] == 'Mets'].values[0])[1:]\n",
    "y2 = list(yanks_mets_df.loc[yanks_mets_df['Team'] == 'Yankees'].values[0])[1:]\n",
    "text1 = ['<b>#' + str(rank) + '</b>' for rank in list(yanks_mets_df.loc[0][1:])]\n",
    "text2 = ['<b>#' + str(rank) + '</b>' for rank in list(yanks_mets_df.loc[1][1:])]\n",
    "\n",
    "\n",
    "# Color variables\n",
    "navy = '#0C2340'\n",
    "gray = '#C4CED3'\n",
    "orange = '#FF5910'\n",
    "blue = '#002D72'"
   ]
  },
  {
   "cell_type": "code",
   "execution_count": 23,
   "id": "d456b243",
   "metadata": {},
   "outputs": [
    {
     "data": {
      "application/vnd.plotly.v1+json": {
       "config": {
        "plotlyServerURL": "https://plotly.com"
       },
       "data": [
        {
         "insidetextanchor": "end",
         "marker": {
          "color": "#FF5910",
          "line": {
           "width": 0
          }
         },
         "name": "<b>Mets</b>",
         "text": [
          "<b>#5</b>",
          "<b>#7</b>",
          "<b>#6</b>",
          "<b>#5</b>",
          "<b>#9</b>",
          "<b>#6</b>"
         ],
         "textfont": {
          "color": "#002D72",
          "size": 16
         },
         "type": "bar",
         "x": [
          "AVG",
          "OPS",
          "ERA",
          "WHIP",
          "BAA",
          "FPCT"
         ],
         "y": [
          25,
          23,
          24,
          25,
          21,
          24
         ]
        },
        {
         "insidetextanchor": "end",
         "marker": {
          "color": "#0C2340",
          "line": {
           "width": 0
          }
         },
         "name": "<b>Yankees</b>",
         "text": [
          "<b>#16</b>",
          "<b>#3</b>",
          "<b>#3</b>",
          "<b>#2</b>",
          "<b>#3</b>",
          "<b>#3</b>"
         ],
         "textfont": {
          "color": "white",
          "size": 16
         },
         "type": "bar",
         "x": [
          "AVG",
          "OPS",
          "ERA",
          "WHIP",
          "BAA",
          "FPCT"
         ],
         "y": [
          14,
          27,
          27,
          28,
          27,
          27
         ]
        }
       ],
       "layout": {
        "bargap": 0.25,
        "bargroupgap": 0,
        "barmode": "group",
        "legend": {
         "bgcolor": "rgb(235,235,235)",
         "bordercolor": "#0C2340",
         "borderwidth": 2,
         "font": {
          "color": "#0C2340",
          "size": 20
         },
         "orientation": "h",
         "x": 0.33,
         "xanchor": "left",
         "y": 1.136,
         "yanchor": "top"
        },
        "margin": {
         "pad": 5,
         "t": 110
        },
        "paper_bgcolor": "white",
        "plot_bgcolor": "white",
        "shapes": [
         {
          "line": {
           "color": "#0C2340",
           "dash": "solid",
           "width": 2
          },
          "type": "line",
          "x0": 1.5,
          "x1": 1.5,
          "xref": "x",
          "y0": -0.21,
          "y1": 0.985,
          "yref": "y domain"
         },
         {
          "line": {
           "color": "#0C2340",
           "dash": "solid",
           "width": 2
          },
          "type": "line",
          "x0": 4.5,
          "x1": 4.5,
          "xref": "x",
          "y0": -0.21,
          "y1": 0.985,
          "yref": "y domain"
         }
        ],
        "template": {
         "data": {
          "bar": [
           {
            "error_x": {
             "color": "#2a3f5f"
            },
            "error_y": {
             "color": "#2a3f5f"
            },
            "marker": {
             "line": {
              "color": "#E5ECF6",
              "width": 0.5
             },
             "pattern": {
              "fillmode": "overlay",
              "size": 10,
              "solidity": 0.2
             }
            },
            "type": "bar"
           }
          ],
          "barpolar": [
           {
            "marker": {
             "line": {
              "color": "#E5ECF6",
              "width": 0.5
             },
             "pattern": {
              "fillmode": "overlay",
              "size": 10,
              "solidity": 0.2
             }
            },
            "type": "barpolar"
           }
          ],
          "carpet": [
           {
            "aaxis": {
             "endlinecolor": "#2a3f5f",
             "gridcolor": "white",
             "linecolor": "white",
             "minorgridcolor": "white",
             "startlinecolor": "#2a3f5f"
            },
            "baxis": {
             "endlinecolor": "#2a3f5f",
             "gridcolor": "white",
             "linecolor": "white",
             "minorgridcolor": "white",
             "startlinecolor": "#2a3f5f"
            },
            "type": "carpet"
           }
          ],
          "choropleth": [
           {
            "colorbar": {
             "outlinewidth": 0,
             "ticks": ""
            },
            "type": "choropleth"
           }
          ],
          "contour": [
           {
            "colorbar": {
             "outlinewidth": 0,
             "ticks": ""
            },
            "colorscale": [
             [
              0,
              "#0d0887"
             ],
             [
              0.1111111111111111,
              "#46039f"
             ],
             [
              0.2222222222222222,
              "#7201a8"
             ],
             [
              0.3333333333333333,
              "#9c179e"
             ],
             [
              0.4444444444444444,
              "#bd3786"
             ],
             [
              0.5555555555555556,
              "#d8576b"
             ],
             [
              0.6666666666666666,
              "#ed7953"
             ],
             [
              0.7777777777777778,
              "#fb9f3a"
             ],
             [
              0.8888888888888888,
              "#fdca26"
             ],
             [
              1,
              "#f0f921"
             ]
            ],
            "type": "contour"
           }
          ],
          "contourcarpet": [
           {
            "colorbar": {
             "outlinewidth": 0,
             "ticks": ""
            },
            "type": "contourcarpet"
           }
          ],
          "heatmap": [
           {
            "colorbar": {
             "outlinewidth": 0,
             "ticks": ""
            },
            "colorscale": [
             [
              0,
              "#0d0887"
             ],
             [
              0.1111111111111111,
              "#46039f"
             ],
             [
              0.2222222222222222,
              "#7201a8"
             ],
             [
              0.3333333333333333,
              "#9c179e"
             ],
             [
              0.4444444444444444,
              "#bd3786"
             ],
             [
              0.5555555555555556,
              "#d8576b"
             ],
             [
              0.6666666666666666,
              "#ed7953"
             ],
             [
              0.7777777777777778,
              "#fb9f3a"
             ],
             [
              0.8888888888888888,
              "#fdca26"
             ],
             [
              1,
              "#f0f921"
             ]
            ],
            "type": "heatmap"
           }
          ],
          "heatmapgl": [
           {
            "colorbar": {
             "outlinewidth": 0,
             "ticks": ""
            },
            "colorscale": [
             [
              0,
              "#0d0887"
             ],
             [
              0.1111111111111111,
              "#46039f"
             ],
             [
              0.2222222222222222,
              "#7201a8"
             ],
             [
              0.3333333333333333,
              "#9c179e"
             ],
             [
              0.4444444444444444,
              "#bd3786"
             ],
             [
              0.5555555555555556,
              "#d8576b"
             ],
             [
              0.6666666666666666,
              "#ed7953"
             ],
             [
              0.7777777777777778,
              "#fb9f3a"
             ],
             [
              0.8888888888888888,
              "#fdca26"
             ],
             [
              1,
              "#f0f921"
             ]
            ],
            "type": "heatmapgl"
           }
          ],
          "histogram": [
           {
            "marker": {
             "pattern": {
              "fillmode": "overlay",
              "size": 10,
              "solidity": 0.2
             }
            },
            "type": "histogram"
           }
          ],
          "histogram2d": [
           {
            "colorbar": {
             "outlinewidth": 0,
             "ticks": ""
            },
            "colorscale": [
             [
              0,
              "#0d0887"
             ],
             [
              0.1111111111111111,
              "#46039f"
             ],
             [
              0.2222222222222222,
              "#7201a8"
             ],
             [
              0.3333333333333333,
              "#9c179e"
             ],
             [
              0.4444444444444444,
              "#bd3786"
             ],
             [
              0.5555555555555556,
              "#d8576b"
             ],
             [
              0.6666666666666666,
              "#ed7953"
             ],
             [
              0.7777777777777778,
              "#fb9f3a"
             ],
             [
              0.8888888888888888,
              "#fdca26"
             ],
             [
              1,
              "#f0f921"
             ]
            ],
            "type": "histogram2d"
           }
          ],
          "histogram2dcontour": [
           {
            "colorbar": {
             "outlinewidth": 0,
             "ticks": ""
            },
            "colorscale": [
             [
              0,
              "#0d0887"
             ],
             [
              0.1111111111111111,
              "#46039f"
             ],
             [
              0.2222222222222222,
              "#7201a8"
             ],
             [
              0.3333333333333333,
              "#9c179e"
             ],
             [
              0.4444444444444444,
              "#bd3786"
             ],
             [
              0.5555555555555556,
              "#d8576b"
             ],
             [
              0.6666666666666666,
              "#ed7953"
             ],
             [
              0.7777777777777778,
              "#fb9f3a"
             ],
             [
              0.8888888888888888,
              "#fdca26"
             ],
             [
              1,
              "#f0f921"
             ]
            ],
            "type": "histogram2dcontour"
           }
          ],
          "mesh3d": [
           {
            "colorbar": {
             "outlinewidth": 0,
             "ticks": ""
            },
            "type": "mesh3d"
           }
          ],
          "parcoords": [
           {
            "line": {
             "colorbar": {
              "outlinewidth": 0,
              "ticks": ""
             }
            },
            "type": "parcoords"
           }
          ],
          "pie": [
           {
            "automargin": true,
            "type": "pie"
           }
          ],
          "scatter": [
           {
            "fillpattern": {
             "fillmode": "overlay",
             "size": 10,
             "solidity": 0.2
            },
            "type": "scatter"
           }
          ],
          "scatter3d": [
           {
            "line": {
             "colorbar": {
              "outlinewidth": 0,
              "ticks": ""
             }
            },
            "marker": {
             "colorbar": {
              "outlinewidth": 0,
              "ticks": ""
             }
            },
            "type": "scatter3d"
           }
          ],
          "scattercarpet": [
           {
            "marker": {
             "colorbar": {
              "outlinewidth": 0,
              "ticks": ""
             }
            },
            "type": "scattercarpet"
           }
          ],
          "scattergeo": [
           {
            "marker": {
             "colorbar": {
              "outlinewidth": 0,
              "ticks": ""
             }
            },
            "type": "scattergeo"
           }
          ],
          "scattergl": [
           {
            "marker": {
             "colorbar": {
              "outlinewidth": 0,
              "ticks": ""
             }
            },
            "type": "scattergl"
           }
          ],
          "scattermapbox": [
           {
            "marker": {
             "colorbar": {
              "outlinewidth": 0,
              "ticks": ""
             }
            },
            "type": "scattermapbox"
           }
          ],
          "scatterpolar": [
           {
            "marker": {
             "colorbar": {
              "outlinewidth": 0,
              "ticks": ""
             }
            },
            "type": "scatterpolar"
           }
          ],
          "scatterpolargl": [
           {
            "marker": {
             "colorbar": {
              "outlinewidth": 0,
              "ticks": ""
             }
            },
            "type": "scatterpolargl"
           }
          ],
          "scatterternary": [
           {
            "marker": {
             "colorbar": {
              "outlinewidth": 0,
              "ticks": ""
             }
            },
            "type": "scatterternary"
           }
          ],
          "surface": [
           {
            "colorbar": {
             "outlinewidth": 0,
             "ticks": ""
            },
            "colorscale": [
             [
              0,
              "#0d0887"
             ],
             [
              0.1111111111111111,
              "#46039f"
             ],
             [
              0.2222222222222222,
              "#7201a8"
             ],
             [
              0.3333333333333333,
              "#9c179e"
             ],
             [
              0.4444444444444444,
              "#bd3786"
             ],
             [
              0.5555555555555556,
              "#d8576b"
             ],
             [
              0.6666666666666666,
              "#ed7953"
             ],
             [
              0.7777777777777778,
              "#fb9f3a"
             ],
             [
              0.8888888888888888,
              "#fdca26"
             ],
             [
              1,
              "#f0f921"
             ]
            ],
            "type": "surface"
           }
          ],
          "table": [
           {
            "cells": {
             "fill": {
              "color": "#EBF0F8"
             },
             "line": {
              "color": "white"
             }
            },
            "header": {
             "fill": {
              "color": "#C8D4E3"
             },
             "line": {
              "color": "white"
             }
            },
            "type": "table"
           }
          ]
         },
         "layout": {
          "annotationdefaults": {
           "arrowcolor": "#2a3f5f",
           "arrowhead": 0,
           "arrowwidth": 1
          },
          "autotypenumbers": "strict",
          "coloraxis": {
           "colorbar": {
            "outlinewidth": 0,
            "ticks": ""
           }
          },
          "colorscale": {
           "diverging": [
            [
             0,
             "#8e0152"
            ],
            [
             0.1,
             "#c51b7d"
            ],
            [
             0.2,
             "#de77ae"
            ],
            [
             0.3,
             "#f1b6da"
            ],
            [
             0.4,
             "#fde0ef"
            ],
            [
             0.5,
             "#f7f7f7"
            ],
            [
             0.6,
             "#e6f5d0"
            ],
            [
             0.7,
             "#b8e186"
            ],
            [
             0.8,
             "#7fbc41"
            ],
            [
             0.9,
             "#4d9221"
            ],
            [
             1,
             "#276419"
            ]
           ],
           "sequential": [
            [
             0,
             "#0d0887"
            ],
            [
             0.1111111111111111,
             "#46039f"
            ],
            [
             0.2222222222222222,
             "#7201a8"
            ],
            [
             0.3333333333333333,
             "#9c179e"
            ],
            [
             0.4444444444444444,
             "#bd3786"
            ],
            [
             0.5555555555555556,
             "#d8576b"
            ],
            [
             0.6666666666666666,
             "#ed7953"
            ],
            [
             0.7777777777777778,
             "#fb9f3a"
            ],
            [
             0.8888888888888888,
             "#fdca26"
            ],
            [
             1,
             "#f0f921"
            ]
           ],
           "sequentialminus": [
            [
             0,
             "#0d0887"
            ],
            [
             0.1111111111111111,
             "#46039f"
            ],
            [
             0.2222222222222222,
             "#7201a8"
            ],
            [
             0.3333333333333333,
             "#9c179e"
            ],
            [
             0.4444444444444444,
             "#bd3786"
            ],
            [
             0.5555555555555556,
             "#d8576b"
            ],
            [
             0.6666666666666666,
             "#ed7953"
            ],
            [
             0.7777777777777778,
             "#fb9f3a"
            ],
            [
             0.8888888888888888,
             "#fdca26"
            ],
            [
             1,
             "#f0f921"
            ]
           ]
          },
          "colorway": [
           "#636efa",
           "#EF553B",
           "#00cc96",
           "#ab63fa",
           "#FFA15A",
           "#19d3f3",
           "#FF6692",
           "#B6E880",
           "#FF97FF",
           "#FECB52"
          ],
          "font": {
           "color": "#2a3f5f"
          },
          "geo": {
           "bgcolor": "white",
           "lakecolor": "white",
           "landcolor": "#E5ECF6",
           "showlakes": true,
           "showland": true,
           "subunitcolor": "white"
          },
          "hoverlabel": {
           "align": "left"
          },
          "hovermode": "closest",
          "mapbox": {
           "style": "light"
          },
          "paper_bgcolor": "white",
          "plot_bgcolor": "#E5ECF6",
          "polar": {
           "angularaxis": {
            "gridcolor": "white",
            "linecolor": "white",
            "ticks": ""
           },
           "bgcolor": "#E5ECF6",
           "radialaxis": {
            "gridcolor": "white",
            "linecolor": "white",
            "ticks": ""
           }
          },
          "scene": {
           "xaxis": {
            "backgroundcolor": "#E5ECF6",
            "gridcolor": "white",
            "gridwidth": 2,
            "linecolor": "white",
            "showbackground": true,
            "ticks": "",
            "zerolinecolor": "white"
           },
           "yaxis": {
            "backgroundcolor": "#E5ECF6",
            "gridcolor": "white",
            "gridwidth": 2,
            "linecolor": "white",
            "showbackground": true,
            "ticks": "",
            "zerolinecolor": "white"
           },
           "zaxis": {
            "backgroundcolor": "#E5ECF6",
            "gridcolor": "white",
            "gridwidth": 2,
            "linecolor": "white",
            "showbackground": true,
            "ticks": "",
            "zerolinecolor": "white"
           }
          },
          "shapedefaults": {
           "line": {
            "color": "#2a3f5f"
           }
          },
          "ternary": {
           "aaxis": {
            "gridcolor": "white",
            "linecolor": "white",
            "ticks": ""
           },
           "baxis": {
            "gridcolor": "white",
            "linecolor": "white",
            "ticks": ""
           },
           "bgcolor": "#E5ECF6",
           "caxis": {
            "gridcolor": "white",
            "linecolor": "white",
            "ticks": ""
           }
          },
          "title": {
           "x": 0.05
          },
          "xaxis": {
           "automargin": true,
           "gridcolor": "white",
           "linecolor": "white",
           "ticks": "",
           "title": {
            "standoff": 15
           },
           "zerolinecolor": "white",
           "zerolinewidth": 2
          },
          "yaxis": {
           "automargin": true,
           "gridcolor": "white",
           "linecolor": "white",
           "ticks": "",
           "title": {
            "standoff": 15
           },
           "zerolinecolor": "white",
           "zerolinewidth": 2
          }
         }
        },
        "title": {
         "font": {
          "color": "#0C2340",
          "size": 30
         },
         "text": "<b>Battle for the Big Apple</b><br>",
         "x": 0.5,
         "xanchor": "center",
         "y": 0.9,
         "yanchor": "top"
        },
        "xaxis": {
         "showgrid": false,
         "tickfont": {
          "color": "#0C2340",
          "size": 20
         },
         "tickmode": "array",
         "ticktext": [
          "<b>AVG</b>",
          "<b>OPS</b>",
          "<b>ERA</b>",
          "<b>WHIP</b>",
          "<b>BAA</b>",
          "<b>FPCT</b>"
         ],
         "tickvals": [
          "AVG",
          "OPS",
          "ERA",
          "WHIP",
          "BAA",
          "FPCT"
         ],
         "title": {
          "font": {
           "color": "#0C2340",
           "size": 26
          },
          "text": "<b>        Batting                        Pitching                 Fielding</b>"
         }
        },
        "yaxis": {
         "gridcolor": "rgb(235,235,235)",
         "gridwidth": 2,
         "range": [
          0,
          29.5
         ],
         "tickfont": {
          "color": "#0C2340",
          "size": 20
         },
         "tickmode": "array",
         "ticktext": [
          "<b>30</b>",
          "<b>25</b>",
          "<b>20</b>",
          "<b>15</b>",
          "<b>10</b>",
          "<b>5</b>",
          "<b>1</b>"
         ],
         "tickvals": [
          0,
          5,
          10,
          15,
          20,
          25,
          29
         ],
         "title": {
          "font": {
           "color": "#0C2340",
           "size": 26
          },
          "text": "<br><b>MLB Rank</b>"
         },
         "zerolinecolor": "rgb(235,235,235)",
         "zerolinewidth": 2
        }
       }
      },
      "text/html": [
       "<div>                            <div id=\"1c50fb73-0df0-4fc1-b676-fd1298fa3724\" class=\"plotly-graph-div\" style=\"height:525px; width:100%;\"></div>            <script type=\"text/javascript\">                require([\"plotly\"], function(Plotly) {                    window.PLOTLYENV=window.PLOTLYENV || {};                                    if (document.getElementById(\"1c50fb73-0df0-4fc1-b676-fd1298fa3724\")) {                    Plotly.newPlot(                        \"1c50fb73-0df0-4fc1-b676-fd1298fa3724\",                        [{\"insidetextanchor\":\"end\",\"marker\":{\"color\":\"#FF5910\",\"line\":{\"width\":0}},\"name\":\"<b>Mets</b>\",\"text\":[\"<b>#5</b>\",\"<b>#7</b>\",\"<b>#6</b>\",\"<b>#5</b>\",\"<b>#9</b>\",\"<b>#6</b>\"],\"x\":[\"AVG\",\"OPS\",\"ERA\",\"WHIP\",\"BAA\",\"FPCT\"],\"y\":[25,23,24,25,21,24],\"type\":\"bar\",\"textfont\":{\"color\":\"#002D72\",\"size\":16}},{\"insidetextanchor\":\"end\",\"marker\":{\"color\":\"#0C2340\",\"line\":{\"width\":0}},\"name\":\"<b>Yankees</b>\",\"text\":[\"<b>#16</b>\",\"<b>#3</b>\",\"<b>#3</b>\",\"<b>#2</b>\",\"<b>#3</b>\",\"<b>#3</b>\"],\"x\":[\"AVG\",\"OPS\",\"ERA\",\"WHIP\",\"BAA\",\"FPCT\"],\"y\":[14,27,27,28,27,27],\"type\":\"bar\",\"textfont\":{\"color\":\"white\",\"size\":16}}],                        {\"template\":{\"data\":{\"histogram2dcontour\":[{\"type\":\"histogram2dcontour\",\"colorbar\":{\"outlinewidth\":0,\"ticks\":\"\"},\"colorscale\":[[0.0,\"#0d0887\"],[0.1111111111111111,\"#46039f\"],[0.2222222222222222,\"#7201a8\"],[0.3333333333333333,\"#9c179e\"],[0.4444444444444444,\"#bd3786\"],[0.5555555555555556,\"#d8576b\"],[0.6666666666666666,\"#ed7953\"],[0.7777777777777778,\"#fb9f3a\"],[0.8888888888888888,\"#fdca26\"],[1.0,\"#f0f921\"]]}],\"choropleth\":[{\"type\":\"choropleth\",\"colorbar\":{\"outlinewidth\":0,\"ticks\":\"\"}}],\"histogram2d\":[{\"type\":\"histogram2d\",\"colorbar\":{\"outlinewidth\":0,\"ticks\":\"\"},\"colorscale\":[[0.0,\"#0d0887\"],[0.1111111111111111,\"#46039f\"],[0.2222222222222222,\"#7201a8\"],[0.3333333333333333,\"#9c179e\"],[0.4444444444444444,\"#bd3786\"],[0.5555555555555556,\"#d8576b\"],[0.6666666666666666,\"#ed7953\"],[0.7777777777777778,\"#fb9f3a\"],[0.8888888888888888,\"#fdca26\"],[1.0,\"#f0f921\"]]}],\"heatmap\":[{\"type\":\"heatmap\",\"colorbar\":{\"outlinewidth\":0,\"ticks\":\"\"},\"colorscale\":[[0.0,\"#0d0887\"],[0.1111111111111111,\"#46039f\"],[0.2222222222222222,\"#7201a8\"],[0.3333333333333333,\"#9c179e\"],[0.4444444444444444,\"#bd3786\"],[0.5555555555555556,\"#d8576b\"],[0.6666666666666666,\"#ed7953\"],[0.7777777777777778,\"#fb9f3a\"],[0.8888888888888888,\"#fdca26\"],[1.0,\"#f0f921\"]]}],\"heatmapgl\":[{\"type\":\"heatmapgl\",\"colorbar\":{\"outlinewidth\":0,\"ticks\":\"\"},\"colorscale\":[[0.0,\"#0d0887\"],[0.1111111111111111,\"#46039f\"],[0.2222222222222222,\"#7201a8\"],[0.3333333333333333,\"#9c179e\"],[0.4444444444444444,\"#bd3786\"],[0.5555555555555556,\"#d8576b\"],[0.6666666666666666,\"#ed7953\"],[0.7777777777777778,\"#fb9f3a\"],[0.8888888888888888,\"#fdca26\"],[1.0,\"#f0f921\"]]}],\"contourcarpet\":[{\"type\":\"contourcarpet\",\"colorbar\":{\"outlinewidth\":0,\"ticks\":\"\"}}],\"contour\":[{\"type\":\"contour\",\"colorbar\":{\"outlinewidth\":0,\"ticks\":\"\"},\"colorscale\":[[0.0,\"#0d0887\"],[0.1111111111111111,\"#46039f\"],[0.2222222222222222,\"#7201a8\"],[0.3333333333333333,\"#9c179e\"],[0.4444444444444444,\"#bd3786\"],[0.5555555555555556,\"#d8576b\"],[0.6666666666666666,\"#ed7953\"],[0.7777777777777778,\"#fb9f3a\"],[0.8888888888888888,\"#fdca26\"],[1.0,\"#f0f921\"]]}],\"surface\":[{\"type\":\"surface\",\"colorbar\":{\"outlinewidth\":0,\"ticks\":\"\"},\"colorscale\":[[0.0,\"#0d0887\"],[0.1111111111111111,\"#46039f\"],[0.2222222222222222,\"#7201a8\"],[0.3333333333333333,\"#9c179e\"],[0.4444444444444444,\"#bd3786\"],[0.5555555555555556,\"#d8576b\"],[0.6666666666666666,\"#ed7953\"],[0.7777777777777778,\"#fb9f3a\"],[0.8888888888888888,\"#fdca26\"],[1.0,\"#f0f921\"]]}],\"mesh3d\":[{\"type\":\"mesh3d\",\"colorbar\":{\"outlinewidth\":0,\"ticks\":\"\"}}],\"scatter\":[{\"fillpattern\":{\"fillmode\":\"overlay\",\"size\":10,\"solidity\":0.2},\"type\":\"scatter\"}],\"parcoords\":[{\"type\":\"parcoords\",\"line\":{\"colorbar\":{\"outlinewidth\":0,\"ticks\":\"\"}}}],\"scatterpolargl\":[{\"type\":\"scatterpolargl\",\"marker\":{\"colorbar\":{\"outlinewidth\":0,\"ticks\":\"\"}}}],\"bar\":[{\"error_x\":{\"color\":\"#2a3f5f\"},\"error_y\":{\"color\":\"#2a3f5f\"},\"marker\":{\"line\":{\"color\":\"#E5ECF6\",\"width\":0.5},\"pattern\":{\"fillmode\":\"overlay\",\"size\":10,\"solidity\":0.2}},\"type\":\"bar\"}],\"scattergeo\":[{\"type\":\"scattergeo\",\"marker\":{\"colorbar\":{\"outlinewidth\":0,\"ticks\":\"\"}}}],\"scatterpolar\":[{\"type\":\"scatterpolar\",\"marker\":{\"colorbar\":{\"outlinewidth\":0,\"ticks\":\"\"}}}],\"histogram\":[{\"marker\":{\"pattern\":{\"fillmode\":\"overlay\",\"size\":10,\"solidity\":0.2}},\"type\":\"histogram\"}],\"scattergl\":[{\"type\":\"scattergl\",\"marker\":{\"colorbar\":{\"outlinewidth\":0,\"ticks\":\"\"}}}],\"scatter3d\":[{\"type\":\"scatter3d\",\"line\":{\"colorbar\":{\"outlinewidth\":0,\"ticks\":\"\"}},\"marker\":{\"colorbar\":{\"outlinewidth\":0,\"ticks\":\"\"}}}],\"scattermapbox\":[{\"type\":\"scattermapbox\",\"marker\":{\"colorbar\":{\"outlinewidth\":0,\"ticks\":\"\"}}}],\"scatterternary\":[{\"type\":\"scatterternary\",\"marker\":{\"colorbar\":{\"outlinewidth\":0,\"ticks\":\"\"}}}],\"scattercarpet\":[{\"type\":\"scattercarpet\",\"marker\":{\"colorbar\":{\"outlinewidth\":0,\"ticks\":\"\"}}}],\"carpet\":[{\"aaxis\":{\"endlinecolor\":\"#2a3f5f\",\"gridcolor\":\"white\",\"linecolor\":\"white\",\"minorgridcolor\":\"white\",\"startlinecolor\":\"#2a3f5f\"},\"baxis\":{\"endlinecolor\":\"#2a3f5f\",\"gridcolor\":\"white\",\"linecolor\":\"white\",\"minorgridcolor\":\"white\",\"startlinecolor\":\"#2a3f5f\"},\"type\":\"carpet\"}],\"table\":[{\"cells\":{\"fill\":{\"color\":\"#EBF0F8\"},\"line\":{\"color\":\"white\"}},\"header\":{\"fill\":{\"color\":\"#C8D4E3\"},\"line\":{\"color\":\"white\"}},\"type\":\"table\"}],\"barpolar\":[{\"marker\":{\"line\":{\"color\":\"#E5ECF6\",\"width\":0.5},\"pattern\":{\"fillmode\":\"overlay\",\"size\":10,\"solidity\":0.2}},\"type\":\"barpolar\"}],\"pie\":[{\"automargin\":true,\"type\":\"pie\"}]},\"layout\":{\"autotypenumbers\":\"strict\",\"colorway\":[\"#636efa\",\"#EF553B\",\"#00cc96\",\"#ab63fa\",\"#FFA15A\",\"#19d3f3\",\"#FF6692\",\"#B6E880\",\"#FF97FF\",\"#FECB52\"],\"font\":{\"color\":\"#2a3f5f\"},\"hovermode\":\"closest\",\"hoverlabel\":{\"align\":\"left\"},\"paper_bgcolor\":\"white\",\"plot_bgcolor\":\"#E5ECF6\",\"polar\":{\"bgcolor\":\"#E5ECF6\",\"angularaxis\":{\"gridcolor\":\"white\",\"linecolor\":\"white\",\"ticks\":\"\"},\"radialaxis\":{\"gridcolor\":\"white\",\"linecolor\":\"white\",\"ticks\":\"\"}},\"ternary\":{\"bgcolor\":\"#E5ECF6\",\"aaxis\":{\"gridcolor\":\"white\",\"linecolor\":\"white\",\"ticks\":\"\"},\"baxis\":{\"gridcolor\":\"white\",\"linecolor\":\"white\",\"ticks\":\"\"},\"caxis\":{\"gridcolor\":\"white\",\"linecolor\":\"white\",\"ticks\":\"\"}},\"coloraxis\":{\"colorbar\":{\"outlinewidth\":0,\"ticks\":\"\"}},\"colorscale\":{\"sequential\":[[0.0,\"#0d0887\"],[0.1111111111111111,\"#46039f\"],[0.2222222222222222,\"#7201a8\"],[0.3333333333333333,\"#9c179e\"],[0.4444444444444444,\"#bd3786\"],[0.5555555555555556,\"#d8576b\"],[0.6666666666666666,\"#ed7953\"],[0.7777777777777778,\"#fb9f3a\"],[0.8888888888888888,\"#fdca26\"],[1.0,\"#f0f921\"]],\"sequentialminus\":[[0.0,\"#0d0887\"],[0.1111111111111111,\"#46039f\"],[0.2222222222222222,\"#7201a8\"],[0.3333333333333333,\"#9c179e\"],[0.4444444444444444,\"#bd3786\"],[0.5555555555555556,\"#d8576b\"],[0.6666666666666666,\"#ed7953\"],[0.7777777777777778,\"#fb9f3a\"],[0.8888888888888888,\"#fdca26\"],[1.0,\"#f0f921\"]],\"diverging\":[[0,\"#8e0152\"],[0.1,\"#c51b7d\"],[0.2,\"#de77ae\"],[0.3,\"#f1b6da\"],[0.4,\"#fde0ef\"],[0.5,\"#f7f7f7\"],[0.6,\"#e6f5d0\"],[0.7,\"#b8e186\"],[0.8,\"#7fbc41\"],[0.9,\"#4d9221\"],[1,\"#276419\"]]},\"xaxis\":{\"gridcolor\":\"white\",\"linecolor\":\"white\",\"ticks\":\"\",\"title\":{\"standoff\":15},\"zerolinecolor\":\"white\",\"automargin\":true,\"zerolinewidth\":2},\"yaxis\":{\"gridcolor\":\"white\",\"linecolor\":\"white\",\"ticks\":\"\",\"title\":{\"standoff\":15},\"zerolinecolor\":\"white\",\"automargin\":true,\"zerolinewidth\":2},\"scene\":{\"xaxis\":{\"backgroundcolor\":\"#E5ECF6\",\"gridcolor\":\"white\",\"linecolor\":\"white\",\"showbackground\":true,\"ticks\":\"\",\"zerolinecolor\":\"white\",\"gridwidth\":2},\"yaxis\":{\"backgroundcolor\":\"#E5ECF6\",\"gridcolor\":\"white\",\"linecolor\":\"white\",\"showbackground\":true,\"ticks\":\"\",\"zerolinecolor\":\"white\",\"gridwidth\":2},\"zaxis\":{\"backgroundcolor\":\"#E5ECF6\",\"gridcolor\":\"white\",\"linecolor\":\"white\",\"showbackground\":true,\"ticks\":\"\",\"zerolinecolor\":\"white\",\"gridwidth\":2}},\"shapedefaults\":{\"line\":{\"color\":\"#2a3f5f\"}},\"annotationdefaults\":{\"arrowcolor\":\"#2a3f5f\",\"arrowhead\":0,\"arrowwidth\":1},\"geo\":{\"bgcolor\":\"white\",\"landcolor\":\"#E5ECF6\",\"subunitcolor\":\"white\",\"showland\":true,\"showlakes\":true,\"lakecolor\":\"white\"},\"title\":{\"x\":0.05},\"mapbox\":{\"style\":\"light\"}}},\"shapes\":[{\"line\":{\"color\":\"#0C2340\",\"dash\":\"solid\",\"width\":2},\"type\":\"line\",\"x0\":1.5,\"x1\":1.5,\"xref\":\"x\",\"y0\":-0.21,\"y1\":0.985,\"yref\":\"y domain\"},{\"line\":{\"color\":\"#0C2340\",\"dash\":\"solid\",\"width\":2},\"type\":\"line\",\"x0\":4.5,\"x1\":4.5,\"xref\":\"x\",\"y0\":-0.21,\"y1\":0.985,\"yref\":\"y domain\"}],\"xaxis\":{\"title\":{\"font\":{\"size\":26,\"color\":\"#0C2340\"},\"text\":\"<b>        Batting                        Pitching                 Fielding</b>\"},\"tickfont\":{\"size\":20,\"color\":\"#0C2340\"},\"tickmode\":\"array\",\"ticktext\":[\"<b>AVG</b>\",\"<b>OPS</b>\",\"<b>ERA</b>\",\"<b>WHIP</b>\",\"<b>BAA</b>\",\"<b>FPCT</b>\"],\"tickvals\":[\"AVG\",\"OPS\",\"ERA\",\"WHIP\",\"BAA\",\"FPCT\"],\"showgrid\":false},\"yaxis\":{\"title\":{\"font\":{\"size\":26,\"color\":\"#0C2340\"},\"text\":\"<br><b>MLB Rank</b>\"},\"tickfont\":{\"size\":20,\"color\":\"#0C2340\"},\"tickmode\":\"array\",\"ticktext\":[\"<b>30</b>\",\"<b>25</b>\",\"<b>20</b>\",\"<b>15</b>\",\"<b>10</b>\",\"<b>5</b>\",\"<b>1</b>\"],\"tickvals\":[0,5,10,15,20,25,29],\"gridcolor\":\"rgb(235,235,235)\",\"gridwidth\":2,\"zerolinecolor\":\"rgb(235,235,235)\",\"zerolinewidth\":2,\"range\":[0,29.5]},\"title\":{\"font\":{\"size\":30,\"color\":\"#0C2340\"},\"text\":\"<b>Battle for the Big Apple</b><br>\",\"y\":0.9,\"x\":0.5,\"xanchor\":\"center\",\"yanchor\":\"top\"},\"legend\":{\"font\":{\"size\":20,\"color\":\"#0C2340\"},\"orientation\":\"h\",\"yanchor\":\"top\",\"y\":1.136,\"xanchor\":\"left\",\"x\":0.33,\"bordercolor\":\"#0C2340\",\"borderwidth\":2,\"bgcolor\":\"rgb(235,235,235)\"},\"margin\":{\"t\":110,\"pad\":5},\"paper_bgcolor\":\"white\",\"plot_bgcolor\":\"white\",\"barmode\":\"group\",\"bargap\":0.25,\"bargroupgap\":0},                        {\"responsive\": true}                    ).then(function(){\n",
       "                            \n",
       "var gd = document.getElementById('1c50fb73-0df0-4fc1-b676-fd1298fa3724');\n",
       "var x = new MutationObserver(function (mutations, observer) {{\n",
       "        var display = window.getComputedStyle(gd).display;\n",
       "        if (!display || display === 'none') {{\n",
       "            console.log([gd, 'removed!']);\n",
       "            Plotly.purge(gd);\n",
       "            observer.disconnect();\n",
       "        }}\n",
       "}});\n",
       "\n",
       "// Listen for the removal of the full notebook cells\n",
       "var notebookContainer = gd.closest('#notebook-container');\n",
       "if (notebookContainer) {{\n",
       "    x.observe(notebookContainer, {childList: true});\n",
       "}}\n",
       "\n",
       "// Listen for the clearing of the current output cell\n",
       "var outputEl = gd.closest('.output');\n",
       "if (outputEl) {{\n",
       "    x.observe(outputEl, {childList: true});\n",
       "}}\n",
       "\n",
       "                        })                };                });            </script>        </div>"
      ]
     },
     "metadata": {},
     "output_type": "display_data"
    }
   ],
   "source": [
    "# Create traces\n",
    "fig = go.Figure()\n",
    "\n",
    "fig.add_trace(go.Bar(x=x, y=y1, name='<b>Mets</b>', text=text1, marker_color=orange, insidetextanchor='end'))\n",
    "\n",
    "fig.add_trace(go.Bar(x=x, y=y2, name='<b>Yankees</b>', text=text2, marker_color=navy, insidetextanchor='end'))\n",
    "\n",
    "\n",
    "\n",
    "# Set text color to white if bar is navy, and navy if bar is white\n",
    "fig.for_each_trace(lambda t: t.update(textfont_color='white') if (t.marker.color == navy) else t.update(textfont_color=blue))\n",
    "\n",
    "\n",
    "# fig.for_each_trace(lambda t: t.update(marker_color=red)\n",
    "#                    if (np.any(['Carpenter', 'LeMahieu', 'Stanton'] == t.x))\n",
    "#                    else t.update(marker_color='white'))\n",
    "\n",
    "#fig.add_vline(x=-0.5, line_width=2, line_dash=\"dash\", line_color=navy)\n",
    "fig.add_vline(x=1.5, y0=-0.21, y1=0.985, line_width=2, line_dash=\"solid\", line_color=navy)\n",
    "fig.add_vline(x=4.5, y0=-0.21, y1=0.985, line_width=2, line_dash=\"solid\", line_color=navy)\n",
    "#fig.add_vline(x=5.5, line_width=2, line_dash=\"dash\", line_color=navy)\n",
    "\n",
    "# fig.add_trace(\n",
    "#     go.Scatter(x=('Donaldson', 'Donaldson'), y=['100']*10, name='MLB Average', mode='lines', line_width=2, line_dash=\"dash\", line_color=gray)\n",
    "# )\n",
    "\n",
    "\n",
    "# Format traces\n",
    "fig.update_traces(\n",
    "    marker=dict(line=dict(width=0)),\n",
    "    textfont=dict(\n",
    "        #color=navy,\n",
    "        size=16)\n",
    ")\n",
    "\n",
    "\n",
    "# Format axes\n",
    "fig.update_xaxes(\n",
    "    title=dict(\n",
    "        text=\"<b>        Batting                        Pitching                 Fielding</b>\",\n",
    "        font=dict(\n",
    "            size=26,\n",
    "            color=navy)),\n",
    "    tickfont=dict(\n",
    "        size=20,\n",
    "        color=navy),\n",
    "    tickmode='array',\n",
    "    ticktext=['<b>' + cat + '</b>' for cat in x],\n",
    "    tickvals=x,\n",
    "    #tickangle=40,\n",
    "    showgrid=False\n",
    ")\n",
    "\n",
    "fig.update_yaxes(\n",
    "    title=dict(\n",
    "        text=\"<br><b>MLB Rank</b>\",\n",
    "        font=dict(\n",
    "            size=26,\n",
    "            color=navy)),\n",
    "    tickfont=dict(\n",
    "        size=20,\n",
    "        color=navy),\n",
    "    tickmode='array',\n",
    "    ticktext=[f'<b>{y}</b>' for y in ['30','25','20','15','10','5','1']],\n",
    "    tickvals=[0, 5, 10, 15, 20, 25, 29],\n",
    "    gridcolor='rgb(235,235,235)',\n",
    "    gridwidth=2,\n",
    "    zerolinecolor='rgb(235,235,235)',\n",
    "    zerolinewidth=2,\n",
    "#     showgrid=False,\n",
    "#     minor=dict(\n",
    "#         tickvals=[50,150,200,250],\n",
    "#         gridcolor='rgb(20,45,75)',\n",
    "#         gridwidth=2)\n",
    ")\n",
    "\n",
    "\n",
    "# Format layout\n",
    "fig.update_layout(\n",
    "    title=dict(\n",
    "        text=\"<b>Battle for the Big Apple</b><br>\",\n",
    "        y=0.9,\n",
    "        x=0.5,\n",
    "        xanchor='center',\n",
    "        yanchor='top',\n",
    "        font=dict(\n",
    "            size=30,\n",
    "            color=navy)),\n",
    "    yaxis_range=[0,29.5],\n",
    "    legend=dict(\n",
    "        orientation='h',\n",
    "        yanchor=\"top\",\n",
    "        y=1.136,\n",
    "        xanchor=\"left\",\n",
    "        x=0.33,\n",
    "        font=dict(\n",
    "            size=20,\n",
    "            color=navy),\n",
    "        bordercolor=navy,\n",
    "        borderwidth=2,\n",
    "        bgcolor='rgb(235,235,235)'),\n",
    "    paper_bgcolor='white',\n",
    "    plot_bgcolor='white',\n",
    "    barmode='group',\n",
    "    bargap=0.25, # gap between bars of adjacent location coordinates.\n",
    "    bargroupgap=0, # gap between bars of the same location coordinate.\n",
    "    margin=dict(t=110, pad=5)\n",
    ")\n",
    "\n",
    "\n",
    "fig.show()"
   ]
  }
 ],
 "metadata": {
  "kernelspec": {
   "display_name": "PythonData",
   "language": "python",
   "name": "pythondata"
  },
  "language_info": {
   "codemirror_mode": {
    "name": "ipython",
    "version": 3
   },
   "file_extension": ".py",
   "mimetype": "text/x-python",
   "name": "python",
   "nbconvert_exporter": "python",
   "pygments_lexer": "ipython3",
   "version": "3.7.11"
  }
 },
 "nbformat": 4,
 "nbformat_minor": 5
}
