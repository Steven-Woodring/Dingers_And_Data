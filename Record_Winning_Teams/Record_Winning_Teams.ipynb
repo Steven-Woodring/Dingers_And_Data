{
 "cells": [
  {
   "cell_type": "code",
   "execution_count": 1,
   "id": "64e83a4f",
   "metadata": {},
   "outputs": [],
   "source": [
    "# Import dependencies\n",
    "import pandas as pd\n",
    "pd.set_option('display.max_columns', 500)\n",
    "\n",
    "import plotly.graph_objects as go\n",
    "import chart_studio.plotly as py"
   ]
  },
  {
   "cell_type": "markdown",
   "id": "2a65a40f",
   "metadata": {},
   "source": [
    "## Data Processing"
   ]
  },
  {
   "cell_type": "code",
   "execution_count": 2,
   "id": "21be86cb",
   "metadata": {},
   "outputs": [
    {
     "data": {
      "text/html": [
       "<div>\n",
       "<style scoped>\n",
       "    .dataframe tbody tr th:only-of-type {\n",
       "        vertical-align: middle;\n",
       "    }\n",
       "\n",
       "    .dataframe tbody tr th {\n",
       "        vertical-align: top;\n",
       "    }\n",
       "\n",
       "    .dataframe thead th {\n",
       "        text-align: right;\n",
       "    }\n",
       "</style>\n",
       "<table border=\"1\" class=\"dataframe\">\n",
       "  <thead>\n",
       "    <tr style=\"text-align: right;\">\n",
       "      <th></th>\n",
       "      <th>Date</th>\n",
       "      <th>H/A</th>\n",
       "      <th>Opp</th>\n",
       "      <th>NYY Win Prob</th>\n",
       "      <th>W/L</th>\n",
       "      <th>NYY Runs</th>\n",
       "      <th>Opp Runs</th>\n",
       "      <th>NYY Starter</th>\n",
       "      <th>Opp Starter</th>\n",
       "    </tr>\n",
       "  </thead>\n",
       "  <tbody>\n",
       "    <tr>\n",
       "      <th>0</th>\n",
       "      <td>4/8/22</td>\n",
       "      <td>vs</td>\n",
       "      <td>BOS</td>\n",
       "      <td>62.30%</td>\n",
       "      <td>W</td>\n",
       "      <td>6</td>\n",
       "      <td>5</td>\n",
       "      <td>Gerrit Cole</td>\n",
       "      <td>Nathan Eovaldi</td>\n",
       "    </tr>\n",
       "    <tr>\n",
       "      <th>1</th>\n",
       "      <td>4/9/22</td>\n",
       "      <td>vs</td>\n",
       "      <td>BOS</td>\n",
       "      <td>58.20%</td>\n",
       "      <td>W</td>\n",
       "      <td>4</td>\n",
       "      <td>2</td>\n",
       "      <td>Luis Severino</td>\n",
       "      <td>Nick Pivetta</td>\n",
       "    </tr>\n",
       "    <tr>\n",
       "      <th>2</th>\n",
       "      <td>4/10/22</td>\n",
       "      <td>vs</td>\n",
       "      <td>BOS</td>\n",
       "      <td>53.60%</td>\n",
       "      <td>L</td>\n",
       "      <td>3</td>\n",
       "      <td>4</td>\n",
       "      <td>Jordan Montgomery</td>\n",
       "      <td>Tanner Houck</td>\n",
       "    </tr>\n",
       "    <tr>\n",
       "      <th>3</th>\n",
       "      <td>4/11/22</td>\n",
       "      <td>vs</td>\n",
       "      <td>TOR</td>\n",
       "      <td>48.50%</td>\n",
       "      <td>L</td>\n",
       "      <td>0</td>\n",
       "      <td>3</td>\n",
       "      <td>Jameson Taillon</td>\n",
       "      <td>Alek Manoah</td>\n",
       "    </tr>\n",
       "    <tr>\n",
       "      <th>4</th>\n",
       "      <td>4/12/22</td>\n",
       "      <td>vs</td>\n",
       "      <td>TOR</td>\n",
       "      <td>51.00%</td>\n",
       "      <td>W</td>\n",
       "      <td>4</td>\n",
       "      <td>0</td>\n",
       "      <td>Nestor Cortes</td>\n",
       "      <td>Yusei Kikuchi</td>\n",
       "    </tr>\n",
       "    <tr>\n",
       "      <th>...</th>\n",
       "      <td>...</td>\n",
       "      <td>...</td>\n",
       "      <td>...</td>\n",
       "      <td>...</td>\n",
       "      <td>...</td>\n",
       "      <td>...</td>\n",
       "      <td>...</td>\n",
       "      <td>...</td>\n",
       "      <td>...</td>\n",
       "    </tr>\n",
       "    <tr>\n",
       "      <th>107</th>\n",
       "      <td>8/6/22</td>\n",
       "      <td>at</td>\n",
       "      <td>STL</td>\n",
       "      <td>44.10%</td>\n",
       "      <td>L</td>\n",
       "      <td>0</td>\n",
       "      <td>1</td>\n",
       "      <td>Domingo Germán</td>\n",
       "      <td>Jordan Montgomery</td>\n",
       "    </tr>\n",
       "    <tr>\n",
       "      <th>108</th>\n",
       "      <td>8/7/22</td>\n",
       "      <td>at</td>\n",
       "      <td>STL</td>\n",
       "      <td>51.10%</td>\n",
       "      <td>L</td>\n",
       "      <td>9</td>\n",
       "      <td>12</td>\n",
       "      <td>Frankie Montas</td>\n",
       "      <td>Adam Wainwright</td>\n",
       "    </tr>\n",
       "    <tr>\n",
       "      <th>109</th>\n",
       "      <td>8/8/22</td>\n",
       "      <td>at</td>\n",
       "      <td>SEA</td>\n",
       "      <td>48.00%</td>\n",
       "      <td>W</td>\n",
       "      <td>9</td>\n",
       "      <td>4</td>\n",
       "      <td>Jameson Taillon</td>\n",
       "      <td>Logan Gilbert</td>\n",
       "    </tr>\n",
       "    <tr>\n",
       "      <th>110</th>\n",
       "      <td>8/9/22</td>\n",
       "      <td>at</td>\n",
       "      <td>SEA</td>\n",
       "      <td>48.90%</td>\n",
       "      <td>L</td>\n",
       "      <td>0</td>\n",
       "      <td>1</td>\n",
       "      <td>Gerrit Cole</td>\n",
       "      <td>Luis Castillo</td>\n",
       "    </tr>\n",
       "    <tr>\n",
       "      <th>111</th>\n",
       "      <td>8/10/22</td>\n",
       "      <td>at</td>\n",
       "      <td>SEA</td>\n",
       "      <td>47.50%</td>\n",
       "      <td>L</td>\n",
       "      <td>3</td>\n",
       "      <td>4</td>\n",
       "      <td>Nestor Cortes</td>\n",
       "      <td>Robbie Ray</td>\n",
       "    </tr>\n",
       "  </tbody>\n",
       "</table>\n",
       "<p>112 rows × 9 columns</p>\n",
       "</div>"
      ],
      "text/plain": [
       "        Date H/A  Opp NYY Win Prob W/L  NYY Runs  Opp Runs        NYY Starter  \\\n",
       "0     4/8/22  vs  BOS       62.30%   W         6         5        Gerrit Cole   \n",
       "1     4/9/22  vs  BOS       58.20%   W         4         2      Luis Severino   \n",
       "2    4/10/22  vs  BOS       53.60%   L         3         4  Jordan Montgomery   \n",
       "3    4/11/22  vs  TOR       48.50%   L         0         3    Jameson Taillon   \n",
       "4    4/12/22  vs  TOR       51.00%   W         4         0      Nestor Cortes   \n",
       "..       ...  ..  ...          ...  ..       ...       ...                ...   \n",
       "107   8/6/22  at  STL       44.10%   L         0         1     Domingo Germán   \n",
       "108   8/7/22  at  STL       51.10%   L         9        12     Frankie Montas   \n",
       "109   8/8/22  at  SEA       48.00%   W         9         4    Jameson Taillon   \n",
       "110   8/9/22  at  SEA       48.90%   L         0         1        Gerrit Cole   \n",
       "111  8/10/22  at  SEA       47.50%   L         3         4      Nestor Cortes   \n",
       "\n",
       "           Opp Starter  \n",
       "0       Nathan Eovaldi  \n",
       "1         Nick Pivetta  \n",
       "2         Tanner Houck  \n",
       "3          Alek Manoah  \n",
       "4        Yusei Kikuchi  \n",
       "..                 ...  \n",
       "107  Jordan Montgomery  \n",
       "108    Adam Wainwright  \n",
       "109      Logan Gilbert  \n",
       "110      Luis Castillo  \n",
       "111         Robbie Ray  \n",
       "\n",
       "[112 rows x 9 columns]"
      ]
     },
     "execution_count": 2,
     "metadata": {},
     "output_type": "execute_result"
    }
   ],
   "source": [
    "# Read in yankees schedule from FanGraphs\n",
    "sched_df = pd.read_csv('Resources/Data/yankees_schedule.csv')\n",
    "sched_df"
   ]
  },
  {
   "cell_type": "code",
   "execution_count": 3,
   "id": "9b2f36e3",
   "metadata": {},
   "outputs": [
    {
     "data": {
      "text/html": [
       "<div>\n",
       "<style scoped>\n",
       "    .dataframe tbody tr th:only-of-type {\n",
       "        vertical-align: middle;\n",
       "    }\n",
       "\n",
       "    .dataframe tbody tr th {\n",
       "        vertical-align: top;\n",
       "    }\n",
       "\n",
       "    .dataframe thead th {\n",
       "        text-align: right;\n",
       "    }\n",
       "</style>\n",
       "<table border=\"1\" class=\"dataframe\">\n",
       "  <thead>\n",
       "    <tr style=\"text-align: right;\">\n",
       "      <th></th>\n",
       "      <th>Date</th>\n",
       "      <th>H/A</th>\n",
       "      <th>Opp</th>\n",
       "      <th>NYY Win Prob</th>\n",
       "      <th>W/L</th>\n",
       "      <th>NYY Runs</th>\n",
       "      <th>Opp Runs</th>\n",
       "      <th>NYY Starter</th>\n",
       "      <th>Opp Starter</th>\n",
       "    </tr>\n",
       "  </thead>\n",
       "  <tbody>\n",
       "    <tr>\n",
       "      <th>3</th>\n",
       "      <td>4/11/22</td>\n",
       "      <td>vs</td>\n",
       "      <td>TOR</td>\n",
       "      <td>48.50%</td>\n",
       "      <td>L</td>\n",
       "      <td>0</td>\n",
       "      <td>3</td>\n",
       "      <td>Jameson Taillon</td>\n",
       "      <td>Alek Manoah</td>\n",
       "    </tr>\n",
       "    <tr>\n",
       "      <th>4</th>\n",
       "      <td>4/12/22</td>\n",
       "      <td>vs</td>\n",
       "      <td>TOR</td>\n",
       "      <td>51.00%</td>\n",
       "      <td>W</td>\n",
       "      <td>4</td>\n",
       "      <td>0</td>\n",
       "      <td>Nestor Cortes</td>\n",
       "      <td>Yusei Kikuchi</td>\n",
       "    </tr>\n",
       "    <tr>\n",
       "      <th>5</th>\n",
       "      <td>4/13/22</td>\n",
       "      <td>vs</td>\n",
       "      <td>TOR</td>\n",
       "      <td>60.30%</td>\n",
       "      <td>L</td>\n",
       "      <td>4</td>\n",
       "      <td>6</td>\n",
       "      <td>Gerrit Cole</td>\n",
       "      <td>José Berríos</td>\n",
       "    </tr>\n",
       "    <tr>\n",
       "      <th>6</th>\n",
       "      <td>4/14/22</td>\n",
       "      <td>vs</td>\n",
       "      <td>TOR</td>\n",
       "      <td>56.20%</td>\n",
       "      <td>W</td>\n",
       "      <td>3</td>\n",
       "      <td>0</td>\n",
       "      <td>Luis Severino</td>\n",
       "      <td>Kevin Gausman</td>\n",
       "    </tr>\n",
       "    <tr>\n",
       "      <th>7</th>\n",
       "      <td>4/15/22</td>\n",
       "      <td>at</td>\n",
       "      <td>BAL</td>\n",
       "      <td>65.40%</td>\n",
       "      <td>L</td>\n",
       "      <td>1</td>\n",
       "      <td>2</td>\n",
       "      <td>Jordan Montgomery</td>\n",
       "      <td>Jordan Lyles</td>\n",
       "    </tr>\n",
       "    <tr>\n",
       "      <th>...</th>\n",
       "      <td>...</td>\n",
       "      <td>...</td>\n",
       "      <td>...</td>\n",
       "      <td>...</td>\n",
       "      <td>...</td>\n",
       "      <td>...</td>\n",
       "      <td>...</td>\n",
       "      <td>...</td>\n",
       "      <td>...</td>\n",
       "    </tr>\n",
       "    <tr>\n",
       "      <th>107</th>\n",
       "      <td>8/6/22</td>\n",
       "      <td>at</td>\n",
       "      <td>STL</td>\n",
       "      <td>44.10%</td>\n",
       "      <td>L</td>\n",
       "      <td>0</td>\n",
       "      <td>1</td>\n",
       "      <td>Domingo Germán</td>\n",
       "      <td>Jordan Montgomery</td>\n",
       "    </tr>\n",
       "    <tr>\n",
       "      <th>108</th>\n",
       "      <td>8/7/22</td>\n",
       "      <td>at</td>\n",
       "      <td>STL</td>\n",
       "      <td>51.10%</td>\n",
       "      <td>L</td>\n",
       "      <td>9</td>\n",
       "      <td>12</td>\n",
       "      <td>Frankie Montas</td>\n",
       "      <td>Adam Wainwright</td>\n",
       "    </tr>\n",
       "    <tr>\n",
       "      <th>109</th>\n",
       "      <td>8/8/22</td>\n",
       "      <td>at</td>\n",
       "      <td>SEA</td>\n",
       "      <td>48.00%</td>\n",
       "      <td>W</td>\n",
       "      <td>9</td>\n",
       "      <td>4</td>\n",
       "      <td>Jameson Taillon</td>\n",
       "      <td>Logan Gilbert</td>\n",
       "    </tr>\n",
       "    <tr>\n",
       "      <th>110</th>\n",
       "      <td>8/9/22</td>\n",
       "      <td>at</td>\n",
       "      <td>SEA</td>\n",
       "      <td>48.90%</td>\n",
       "      <td>L</td>\n",
       "      <td>0</td>\n",
       "      <td>1</td>\n",
       "      <td>Gerrit Cole</td>\n",
       "      <td>Luis Castillo</td>\n",
       "    </tr>\n",
       "    <tr>\n",
       "      <th>111</th>\n",
       "      <td>8/10/22</td>\n",
       "      <td>at</td>\n",
       "      <td>SEA</td>\n",
       "      <td>47.50%</td>\n",
       "      <td>L</td>\n",
       "      <td>3</td>\n",
       "      <td>4</td>\n",
       "      <td>Nestor Cortes</td>\n",
       "      <td>Robbie Ray</td>\n",
       "    </tr>\n",
       "  </tbody>\n",
       "</table>\n",
       "<p>65 rows × 9 columns</p>\n",
       "</div>"
      ],
      "text/plain": [
       "        Date H/A  Opp NYY Win Prob W/L  NYY Runs  Opp Runs        NYY Starter  \\\n",
       "3    4/11/22  vs  TOR       48.50%   L         0         3    Jameson Taillon   \n",
       "4    4/12/22  vs  TOR       51.00%   W         4         0      Nestor Cortes   \n",
       "5    4/13/22  vs  TOR       60.30%   L         4         6        Gerrit Cole   \n",
       "6    4/14/22  vs  TOR       56.20%   W         3         0      Luis Severino   \n",
       "7    4/15/22  at  BAL       65.40%   L         1         2  Jordan Montgomery   \n",
       "..       ...  ..  ...          ...  ..       ...       ...                ...   \n",
       "107   8/6/22  at  STL       44.10%   L         0         1     Domingo Germán   \n",
       "108   8/7/22  at  STL       51.10%   L         9        12     Frankie Montas   \n",
       "109   8/8/22  at  SEA       48.00%   W         9         4    Jameson Taillon   \n",
       "110   8/9/22  at  SEA       48.90%   L         0         1        Gerrit Cole   \n",
       "111  8/10/22  at  SEA       47.50%   L         3         4      Nestor Cortes   \n",
       "\n",
       "           Opp Starter  \n",
       "3          Alek Manoah  \n",
       "4        Yusei Kikuchi  \n",
       "5         José Berríos  \n",
       "6        Kevin Gausman  \n",
       "7         Jordan Lyles  \n",
       "..                 ...  \n",
       "107  Jordan Montgomery  \n",
       "108    Adam Wainwright  \n",
       "109      Logan Gilbert  \n",
       "110      Luis Castillo  \n",
       "111         Robbie Ray  \n",
       "\n",
       "[65 rows x 9 columns]"
      ]
     },
     "execution_count": 3,
     "metadata": {},
     "output_type": "execute_result"
    }
   ],
   "source": [
    "# Filter schedule df for games against teams with winning record currently\n",
    "sched_df = sched_df.loc[\n",
    "    (sched_df['Opp'] == 'TOR') |\n",
    "    (sched_df['Opp'] == 'BAL') |\n",
    "    (sched_df['Opp'] == 'TBR') |\n",
    "    (sched_df['Opp'] == 'CLE') |\n",
    "    (sched_df['Opp'] == 'MIN') |\n",
    "    (sched_df['Opp'] == 'CWS') |\n",
    "    (sched_df['Opp'] == 'HOU') |\n",
    "    (sched_df['Opp'] == 'SEA') |\n",
    "    (sched_df['Opp'] == 'NYM') |\n",
    "    (sched_df['Opp'] == 'ATL') |\n",
    "    (sched_df['Opp'] == 'PHI') |\n",
    "    (sched_df['Opp'] == 'STL') |\n",
    "    (sched_df['Opp'] == 'MIL') |\n",
    "    (sched_df['Opp'] == 'LAD') |\n",
    "    (sched_df['Opp'] == 'SDP')\n",
    "]\n",
    "\n",
    "sched_df"
   ]
  },
  {
   "cell_type": "code",
   "execution_count": 4,
   "id": "3cb7874a",
   "metadata": {},
   "outputs": [
    {
     "name": "stderr",
     "output_type": "stream",
     "text": [
      "/Users/scwoody411/opt/anaconda3/envs/PythonData/lib/python3.7/site-packages/ipykernel_launcher.py:2: SettingWithCopyWarning: \n",
      "A value is trying to be set on a copy of a slice from a DataFrame.\n",
      "Try using .loc[row_indexer,col_indexer] = value instead\n",
      "\n",
      "See the caveats in the documentation: https://pandas.pydata.org/pandas-docs/stable/user_guide/indexing.html#returning-a-view-versus-a-copy\n",
      "  \n",
      "/Users/scwoody411/opt/anaconda3/envs/PythonData/lib/python3.7/site-packages/ipykernel_launcher.py:3: SettingWithCopyWarning: \n",
      "A value is trying to be set on a copy of a slice from a DataFrame.\n",
      "Try using .loc[row_indexer,col_indexer] = value instead\n",
      "\n",
      "See the caveats in the documentation: https://pandas.pydata.org/pandas-docs/stable/user_guide/indexing.html#returning-a-view-versus-a-copy\n",
      "  This is separate from the ipykernel package so we can avoid doing imports until\n",
      "/Users/scwoody411/opt/anaconda3/envs/PythonData/lib/python3.7/site-packages/ipykernel_launcher.py:4: SettingWithCopyWarning: \n",
      "A value is trying to be set on a copy of a slice from a DataFrame.\n",
      "Try using .loc[row_indexer,col_indexer] = value instead\n",
      "\n",
      "See the caveats in the documentation: https://pandas.pydata.org/pandas-docs/stable/user_guide/indexing.html#returning-a-view-versus-a-copy\n",
      "  after removing the cwd from sys.path.\n"
     ]
    },
    {
     "data": {
      "text/html": [
       "<div>\n",
       "<style scoped>\n",
       "    .dataframe tbody tr th:only-of-type {\n",
       "        vertical-align: middle;\n",
       "    }\n",
       "\n",
       "    .dataframe tbody tr th {\n",
       "        vertical-align: top;\n",
       "    }\n",
       "\n",
       "    .dataframe thead th {\n",
       "        text-align: right;\n",
       "    }\n",
       "</style>\n",
       "<table border=\"1\" class=\"dataframe\">\n",
       "  <thead>\n",
       "    <tr style=\"text-align: right;\">\n",
       "      <th></th>\n",
       "      <th>Date</th>\n",
       "      <th>H/A</th>\n",
       "      <th>Opp</th>\n",
       "      <th>NYY Win Prob</th>\n",
       "      <th>W/L</th>\n",
       "      <th>NYY Runs</th>\n",
       "      <th>Opp Runs</th>\n",
       "      <th>NYY Starter</th>\n",
       "      <th>Opp Starter</th>\n",
       "      <th>Ws</th>\n",
       "      <th>Ls</th>\n",
       "      <th>Win%</th>\n",
       "    </tr>\n",
       "  </thead>\n",
       "  <tbody>\n",
       "    <tr>\n",
       "      <th>3</th>\n",
       "      <td>4/11/22</td>\n",
       "      <td>vs</td>\n",
       "      <td>TOR</td>\n",
       "      <td>48.50%</td>\n",
       "      <td>L</td>\n",
       "      <td>0</td>\n",
       "      <td>3</td>\n",
       "      <td>Jameson Taillon</td>\n",
       "      <td>Alek Manoah</td>\n",
       "      <td>0</td>\n",
       "      <td>1</td>\n",
       "      <td>0.000</td>\n",
       "    </tr>\n",
       "    <tr>\n",
       "      <th>4</th>\n",
       "      <td>4/12/22</td>\n",
       "      <td>vs</td>\n",
       "      <td>TOR</td>\n",
       "      <td>51.00%</td>\n",
       "      <td>W</td>\n",
       "      <td>4</td>\n",
       "      <td>0</td>\n",
       "      <td>Nestor Cortes</td>\n",
       "      <td>Yusei Kikuchi</td>\n",
       "      <td>1</td>\n",
       "      <td>1</td>\n",
       "      <td>0.500</td>\n",
       "    </tr>\n",
       "    <tr>\n",
       "      <th>5</th>\n",
       "      <td>4/13/22</td>\n",
       "      <td>vs</td>\n",
       "      <td>TOR</td>\n",
       "      <td>60.30%</td>\n",
       "      <td>L</td>\n",
       "      <td>4</td>\n",
       "      <td>6</td>\n",
       "      <td>Gerrit Cole</td>\n",
       "      <td>José Berríos</td>\n",
       "      <td>1</td>\n",
       "      <td>2</td>\n",
       "      <td>0.333</td>\n",
       "    </tr>\n",
       "    <tr>\n",
       "      <th>6</th>\n",
       "      <td>4/14/22</td>\n",
       "      <td>vs</td>\n",
       "      <td>TOR</td>\n",
       "      <td>56.20%</td>\n",
       "      <td>W</td>\n",
       "      <td>3</td>\n",
       "      <td>0</td>\n",
       "      <td>Luis Severino</td>\n",
       "      <td>Kevin Gausman</td>\n",
       "      <td>2</td>\n",
       "      <td>2</td>\n",
       "      <td>0.500</td>\n",
       "    </tr>\n",
       "    <tr>\n",
       "      <th>7</th>\n",
       "      <td>4/15/22</td>\n",
       "      <td>at</td>\n",
       "      <td>BAL</td>\n",
       "      <td>65.40%</td>\n",
       "      <td>L</td>\n",
       "      <td>1</td>\n",
       "      <td>2</td>\n",
       "      <td>Jordan Montgomery</td>\n",
       "      <td>Jordan Lyles</td>\n",
       "      <td>2</td>\n",
       "      <td>3</td>\n",
       "      <td>0.400</td>\n",
       "    </tr>\n",
       "    <tr>\n",
       "      <th>...</th>\n",
       "      <td>...</td>\n",
       "      <td>...</td>\n",
       "      <td>...</td>\n",
       "      <td>...</td>\n",
       "      <td>...</td>\n",
       "      <td>...</td>\n",
       "      <td>...</td>\n",
       "      <td>...</td>\n",
       "      <td>...</td>\n",
       "      <td>...</td>\n",
       "      <td>...</td>\n",
       "      <td>...</td>\n",
       "    </tr>\n",
       "    <tr>\n",
       "      <th>107</th>\n",
       "      <td>8/6/22</td>\n",
       "      <td>at</td>\n",
       "      <td>STL</td>\n",
       "      <td>44.10%</td>\n",
       "      <td>L</td>\n",
       "      <td>0</td>\n",
       "      <td>1</td>\n",
       "      <td>Domingo Germán</td>\n",
       "      <td>Jordan Montgomery</td>\n",
       "      <td>36</td>\n",
       "      <td>25</td>\n",
       "      <td>0.590</td>\n",
       "    </tr>\n",
       "    <tr>\n",
       "      <th>108</th>\n",
       "      <td>8/7/22</td>\n",
       "      <td>at</td>\n",
       "      <td>STL</td>\n",
       "      <td>51.10%</td>\n",
       "      <td>L</td>\n",
       "      <td>9</td>\n",
       "      <td>12</td>\n",
       "      <td>Frankie Montas</td>\n",
       "      <td>Adam Wainwright</td>\n",
       "      <td>36</td>\n",
       "      <td>26</td>\n",
       "      <td>0.581</td>\n",
       "    </tr>\n",
       "    <tr>\n",
       "      <th>109</th>\n",
       "      <td>8/8/22</td>\n",
       "      <td>at</td>\n",
       "      <td>SEA</td>\n",
       "      <td>48.00%</td>\n",
       "      <td>W</td>\n",
       "      <td>9</td>\n",
       "      <td>4</td>\n",
       "      <td>Jameson Taillon</td>\n",
       "      <td>Logan Gilbert</td>\n",
       "      <td>37</td>\n",
       "      <td>26</td>\n",
       "      <td>0.587</td>\n",
       "    </tr>\n",
       "    <tr>\n",
       "      <th>110</th>\n",
       "      <td>8/9/22</td>\n",
       "      <td>at</td>\n",
       "      <td>SEA</td>\n",
       "      <td>48.90%</td>\n",
       "      <td>L</td>\n",
       "      <td>0</td>\n",
       "      <td>1</td>\n",
       "      <td>Gerrit Cole</td>\n",
       "      <td>Luis Castillo</td>\n",
       "      <td>37</td>\n",
       "      <td>27</td>\n",
       "      <td>0.578</td>\n",
       "    </tr>\n",
       "    <tr>\n",
       "      <th>111</th>\n",
       "      <td>8/10/22</td>\n",
       "      <td>at</td>\n",
       "      <td>SEA</td>\n",
       "      <td>47.50%</td>\n",
       "      <td>L</td>\n",
       "      <td>3</td>\n",
       "      <td>4</td>\n",
       "      <td>Nestor Cortes</td>\n",
       "      <td>Robbie Ray</td>\n",
       "      <td>37</td>\n",
       "      <td>28</td>\n",
       "      <td>0.569</td>\n",
       "    </tr>\n",
       "  </tbody>\n",
       "</table>\n",
       "<p>65 rows × 12 columns</p>\n",
       "</div>"
      ],
      "text/plain": [
       "        Date H/A  Opp NYY Win Prob W/L  NYY Runs  Opp Runs        NYY Starter  \\\n",
       "3    4/11/22  vs  TOR       48.50%   L         0         3    Jameson Taillon   \n",
       "4    4/12/22  vs  TOR       51.00%   W         4         0      Nestor Cortes   \n",
       "5    4/13/22  vs  TOR       60.30%   L         4         6        Gerrit Cole   \n",
       "6    4/14/22  vs  TOR       56.20%   W         3         0      Luis Severino   \n",
       "7    4/15/22  at  BAL       65.40%   L         1         2  Jordan Montgomery   \n",
       "..       ...  ..  ...          ...  ..       ...       ...                ...   \n",
       "107   8/6/22  at  STL       44.10%   L         0         1     Domingo Germán   \n",
       "108   8/7/22  at  STL       51.10%   L         9        12     Frankie Montas   \n",
       "109   8/8/22  at  SEA       48.00%   W         9         4    Jameson Taillon   \n",
       "110   8/9/22  at  SEA       48.90%   L         0         1        Gerrit Cole   \n",
       "111  8/10/22  at  SEA       47.50%   L         3         4      Nestor Cortes   \n",
       "\n",
       "           Opp Starter  Ws  Ls   Win%  \n",
       "3          Alek Manoah   0   1  0.000  \n",
       "4        Yusei Kikuchi   1   1  0.500  \n",
       "5         José Berríos   1   2  0.333  \n",
       "6        Kevin Gausman   2   2  0.500  \n",
       "7         Jordan Lyles   2   3  0.400  \n",
       "..                 ...  ..  ..    ...  \n",
       "107  Jordan Montgomery  36  25  0.590  \n",
       "108    Adam Wainwright  36  26  0.581  \n",
       "109      Logan Gilbert  37  26  0.587  \n",
       "110      Luis Castillo  37  27  0.578  \n",
       "111         Robbie Ray  37  28  0.569  \n",
       "\n",
       "[65 rows x 12 columns]"
      ]
     },
     "execution_count": 4,
     "metadata": {},
     "output_type": "execute_result"
    }
   ],
   "source": [
    "# Create Win% column\n",
    "sched_df['Ws'] = sched_df['W/L'].apply(lambda x: 1 if (x==\"W\") else 0).cumsum()\n",
    "sched_df['Ls'] = sched_df['W/L'].apply(lambda x: 1 if (x==\"L\") else 0).cumsum()\n",
    "sched_df['Win%'] = round((sched_df['Ws'] / (sched_df['Ws'] + sched_df['Ls'])), 3)\n",
    "\n",
    "sched_df"
   ]
  },
  {
   "cell_type": "code",
   "execution_count": 5,
   "id": "e379cf30",
   "metadata": {},
   "outputs": [
    {
     "name": "stderr",
     "output_type": "stream",
     "text": [
      "/Users/scwoody411/opt/anaconda3/envs/PythonData/lib/python3.7/site-packages/ipykernel_launcher.py:2: SettingWithCopyWarning: \n",
      "A value is trying to be set on a copy of a slice from a DataFrame.\n",
      "Try using .loc[row_indexer,col_indexer] = value instead\n",
      "\n",
      "See the caveats in the documentation: https://pandas.pydata.org/pandas-docs/stable/user_guide/indexing.html#returning-a-view-versus-a-copy\n",
      "  \n"
     ]
    },
    {
     "data": {
      "text/html": [
       "<div>\n",
       "<style scoped>\n",
       "    .dataframe tbody tr th:only-of-type {\n",
       "        vertical-align: middle;\n",
       "    }\n",
       "\n",
       "    .dataframe tbody tr th {\n",
       "        vertical-align: top;\n",
       "    }\n",
       "\n",
       "    .dataframe thead th {\n",
       "        text-align: right;\n",
       "    }\n",
       "</style>\n",
       "<table border=\"1\" class=\"dataframe\">\n",
       "  <thead>\n",
       "    <tr style=\"text-align: right;\">\n",
       "      <th></th>\n",
       "      <th>Date</th>\n",
       "      <th>H/A</th>\n",
       "      <th>Opp</th>\n",
       "      <th>NYY Win Prob</th>\n",
       "      <th>W/L</th>\n",
       "      <th>NYY Runs</th>\n",
       "      <th>Opp Runs</th>\n",
       "      <th>NYY Starter</th>\n",
       "      <th>Opp Starter</th>\n",
       "      <th>Ws</th>\n",
       "      <th>Ls</th>\n",
       "      <th>Win%</th>\n",
       "    </tr>\n",
       "  </thead>\n",
       "  <tbody>\n",
       "    <tr>\n",
       "      <th>3</th>\n",
       "      <td>2022-04-11</td>\n",
       "      <td>vs</td>\n",
       "      <td>TOR</td>\n",
       "      <td>48.50%</td>\n",
       "      <td>L</td>\n",
       "      <td>0</td>\n",
       "      <td>3</td>\n",
       "      <td>Jameson Taillon</td>\n",
       "      <td>Alek Manoah</td>\n",
       "      <td>0</td>\n",
       "      <td>1</td>\n",
       "      <td>0.000</td>\n",
       "    </tr>\n",
       "    <tr>\n",
       "      <th>4</th>\n",
       "      <td>2022-04-12</td>\n",
       "      <td>vs</td>\n",
       "      <td>TOR</td>\n",
       "      <td>51.00%</td>\n",
       "      <td>W</td>\n",
       "      <td>4</td>\n",
       "      <td>0</td>\n",
       "      <td>Nestor Cortes</td>\n",
       "      <td>Yusei Kikuchi</td>\n",
       "      <td>1</td>\n",
       "      <td>1</td>\n",
       "      <td>0.500</td>\n",
       "    </tr>\n",
       "    <tr>\n",
       "      <th>5</th>\n",
       "      <td>2022-04-13</td>\n",
       "      <td>vs</td>\n",
       "      <td>TOR</td>\n",
       "      <td>60.30%</td>\n",
       "      <td>L</td>\n",
       "      <td>4</td>\n",
       "      <td>6</td>\n",
       "      <td>Gerrit Cole</td>\n",
       "      <td>José Berríos</td>\n",
       "      <td>1</td>\n",
       "      <td>2</td>\n",
       "      <td>0.333</td>\n",
       "    </tr>\n",
       "    <tr>\n",
       "      <th>6</th>\n",
       "      <td>2022-04-14</td>\n",
       "      <td>vs</td>\n",
       "      <td>TOR</td>\n",
       "      <td>56.20%</td>\n",
       "      <td>W</td>\n",
       "      <td>3</td>\n",
       "      <td>0</td>\n",
       "      <td>Luis Severino</td>\n",
       "      <td>Kevin Gausman</td>\n",
       "      <td>2</td>\n",
       "      <td>2</td>\n",
       "      <td>0.500</td>\n",
       "    </tr>\n",
       "    <tr>\n",
       "      <th>7</th>\n",
       "      <td>2022-04-15</td>\n",
       "      <td>at</td>\n",
       "      <td>BAL</td>\n",
       "      <td>65.40%</td>\n",
       "      <td>L</td>\n",
       "      <td>1</td>\n",
       "      <td>2</td>\n",
       "      <td>Jordan Montgomery</td>\n",
       "      <td>Jordan Lyles</td>\n",
       "      <td>2</td>\n",
       "      <td>3</td>\n",
       "      <td>0.400</td>\n",
       "    </tr>\n",
       "    <tr>\n",
       "      <th>...</th>\n",
       "      <td>...</td>\n",
       "      <td>...</td>\n",
       "      <td>...</td>\n",
       "      <td>...</td>\n",
       "      <td>...</td>\n",
       "      <td>...</td>\n",
       "      <td>...</td>\n",
       "      <td>...</td>\n",
       "      <td>...</td>\n",
       "      <td>...</td>\n",
       "      <td>...</td>\n",
       "      <td>...</td>\n",
       "    </tr>\n",
       "    <tr>\n",
       "      <th>107</th>\n",
       "      <td>2022-08-06</td>\n",
       "      <td>at</td>\n",
       "      <td>STL</td>\n",
       "      <td>44.10%</td>\n",
       "      <td>L</td>\n",
       "      <td>0</td>\n",
       "      <td>1</td>\n",
       "      <td>Domingo Germán</td>\n",
       "      <td>Jordan Montgomery</td>\n",
       "      <td>36</td>\n",
       "      <td>25</td>\n",
       "      <td>0.590</td>\n",
       "    </tr>\n",
       "    <tr>\n",
       "      <th>108</th>\n",
       "      <td>2022-08-07</td>\n",
       "      <td>at</td>\n",
       "      <td>STL</td>\n",
       "      <td>51.10%</td>\n",
       "      <td>L</td>\n",
       "      <td>9</td>\n",
       "      <td>12</td>\n",
       "      <td>Frankie Montas</td>\n",
       "      <td>Adam Wainwright</td>\n",
       "      <td>36</td>\n",
       "      <td>26</td>\n",
       "      <td>0.581</td>\n",
       "    </tr>\n",
       "    <tr>\n",
       "      <th>109</th>\n",
       "      <td>2022-08-08</td>\n",
       "      <td>at</td>\n",
       "      <td>SEA</td>\n",
       "      <td>48.00%</td>\n",
       "      <td>W</td>\n",
       "      <td>9</td>\n",
       "      <td>4</td>\n",
       "      <td>Jameson Taillon</td>\n",
       "      <td>Logan Gilbert</td>\n",
       "      <td>37</td>\n",
       "      <td>26</td>\n",
       "      <td>0.587</td>\n",
       "    </tr>\n",
       "    <tr>\n",
       "      <th>110</th>\n",
       "      <td>2022-08-09</td>\n",
       "      <td>at</td>\n",
       "      <td>SEA</td>\n",
       "      <td>48.90%</td>\n",
       "      <td>L</td>\n",
       "      <td>0</td>\n",
       "      <td>1</td>\n",
       "      <td>Gerrit Cole</td>\n",
       "      <td>Luis Castillo</td>\n",
       "      <td>37</td>\n",
       "      <td>27</td>\n",
       "      <td>0.578</td>\n",
       "    </tr>\n",
       "    <tr>\n",
       "      <th>111</th>\n",
       "      <td>2022-08-10</td>\n",
       "      <td>at</td>\n",
       "      <td>SEA</td>\n",
       "      <td>47.50%</td>\n",
       "      <td>L</td>\n",
       "      <td>3</td>\n",
       "      <td>4</td>\n",
       "      <td>Nestor Cortes</td>\n",
       "      <td>Robbie Ray</td>\n",
       "      <td>37</td>\n",
       "      <td>28</td>\n",
       "      <td>0.569</td>\n",
       "    </tr>\n",
       "  </tbody>\n",
       "</table>\n",
       "<p>65 rows × 12 columns</p>\n",
       "</div>"
      ],
      "text/plain": [
       "          Date H/A  Opp NYY Win Prob W/L  NYY Runs  Opp Runs  \\\n",
       "3   2022-04-11  vs  TOR       48.50%   L         0         3   \n",
       "4   2022-04-12  vs  TOR       51.00%   W         4         0   \n",
       "5   2022-04-13  vs  TOR       60.30%   L         4         6   \n",
       "6   2022-04-14  vs  TOR       56.20%   W         3         0   \n",
       "7   2022-04-15  at  BAL       65.40%   L         1         2   \n",
       "..         ...  ..  ...          ...  ..       ...       ...   \n",
       "107 2022-08-06  at  STL       44.10%   L         0         1   \n",
       "108 2022-08-07  at  STL       51.10%   L         9        12   \n",
       "109 2022-08-08  at  SEA       48.00%   W         9         4   \n",
       "110 2022-08-09  at  SEA       48.90%   L         0         1   \n",
       "111 2022-08-10  at  SEA       47.50%   L         3         4   \n",
       "\n",
       "           NYY Starter        Opp Starter  Ws  Ls   Win%  \n",
       "3      Jameson Taillon        Alek Manoah   0   1  0.000  \n",
       "4        Nestor Cortes      Yusei Kikuchi   1   1  0.500  \n",
       "5          Gerrit Cole       José Berríos   1   2  0.333  \n",
       "6        Luis Severino      Kevin Gausman   2   2  0.500  \n",
       "7    Jordan Montgomery       Jordan Lyles   2   3  0.400  \n",
       "..                 ...                ...  ..  ..    ...  \n",
       "107     Domingo Germán  Jordan Montgomery  36  25  0.590  \n",
       "108     Frankie Montas    Adam Wainwright  36  26  0.581  \n",
       "109    Jameson Taillon      Logan Gilbert  37  26  0.587  \n",
       "110        Gerrit Cole      Luis Castillo  37  27  0.578  \n",
       "111      Nestor Cortes         Robbie Ray  37  28  0.569  \n",
       "\n",
       "[65 rows x 12 columns]"
      ]
     },
     "execution_count": 5,
     "metadata": {},
     "output_type": "execute_result"
    }
   ],
   "source": [
    "# Convert Date column to datetime\n",
    "sched_df['Date'] = pd.to_datetime(sched_df['Date'], format=\"%x\")\n",
    "sched_df"
   ]
  },
  {
   "cell_type": "code",
   "execution_count": 6,
   "id": "941e779e",
   "metadata": {},
   "outputs": [
    {
     "data": {
      "text/html": [
       "<div>\n",
       "<style scoped>\n",
       "    .dataframe tbody tr th:only-of-type {\n",
       "        vertical-align: middle;\n",
       "    }\n",
       "\n",
       "    .dataframe tbody tr th {\n",
       "        vertical-align: top;\n",
       "    }\n",
       "\n",
       "    .dataframe thead th {\n",
       "        text-align: right;\n",
       "    }\n",
       "</style>\n",
       "<table border=\"1\" class=\"dataframe\">\n",
       "  <thead>\n",
       "    <tr style=\"text-align: right;\">\n",
       "      <th></th>\n",
       "      <th>Date</th>\n",
       "      <th>H/A</th>\n",
       "      <th>Opp</th>\n",
       "      <th>NYY Win Prob</th>\n",
       "      <th>W/L</th>\n",
       "      <th>NYY Runs</th>\n",
       "      <th>Opp Runs</th>\n",
       "      <th>NYY Starter</th>\n",
       "      <th>Opp Starter</th>\n",
       "      <th>Ws</th>\n",
       "      <th>Ls</th>\n",
       "      <th>Win%</th>\n",
       "    </tr>\n",
       "  </thead>\n",
       "  <tbody>\n",
       "    <tr>\n",
       "      <th>22</th>\n",
       "      <td>2022-05-02</td>\n",
       "      <td>at</td>\n",
       "      <td>TOR</td>\n",
       "      <td>48.80%</td>\n",
       "      <td>W</td>\n",
       "      <td>3</td>\n",
       "      <td>2</td>\n",
       "      <td>Jordan Montgomery</td>\n",
       "      <td>Ross Stripling</td>\n",
       "      <td>10</td>\n",
       "      <td>4</td>\n",
       "      <td>0.714</td>\n",
       "    </tr>\n",
       "    <tr>\n",
       "      <th>23</th>\n",
       "      <td>2022-05-03</td>\n",
       "      <td>at</td>\n",
       "      <td>TOR</td>\n",
       "      <td>39.60%</td>\n",
       "      <td>W</td>\n",
       "      <td>9</td>\n",
       "      <td>1</td>\n",
       "      <td>Jameson Taillon</td>\n",
       "      <td>Alek Manoah</td>\n",
       "      <td>11</td>\n",
       "      <td>4</td>\n",
       "      <td>0.733</td>\n",
       "    </tr>\n",
       "    <tr>\n",
       "      <th>24</th>\n",
       "      <td>2022-05-04</td>\n",
       "      <td>at</td>\n",
       "      <td>TOR</td>\n",
       "      <td>49.30%</td>\n",
       "      <td>L</td>\n",
       "      <td>1</td>\n",
       "      <td>2</td>\n",
       "      <td>Nestor Cortes</td>\n",
       "      <td>Yusei Kikuchi</td>\n",
       "      <td>11</td>\n",
       "      <td>5</td>\n",
       "      <td>0.688</td>\n",
       "    </tr>\n",
       "    <tr>\n",
       "      <th>28</th>\n",
       "      <td>2022-05-10</td>\n",
       "      <td>vs</td>\n",
       "      <td>TOR</td>\n",
       "      <td>58.70%</td>\n",
       "      <td>W</td>\n",
       "      <td>6</td>\n",
       "      <td>5</td>\n",
       "      <td>Luis Severino</td>\n",
       "      <td>Yusei Kikuchi</td>\n",
       "      <td>12</td>\n",
       "      <td>5</td>\n",
       "      <td>0.706</td>\n",
       "    </tr>\n",
       "    <tr>\n",
       "      <th>29</th>\n",
       "      <td>2022-05-11</td>\n",
       "      <td>vs</td>\n",
       "      <td>TOR</td>\n",
       "      <td>49.90%</td>\n",
       "      <td>W</td>\n",
       "      <td>5</td>\n",
       "      <td>3</td>\n",
       "      <td>Jameson Taillon</td>\n",
       "      <td>José Berríos</td>\n",
       "      <td>13</td>\n",
       "      <td>5</td>\n",
       "      <td>0.722</td>\n",
       "    </tr>\n",
       "  </tbody>\n",
       "</table>\n",
       "</div>"
      ],
      "text/plain": [
       "         Date H/A  Opp NYY Win Prob W/L  NYY Runs  Opp Runs  \\\n",
       "22 2022-05-02  at  TOR       48.80%   W         3         2   \n",
       "23 2022-05-03  at  TOR       39.60%   W         9         1   \n",
       "24 2022-05-04  at  TOR       49.30%   L         1         2   \n",
       "28 2022-05-10  vs  TOR       58.70%   W         6         5   \n",
       "29 2022-05-11  vs  TOR       49.90%   W         5         3   \n",
       "\n",
       "          NYY Starter     Opp Starter  Ws  Ls   Win%  \n",
       "22  Jordan Montgomery  Ross Stripling  10   4  0.714  \n",
       "23    Jameson Taillon     Alek Manoah  11   4  0.733  \n",
       "24      Nestor Cortes   Yusei Kikuchi  11   5  0.688  \n",
       "28      Luis Severino   Yusei Kikuchi  12   5  0.706  \n",
       "29    Jameson Taillon    José Berríos  13   5  0.722  "
      ]
     },
     "execution_count": 6,
     "metadata": {},
     "output_type": "execute_result"
    }
   ],
   "source": [
    "# Filter sched df for May-present\n",
    "sched_df = sched_df.loc[sched_df['Date'] > '2022-04-30']\n",
    "\n",
    "sched_df.head()"
   ]
  },
  {
   "cell_type": "markdown",
   "id": "5291ef2c",
   "metadata": {},
   "source": [
    "## Viz"
   ]
  },
  {
   "cell_type": "code",
   "execution_count": 7,
   "id": "2890dbc7",
   "metadata": {},
   "outputs": [],
   "source": [
    "# Create variables for use in chart\n",
    "\n",
    "# data variables\n",
    "x = sched_df['Date']\n",
    "y = sched_df['Win%']\n",
    "\n",
    "\n",
    "# hover label variables\n",
    "# locations = sched_df['H/A']\n",
    "# opponents = sched_df['Opp']\n",
    "# fWARs = lemahieu_df['fWAR']\n",
    "# wRCs = lemahieu_df['wRC+']\n",
    "\n",
    "# hover = [\n",
    "#     f'       {tm}<br><b>OBP:    {obp}th<br>fWAR:  {fwar}th<br>wRC+:  {wrc}th</b>'\n",
    "#     for tm, obp, fwar, wrc in\n",
    "#     zip(teams, OBPs, fWARs, wRCs)\n",
    "# ]\n",
    "\n",
    "\n",
    "# color variables\n",
    "navy = '#0C2340'\n",
    "gray = '#C4CED3'"
   ]
  },
  {
   "cell_type": "code",
   "execution_count": 12,
   "id": "70e0c8a7",
   "metadata": {},
   "outputs": [
    {
     "data": {
      "application/vnd.plotly.v1+json": {
       "config": {
        "plotlyServerURL": "https://plotly.com"
       },
       "data": [
        {
         "line": {
          "color": "#7cf7d2",
          "shape": "spline",
          "smoothing": 0.75,
          "width": 16
         },
         "mode": "lines",
         "name": "Win%",
         "type": "scatter",
         "x": [
          "2022-05-02T00:00:00",
          "2022-05-03T00:00:00",
          "2022-05-04T00:00:00",
          "2022-05-10T00:00:00",
          "2022-05-11T00:00:00",
          "2022-05-16T00:00:00",
          "2022-05-17T00:00:00",
          "2022-05-18T00:00:00",
          "2022-05-19T00:00:00",
          "2022-05-23T00:00:00",
          "2022-05-24T00:00:00",
          "2022-05-25T00:00:00",
          "2022-05-26T00:00:00",
          "2022-05-27T00:00:00",
          "2022-05-28T00:00:00",
          "2022-05-29T00:00:00",
          "2022-06-07T00:00:00",
          "2022-06-08T00:00:00",
          "2022-06-09T00:00:00",
          "2022-06-14T00:00:00",
          "2022-06-15T00:00:00",
          "2022-06-16T00:00:00",
          "2022-06-17T00:00:00",
          "2022-06-18T00:00:00",
          "2022-06-19T00:00:00",
          "2022-06-20T00:00:00",
          "2022-06-21T00:00:00",
          "2022-06-22T00:00:00",
          "2022-06-23T00:00:00",
          "2022-06-24T00:00:00",
          "2022-06-25T00:00:00",
          "2022-06-26T00:00:00",
          "2022-06-30T00:00:00",
          "2022-07-02T00:00:00",
          "2022-07-02T00:00:00",
          "2022-07-03T00:00:00",
          "2022-07-21T00:00:00",
          "2022-07-21T00:00:00",
          "2022-07-22T00:00:00",
          "2022-07-23T00:00:00",
          "2022-07-24T00:00:00",
          "2022-07-26T00:00:00",
          "2022-07-27T00:00:00",
          "2022-08-01T00:00:00",
          "2022-08-02T00:00:00",
          "2022-08-03T00:00:00",
          "2022-08-05T00:00:00",
          "2022-08-06T00:00:00",
          "2022-08-07T00:00:00",
          "2022-08-08T00:00:00",
          "2022-08-09T00:00:00",
          "2022-08-10T00:00:00"
         ],
         "y": [
          0.714,
          0.733,
          0.688,
          0.706,
          0.722,
          0.737,
          0.75,
          0.762,
          0.727,
          0.696,
          0.708,
          0.72,
          0.731,
          0.741,
          0.714,
          0.69,
          0.7,
          0.677,
          0.688,
          0.697,
          0.706,
          0.714,
          0.722,
          0.73,
          0.711,
          0.718,
          0.7,
          0.707,
          0.714,
          0.698,
          0.682,
          0.689,
          0.674,
          0.681,
          0.688,
          0.673,
          0.66,
          0.647,
          0.654,
          0.642,
          0.648,
          0.636,
          0.625,
          0.632,
          0.621,
          0.61,
          0.6,
          0.59,
          0.581,
          0.587,
          0.578,
          0.569
         ]
        },
        {
         "line": {
          "shape": "spline",
          "smoothing": 0.75,
          "width": 16
         },
         "marker": {
          "color": "#7cf7d2",
          "line": {
           "color": "#0C2340",
           "width": 3
          },
          "size": 24
         },
         "mode": "markers+text",
         "showlegend": false,
         "text": [
          "<b>.569</b>"
         ],
         "textfont": {
          "color": "white",
          "size": 22
         },
         "textposition": "middle right",
         "type": "scatter",
         "x": [
          "2022-08-10T00:00:00"
         ],
         "y": [
          0.569
         ]
        }
       ],
       "layout": {
        "hoverlabel": {
         "bgcolor": "#0C2340",
         "font": {
          "size": 16
         }
        },
        "margin": {
         "b": 70,
         "pad": 3,
         "t": 110
        },
        "paper_bgcolor": "#0C2340",
        "plot_bgcolor": "#0C2340",
        "showlegend": false,
        "template": {
         "data": {
          "bar": [
           {
            "error_x": {
             "color": "#2a3f5f"
            },
            "error_y": {
             "color": "#2a3f5f"
            },
            "marker": {
             "line": {
              "color": "#E5ECF6",
              "width": 0.5
             },
             "pattern": {
              "fillmode": "overlay",
              "size": 10,
              "solidity": 0.2
             }
            },
            "type": "bar"
           }
          ],
          "barpolar": [
           {
            "marker": {
             "line": {
              "color": "#E5ECF6",
              "width": 0.5
             },
             "pattern": {
              "fillmode": "overlay",
              "size": 10,
              "solidity": 0.2
             }
            },
            "type": "barpolar"
           }
          ],
          "carpet": [
           {
            "aaxis": {
             "endlinecolor": "#2a3f5f",
             "gridcolor": "white",
             "linecolor": "white",
             "minorgridcolor": "white",
             "startlinecolor": "#2a3f5f"
            },
            "baxis": {
             "endlinecolor": "#2a3f5f",
             "gridcolor": "white",
             "linecolor": "white",
             "minorgridcolor": "white",
             "startlinecolor": "#2a3f5f"
            },
            "type": "carpet"
           }
          ],
          "choropleth": [
           {
            "colorbar": {
             "outlinewidth": 0,
             "ticks": ""
            },
            "type": "choropleth"
           }
          ],
          "contour": [
           {
            "colorbar": {
             "outlinewidth": 0,
             "ticks": ""
            },
            "colorscale": [
             [
              0,
              "#0d0887"
             ],
             [
              0.1111111111111111,
              "#46039f"
             ],
             [
              0.2222222222222222,
              "#7201a8"
             ],
             [
              0.3333333333333333,
              "#9c179e"
             ],
             [
              0.4444444444444444,
              "#bd3786"
             ],
             [
              0.5555555555555556,
              "#d8576b"
             ],
             [
              0.6666666666666666,
              "#ed7953"
             ],
             [
              0.7777777777777778,
              "#fb9f3a"
             ],
             [
              0.8888888888888888,
              "#fdca26"
             ],
             [
              1,
              "#f0f921"
             ]
            ],
            "type": "contour"
           }
          ],
          "contourcarpet": [
           {
            "colorbar": {
             "outlinewidth": 0,
             "ticks": ""
            },
            "type": "contourcarpet"
           }
          ],
          "heatmap": [
           {
            "colorbar": {
             "outlinewidth": 0,
             "ticks": ""
            },
            "colorscale": [
             [
              0,
              "#0d0887"
             ],
             [
              0.1111111111111111,
              "#46039f"
             ],
             [
              0.2222222222222222,
              "#7201a8"
             ],
             [
              0.3333333333333333,
              "#9c179e"
             ],
             [
              0.4444444444444444,
              "#bd3786"
             ],
             [
              0.5555555555555556,
              "#d8576b"
             ],
             [
              0.6666666666666666,
              "#ed7953"
             ],
             [
              0.7777777777777778,
              "#fb9f3a"
             ],
             [
              0.8888888888888888,
              "#fdca26"
             ],
             [
              1,
              "#f0f921"
             ]
            ],
            "type": "heatmap"
           }
          ],
          "heatmapgl": [
           {
            "colorbar": {
             "outlinewidth": 0,
             "ticks": ""
            },
            "colorscale": [
             [
              0,
              "#0d0887"
             ],
             [
              0.1111111111111111,
              "#46039f"
             ],
             [
              0.2222222222222222,
              "#7201a8"
             ],
             [
              0.3333333333333333,
              "#9c179e"
             ],
             [
              0.4444444444444444,
              "#bd3786"
             ],
             [
              0.5555555555555556,
              "#d8576b"
             ],
             [
              0.6666666666666666,
              "#ed7953"
             ],
             [
              0.7777777777777778,
              "#fb9f3a"
             ],
             [
              0.8888888888888888,
              "#fdca26"
             ],
             [
              1,
              "#f0f921"
             ]
            ],
            "type": "heatmapgl"
           }
          ],
          "histogram": [
           {
            "marker": {
             "pattern": {
              "fillmode": "overlay",
              "size": 10,
              "solidity": 0.2
             }
            },
            "type": "histogram"
           }
          ],
          "histogram2d": [
           {
            "colorbar": {
             "outlinewidth": 0,
             "ticks": ""
            },
            "colorscale": [
             [
              0,
              "#0d0887"
             ],
             [
              0.1111111111111111,
              "#46039f"
             ],
             [
              0.2222222222222222,
              "#7201a8"
             ],
             [
              0.3333333333333333,
              "#9c179e"
             ],
             [
              0.4444444444444444,
              "#bd3786"
             ],
             [
              0.5555555555555556,
              "#d8576b"
             ],
             [
              0.6666666666666666,
              "#ed7953"
             ],
             [
              0.7777777777777778,
              "#fb9f3a"
             ],
             [
              0.8888888888888888,
              "#fdca26"
             ],
             [
              1,
              "#f0f921"
             ]
            ],
            "type": "histogram2d"
           }
          ],
          "histogram2dcontour": [
           {
            "colorbar": {
             "outlinewidth": 0,
             "ticks": ""
            },
            "colorscale": [
             [
              0,
              "#0d0887"
             ],
             [
              0.1111111111111111,
              "#46039f"
             ],
             [
              0.2222222222222222,
              "#7201a8"
             ],
             [
              0.3333333333333333,
              "#9c179e"
             ],
             [
              0.4444444444444444,
              "#bd3786"
             ],
             [
              0.5555555555555556,
              "#d8576b"
             ],
             [
              0.6666666666666666,
              "#ed7953"
             ],
             [
              0.7777777777777778,
              "#fb9f3a"
             ],
             [
              0.8888888888888888,
              "#fdca26"
             ],
             [
              1,
              "#f0f921"
             ]
            ],
            "type": "histogram2dcontour"
           }
          ],
          "mesh3d": [
           {
            "colorbar": {
             "outlinewidth": 0,
             "ticks": ""
            },
            "type": "mesh3d"
           }
          ],
          "parcoords": [
           {
            "line": {
             "colorbar": {
              "outlinewidth": 0,
              "ticks": ""
             }
            },
            "type": "parcoords"
           }
          ],
          "pie": [
           {
            "automargin": true,
            "type": "pie"
           }
          ],
          "scatter": [
           {
            "fillpattern": {
             "fillmode": "overlay",
             "size": 10,
             "solidity": 0.2
            },
            "type": "scatter"
           }
          ],
          "scatter3d": [
           {
            "line": {
             "colorbar": {
              "outlinewidth": 0,
              "ticks": ""
             }
            },
            "marker": {
             "colorbar": {
              "outlinewidth": 0,
              "ticks": ""
             }
            },
            "type": "scatter3d"
           }
          ],
          "scattercarpet": [
           {
            "marker": {
             "colorbar": {
              "outlinewidth": 0,
              "ticks": ""
             }
            },
            "type": "scattercarpet"
           }
          ],
          "scattergeo": [
           {
            "marker": {
             "colorbar": {
              "outlinewidth": 0,
              "ticks": ""
             }
            },
            "type": "scattergeo"
           }
          ],
          "scattergl": [
           {
            "marker": {
             "colorbar": {
              "outlinewidth": 0,
              "ticks": ""
             }
            },
            "type": "scattergl"
           }
          ],
          "scattermapbox": [
           {
            "marker": {
             "colorbar": {
              "outlinewidth": 0,
              "ticks": ""
             }
            },
            "type": "scattermapbox"
           }
          ],
          "scatterpolar": [
           {
            "marker": {
             "colorbar": {
              "outlinewidth": 0,
              "ticks": ""
             }
            },
            "type": "scatterpolar"
           }
          ],
          "scatterpolargl": [
           {
            "marker": {
             "colorbar": {
              "outlinewidth": 0,
              "ticks": ""
             }
            },
            "type": "scatterpolargl"
           }
          ],
          "scatterternary": [
           {
            "marker": {
             "colorbar": {
              "outlinewidth": 0,
              "ticks": ""
             }
            },
            "type": "scatterternary"
           }
          ],
          "surface": [
           {
            "colorbar": {
             "outlinewidth": 0,
             "ticks": ""
            },
            "colorscale": [
             [
              0,
              "#0d0887"
             ],
             [
              0.1111111111111111,
              "#46039f"
             ],
             [
              0.2222222222222222,
              "#7201a8"
             ],
             [
              0.3333333333333333,
              "#9c179e"
             ],
             [
              0.4444444444444444,
              "#bd3786"
             ],
             [
              0.5555555555555556,
              "#d8576b"
             ],
             [
              0.6666666666666666,
              "#ed7953"
             ],
             [
              0.7777777777777778,
              "#fb9f3a"
             ],
             [
              0.8888888888888888,
              "#fdca26"
             ],
             [
              1,
              "#f0f921"
             ]
            ],
            "type": "surface"
           }
          ],
          "table": [
           {
            "cells": {
             "fill": {
              "color": "#EBF0F8"
             },
             "line": {
              "color": "white"
             }
            },
            "header": {
             "fill": {
              "color": "#C8D4E3"
             },
             "line": {
              "color": "white"
             }
            },
            "type": "table"
           }
          ]
         },
         "layout": {
          "annotationdefaults": {
           "arrowcolor": "#2a3f5f",
           "arrowhead": 0,
           "arrowwidth": 1
          },
          "autotypenumbers": "strict",
          "coloraxis": {
           "colorbar": {
            "outlinewidth": 0,
            "ticks": ""
           }
          },
          "colorscale": {
           "diverging": [
            [
             0,
             "#8e0152"
            ],
            [
             0.1,
             "#c51b7d"
            ],
            [
             0.2,
             "#de77ae"
            ],
            [
             0.3,
             "#f1b6da"
            ],
            [
             0.4,
             "#fde0ef"
            ],
            [
             0.5,
             "#f7f7f7"
            ],
            [
             0.6,
             "#e6f5d0"
            ],
            [
             0.7,
             "#b8e186"
            ],
            [
             0.8,
             "#7fbc41"
            ],
            [
             0.9,
             "#4d9221"
            ],
            [
             1,
             "#276419"
            ]
           ],
           "sequential": [
            [
             0,
             "#0d0887"
            ],
            [
             0.1111111111111111,
             "#46039f"
            ],
            [
             0.2222222222222222,
             "#7201a8"
            ],
            [
             0.3333333333333333,
             "#9c179e"
            ],
            [
             0.4444444444444444,
             "#bd3786"
            ],
            [
             0.5555555555555556,
             "#d8576b"
            ],
            [
             0.6666666666666666,
             "#ed7953"
            ],
            [
             0.7777777777777778,
             "#fb9f3a"
            ],
            [
             0.8888888888888888,
             "#fdca26"
            ],
            [
             1,
             "#f0f921"
            ]
           ],
           "sequentialminus": [
            [
             0,
             "#0d0887"
            ],
            [
             0.1111111111111111,
             "#46039f"
            ],
            [
             0.2222222222222222,
             "#7201a8"
            ],
            [
             0.3333333333333333,
             "#9c179e"
            ],
            [
             0.4444444444444444,
             "#bd3786"
            ],
            [
             0.5555555555555556,
             "#d8576b"
            ],
            [
             0.6666666666666666,
             "#ed7953"
            ],
            [
             0.7777777777777778,
             "#fb9f3a"
            ],
            [
             0.8888888888888888,
             "#fdca26"
            ],
            [
             1,
             "#f0f921"
            ]
           ]
          },
          "colorway": [
           "#636efa",
           "#EF553B",
           "#00cc96",
           "#ab63fa",
           "#FFA15A",
           "#19d3f3",
           "#FF6692",
           "#B6E880",
           "#FF97FF",
           "#FECB52"
          ],
          "font": {
           "color": "#2a3f5f"
          },
          "geo": {
           "bgcolor": "white",
           "lakecolor": "white",
           "landcolor": "#E5ECF6",
           "showlakes": true,
           "showland": true,
           "subunitcolor": "white"
          },
          "hoverlabel": {
           "align": "left"
          },
          "hovermode": "closest",
          "mapbox": {
           "style": "light"
          },
          "paper_bgcolor": "white",
          "plot_bgcolor": "#E5ECF6",
          "polar": {
           "angularaxis": {
            "gridcolor": "white",
            "linecolor": "white",
            "ticks": ""
           },
           "bgcolor": "#E5ECF6",
           "radialaxis": {
            "gridcolor": "white",
            "linecolor": "white",
            "ticks": ""
           }
          },
          "scene": {
           "xaxis": {
            "backgroundcolor": "#E5ECF6",
            "gridcolor": "white",
            "gridwidth": 2,
            "linecolor": "white",
            "showbackground": true,
            "ticks": "",
            "zerolinecolor": "white"
           },
           "yaxis": {
            "backgroundcolor": "#E5ECF6",
            "gridcolor": "white",
            "gridwidth": 2,
            "linecolor": "white",
            "showbackground": true,
            "ticks": "",
            "zerolinecolor": "white"
           },
           "zaxis": {
            "backgroundcolor": "#E5ECF6",
            "gridcolor": "white",
            "gridwidth": 2,
            "linecolor": "white",
            "showbackground": true,
            "ticks": "",
            "zerolinecolor": "white"
           }
          },
          "shapedefaults": {
           "line": {
            "color": "#2a3f5f"
           }
          },
          "ternary": {
           "aaxis": {
            "gridcolor": "white",
            "linecolor": "white",
            "ticks": ""
           },
           "baxis": {
            "gridcolor": "white",
            "linecolor": "white",
            "ticks": ""
           },
           "bgcolor": "#E5ECF6",
           "caxis": {
            "gridcolor": "white",
            "linecolor": "white",
            "ticks": ""
           }
          },
          "title": {
           "x": 0.05
          },
          "xaxis": {
           "automargin": true,
           "gridcolor": "white",
           "linecolor": "white",
           "ticks": "",
           "title": {
            "standoff": 15
           },
           "zerolinecolor": "white",
           "zerolinewidth": 2
          },
          "yaxis": {
           "automargin": true,
           "gridcolor": "white",
           "linecolor": "white",
           "ticks": "",
           "title": {
            "standoff": 15
           },
           "zerolinecolor": "white",
           "zerolinewidth": 2
          }
         }
        },
        "title": {
         "font": {
          "color": "white",
          "size": 28
         },
         "text": "<b>NYY Win Percentage</b><br><em>Against Teams with Winning Records</em>",
         "x": 0.5,
         "xanchor": "center",
         "y": 0.9,
         "yanchor": "top"
        },
        "xaxis": {
         "dtick": "M1",
         "gridcolor": "rgb(20,45,75)",
         "gridwidth": 2,
         "range": [
          "2022-04-28",
          "2022-08-24"
         ],
         "tickfont": {
          "color": "#C4CED3",
          "size": 22
         },
         "tickformat": "<b>%b</b>",
         "ticklabelmode": "period"
        },
        "yaxis": {
         "gridcolor": "rgb(20,45,75)",
         "gridwidth": 2,
         "range": [
          0.54,
          0.81
         ],
         "tickfont": {
          "color": "#C4CED3",
          "size": 22
         },
         "tickmode": "array",
         "ticktext": [
          "<b>.550</b>",
          "<b>.600</b>",
          "<b>.650</b>",
          "<b>.700</b>",
          "<b>.750</b>",
          "<b>.800</b>"
         ],
         "tickvals": [
          0.55,
          0.6,
          0.65,
          0.7,
          0.75,
          0.8
         ],
         "title": {
          "font": {
           "color": "white",
           "size": 26
          },
          "text": "<br><b>Win %</b>"
         },
         "zerolinecolor": "rgb(20,45,75)",
         "zerolinewidth": 2
        }
       }
      },
      "text/html": [
       "<div>                            <div id=\"49e5f546-a438-40c9-ae36-1671b5231fd0\" class=\"plotly-graph-div\" style=\"height:525px; width:100%;\"></div>            <script type=\"text/javascript\">                require([\"plotly\"], function(Plotly) {                    window.PLOTLYENV=window.PLOTLYENV || {};                                    if (document.getElementById(\"49e5f546-a438-40c9-ae36-1671b5231fd0\")) {                    Plotly.newPlot(                        \"49e5f546-a438-40c9-ae36-1671b5231fd0\",                        [{\"line\":{\"color\":\"#7cf7d2\",\"shape\":\"spline\",\"smoothing\":0.75,\"width\":16},\"mode\":\"lines\",\"name\":\"Win%\",\"x\":[\"2022-05-02T00:00:00\",\"2022-05-03T00:00:00\",\"2022-05-04T00:00:00\",\"2022-05-10T00:00:00\",\"2022-05-11T00:00:00\",\"2022-05-16T00:00:00\",\"2022-05-17T00:00:00\",\"2022-05-18T00:00:00\",\"2022-05-19T00:00:00\",\"2022-05-23T00:00:00\",\"2022-05-24T00:00:00\",\"2022-05-25T00:00:00\",\"2022-05-26T00:00:00\",\"2022-05-27T00:00:00\",\"2022-05-28T00:00:00\",\"2022-05-29T00:00:00\",\"2022-06-07T00:00:00\",\"2022-06-08T00:00:00\",\"2022-06-09T00:00:00\",\"2022-06-14T00:00:00\",\"2022-06-15T00:00:00\",\"2022-06-16T00:00:00\",\"2022-06-17T00:00:00\",\"2022-06-18T00:00:00\",\"2022-06-19T00:00:00\",\"2022-06-20T00:00:00\",\"2022-06-21T00:00:00\",\"2022-06-22T00:00:00\",\"2022-06-23T00:00:00\",\"2022-06-24T00:00:00\",\"2022-06-25T00:00:00\",\"2022-06-26T00:00:00\",\"2022-06-30T00:00:00\",\"2022-07-02T00:00:00\",\"2022-07-02T00:00:00\",\"2022-07-03T00:00:00\",\"2022-07-21T00:00:00\",\"2022-07-21T00:00:00\",\"2022-07-22T00:00:00\",\"2022-07-23T00:00:00\",\"2022-07-24T00:00:00\",\"2022-07-26T00:00:00\",\"2022-07-27T00:00:00\",\"2022-08-01T00:00:00\",\"2022-08-02T00:00:00\",\"2022-08-03T00:00:00\",\"2022-08-05T00:00:00\",\"2022-08-06T00:00:00\",\"2022-08-07T00:00:00\",\"2022-08-08T00:00:00\",\"2022-08-09T00:00:00\",\"2022-08-10T00:00:00\"],\"y\":[0.714,0.733,0.688,0.706,0.722,0.737,0.75,0.762,0.727,0.696,0.708,0.72,0.731,0.741,0.714,0.69,0.7,0.677,0.688,0.697,0.706,0.714,0.722,0.73,0.711,0.718,0.7,0.707,0.714,0.698,0.682,0.689,0.674,0.681,0.688,0.673,0.66,0.647,0.654,0.642,0.648,0.636,0.625,0.632,0.621,0.61,0.6,0.59,0.581,0.587,0.578,0.569],\"type\":\"scatter\"},{\"marker\":{\"color\":\"#7cf7d2\",\"line\":{\"color\":\"#0C2340\",\"width\":3},\"size\":24},\"mode\":\"markers+text\",\"showlegend\":false,\"text\":[\"<b>.569</b>\"],\"textfont\":{\"color\":\"white\",\"size\":22},\"textposition\":\"middle right\",\"x\":[\"2022-08-10T00:00:00\"],\"y\":[0.569],\"type\":\"scatter\",\"line\":{\"shape\":\"spline\",\"smoothing\":0.75,\"width\":16}}],                        {\"template\":{\"data\":{\"histogram2dcontour\":[{\"type\":\"histogram2dcontour\",\"colorbar\":{\"outlinewidth\":0,\"ticks\":\"\"},\"colorscale\":[[0.0,\"#0d0887\"],[0.1111111111111111,\"#46039f\"],[0.2222222222222222,\"#7201a8\"],[0.3333333333333333,\"#9c179e\"],[0.4444444444444444,\"#bd3786\"],[0.5555555555555556,\"#d8576b\"],[0.6666666666666666,\"#ed7953\"],[0.7777777777777778,\"#fb9f3a\"],[0.8888888888888888,\"#fdca26\"],[1.0,\"#f0f921\"]]}],\"choropleth\":[{\"type\":\"choropleth\",\"colorbar\":{\"outlinewidth\":0,\"ticks\":\"\"}}],\"histogram2d\":[{\"type\":\"histogram2d\",\"colorbar\":{\"outlinewidth\":0,\"ticks\":\"\"},\"colorscale\":[[0.0,\"#0d0887\"],[0.1111111111111111,\"#46039f\"],[0.2222222222222222,\"#7201a8\"],[0.3333333333333333,\"#9c179e\"],[0.4444444444444444,\"#bd3786\"],[0.5555555555555556,\"#d8576b\"],[0.6666666666666666,\"#ed7953\"],[0.7777777777777778,\"#fb9f3a\"],[0.8888888888888888,\"#fdca26\"],[1.0,\"#f0f921\"]]}],\"heatmap\":[{\"type\":\"heatmap\",\"colorbar\":{\"outlinewidth\":0,\"ticks\":\"\"},\"colorscale\":[[0.0,\"#0d0887\"],[0.1111111111111111,\"#46039f\"],[0.2222222222222222,\"#7201a8\"],[0.3333333333333333,\"#9c179e\"],[0.4444444444444444,\"#bd3786\"],[0.5555555555555556,\"#d8576b\"],[0.6666666666666666,\"#ed7953\"],[0.7777777777777778,\"#fb9f3a\"],[0.8888888888888888,\"#fdca26\"],[1.0,\"#f0f921\"]]}],\"heatmapgl\":[{\"type\":\"heatmapgl\",\"colorbar\":{\"outlinewidth\":0,\"ticks\":\"\"},\"colorscale\":[[0.0,\"#0d0887\"],[0.1111111111111111,\"#46039f\"],[0.2222222222222222,\"#7201a8\"],[0.3333333333333333,\"#9c179e\"],[0.4444444444444444,\"#bd3786\"],[0.5555555555555556,\"#d8576b\"],[0.6666666666666666,\"#ed7953\"],[0.7777777777777778,\"#fb9f3a\"],[0.8888888888888888,\"#fdca26\"],[1.0,\"#f0f921\"]]}],\"contourcarpet\":[{\"type\":\"contourcarpet\",\"colorbar\":{\"outlinewidth\":0,\"ticks\":\"\"}}],\"contour\":[{\"type\":\"contour\",\"colorbar\":{\"outlinewidth\":0,\"ticks\":\"\"},\"colorscale\":[[0.0,\"#0d0887\"],[0.1111111111111111,\"#46039f\"],[0.2222222222222222,\"#7201a8\"],[0.3333333333333333,\"#9c179e\"],[0.4444444444444444,\"#bd3786\"],[0.5555555555555556,\"#d8576b\"],[0.6666666666666666,\"#ed7953\"],[0.7777777777777778,\"#fb9f3a\"],[0.8888888888888888,\"#fdca26\"],[1.0,\"#f0f921\"]]}],\"surface\":[{\"type\":\"surface\",\"colorbar\":{\"outlinewidth\":0,\"ticks\":\"\"},\"colorscale\":[[0.0,\"#0d0887\"],[0.1111111111111111,\"#46039f\"],[0.2222222222222222,\"#7201a8\"],[0.3333333333333333,\"#9c179e\"],[0.4444444444444444,\"#bd3786\"],[0.5555555555555556,\"#d8576b\"],[0.6666666666666666,\"#ed7953\"],[0.7777777777777778,\"#fb9f3a\"],[0.8888888888888888,\"#fdca26\"],[1.0,\"#f0f921\"]]}],\"mesh3d\":[{\"type\":\"mesh3d\",\"colorbar\":{\"outlinewidth\":0,\"ticks\":\"\"}}],\"scatter\":[{\"fillpattern\":{\"fillmode\":\"overlay\",\"size\":10,\"solidity\":0.2},\"type\":\"scatter\"}],\"parcoords\":[{\"type\":\"parcoords\",\"line\":{\"colorbar\":{\"outlinewidth\":0,\"ticks\":\"\"}}}],\"scatterpolargl\":[{\"type\":\"scatterpolargl\",\"marker\":{\"colorbar\":{\"outlinewidth\":0,\"ticks\":\"\"}}}],\"bar\":[{\"error_x\":{\"color\":\"#2a3f5f\"},\"error_y\":{\"color\":\"#2a3f5f\"},\"marker\":{\"line\":{\"color\":\"#E5ECF6\",\"width\":0.5},\"pattern\":{\"fillmode\":\"overlay\",\"size\":10,\"solidity\":0.2}},\"type\":\"bar\"}],\"scattergeo\":[{\"type\":\"scattergeo\",\"marker\":{\"colorbar\":{\"outlinewidth\":0,\"ticks\":\"\"}}}],\"scatterpolar\":[{\"type\":\"scatterpolar\",\"marker\":{\"colorbar\":{\"outlinewidth\":0,\"ticks\":\"\"}}}],\"histogram\":[{\"marker\":{\"pattern\":{\"fillmode\":\"overlay\",\"size\":10,\"solidity\":0.2}},\"type\":\"histogram\"}],\"scattergl\":[{\"type\":\"scattergl\",\"marker\":{\"colorbar\":{\"outlinewidth\":0,\"ticks\":\"\"}}}],\"scatter3d\":[{\"type\":\"scatter3d\",\"line\":{\"colorbar\":{\"outlinewidth\":0,\"ticks\":\"\"}},\"marker\":{\"colorbar\":{\"outlinewidth\":0,\"ticks\":\"\"}}}],\"scattermapbox\":[{\"type\":\"scattermapbox\",\"marker\":{\"colorbar\":{\"outlinewidth\":0,\"ticks\":\"\"}}}],\"scatterternary\":[{\"type\":\"scatterternary\",\"marker\":{\"colorbar\":{\"outlinewidth\":0,\"ticks\":\"\"}}}],\"scattercarpet\":[{\"type\":\"scattercarpet\",\"marker\":{\"colorbar\":{\"outlinewidth\":0,\"ticks\":\"\"}}}],\"carpet\":[{\"aaxis\":{\"endlinecolor\":\"#2a3f5f\",\"gridcolor\":\"white\",\"linecolor\":\"white\",\"minorgridcolor\":\"white\",\"startlinecolor\":\"#2a3f5f\"},\"baxis\":{\"endlinecolor\":\"#2a3f5f\",\"gridcolor\":\"white\",\"linecolor\":\"white\",\"minorgridcolor\":\"white\",\"startlinecolor\":\"#2a3f5f\"},\"type\":\"carpet\"}],\"table\":[{\"cells\":{\"fill\":{\"color\":\"#EBF0F8\"},\"line\":{\"color\":\"white\"}},\"header\":{\"fill\":{\"color\":\"#C8D4E3\"},\"line\":{\"color\":\"white\"}},\"type\":\"table\"}],\"barpolar\":[{\"marker\":{\"line\":{\"color\":\"#E5ECF6\",\"width\":0.5},\"pattern\":{\"fillmode\":\"overlay\",\"size\":10,\"solidity\":0.2}},\"type\":\"barpolar\"}],\"pie\":[{\"automargin\":true,\"type\":\"pie\"}]},\"layout\":{\"autotypenumbers\":\"strict\",\"colorway\":[\"#636efa\",\"#EF553B\",\"#00cc96\",\"#ab63fa\",\"#FFA15A\",\"#19d3f3\",\"#FF6692\",\"#B6E880\",\"#FF97FF\",\"#FECB52\"],\"font\":{\"color\":\"#2a3f5f\"},\"hovermode\":\"closest\",\"hoverlabel\":{\"align\":\"left\"},\"paper_bgcolor\":\"white\",\"plot_bgcolor\":\"#E5ECF6\",\"polar\":{\"bgcolor\":\"#E5ECF6\",\"angularaxis\":{\"gridcolor\":\"white\",\"linecolor\":\"white\",\"ticks\":\"\"},\"radialaxis\":{\"gridcolor\":\"white\",\"linecolor\":\"white\",\"ticks\":\"\"}},\"ternary\":{\"bgcolor\":\"#E5ECF6\",\"aaxis\":{\"gridcolor\":\"white\",\"linecolor\":\"white\",\"ticks\":\"\"},\"baxis\":{\"gridcolor\":\"white\",\"linecolor\":\"white\",\"ticks\":\"\"},\"caxis\":{\"gridcolor\":\"white\",\"linecolor\":\"white\",\"ticks\":\"\"}},\"coloraxis\":{\"colorbar\":{\"outlinewidth\":0,\"ticks\":\"\"}},\"colorscale\":{\"sequential\":[[0.0,\"#0d0887\"],[0.1111111111111111,\"#46039f\"],[0.2222222222222222,\"#7201a8\"],[0.3333333333333333,\"#9c179e\"],[0.4444444444444444,\"#bd3786\"],[0.5555555555555556,\"#d8576b\"],[0.6666666666666666,\"#ed7953\"],[0.7777777777777778,\"#fb9f3a\"],[0.8888888888888888,\"#fdca26\"],[1.0,\"#f0f921\"]],\"sequentialminus\":[[0.0,\"#0d0887\"],[0.1111111111111111,\"#46039f\"],[0.2222222222222222,\"#7201a8\"],[0.3333333333333333,\"#9c179e\"],[0.4444444444444444,\"#bd3786\"],[0.5555555555555556,\"#d8576b\"],[0.6666666666666666,\"#ed7953\"],[0.7777777777777778,\"#fb9f3a\"],[0.8888888888888888,\"#fdca26\"],[1.0,\"#f0f921\"]],\"diverging\":[[0,\"#8e0152\"],[0.1,\"#c51b7d\"],[0.2,\"#de77ae\"],[0.3,\"#f1b6da\"],[0.4,\"#fde0ef\"],[0.5,\"#f7f7f7\"],[0.6,\"#e6f5d0\"],[0.7,\"#b8e186\"],[0.8,\"#7fbc41\"],[0.9,\"#4d9221\"],[1,\"#276419\"]]},\"xaxis\":{\"gridcolor\":\"white\",\"linecolor\":\"white\",\"ticks\":\"\",\"title\":{\"standoff\":15},\"zerolinecolor\":\"white\",\"automargin\":true,\"zerolinewidth\":2},\"yaxis\":{\"gridcolor\":\"white\",\"linecolor\":\"white\",\"ticks\":\"\",\"title\":{\"standoff\":15},\"zerolinecolor\":\"white\",\"automargin\":true,\"zerolinewidth\":2},\"scene\":{\"xaxis\":{\"backgroundcolor\":\"#E5ECF6\",\"gridcolor\":\"white\",\"linecolor\":\"white\",\"showbackground\":true,\"ticks\":\"\",\"zerolinecolor\":\"white\",\"gridwidth\":2},\"yaxis\":{\"backgroundcolor\":\"#E5ECF6\",\"gridcolor\":\"white\",\"linecolor\":\"white\",\"showbackground\":true,\"ticks\":\"\",\"zerolinecolor\":\"white\",\"gridwidth\":2},\"zaxis\":{\"backgroundcolor\":\"#E5ECF6\",\"gridcolor\":\"white\",\"linecolor\":\"white\",\"showbackground\":true,\"ticks\":\"\",\"zerolinecolor\":\"white\",\"gridwidth\":2}},\"shapedefaults\":{\"line\":{\"color\":\"#2a3f5f\"}},\"annotationdefaults\":{\"arrowcolor\":\"#2a3f5f\",\"arrowhead\":0,\"arrowwidth\":1},\"geo\":{\"bgcolor\":\"white\",\"landcolor\":\"#E5ECF6\",\"subunitcolor\":\"white\",\"showland\":true,\"showlakes\":true,\"lakecolor\":\"white\"},\"title\":{\"x\":0.05},\"mapbox\":{\"style\":\"light\"}}},\"xaxis\":{\"tickfont\":{\"size\":22,\"color\":\"#C4CED3\"},\"dtick\":\"M1\",\"tickformat\":\"<b>%b</b>\",\"ticklabelmode\":\"period\",\"gridcolor\":\"rgb(20,45,75)\",\"gridwidth\":2,\"range\":[\"2022-04-28\",\"2022-08-24\"]},\"yaxis\":{\"title\":{\"font\":{\"size\":26,\"color\":\"white\"},\"text\":\"<br><b>Win %</b>\"},\"tickfont\":{\"size\":22,\"color\":\"#C4CED3\"},\"tickmode\":\"array\",\"ticktext\":[\"<b>.550</b>\",\"<b>.600</b>\",\"<b>.650</b>\",\"<b>.700</b>\",\"<b>.750</b>\",\"<b>.800</b>\"],\"tickvals\":[0.55,0.6,0.65,0.7,0.75,0.8],\"zerolinecolor\":\"rgb(20,45,75)\",\"zerolinewidth\":2,\"gridcolor\":\"rgb(20,45,75)\",\"gridwidth\":2,\"range\":[0.54,0.81]},\"title\":{\"font\":{\"size\":28,\"color\":\"white\"},\"text\":\"<b>NYY Win Percentage</b><br><em>Against Teams with Winning Records</em>\",\"y\":0.9,\"x\":0.5,\"xanchor\":\"center\",\"yanchor\":\"top\"},\"hoverlabel\":{\"font\":{\"size\":16},\"bgcolor\":\"#0C2340\"},\"margin\":{\"t\":110,\"b\":70,\"pad\":3},\"showlegend\":false,\"paper_bgcolor\":\"#0C2340\",\"plot_bgcolor\":\"#0C2340\"},                        {\"responsive\": true}                    ).then(function(){\n",
       "                            \n",
       "var gd = document.getElementById('49e5f546-a438-40c9-ae36-1671b5231fd0');\n",
       "var x = new MutationObserver(function (mutations, observer) {{\n",
       "        var display = window.getComputedStyle(gd).display;\n",
       "        if (!display || display === 'none') {{\n",
       "            console.log([gd, 'removed!']);\n",
       "            Plotly.purge(gd);\n",
       "            observer.disconnect();\n",
       "        }}\n",
       "}});\n",
       "\n",
       "// Listen for the removal of the full notebook cells\n",
       "var notebookContainer = gd.closest('#notebook-container');\n",
       "if (notebookContainer) {{\n",
       "    x.observe(notebookContainer, {childList: true});\n",
       "}}\n",
       "\n",
       "// Listen for the clearing of the current output cell\n",
       "var outputEl = gd.closest('.output');\n",
       "if (outputEl) {{\n",
       "    x.observe(outputEl, {childList: true});\n",
       "}}\n",
       "\n",
       "                        })                };                });            </script>        </div>"
      ]
     },
     "metadata": {},
     "output_type": "display_data"
    }
   ],
   "source": [
    "# Create traces\n",
    "fig = go.Figure()\n",
    "\n",
    "fig.add_trace(\n",
    "    go.Scatter(\n",
    "        x=x, y=y, mode='lines', name='Win%', line_color='#7cf7d2',\n",
    "        #customdata=hover, hovertemplate='%{customdata}<extra></extra>'\n",
    "))\n",
    "\n",
    "\n",
    "# Add traces for annotations and text for end of lines\n",
    "for i, d in enumerate(fig.data):\n",
    "    fig.add_trace(go.Scatter(x=[d.x[-1]],\n",
    "                             y=[d.y[-1]],\n",
    "                             mode='markers+text',\n",
    "                             text=['<b>' + str(y)[1:] + '</b>' for y in [d.y[-1]]],\n",
    "                             textfont = dict(\n",
    "                                 size=22,\n",
    "                                 color='white'),\n",
    "                             textposition='middle right',\n",
    "                             marker = dict(\n",
    "                                 size=24,\n",
    "                                 color = d.line.color,\n",
    "                                 line=dict(\n",
    "                                     width=3,\n",
    "                                     color=navy)),\n",
    "                             showlegend=False))\n",
    "\n",
    "\n",
    "# Format traces\n",
    "fig.update_traces(\n",
    "    line=dict(\n",
    "        shape='spline',\n",
    "        smoothing=0.75,\n",
    "        width=16)\n",
    ")\n",
    "\n",
    "\n",
    "# Format axes\n",
    "fig.update_xaxes(\n",
    "    dtick=\"M1\",\n",
    "    tickformat=\"<b>%b</b>\",\n",
    "    ticklabelmode=\"period\",\n",
    "    tickfont=dict(\n",
    "        size=22,\n",
    "        color=gray),\n",
    "    gridcolor='rgb(20,45,75)',\n",
    "    gridwidth=2,\n",
    ")\n",
    "\n",
    "fig.update_yaxes(\n",
    "    title=dict(\n",
    "        text=\"<br><b>Win %</b>\",\n",
    "        font=dict(\n",
    "            size=26,\n",
    "            color='white')),\n",
    "    tickfont=dict(\n",
    "        size=22,\n",
    "        color=gray),\n",
    "    tickmode='array',\n",
    "    ticktext=['<b>' + x + '</b>' for x in ['.550','.600','.650','.700','.750','.800']],\n",
    "    tickvals=[0.55, 0.6, 0.65, 0.7, 0.75, 0.8],\n",
    "    zerolinecolor='rgb(20,45,75)',\n",
    "    zerolinewidth=2,\n",
    "    gridcolor='rgb(20,45,75)',\n",
    "    gridwidth=2\n",
    ")\n",
    "\n",
    "\n",
    "# Format layout\n",
    "fig.update_layout(\n",
    "    title=dict(\n",
    "        text=\"<b>NYY Win Percentage</b><br><em>Against Teams with Winning Records</em>\",\n",
    "        y=0.9,\n",
    "        x=0.5,\n",
    "        xanchor='center',\n",
    "        yanchor='top',\n",
    "        font=dict(\n",
    "            size=28,\n",
    "            color='white')),\n",
    "    xaxis_range=['2022-04-28','2022-08-24'],\n",
    "    yaxis_range=[0.54,0.81],\n",
    "    showlegend=False,\n",
    "    hoverlabel=dict(\n",
    "        bgcolor=navy,\n",
    "        font_size=16),\n",
    "    paper_bgcolor=navy,\n",
    "    plot_bgcolor=navy,\n",
    "    margin=dict(\n",
    "        t=110,\n",
    "        b=70,\n",
    "        pad=3)\n",
    ")\n",
    "\n",
    "\n",
    "# Save chart online to Plotly Chart Studio\n",
    "#py.iplot(fig, filename='DJ-LeMahieu')"
   ]
  }
 ],
 "metadata": {
  "kernelspec": {
   "display_name": "PythonData",
   "language": "python",
   "name": "pythondata"
  },
  "language_info": {
   "codemirror_mode": {
    "name": "ipython",
    "version": 3
   },
   "file_extension": ".py",
   "mimetype": "text/x-python",
   "name": "python",
   "nbconvert_exporter": "python",
   "pygments_lexer": "ipython3",
   "version": "3.7.11"
  }
 },
 "nbformat": 4,
 "nbformat_minor": 5
}
