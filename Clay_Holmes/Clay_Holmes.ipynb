{
 "cells": [
  {
   "cell_type": "code",
   "execution_count": 1,
   "id": "5fda4d75",
   "metadata": {},
   "outputs": [],
   "source": [
    "# Import dependencies\n",
    "import pandas as pd\n",
    "import plotly.graph_objects as go"
   ]
  },
  {
   "cell_type": "markdown",
   "id": "f05d00eb",
   "metadata": {},
   "source": [
    "## Data Processing"
   ]
  },
  {
   "cell_type": "code",
   "execution_count": 2,
   "id": "dfbb3618",
   "metadata": {},
   "outputs": [
    {
     "data": {
      "text/html": [
       "<div>\n",
       "<style scoped>\n",
       "    .dataframe tbody tr th:only-of-type {\n",
       "        vertical-align: middle;\n",
       "    }\n",
       "\n",
       "    .dataframe tbody tr th {\n",
       "        vertical-align: top;\n",
       "    }\n",
       "\n",
       "    .dataframe thead th {\n",
       "        text-align: right;\n",
       "    }\n",
       "</style>\n",
       "<table border=\"1\" class=\"dataframe\">\n",
       "  <thead>\n",
       "    <tr style=\"text-align: right;\">\n",
       "      <th></th>\n",
       "      <th>Rk</th>\n",
       "      <th>Gtm</th>\n",
       "      <th>Date</th>\n",
       "      <th>IP</th>\n",
       "      <th>H</th>\n",
       "      <th>R</th>\n",
       "      <th>ER</th>\n",
       "      <th>BB</th>\n",
       "      <th>SO</th>\n",
       "      <th>HR</th>\n",
       "      <th>HBP</th>\n",
       "      <th>ERA</th>\n",
       "      <th>FIP</th>\n",
       "      <th>AVG</th>\n",
       "      <th>WHIP</th>\n",
       "    </tr>\n",
       "  </thead>\n",
       "  <tbody>\n",
       "    <tr>\n",
       "      <th>0</th>\n",
       "      <td>1</td>\n",
       "      <td>1</td>\n",
       "      <td>Apr 8</td>\n",
       "      <td>0.2</td>\n",
       "      <td>3</td>\n",
       "      <td>1</td>\n",
       "      <td>1</td>\n",
       "      <td>0</td>\n",
       "      <td>0</td>\n",
       "      <td>0</td>\n",
       "      <td>0</td>\n",
       "      <td>13.50</td>\n",
       "      <td>3.11</td>\n",
       "      <td>0.600</td>\n",
       "      <td>4.50</td>\n",
       "    </tr>\n",
       "    <tr>\n",
       "      <th>1</th>\n",
       "      <td>2</td>\n",
       "      <td>2</td>\n",
       "      <td>Apr 9</td>\n",
       "      <td>1.0</td>\n",
       "      <td>0</td>\n",
       "      <td>0</td>\n",
       "      <td>0</td>\n",
       "      <td>1</td>\n",
       "      <td>1</td>\n",
       "      <td>0</td>\n",
       "      <td>0</td>\n",
       "      <td>5.40</td>\n",
       "      <td>3.71</td>\n",
       "      <td>0.375</td>\n",
       "      <td>2.40</td>\n",
       "    </tr>\n",
       "    <tr>\n",
       "      <th>2</th>\n",
       "      <td>3</td>\n",
       "      <td>5</td>\n",
       "      <td>Apr 12</td>\n",
       "      <td>1.2</td>\n",
       "      <td>0</td>\n",
       "      <td>0</td>\n",
       "      <td>0</td>\n",
       "      <td>0</td>\n",
       "      <td>2</td>\n",
       "      <td>0</td>\n",
       "      <td>0</td>\n",
       "      <td>2.70</td>\n",
       "      <td>2.21</td>\n",
       "      <td>0.231</td>\n",
       "      <td>1.20</td>\n",
       "    </tr>\n",
       "    <tr>\n",
       "      <th>3</th>\n",
       "      <td>4</td>\n",
       "      <td>7</td>\n",
       "      <td>Apr 14</td>\n",
       "      <td>0.2</td>\n",
       "      <td>1</td>\n",
       "      <td>0</td>\n",
       "      <td>0</td>\n",
       "      <td>0</td>\n",
       "      <td>1</td>\n",
       "      <td>0</td>\n",
       "      <td>0</td>\n",
       "      <td>2.25</td>\n",
       "      <td>1.86</td>\n",
       "      <td>0.250</td>\n",
       "      <td>1.25</td>\n",
       "    </tr>\n",
       "    <tr>\n",
       "      <th>4</th>\n",
       "      <td>5</td>\n",
       "      <td>9</td>\n",
       "      <td>Apr 16</td>\n",
       "      <td>1.1</td>\n",
       "      <td>0</td>\n",
       "      <td>0</td>\n",
       "      <td>0</td>\n",
       "      <td>0</td>\n",
       "      <td>1</td>\n",
       "      <td>0</td>\n",
       "      <td>0</td>\n",
       "      <td>1.69</td>\n",
       "      <td>1.80</td>\n",
       "      <td>0.200</td>\n",
       "      <td>0.94</td>\n",
       "    </tr>\n",
       "  </tbody>\n",
       "</table>\n",
       "</div>"
      ],
      "text/plain": [
       "   Rk  Gtm    Date   IP  H  R  ER  BB  SO  HR  HBP    ERA   FIP    AVG  WHIP\n",
       "0   1    1   Apr 8  0.2  3  1   1   0   0   0    0  13.50  3.11  0.600  4.50\n",
       "1   2    2   Apr 9  1.0  0  0   0   1   1   0    0   5.40  3.71  0.375  2.40\n",
       "2   3    5  Apr 12  1.2  0  0   0   0   2   0    0   2.70  2.21  0.231  1.20\n",
       "3   4    7  Apr 14  0.2  1  0   0   0   1   0    0   2.25  1.86  0.250  1.25\n",
       "4   5    9  Apr 16  1.1  0  0   0   0   1   0    0   1.69  1.80  0.200  0.94"
      ]
     },
     "execution_count": 2,
     "metadata": {},
     "output_type": "execute_result"
    }
   ],
   "source": [
    "# Read in Holmes' game logs\n",
    "holmes_df = pd.read_csv('Resources/Data/holmes_logs.csv')\n",
    "holmes_df.head()"
   ]
  },
  {
   "cell_type": "code",
   "execution_count": 3,
   "id": "677215a4",
   "metadata": {},
   "outputs": [
    {
     "data": {
      "text/html": [
       "<div>\n",
       "<style scoped>\n",
       "    .dataframe tbody tr th:only-of-type {\n",
       "        vertical-align: middle;\n",
       "    }\n",
       "\n",
       "    .dataframe tbody tr th {\n",
       "        vertical-align: top;\n",
       "    }\n",
       "\n",
       "    .dataframe thead th {\n",
       "        text-align: right;\n",
       "    }\n",
       "</style>\n",
       "<table border=\"1\" class=\"dataframe\">\n",
       "  <thead>\n",
       "    <tr style=\"text-align: right;\">\n",
       "      <th></th>\n",
       "      <th>Rk</th>\n",
       "      <th>Gtm</th>\n",
       "      <th>Date</th>\n",
       "      <th>IP</th>\n",
       "      <th>H</th>\n",
       "      <th>R</th>\n",
       "      <th>ER</th>\n",
       "      <th>BB</th>\n",
       "      <th>SO</th>\n",
       "      <th>HR</th>\n",
       "      <th>HBP</th>\n",
       "      <th>ERA</th>\n",
       "      <th>FIP</th>\n",
       "      <th>AVG</th>\n",
       "      <th>WHIP</th>\n",
       "      <th>totalSO</th>\n",
       "      <th>floatIP</th>\n",
       "      <th>totalIP</th>\n",
       "      <th>SO/IP</th>\n",
       "    </tr>\n",
       "  </thead>\n",
       "  <tbody>\n",
       "    <tr>\n",
       "      <th>0</th>\n",
       "      <td>1</td>\n",
       "      <td>1</td>\n",
       "      <td>Apr 8</td>\n",
       "      <td>0.2</td>\n",
       "      <td>3</td>\n",
       "      <td>1</td>\n",
       "      <td>1</td>\n",
       "      <td>0</td>\n",
       "      <td>0</td>\n",
       "      <td>0</td>\n",
       "      <td>0</td>\n",
       "      <td>13.50</td>\n",
       "      <td>3.11</td>\n",
       "      <td>0.600</td>\n",
       "      <td>4.50</td>\n",
       "      <td>0</td>\n",
       "      <td>0.67</td>\n",
       "      <td>0.67</td>\n",
       "      <td>0.00</td>\n",
       "    </tr>\n",
       "    <tr>\n",
       "      <th>1</th>\n",
       "      <td>2</td>\n",
       "      <td>2</td>\n",
       "      <td>Apr 9</td>\n",
       "      <td>1.0</td>\n",
       "      <td>0</td>\n",
       "      <td>0</td>\n",
       "      <td>0</td>\n",
       "      <td>1</td>\n",
       "      <td>1</td>\n",
       "      <td>0</td>\n",
       "      <td>0</td>\n",
       "      <td>5.40</td>\n",
       "      <td>3.71</td>\n",
       "      <td>0.375</td>\n",
       "      <td>2.40</td>\n",
       "      <td>1</td>\n",
       "      <td>1.00</td>\n",
       "      <td>1.67</td>\n",
       "      <td>0.60</td>\n",
       "    </tr>\n",
       "    <tr>\n",
       "      <th>2</th>\n",
       "      <td>3</td>\n",
       "      <td>5</td>\n",
       "      <td>Apr 12</td>\n",
       "      <td>1.2</td>\n",
       "      <td>0</td>\n",
       "      <td>0</td>\n",
       "      <td>0</td>\n",
       "      <td>0</td>\n",
       "      <td>2</td>\n",
       "      <td>0</td>\n",
       "      <td>0</td>\n",
       "      <td>2.70</td>\n",
       "      <td>2.21</td>\n",
       "      <td>0.231</td>\n",
       "      <td>1.20</td>\n",
       "      <td>3</td>\n",
       "      <td>1.67</td>\n",
       "      <td>3.33</td>\n",
       "      <td>0.90</td>\n",
       "    </tr>\n",
       "    <tr>\n",
       "      <th>3</th>\n",
       "      <td>4</td>\n",
       "      <td>7</td>\n",
       "      <td>Apr 14</td>\n",
       "      <td>0.2</td>\n",
       "      <td>1</td>\n",
       "      <td>0</td>\n",
       "      <td>0</td>\n",
       "      <td>0</td>\n",
       "      <td>1</td>\n",
       "      <td>0</td>\n",
       "      <td>0</td>\n",
       "      <td>2.25</td>\n",
       "      <td>1.86</td>\n",
       "      <td>0.250</td>\n",
       "      <td>1.25</td>\n",
       "      <td>4</td>\n",
       "      <td>0.67</td>\n",
       "      <td>4.00</td>\n",
       "      <td>1.00</td>\n",
       "    </tr>\n",
       "    <tr>\n",
       "      <th>4</th>\n",
       "      <td>5</td>\n",
       "      <td>9</td>\n",
       "      <td>Apr 16</td>\n",
       "      <td>1.1</td>\n",
       "      <td>0</td>\n",
       "      <td>0</td>\n",
       "      <td>0</td>\n",
       "      <td>0</td>\n",
       "      <td>1</td>\n",
       "      <td>0</td>\n",
       "      <td>0</td>\n",
       "      <td>1.69</td>\n",
       "      <td>1.80</td>\n",
       "      <td>0.200</td>\n",
       "      <td>0.94</td>\n",
       "      <td>5</td>\n",
       "      <td>1.33</td>\n",
       "      <td>5.33</td>\n",
       "      <td>0.94</td>\n",
       "    </tr>\n",
       "  </tbody>\n",
       "</table>\n",
       "</div>"
      ],
      "text/plain": [
       "   Rk  Gtm    Date   IP  H  R  ER  BB  SO  HR  HBP    ERA   FIP    AVG  WHIP  \\\n",
       "0   1    1   Apr 8  0.2  3  1   1   0   0   0    0  13.50  3.11  0.600  4.50   \n",
       "1   2    2   Apr 9  1.0  0  0   0   1   1   0    0   5.40  3.71  0.375  2.40   \n",
       "2   3    5  Apr 12  1.2  0  0   0   0   2   0    0   2.70  2.21  0.231  1.20   \n",
       "3   4    7  Apr 14  0.2  1  0   0   0   1   0    0   2.25  1.86  0.250  1.25   \n",
       "4   5    9  Apr 16  1.1  0  0   0   0   1   0    0   1.69  1.80  0.200  0.94   \n",
       "\n",
       "   totalSO  floatIP  totalIP  SO/IP  \n",
       "0        0     0.67     0.67   0.00  \n",
       "1        1     1.00     1.67   0.60  \n",
       "2        3     1.67     3.33   0.90  \n",
       "3        4     0.67     4.00   1.00  \n",
       "4        5     1.33     5.33   0.94  "
      ]
     },
     "execution_count": 3,
     "metadata": {},
     "output_type": "execute_result"
    }
   ],
   "source": [
    "# Create SO/IP colum\n",
    "holmes_df['totalSO'] = holmes_df['SO'].cumsum()\n",
    "holmes_df['floatIP'] = holmes_df['IP'].apply(lambda x: int(x) + (x % 1)*10/3)\n",
    "holmes_df['totalIP'] = holmes_df['floatIP'].cumsum()\n",
    "holmes_df['SO/IP'] = holmes_df['totalSO'] / holmes_df['totalIP']\n",
    "holmes_df = holmes_df.round({'floatIP': 2, 'totalIP': 2, 'SO/IP': 2})\n",
    "holmes_df.head()"
   ]
  },
  {
   "cell_type": "code",
   "execution_count": 4,
   "id": "a5eeebab",
   "metadata": {},
   "outputs": [
    {
     "data": {
      "text/html": [
       "<div>\n",
       "<style scoped>\n",
       "    .dataframe tbody tr th:only-of-type {\n",
       "        vertical-align: middle;\n",
       "    }\n",
       "\n",
       "    .dataframe tbody tr th {\n",
       "        vertical-align: top;\n",
       "    }\n",
       "\n",
       "    .dataframe thead th {\n",
       "        text-align: right;\n",
       "    }\n",
       "</style>\n",
       "<table border=\"1\" class=\"dataframe\">\n",
       "  <thead>\n",
       "    <tr style=\"text-align: right;\">\n",
       "      <th></th>\n",
       "      <th>Rk</th>\n",
       "      <th>Gtm</th>\n",
       "      <th>Date</th>\n",
       "      <th>ERA</th>\n",
       "      <th>FIP</th>\n",
       "      <th>AVG</th>\n",
       "      <th>WHIP</th>\n",
       "      <th>SO/IP</th>\n",
       "    </tr>\n",
       "  </thead>\n",
       "  <tbody>\n",
       "    <tr>\n",
       "      <th>0</th>\n",
       "      <td>1</td>\n",
       "      <td>1</td>\n",
       "      <td>Apr 8</td>\n",
       "      <td>13.50</td>\n",
       "      <td>3.11</td>\n",
       "      <td>0.600</td>\n",
       "      <td>4.50</td>\n",
       "      <td>0.00</td>\n",
       "    </tr>\n",
       "    <tr>\n",
       "      <th>1</th>\n",
       "      <td>2</td>\n",
       "      <td>2</td>\n",
       "      <td>Apr 9</td>\n",
       "      <td>5.40</td>\n",
       "      <td>3.71</td>\n",
       "      <td>0.375</td>\n",
       "      <td>2.40</td>\n",
       "      <td>0.60</td>\n",
       "    </tr>\n",
       "    <tr>\n",
       "      <th>2</th>\n",
       "      <td>3</td>\n",
       "      <td>5</td>\n",
       "      <td>Apr 12</td>\n",
       "      <td>2.70</td>\n",
       "      <td>2.21</td>\n",
       "      <td>0.231</td>\n",
       "      <td>1.20</td>\n",
       "      <td>0.90</td>\n",
       "    </tr>\n",
       "    <tr>\n",
       "      <th>3</th>\n",
       "      <td>4</td>\n",
       "      <td>7</td>\n",
       "      <td>Apr 14</td>\n",
       "      <td>2.25</td>\n",
       "      <td>1.86</td>\n",
       "      <td>0.250</td>\n",
       "      <td>1.25</td>\n",
       "      <td>1.00</td>\n",
       "    </tr>\n",
       "    <tr>\n",
       "      <th>4</th>\n",
       "      <td>5</td>\n",
       "      <td>9</td>\n",
       "      <td>Apr 16</td>\n",
       "      <td>1.69</td>\n",
       "      <td>1.80</td>\n",
       "      <td>0.200</td>\n",
       "      <td>0.94</td>\n",
       "      <td>0.94</td>\n",
       "    </tr>\n",
       "  </tbody>\n",
       "</table>\n",
       "</div>"
      ],
      "text/plain": [
       "   Rk  Gtm    Date    ERA   FIP    AVG  WHIP  SO/IP\n",
       "0   1    1   Apr 8  13.50  3.11  0.600  4.50   0.00\n",
       "1   2    2   Apr 9   5.40  3.71  0.375  2.40   0.60\n",
       "2   3    5  Apr 12   2.70  2.21  0.231  1.20   0.90\n",
       "3   4    7  Apr 14   2.25  1.86  0.250  1.25   1.00\n",
       "4   5    9  Apr 16   1.69  1.80  0.200  0.94   0.94"
      ]
     },
     "execution_count": 4,
     "metadata": {},
     "output_type": "execute_result"
    }
   ],
   "source": [
    "# Filter for necessary columns\n",
    "holmes_df = holmes_df[['Rk', 'Gtm', 'Date', 'ERA', 'FIP', 'AVG', 'WHIP', 'SO/IP']]\n",
    "holmes_df.head()"
   ]
  },
  {
   "cell_type": "code",
   "execution_count": 5,
   "id": "b4248d20",
   "metadata": {},
   "outputs": [
    {
     "data": {
      "text/plain": [
       "Rk                int64\n",
       "Gtm               int64\n",
       "Date     datetime64[ns]\n",
       "ERA             float64\n",
       "FIP             float64\n",
       "AVG             float64\n",
       "WHIP            float64\n",
       "SO/IP           float64\n",
       "dtype: object"
      ]
     },
     "execution_count": 5,
     "metadata": {},
     "output_type": "execute_result"
    }
   ],
   "source": [
    "# Convert Date string to datetime\n",
    "holmes_df['Date'] = holmes_df['Date'] + ' 2022'\n",
    "holmes_df['Date'] = pd.to_datetime(holmes_df['Date'], format=\"%b %d %Y\")\n",
    "holmes_df.dtypes"
   ]
  },
  {
   "cell_type": "code",
   "execution_count": 6,
   "id": "8f2f597d",
   "metadata": {},
   "outputs": [
    {
     "data": {
      "text/html": [
       "<div>\n",
       "<style scoped>\n",
       "    .dataframe tbody tr th:only-of-type {\n",
       "        vertical-align: middle;\n",
       "    }\n",
       "\n",
       "    .dataframe tbody tr th {\n",
       "        vertical-align: top;\n",
       "    }\n",
       "\n",
       "    .dataframe thead th {\n",
       "        text-align: right;\n",
       "    }\n",
       "</style>\n",
       "<table border=\"1\" class=\"dataframe\">\n",
       "  <thead>\n",
       "    <tr style=\"text-align: right;\">\n",
       "      <th></th>\n",
       "      <th>Rk</th>\n",
       "      <th>Gtm</th>\n",
       "      <th>Date</th>\n",
       "      <th>ERA</th>\n",
       "      <th>FIP</th>\n",
       "      <th>AVG</th>\n",
       "      <th>WHIP</th>\n",
       "      <th>SO/IP</th>\n",
       "    </tr>\n",
       "  </thead>\n",
       "  <tbody>\n",
       "    <tr>\n",
       "      <th>17</th>\n",
       "      <td>18</td>\n",
       "      <td>34</td>\n",
       "      <td>2022-05-15</td>\n",
       "      <td>0.49</td>\n",
       "      <td>1.64</td>\n",
       "      <td>0.185</td>\n",
       "      <td>0.76</td>\n",
       "      <td>0.98</td>\n",
       "    </tr>\n",
       "    <tr>\n",
       "      <th>18</th>\n",
       "      <td>19</td>\n",
       "      <td>37</td>\n",
       "      <td>2022-05-18</td>\n",
       "      <td>0.44</td>\n",
       "      <td>1.69</td>\n",
       "      <td>0.183</td>\n",
       "      <td>0.74</td>\n",
       "      <td>0.93</td>\n",
       "    </tr>\n",
       "    <tr>\n",
       "      <th>19</th>\n",
       "      <td>20</td>\n",
       "      <td>39</td>\n",
       "      <td>2022-05-21</td>\n",
       "      <td>0.42</td>\n",
       "      <td>1.59</td>\n",
       "      <td>0.173</td>\n",
       "      <td>0.69</td>\n",
       "      <td>0.97</td>\n",
       "    </tr>\n",
       "    <tr>\n",
       "      <th>20</th>\n",
       "      <td>21</td>\n",
       "      <td>43</td>\n",
       "      <td>2022-05-24</td>\n",
       "      <td>0.40</td>\n",
       "      <td>1.48</td>\n",
       "      <td>0.167</td>\n",
       "      <td>0.66</td>\n",
       "      <td>1.01</td>\n",
       "    </tr>\n",
       "    <tr>\n",
       "      <th>21</th>\n",
       "      <td>22</td>\n",
       "      <td>44</td>\n",
       "      <td>2022-05-25</td>\n",
       "      <td>0.38</td>\n",
       "      <td>1.46</td>\n",
       "      <td>0.181</td>\n",
       "      <td>0.72</td>\n",
       "      <td>1.01</td>\n",
       "    </tr>\n",
       "  </tbody>\n",
       "</table>\n",
       "</div>"
      ],
      "text/plain": [
       "    Rk  Gtm       Date   ERA   FIP    AVG  WHIP  SO/IP\n",
       "17  18   34 2022-05-15  0.49  1.64  0.185  0.76   0.98\n",
       "18  19   37 2022-05-18  0.44  1.69  0.183  0.74   0.93\n",
       "19  20   39 2022-05-21  0.42  1.59  0.173  0.69   0.97\n",
       "20  21   43 2022-05-24  0.40  1.48  0.167  0.66   1.01\n",
       "21  22   44 2022-05-25  0.38  1.46  0.181  0.72   1.01"
      ]
     },
     "execution_count": 6,
     "metadata": {},
     "output_type": "execute_result"
    }
   ],
   "source": [
    "# Filter for games after Holmes became closer\n",
    "holmes_df = holmes_df.loc[holmes_df['Date'] >= '2022-05-15']\n",
    "holmes_df.head()"
   ]
  },
  {
   "cell_type": "markdown",
   "id": "b67eb344",
   "metadata": {},
   "source": [
    "## Viz"
   ]
  },
  {
   "cell_type": "code",
   "execution_count": 95,
   "id": "960ea8bc",
   "metadata": {},
   "outputs": [
    {
     "data": {
      "application/vnd.plotly.v1+json": {
       "config": {
        "plotlyServerURL": "https://plot.ly"
       },
       "data": [
        {
         "line": {
          "color": "#db5f4f",
          "width": 12
         },
         "marker": {
          "line": {
           "color": "white",
           "width": 2
          },
          "size": 22
         },
         "mode": "lines+markers",
         "name": "FIP",
         "type": "scatter",
         "x": [
          "2022-05-15T00:00:00",
          "2022-05-18T00:00:00",
          "2022-05-21T00:00:00",
          "2022-05-24T00:00:00",
          "2022-05-25T00:00:00",
          "2022-05-27T00:00:00",
          "2022-06-02T00:00:00",
          "2022-06-04T00:00:00",
          "2022-06-09T00:00:00",
          "2022-06-10T00:00:00",
          "2022-06-14T00:00:00",
          "2022-06-15T00:00:00",
          "2022-06-18T00:00:00",
          "2022-06-20T00:00:00",
          "2022-06-22T00:00:00",
          "2022-06-26T00:00:00",
          "2022-06-28T00:00:00",
          "2022-06-29T00:00:00",
          "2022-07-02T00:00:00",
          "2022-07-07T00:00:00",
          "2022-07-09T00:00:00",
          "2022-07-12T00:00:00",
          "2022-07-13T00:00:00",
          "2022-07-15T00:00:00",
          "2022-07-22T00:00:00",
          "2022-07-27T00:00:00",
          "2022-07-28T00:00:00",
          "2022-07-31T00:00:00",
          "2022-08-05T00:00:00"
         ],
         "y": [
          1.64,
          1.69,
          1.59,
          1.48,
          1.46,
          1.37,
          1.71,
          1.69,
          1.67,
          1.72,
          1.63,
          1.61,
          1.61,
          1.67,
          1.66,
          1.73,
          1.65,
          1.69,
          1.71,
          1.69,
          1.76,
          1.99,
          2.05,
          2,
          1.9,
          2,
          2.11,
          2.54,
          2.53
         ]
        },
        {
         "line": {
          "color": "#d4db6b",
          "width": 12
         },
         "marker": {
          "line": {
           "color": "white",
           "width": 2
          },
          "size": 22
         },
         "mode": "lines+markers",
         "name": "ERA",
         "type": "scatter",
         "x": [
          "2022-05-15T00:00:00",
          "2022-05-18T00:00:00",
          "2022-05-21T00:00:00",
          "2022-05-24T00:00:00",
          "2022-05-25T00:00:00",
          "2022-05-27T00:00:00",
          "2022-06-02T00:00:00",
          "2022-06-04T00:00:00",
          "2022-06-09T00:00:00",
          "2022-06-10T00:00:00",
          "2022-06-14T00:00:00",
          "2022-06-15T00:00:00",
          "2022-06-18T00:00:00",
          "2022-06-20T00:00:00",
          "2022-06-22T00:00:00",
          "2022-06-26T00:00:00",
          "2022-06-28T00:00:00",
          "2022-06-29T00:00:00",
          "2022-07-02T00:00:00",
          "2022-07-07T00:00:00",
          "2022-07-09T00:00:00",
          "2022-07-12T00:00:00",
          "2022-07-13T00:00:00",
          "2022-07-15T00:00:00",
          "2022-07-22T00:00:00",
          "2022-07-27T00:00:00",
          "2022-07-28T00:00:00",
          "2022-07-31T00:00:00",
          "2022-08-05T00:00:00"
         ],
         "y": [
          0.49,
          0.44,
          0.42,
          0.4,
          0.38,
          0.36,
          0.35,
          0.34,
          0.33,
          0.31,
          0.3,
          0.29,
          0.28,
          0.55,
          0.53,
          0.52,
          0.5,
          0.49,
          0.49,
          0.47,
          0.46,
          1.37,
          1.34,
          1.31,
          1.26,
          1.23,
          1.2,
          1.77,
          2.12
         ]
        },
        {
         "line": {
          "color": "#4fbfdb",
          "width": 12
         },
         "marker": {
          "line": {
           "color": "white",
           "width": 2
          },
          "size": 22
         },
         "mode": "lines+markers",
         "name": "WHIP",
         "type": "scatter",
         "x": [
          "2022-05-15T00:00:00",
          "2022-05-18T00:00:00",
          "2022-05-21T00:00:00",
          "2022-05-24T00:00:00",
          "2022-05-25T00:00:00",
          "2022-05-27T00:00:00",
          "2022-06-02T00:00:00",
          "2022-06-04T00:00:00",
          "2022-06-09T00:00:00",
          "2022-06-10T00:00:00",
          "2022-06-14T00:00:00",
          "2022-06-15T00:00:00",
          "2022-06-18T00:00:00",
          "2022-06-20T00:00:00",
          "2022-06-22T00:00:00",
          "2022-06-26T00:00:00",
          "2022-06-28T00:00:00",
          "2022-06-29T00:00:00",
          "2022-07-02T00:00:00",
          "2022-07-07T00:00:00",
          "2022-07-09T00:00:00",
          "2022-07-12T00:00:00",
          "2022-07-13T00:00:00",
          "2022-07-15T00:00:00",
          "2022-07-22T00:00:00",
          "2022-07-27T00:00:00",
          "2022-07-28T00:00:00",
          "2022-07-31T00:00:00",
          "2022-08-05T00:00:00"
         ],
         "y": [
          0.76,
          0.74,
          0.69,
          0.66,
          0.72,
          0.69,
          0.7,
          0.68,
          0.65,
          0.66,
          0.67,
          0.68,
          0.66,
          0.73,
          0.71,
          0.72,
          0.76,
          0.74,
          0.73,
          0.71,
          0.74,
          0.81,
          0.84,
          0.87,
          0.86,
          0.86,
          0.89,
          0.92,
          0.96
         ]
        },
        {
         "line": {
          "width": 12
         },
         "marker": {
          "color": "#db5f4f",
          "line": {
           "color": "white",
           "width": 2
          },
          "size": 22
         },
         "mode": "markers+text",
         "showlegend": false,
         "text": [
          "<b>2.53</b>"
         ],
         "textfont": {
          "color": "white",
          "size": 18
         },
         "textposition": "middle right",
         "type": "scatter",
         "x": [
          "2022-08-05T00:00:00"
         ],
         "y": [
          2.53
         ]
        },
        {
         "line": {
          "width": 12
         },
         "marker": {
          "color": "#d4db6b",
          "line": {
           "color": "white",
           "width": 2
          },
          "size": 22
         },
         "mode": "markers+text",
         "showlegend": false,
         "text": [
          "<b>2.12</b>"
         ],
         "textfont": {
          "color": "white",
          "size": 18
         },
         "textposition": "middle right",
         "type": "scatter",
         "x": [
          "2022-08-05T00:00:00"
         ],
         "y": [
          2.12
         ]
        },
        {
         "line": {
          "width": 12
         },
         "marker": {
          "color": "#4fbfdb",
          "line": {
           "color": "white",
           "width": 2
          },
          "size": 22
         },
         "mode": "markers+text",
         "showlegend": false,
         "text": [
          "<b>0.96</b>"
         ],
         "textfont": {
          "color": "white",
          "size": 18
         },
         "textposition": "middle right",
         "type": "scatter",
         "x": [
          "2022-08-05T00:00:00"
         ],
         "y": [
          0.96
         ]
        }
       ],
       "layout": {
        "legend": {
         "bgcolor": "#0C2340",
         "bordercolor": "#C4CED3",
         "borderwidth": 2,
         "font": {
          "color": "white",
          "size": 18
         },
         "orientation": "h",
         "title": {
          "text": ""
         },
         "x": 0.345,
         "xanchor": "left",
         "y": 0.947,
         "yanchor": "top"
        },
        "margin": {
         "b": 70,
         "pad": 3
        },
        "paper_bgcolor": "#0C2340",
        "plot_bgcolor": "#0C2340",
        "template": {
         "data": {
          "bar": [
           {
            "error_x": {
             "color": "#2a3f5f"
            },
            "error_y": {
             "color": "#2a3f5f"
            },
            "marker": {
             "line": {
              "color": "#E5ECF6",
              "width": 0.5
             },
             "pattern": {
              "fillmode": "overlay",
              "size": 10,
              "solidity": 0.2
             }
            },
            "type": "bar"
           }
          ],
          "barpolar": [
           {
            "marker": {
             "line": {
              "color": "#E5ECF6",
              "width": 0.5
             },
             "pattern": {
              "fillmode": "overlay",
              "size": 10,
              "solidity": 0.2
             }
            },
            "type": "barpolar"
           }
          ],
          "carpet": [
           {
            "aaxis": {
             "endlinecolor": "#2a3f5f",
             "gridcolor": "white",
             "linecolor": "white",
             "minorgridcolor": "white",
             "startlinecolor": "#2a3f5f"
            },
            "baxis": {
             "endlinecolor": "#2a3f5f",
             "gridcolor": "white",
             "linecolor": "white",
             "minorgridcolor": "white",
             "startlinecolor": "#2a3f5f"
            },
            "type": "carpet"
           }
          ],
          "choropleth": [
           {
            "colorbar": {
             "outlinewidth": 0,
             "ticks": ""
            },
            "type": "choropleth"
           }
          ],
          "contour": [
           {
            "colorbar": {
             "outlinewidth": 0,
             "ticks": ""
            },
            "colorscale": [
             [
              0,
              "#0d0887"
             ],
             [
              0.1111111111111111,
              "#46039f"
             ],
             [
              0.2222222222222222,
              "#7201a8"
             ],
             [
              0.3333333333333333,
              "#9c179e"
             ],
             [
              0.4444444444444444,
              "#bd3786"
             ],
             [
              0.5555555555555556,
              "#d8576b"
             ],
             [
              0.6666666666666666,
              "#ed7953"
             ],
             [
              0.7777777777777778,
              "#fb9f3a"
             ],
             [
              0.8888888888888888,
              "#fdca26"
             ],
             [
              1,
              "#f0f921"
             ]
            ],
            "type": "contour"
           }
          ],
          "contourcarpet": [
           {
            "colorbar": {
             "outlinewidth": 0,
             "ticks": ""
            },
            "type": "contourcarpet"
           }
          ],
          "heatmap": [
           {
            "colorbar": {
             "outlinewidth": 0,
             "ticks": ""
            },
            "colorscale": [
             [
              0,
              "#0d0887"
             ],
             [
              0.1111111111111111,
              "#46039f"
             ],
             [
              0.2222222222222222,
              "#7201a8"
             ],
             [
              0.3333333333333333,
              "#9c179e"
             ],
             [
              0.4444444444444444,
              "#bd3786"
             ],
             [
              0.5555555555555556,
              "#d8576b"
             ],
             [
              0.6666666666666666,
              "#ed7953"
             ],
             [
              0.7777777777777778,
              "#fb9f3a"
             ],
             [
              0.8888888888888888,
              "#fdca26"
             ],
             [
              1,
              "#f0f921"
             ]
            ],
            "type": "heatmap"
           }
          ],
          "heatmapgl": [
           {
            "colorbar": {
             "outlinewidth": 0,
             "ticks": ""
            },
            "colorscale": [
             [
              0,
              "#0d0887"
             ],
             [
              0.1111111111111111,
              "#46039f"
             ],
             [
              0.2222222222222222,
              "#7201a8"
             ],
             [
              0.3333333333333333,
              "#9c179e"
             ],
             [
              0.4444444444444444,
              "#bd3786"
             ],
             [
              0.5555555555555556,
              "#d8576b"
             ],
             [
              0.6666666666666666,
              "#ed7953"
             ],
             [
              0.7777777777777778,
              "#fb9f3a"
             ],
             [
              0.8888888888888888,
              "#fdca26"
             ],
             [
              1,
              "#f0f921"
             ]
            ],
            "type": "heatmapgl"
           }
          ],
          "histogram": [
           {
            "marker": {
             "pattern": {
              "fillmode": "overlay",
              "size": 10,
              "solidity": 0.2
             }
            },
            "type": "histogram"
           }
          ],
          "histogram2d": [
           {
            "colorbar": {
             "outlinewidth": 0,
             "ticks": ""
            },
            "colorscale": [
             [
              0,
              "#0d0887"
             ],
             [
              0.1111111111111111,
              "#46039f"
             ],
             [
              0.2222222222222222,
              "#7201a8"
             ],
             [
              0.3333333333333333,
              "#9c179e"
             ],
             [
              0.4444444444444444,
              "#bd3786"
             ],
             [
              0.5555555555555556,
              "#d8576b"
             ],
             [
              0.6666666666666666,
              "#ed7953"
             ],
             [
              0.7777777777777778,
              "#fb9f3a"
             ],
             [
              0.8888888888888888,
              "#fdca26"
             ],
             [
              1,
              "#f0f921"
             ]
            ],
            "type": "histogram2d"
           }
          ],
          "histogram2dcontour": [
           {
            "colorbar": {
             "outlinewidth": 0,
             "ticks": ""
            },
            "colorscale": [
             [
              0,
              "#0d0887"
             ],
             [
              0.1111111111111111,
              "#46039f"
             ],
             [
              0.2222222222222222,
              "#7201a8"
             ],
             [
              0.3333333333333333,
              "#9c179e"
             ],
             [
              0.4444444444444444,
              "#bd3786"
             ],
             [
              0.5555555555555556,
              "#d8576b"
             ],
             [
              0.6666666666666666,
              "#ed7953"
             ],
             [
              0.7777777777777778,
              "#fb9f3a"
             ],
             [
              0.8888888888888888,
              "#fdca26"
             ],
             [
              1,
              "#f0f921"
             ]
            ],
            "type": "histogram2dcontour"
           }
          ],
          "mesh3d": [
           {
            "colorbar": {
             "outlinewidth": 0,
             "ticks": ""
            },
            "type": "mesh3d"
           }
          ],
          "parcoords": [
           {
            "line": {
             "colorbar": {
              "outlinewidth": 0,
              "ticks": ""
             }
            },
            "type": "parcoords"
           }
          ],
          "pie": [
           {
            "automargin": true,
            "type": "pie"
           }
          ],
          "scatter": [
           {
            "fillpattern": {
             "fillmode": "overlay",
             "size": 10,
             "solidity": 0.2
            },
            "type": "scatter"
           }
          ],
          "scatter3d": [
           {
            "line": {
             "colorbar": {
              "outlinewidth": 0,
              "ticks": ""
             }
            },
            "marker": {
             "colorbar": {
              "outlinewidth": 0,
              "ticks": ""
             }
            },
            "type": "scatter3d"
           }
          ],
          "scattercarpet": [
           {
            "marker": {
             "colorbar": {
              "outlinewidth": 0,
              "ticks": ""
             }
            },
            "type": "scattercarpet"
           }
          ],
          "scattergeo": [
           {
            "marker": {
             "colorbar": {
              "outlinewidth": 0,
              "ticks": ""
             }
            },
            "type": "scattergeo"
           }
          ],
          "scattergl": [
           {
            "marker": {
             "colorbar": {
              "outlinewidth": 0,
              "ticks": ""
             }
            },
            "type": "scattergl"
           }
          ],
          "scattermapbox": [
           {
            "marker": {
             "colorbar": {
              "outlinewidth": 0,
              "ticks": ""
             }
            },
            "type": "scattermapbox"
           }
          ],
          "scatterpolar": [
           {
            "marker": {
             "colorbar": {
              "outlinewidth": 0,
              "ticks": ""
             }
            },
            "type": "scatterpolar"
           }
          ],
          "scatterpolargl": [
           {
            "marker": {
             "colorbar": {
              "outlinewidth": 0,
              "ticks": ""
             }
            },
            "type": "scatterpolargl"
           }
          ],
          "scatterternary": [
           {
            "marker": {
             "colorbar": {
              "outlinewidth": 0,
              "ticks": ""
             }
            },
            "type": "scatterternary"
           }
          ],
          "surface": [
           {
            "colorbar": {
             "outlinewidth": 0,
             "ticks": ""
            },
            "colorscale": [
             [
              0,
              "#0d0887"
             ],
             [
              0.1111111111111111,
              "#46039f"
             ],
             [
              0.2222222222222222,
              "#7201a8"
             ],
             [
              0.3333333333333333,
              "#9c179e"
             ],
             [
              0.4444444444444444,
              "#bd3786"
             ],
             [
              0.5555555555555556,
              "#d8576b"
             ],
             [
              0.6666666666666666,
              "#ed7953"
             ],
             [
              0.7777777777777778,
              "#fb9f3a"
             ],
             [
              0.8888888888888888,
              "#fdca26"
             ],
             [
              1,
              "#f0f921"
             ]
            ],
            "type": "surface"
           }
          ],
          "table": [
           {
            "cells": {
             "fill": {
              "color": "#EBF0F8"
             },
             "line": {
              "color": "white"
             }
            },
            "header": {
             "fill": {
              "color": "#C8D4E3"
             },
             "line": {
              "color": "white"
             }
            },
            "type": "table"
           }
          ]
         },
         "layout": {
          "annotationdefaults": {
           "arrowcolor": "#2a3f5f",
           "arrowhead": 0,
           "arrowwidth": 1
          },
          "autotypenumbers": "strict",
          "coloraxis": {
           "colorbar": {
            "outlinewidth": 0,
            "ticks": ""
           }
          },
          "colorscale": {
           "diverging": [
            [
             0,
             "#8e0152"
            ],
            [
             0.1,
             "#c51b7d"
            ],
            [
             0.2,
             "#de77ae"
            ],
            [
             0.3,
             "#f1b6da"
            ],
            [
             0.4,
             "#fde0ef"
            ],
            [
             0.5,
             "#f7f7f7"
            ],
            [
             0.6,
             "#e6f5d0"
            ],
            [
             0.7,
             "#b8e186"
            ],
            [
             0.8,
             "#7fbc41"
            ],
            [
             0.9,
             "#4d9221"
            ],
            [
             1,
             "#276419"
            ]
           ],
           "sequential": [
            [
             0,
             "#0d0887"
            ],
            [
             0.1111111111111111,
             "#46039f"
            ],
            [
             0.2222222222222222,
             "#7201a8"
            ],
            [
             0.3333333333333333,
             "#9c179e"
            ],
            [
             0.4444444444444444,
             "#bd3786"
            ],
            [
             0.5555555555555556,
             "#d8576b"
            ],
            [
             0.6666666666666666,
             "#ed7953"
            ],
            [
             0.7777777777777778,
             "#fb9f3a"
            ],
            [
             0.8888888888888888,
             "#fdca26"
            ],
            [
             1,
             "#f0f921"
            ]
           ],
           "sequentialminus": [
            [
             0,
             "#0d0887"
            ],
            [
             0.1111111111111111,
             "#46039f"
            ],
            [
             0.2222222222222222,
             "#7201a8"
            ],
            [
             0.3333333333333333,
             "#9c179e"
            ],
            [
             0.4444444444444444,
             "#bd3786"
            ],
            [
             0.5555555555555556,
             "#d8576b"
            ],
            [
             0.6666666666666666,
             "#ed7953"
            ],
            [
             0.7777777777777778,
             "#fb9f3a"
            ],
            [
             0.8888888888888888,
             "#fdca26"
            ],
            [
             1,
             "#f0f921"
            ]
           ]
          },
          "colorway": [
           "#636efa",
           "#EF553B",
           "#00cc96",
           "#ab63fa",
           "#FFA15A",
           "#19d3f3",
           "#FF6692",
           "#B6E880",
           "#FF97FF",
           "#FECB52"
          ],
          "font": {
           "color": "#2a3f5f"
          },
          "geo": {
           "bgcolor": "white",
           "lakecolor": "white",
           "landcolor": "#E5ECF6",
           "showlakes": true,
           "showland": true,
           "subunitcolor": "white"
          },
          "hoverlabel": {
           "align": "left"
          },
          "hovermode": "closest",
          "mapbox": {
           "style": "light"
          },
          "paper_bgcolor": "white",
          "plot_bgcolor": "#E5ECF6",
          "polar": {
           "angularaxis": {
            "gridcolor": "white",
            "linecolor": "white",
            "ticks": ""
           },
           "bgcolor": "#E5ECF6",
           "radialaxis": {
            "gridcolor": "white",
            "linecolor": "white",
            "ticks": ""
           }
          },
          "scene": {
           "xaxis": {
            "backgroundcolor": "#E5ECF6",
            "gridcolor": "white",
            "gridwidth": 2,
            "linecolor": "white",
            "showbackground": true,
            "ticks": "",
            "zerolinecolor": "white"
           },
           "yaxis": {
            "backgroundcolor": "#E5ECF6",
            "gridcolor": "white",
            "gridwidth": 2,
            "linecolor": "white",
            "showbackground": true,
            "ticks": "",
            "zerolinecolor": "white"
           },
           "zaxis": {
            "backgroundcolor": "#E5ECF6",
            "gridcolor": "white",
            "gridwidth": 2,
            "linecolor": "white",
            "showbackground": true,
            "ticks": "",
            "zerolinecolor": "white"
           }
          },
          "shapedefaults": {
           "line": {
            "color": "#2a3f5f"
           }
          },
          "ternary": {
           "aaxis": {
            "gridcolor": "white",
            "linecolor": "white",
            "ticks": ""
           },
           "baxis": {
            "gridcolor": "white",
            "linecolor": "white",
            "ticks": ""
           },
           "bgcolor": "#E5ECF6",
           "caxis": {
            "gridcolor": "white",
            "linecolor": "white",
            "ticks": ""
           }
          },
          "title": {
           "x": 0.05
          },
          "xaxis": {
           "automargin": true,
           "gridcolor": "white",
           "linecolor": "white",
           "ticks": "",
           "title": {
            "standoff": 15
           },
           "zerolinecolor": "white",
           "zerolinewidth": 2
          },
          "yaxis": {
           "automargin": true,
           "gridcolor": "white",
           "linecolor": "white",
           "ticks": "",
           "title": {
            "standoff": 15
           },
           "zerolinecolor": "white",
           "zerolinewidth": 2
          }
         }
        },
        "title": {
         "font": {
          "color": "white",
          "size": 28
         },
         "text": "<b>Clay Holmes</b><br>Recent Decline in Performance",
         "x": 0.5,
         "xanchor": "center",
         "y": 0.9,
         "yanchor": "top"
        },
        "xaxis": {
         "minor": {
          "dtick": 1209600000,
          "tick0": "2022-05-22",
          "ticklen": 4
         },
         "range": [
          "2022-05-10",
          "2022-08-13"
         ],
         "showgrid": false,
         "tickcolor": "#C4CED3",
         "tickfont": {
          "color": "#C4CED3",
          "size": 18
         },
         "ticklen": 8,
         "tickmode": "array",
         "ticks": "outside",
         "ticktext": [
          "<b>May 15</b>",
          "<b>May 29</b>",
          "<b>Jun 12</b>",
          "<b>Jun 26</b>",
          "<b>Jul 10</b>",
          "<b>Jul 24</b>",
          "<b>Aug 7</b>"
         ],
         "tickvals": [
          "2022-05-15",
          "2022-05-29",
          "2022-06-12",
          "2022-06-26",
          "2022-07-10",
          "2022-07-24",
          "2022-08-07"
         ]
        },
        "yaxis": {
         "gridcolor": "rgb(20,45,75)",
         "gridwidth": 2,
         "range": [
          0,
          3.1
         ],
         "tickfont": {
          "color": "#C4CED3",
          "size": 18
         },
         "tickmode": "array",
         "ticktext": [
          "<b>0.00</b>",
          "<b>0.50</b>",
          "<b>1.00</b>",
          "<b>1.50</b>",
          "<b>2.00</b>",
          "<b>2.50</b>",
          "<b>3.00</b>"
         ],
         "tickvals": [
          0,
          0.5,
          1,
          1.5,
          2,
          2.5,
          3
         ],
         "zerolinecolor": "rgb(20,45,75)",
         "zerolinewidth": 2
        }
       }
      },
      "text/html": [
       "<div>                            <div id=\"ae2057ce-d5b2-44ed-bce8-ffa7f5803e48\" class=\"plotly-graph-div\" style=\"height:525px; width:100%;\"></div>            <script type=\"text/javascript\">                require([\"plotly\"], function(Plotly) {                    window.PLOTLYENV=window.PLOTLYENV || {};                                    if (document.getElementById(\"ae2057ce-d5b2-44ed-bce8-ffa7f5803e48\")) {                    Plotly.newPlot(                        \"ae2057ce-d5b2-44ed-bce8-ffa7f5803e48\",                        [{\"line\":{\"color\":\"#db5f4f\",\"width\":12},\"mode\":\"lines+markers\",\"name\":\"FIP\",\"x\":[\"2022-05-15T00:00:00\",\"2022-05-18T00:00:00\",\"2022-05-21T00:00:00\",\"2022-05-24T00:00:00\",\"2022-05-25T00:00:00\",\"2022-05-27T00:00:00\",\"2022-06-02T00:00:00\",\"2022-06-04T00:00:00\",\"2022-06-09T00:00:00\",\"2022-06-10T00:00:00\",\"2022-06-14T00:00:00\",\"2022-06-15T00:00:00\",\"2022-06-18T00:00:00\",\"2022-06-20T00:00:00\",\"2022-06-22T00:00:00\",\"2022-06-26T00:00:00\",\"2022-06-28T00:00:00\",\"2022-06-29T00:00:00\",\"2022-07-02T00:00:00\",\"2022-07-07T00:00:00\",\"2022-07-09T00:00:00\",\"2022-07-12T00:00:00\",\"2022-07-13T00:00:00\",\"2022-07-15T00:00:00\",\"2022-07-22T00:00:00\",\"2022-07-27T00:00:00\",\"2022-07-28T00:00:00\",\"2022-07-31T00:00:00\",\"2022-08-05T00:00:00\"],\"y\":[1.64,1.69,1.59,1.48,1.46,1.37,1.71,1.69,1.67,1.72,1.63,1.61,1.61,1.67,1.66,1.73,1.65,1.69,1.71,1.69,1.76,1.99,2.05,2.0,1.9,2.0,2.11,2.54,2.53],\"type\":\"scatter\",\"marker\":{\"line\":{\"color\":\"white\",\"width\":2},\"size\":22}},{\"line\":{\"color\":\"#d4db6b\",\"width\":12},\"mode\":\"lines+markers\",\"name\":\"ERA\",\"x\":[\"2022-05-15T00:00:00\",\"2022-05-18T00:00:00\",\"2022-05-21T00:00:00\",\"2022-05-24T00:00:00\",\"2022-05-25T00:00:00\",\"2022-05-27T00:00:00\",\"2022-06-02T00:00:00\",\"2022-06-04T00:00:00\",\"2022-06-09T00:00:00\",\"2022-06-10T00:00:00\",\"2022-06-14T00:00:00\",\"2022-06-15T00:00:00\",\"2022-06-18T00:00:00\",\"2022-06-20T00:00:00\",\"2022-06-22T00:00:00\",\"2022-06-26T00:00:00\",\"2022-06-28T00:00:00\",\"2022-06-29T00:00:00\",\"2022-07-02T00:00:00\",\"2022-07-07T00:00:00\",\"2022-07-09T00:00:00\",\"2022-07-12T00:00:00\",\"2022-07-13T00:00:00\",\"2022-07-15T00:00:00\",\"2022-07-22T00:00:00\",\"2022-07-27T00:00:00\",\"2022-07-28T00:00:00\",\"2022-07-31T00:00:00\",\"2022-08-05T00:00:00\"],\"y\":[0.49,0.44,0.42,0.4,0.38,0.36,0.35,0.34,0.33,0.31,0.3,0.29,0.28,0.55,0.53,0.52,0.5,0.49,0.49,0.47,0.46,1.37,1.34,1.31,1.26,1.23,1.2,1.77,2.12],\"type\":\"scatter\",\"marker\":{\"line\":{\"color\":\"white\",\"width\":2},\"size\":22}},{\"line\":{\"color\":\"#4fbfdb\",\"width\":12},\"mode\":\"lines+markers\",\"name\":\"WHIP\",\"x\":[\"2022-05-15T00:00:00\",\"2022-05-18T00:00:00\",\"2022-05-21T00:00:00\",\"2022-05-24T00:00:00\",\"2022-05-25T00:00:00\",\"2022-05-27T00:00:00\",\"2022-06-02T00:00:00\",\"2022-06-04T00:00:00\",\"2022-06-09T00:00:00\",\"2022-06-10T00:00:00\",\"2022-06-14T00:00:00\",\"2022-06-15T00:00:00\",\"2022-06-18T00:00:00\",\"2022-06-20T00:00:00\",\"2022-06-22T00:00:00\",\"2022-06-26T00:00:00\",\"2022-06-28T00:00:00\",\"2022-06-29T00:00:00\",\"2022-07-02T00:00:00\",\"2022-07-07T00:00:00\",\"2022-07-09T00:00:00\",\"2022-07-12T00:00:00\",\"2022-07-13T00:00:00\",\"2022-07-15T00:00:00\",\"2022-07-22T00:00:00\",\"2022-07-27T00:00:00\",\"2022-07-28T00:00:00\",\"2022-07-31T00:00:00\",\"2022-08-05T00:00:00\"],\"y\":[0.76,0.74,0.69,0.66,0.72,0.69,0.7,0.68,0.65,0.66,0.67,0.68,0.66,0.73,0.71,0.72,0.76,0.74,0.73,0.71,0.74,0.81,0.84,0.87,0.86,0.86,0.89,0.92,0.96],\"type\":\"scatter\",\"marker\":{\"line\":{\"color\":\"white\",\"width\":2},\"size\":22}},{\"marker\":{\"color\":\"#db5f4f\",\"line\":{\"color\":\"white\",\"width\":2},\"size\":22},\"mode\":\"markers+text\",\"showlegend\":false,\"text\":[\"<b>2.53</b>\"],\"textfont\":{\"color\":\"white\",\"size\":18},\"textposition\":\"middle right\",\"x\":[\"2022-08-05T00:00:00\"],\"y\":[2.53],\"type\":\"scatter\",\"line\":{\"width\":12}},{\"marker\":{\"color\":\"#d4db6b\",\"line\":{\"color\":\"white\",\"width\":2},\"size\":22},\"mode\":\"markers+text\",\"showlegend\":false,\"text\":[\"<b>2.12</b>\"],\"textfont\":{\"color\":\"white\",\"size\":18},\"textposition\":\"middle right\",\"x\":[\"2022-08-05T00:00:00\"],\"y\":[2.12],\"type\":\"scatter\",\"line\":{\"width\":12}},{\"marker\":{\"color\":\"#4fbfdb\",\"line\":{\"color\":\"white\",\"width\":2},\"size\":22},\"mode\":\"markers+text\",\"showlegend\":false,\"text\":[\"<b>0.96</b>\"],\"textfont\":{\"color\":\"white\",\"size\":18},\"textposition\":\"middle right\",\"x\":[\"2022-08-05T00:00:00\"],\"y\":[0.96],\"type\":\"scatter\",\"line\":{\"width\":12}}],                        {\"template\":{\"data\":{\"histogram2dcontour\":[{\"type\":\"histogram2dcontour\",\"colorbar\":{\"outlinewidth\":0,\"ticks\":\"\"},\"colorscale\":[[0.0,\"#0d0887\"],[0.1111111111111111,\"#46039f\"],[0.2222222222222222,\"#7201a8\"],[0.3333333333333333,\"#9c179e\"],[0.4444444444444444,\"#bd3786\"],[0.5555555555555556,\"#d8576b\"],[0.6666666666666666,\"#ed7953\"],[0.7777777777777778,\"#fb9f3a\"],[0.8888888888888888,\"#fdca26\"],[1.0,\"#f0f921\"]]}],\"choropleth\":[{\"type\":\"choropleth\",\"colorbar\":{\"outlinewidth\":0,\"ticks\":\"\"}}],\"histogram2d\":[{\"type\":\"histogram2d\",\"colorbar\":{\"outlinewidth\":0,\"ticks\":\"\"},\"colorscale\":[[0.0,\"#0d0887\"],[0.1111111111111111,\"#46039f\"],[0.2222222222222222,\"#7201a8\"],[0.3333333333333333,\"#9c179e\"],[0.4444444444444444,\"#bd3786\"],[0.5555555555555556,\"#d8576b\"],[0.6666666666666666,\"#ed7953\"],[0.7777777777777778,\"#fb9f3a\"],[0.8888888888888888,\"#fdca26\"],[1.0,\"#f0f921\"]]}],\"heatmap\":[{\"type\":\"heatmap\",\"colorbar\":{\"outlinewidth\":0,\"ticks\":\"\"},\"colorscale\":[[0.0,\"#0d0887\"],[0.1111111111111111,\"#46039f\"],[0.2222222222222222,\"#7201a8\"],[0.3333333333333333,\"#9c179e\"],[0.4444444444444444,\"#bd3786\"],[0.5555555555555556,\"#d8576b\"],[0.6666666666666666,\"#ed7953\"],[0.7777777777777778,\"#fb9f3a\"],[0.8888888888888888,\"#fdca26\"],[1.0,\"#f0f921\"]]}],\"heatmapgl\":[{\"type\":\"heatmapgl\",\"colorbar\":{\"outlinewidth\":0,\"ticks\":\"\"},\"colorscale\":[[0.0,\"#0d0887\"],[0.1111111111111111,\"#46039f\"],[0.2222222222222222,\"#7201a8\"],[0.3333333333333333,\"#9c179e\"],[0.4444444444444444,\"#bd3786\"],[0.5555555555555556,\"#d8576b\"],[0.6666666666666666,\"#ed7953\"],[0.7777777777777778,\"#fb9f3a\"],[0.8888888888888888,\"#fdca26\"],[1.0,\"#f0f921\"]]}],\"contourcarpet\":[{\"type\":\"contourcarpet\",\"colorbar\":{\"outlinewidth\":0,\"ticks\":\"\"}}],\"contour\":[{\"type\":\"contour\",\"colorbar\":{\"outlinewidth\":0,\"ticks\":\"\"},\"colorscale\":[[0.0,\"#0d0887\"],[0.1111111111111111,\"#46039f\"],[0.2222222222222222,\"#7201a8\"],[0.3333333333333333,\"#9c179e\"],[0.4444444444444444,\"#bd3786\"],[0.5555555555555556,\"#d8576b\"],[0.6666666666666666,\"#ed7953\"],[0.7777777777777778,\"#fb9f3a\"],[0.8888888888888888,\"#fdca26\"],[1.0,\"#f0f921\"]]}],\"surface\":[{\"type\":\"surface\",\"colorbar\":{\"outlinewidth\":0,\"ticks\":\"\"},\"colorscale\":[[0.0,\"#0d0887\"],[0.1111111111111111,\"#46039f\"],[0.2222222222222222,\"#7201a8\"],[0.3333333333333333,\"#9c179e\"],[0.4444444444444444,\"#bd3786\"],[0.5555555555555556,\"#d8576b\"],[0.6666666666666666,\"#ed7953\"],[0.7777777777777778,\"#fb9f3a\"],[0.8888888888888888,\"#fdca26\"],[1.0,\"#f0f921\"]]}],\"mesh3d\":[{\"type\":\"mesh3d\",\"colorbar\":{\"outlinewidth\":0,\"ticks\":\"\"}}],\"scatter\":[{\"fillpattern\":{\"fillmode\":\"overlay\",\"size\":10,\"solidity\":0.2},\"type\":\"scatter\"}],\"parcoords\":[{\"type\":\"parcoords\",\"line\":{\"colorbar\":{\"outlinewidth\":0,\"ticks\":\"\"}}}],\"scatterpolargl\":[{\"type\":\"scatterpolargl\",\"marker\":{\"colorbar\":{\"outlinewidth\":0,\"ticks\":\"\"}}}],\"bar\":[{\"error_x\":{\"color\":\"#2a3f5f\"},\"error_y\":{\"color\":\"#2a3f5f\"},\"marker\":{\"line\":{\"color\":\"#E5ECF6\",\"width\":0.5},\"pattern\":{\"fillmode\":\"overlay\",\"size\":10,\"solidity\":0.2}},\"type\":\"bar\"}],\"scattergeo\":[{\"type\":\"scattergeo\",\"marker\":{\"colorbar\":{\"outlinewidth\":0,\"ticks\":\"\"}}}],\"scatterpolar\":[{\"type\":\"scatterpolar\",\"marker\":{\"colorbar\":{\"outlinewidth\":0,\"ticks\":\"\"}}}],\"histogram\":[{\"marker\":{\"pattern\":{\"fillmode\":\"overlay\",\"size\":10,\"solidity\":0.2}},\"type\":\"histogram\"}],\"scattergl\":[{\"type\":\"scattergl\",\"marker\":{\"colorbar\":{\"outlinewidth\":0,\"ticks\":\"\"}}}],\"scatter3d\":[{\"type\":\"scatter3d\",\"line\":{\"colorbar\":{\"outlinewidth\":0,\"ticks\":\"\"}},\"marker\":{\"colorbar\":{\"outlinewidth\":0,\"ticks\":\"\"}}}],\"scattermapbox\":[{\"type\":\"scattermapbox\",\"marker\":{\"colorbar\":{\"outlinewidth\":0,\"ticks\":\"\"}}}],\"scatterternary\":[{\"type\":\"scatterternary\",\"marker\":{\"colorbar\":{\"outlinewidth\":0,\"ticks\":\"\"}}}],\"scattercarpet\":[{\"type\":\"scattercarpet\",\"marker\":{\"colorbar\":{\"outlinewidth\":0,\"ticks\":\"\"}}}],\"carpet\":[{\"aaxis\":{\"endlinecolor\":\"#2a3f5f\",\"gridcolor\":\"white\",\"linecolor\":\"white\",\"minorgridcolor\":\"white\",\"startlinecolor\":\"#2a3f5f\"},\"baxis\":{\"endlinecolor\":\"#2a3f5f\",\"gridcolor\":\"white\",\"linecolor\":\"white\",\"minorgridcolor\":\"white\",\"startlinecolor\":\"#2a3f5f\"},\"type\":\"carpet\"}],\"table\":[{\"cells\":{\"fill\":{\"color\":\"#EBF0F8\"},\"line\":{\"color\":\"white\"}},\"header\":{\"fill\":{\"color\":\"#C8D4E3\"},\"line\":{\"color\":\"white\"}},\"type\":\"table\"}],\"barpolar\":[{\"marker\":{\"line\":{\"color\":\"#E5ECF6\",\"width\":0.5},\"pattern\":{\"fillmode\":\"overlay\",\"size\":10,\"solidity\":0.2}},\"type\":\"barpolar\"}],\"pie\":[{\"automargin\":true,\"type\":\"pie\"}]},\"layout\":{\"autotypenumbers\":\"strict\",\"colorway\":[\"#636efa\",\"#EF553B\",\"#00cc96\",\"#ab63fa\",\"#FFA15A\",\"#19d3f3\",\"#FF6692\",\"#B6E880\",\"#FF97FF\",\"#FECB52\"],\"font\":{\"color\":\"#2a3f5f\"},\"hovermode\":\"closest\",\"hoverlabel\":{\"align\":\"left\"},\"paper_bgcolor\":\"white\",\"plot_bgcolor\":\"#E5ECF6\",\"polar\":{\"bgcolor\":\"#E5ECF6\",\"angularaxis\":{\"gridcolor\":\"white\",\"linecolor\":\"white\",\"ticks\":\"\"},\"radialaxis\":{\"gridcolor\":\"white\",\"linecolor\":\"white\",\"ticks\":\"\"}},\"ternary\":{\"bgcolor\":\"#E5ECF6\",\"aaxis\":{\"gridcolor\":\"white\",\"linecolor\":\"white\",\"ticks\":\"\"},\"baxis\":{\"gridcolor\":\"white\",\"linecolor\":\"white\",\"ticks\":\"\"},\"caxis\":{\"gridcolor\":\"white\",\"linecolor\":\"white\",\"ticks\":\"\"}},\"coloraxis\":{\"colorbar\":{\"outlinewidth\":0,\"ticks\":\"\"}},\"colorscale\":{\"sequential\":[[0.0,\"#0d0887\"],[0.1111111111111111,\"#46039f\"],[0.2222222222222222,\"#7201a8\"],[0.3333333333333333,\"#9c179e\"],[0.4444444444444444,\"#bd3786\"],[0.5555555555555556,\"#d8576b\"],[0.6666666666666666,\"#ed7953\"],[0.7777777777777778,\"#fb9f3a\"],[0.8888888888888888,\"#fdca26\"],[1.0,\"#f0f921\"]],\"sequentialminus\":[[0.0,\"#0d0887\"],[0.1111111111111111,\"#46039f\"],[0.2222222222222222,\"#7201a8\"],[0.3333333333333333,\"#9c179e\"],[0.4444444444444444,\"#bd3786\"],[0.5555555555555556,\"#d8576b\"],[0.6666666666666666,\"#ed7953\"],[0.7777777777777778,\"#fb9f3a\"],[0.8888888888888888,\"#fdca26\"],[1.0,\"#f0f921\"]],\"diverging\":[[0,\"#8e0152\"],[0.1,\"#c51b7d\"],[0.2,\"#de77ae\"],[0.3,\"#f1b6da\"],[0.4,\"#fde0ef\"],[0.5,\"#f7f7f7\"],[0.6,\"#e6f5d0\"],[0.7,\"#b8e186\"],[0.8,\"#7fbc41\"],[0.9,\"#4d9221\"],[1,\"#276419\"]]},\"xaxis\":{\"gridcolor\":\"white\",\"linecolor\":\"white\",\"ticks\":\"\",\"title\":{\"standoff\":15},\"zerolinecolor\":\"white\",\"automargin\":true,\"zerolinewidth\":2},\"yaxis\":{\"gridcolor\":\"white\",\"linecolor\":\"white\",\"ticks\":\"\",\"title\":{\"standoff\":15},\"zerolinecolor\":\"white\",\"automargin\":true,\"zerolinewidth\":2},\"scene\":{\"xaxis\":{\"backgroundcolor\":\"#E5ECF6\",\"gridcolor\":\"white\",\"linecolor\":\"white\",\"showbackground\":true,\"ticks\":\"\",\"zerolinecolor\":\"white\",\"gridwidth\":2},\"yaxis\":{\"backgroundcolor\":\"#E5ECF6\",\"gridcolor\":\"white\",\"linecolor\":\"white\",\"showbackground\":true,\"ticks\":\"\",\"zerolinecolor\":\"white\",\"gridwidth\":2},\"zaxis\":{\"backgroundcolor\":\"#E5ECF6\",\"gridcolor\":\"white\",\"linecolor\":\"white\",\"showbackground\":true,\"ticks\":\"\",\"zerolinecolor\":\"white\",\"gridwidth\":2}},\"shapedefaults\":{\"line\":{\"color\":\"#2a3f5f\"}},\"annotationdefaults\":{\"arrowcolor\":\"#2a3f5f\",\"arrowhead\":0,\"arrowwidth\":1},\"geo\":{\"bgcolor\":\"white\",\"landcolor\":\"#E5ECF6\",\"subunitcolor\":\"white\",\"showland\":true,\"showlakes\":true,\"lakecolor\":\"white\"},\"title\":{\"x\":0.05},\"mapbox\":{\"style\":\"light\"}}},\"xaxis\":{\"minor\":{\"ticklen\":4,\"dtick\":1209600000,\"tick0\":\"2022-05-22\"},\"tickfont\":{\"size\":18,\"color\":\"#C4CED3\"},\"tickmode\":\"array\",\"ticktext\":[\"<b>May 15</b>\",\"<b>May 29</b>\",\"<b>Jun 12</b>\",\"<b>Jun 26</b>\",\"<b>Jul 10</b>\",\"<b>Jul 24</b>\",\"<b>Aug 7</b>\"],\"tickvals\":[\"2022-05-15\",\"2022-05-29\",\"2022-06-12\",\"2022-06-26\",\"2022-07-10\",\"2022-07-24\",\"2022-08-07\"],\"ticks\":\"outside\",\"tickcolor\":\"#C4CED3\",\"ticklen\":8,\"showgrid\":false,\"range\":[\"2022-05-10\",\"2022-08-13\"]},\"yaxis\":{\"tickfont\":{\"size\":18,\"color\":\"#C4CED3\"},\"tickmode\":\"array\",\"ticktext\":[\"<b>0.00</b>\",\"<b>0.50</b>\",\"<b>1.00</b>\",\"<b>1.50</b>\",\"<b>2.00</b>\",\"<b>2.50</b>\",\"<b>3.00</b>\"],\"tickvals\":[0,0.5,1,1.5,2,2.5,3],\"zerolinecolor\":\"rgb(20,45,75)\",\"zerolinewidth\":2,\"gridcolor\":\"rgb(20,45,75)\",\"gridwidth\":2,\"range\":[0,3.1]},\"title\":{\"font\":{\"size\":28,\"color\":\"white\"},\"text\":\"<b>Clay Holmes</b><br>Recent Decline in Performance\",\"y\":0.9,\"x\":0.5,\"xanchor\":\"center\",\"yanchor\":\"top\"},\"legend\":{\"title\":{\"text\":\"\"},\"font\":{\"size\":18,\"color\":\"white\"},\"orientation\":\"h\",\"yanchor\":\"top\",\"y\":0.947,\"xanchor\":\"left\",\"x\":0.345,\"bordercolor\":\"#C4CED3\",\"borderwidth\":2,\"bgcolor\":\"#0C2340\"},\"margin\":{\"b\":70,\"pad\":3},\"paper_bgcolor\":\"#0C2340\",\"plot_bgcolor\":\"#0C2340\"},                        {\"responsive\": true}                    ).then(function(){\n",
       "                            \n",
       "var gd = document.getElementById('ae2057ce-d5b2-44ed-bce8-ffa7f5803e48');\n",
       "var x = new MutationObserver(function (mutations, observer) {{\n",
       "        var display = window.getComputedStyle(gd).display;\n",
       "        if (!display || display === 'none') {{\n",
       "            console.log([gd, 'removed!']);\n",
       "            Plotly.purge(gd);\n",
       "            observer.disconnect();\n",
       "        }}\n",
       "}});\n",
       "\n",
       "// Listen for the removal of the full notebook cells\n",
       "var notebookContainer = gd.closest('#notebook-container');\n",
       "if (notebookContainer) {{\n",
       "    x.observe(notebookContainer, {childList: true});\n",
       "}}\n",
       "\n",
       "// Listen for the clearing of the current output cell\n",
       "var outputEl = gd.closest('.output');\n",
       "if (outputEl) {{\n",
       "    x.observe(outputEl, {childList: true});\n",
       "}}\n",
       "\n",
       "                        })                };                });            </script>        </div>"
      ]
     },
     "metadata": {},
     "output_type": "display_data"
    }
   ],
   "source": [
    "# Create variables for use in chart\n",
    "x = holmes_df['Date']\n",
    "y1 = holmes_df['FIP']\n",
    "y2 = holmes_df['ERA']\n",
    "y3 = holmes_df['WHIP']\n",
    "\n",
    "navy = '#0C2340'\n",
    "gray = '#C4CED3'\n",
    "\n",
    "\n",
    "# Create traces\n",
    "fig = go.Figure()\n",
    "\n",
    "fig.add_trace(go.Scatter(x=x, y=y1, name='FIP', mode='lines+markers', line_color='#db5f4f'))\n",
    "fig.add_trace(go.Scatter(x=x, y=y2, name='ERA', mode='lines+markers', line_color='#d4db6b'))\n",
    "fig.add_trace(go.Scatter(x=x, y=y3, name='WHIP', mode='lines+markers', line_color='#4fbfdb'))\n",
    "\n",
    "\n",
    "# Add traces for annotations and text for end of lines\n",
    "for i, d in enumerate(fig.data):\n",
    "    fig.add_trace(go.Scatter(x=[d.x[-1]],\n",
    "                             y=[d.y[-1]],\n",
    "                             mode='markers+text',\n",
    "                             text=['<b>' + str(y) + '</b>' for y in [d.y[-1]]],\n",
    "                             textfont = dict(\n",
    "                                 size=18,\n",
    "                                 color='white'),\n",
    "                             textposition='middle right',\n",
    "                             marker = dict(\n",
    "                                 color = d.line.color,\n",
    "                                 line=dict(\n",
    "                                     width=d.marker.line.width,\n",
    "                                     color=d.marker.line.color)),\n",
    "                             showlegend=False))\n",
    "\n",
    "\n",
    "# Format traces\n",
    "fig.update_traces(\n",
    "    marker=dict(\n",
    "        size=22,\n",
    "        line=dict(\n",
    "            width=2,\n",
    "            color='white')),\n",
    "    line=dict(width=12)\n",
    ")\n",
    "\n",
    "\n",
    "# Format axes\n",
    "fig.update_xaxes(\n",
    "    tickmode='array',\n",
    "    ticktext=['<b>' + date + '</b>' for date in ['May 15','May 29','Jun 12','Jun 26','Jul 10','Jul 24','Aug 7']],\n",
    "    tickvals=['2022-05-15','2022-05-29','2022-06-12','2022-06-26','2022-07-10','2022-07-24','2022-08-07'],\n",
    "    ticks= \"outside\",\n",
    "    tickcolor= gray, \n",
    "    ticklen=8, \n",
    "    minor=dict(\n",
    "        ticklen=4,  \n",
    "        dtick=2*7*24*60*60*1000,\n",
    "        tick0=\"2022-05-22\"), \n",
    "    tickfont=dict(\n",
    "        size=18,\n",
    "        color=gray),\n",
    "    showgrid=False\n",
    ")\n",
    "\n",
    "fig.update_yaxes(\n",
    "    tickfont=dict(\n",
    "        size=18,\n",
    "        color=gray),\n",
    "    tickmode='array',\n",
    "    ticktext=['<b>' + x + '</b>' for x in ['0.00','0.50','1.00','1.50','2.00','2.50','3.00']],\n",
    "    tickvals=[0, 0.5, 1, 1.5, 2, 2.5, 3],\n",
    "    zerolinecolor='rgb(20,45,75)',\n",
    "    zerolinewidth=2,\n",
    "    gridcolor='rgb(20,45,75)',\n",
    "    gridwidth=2,\n",
    ")\n",
    "\n",
    "\n",
    "# Format layout\n",
    "fig.update_layout(\n",
    "    title=dict(\n",
    "        text=\"<b>Clay Holmes</b><br>Recent Decline in Performance\",\n",
    "        y=0.9,\n",
    "        x=0.5,\n",
    "        xanchor='center',\n",
    "        yanchor='top',\n",
    "        font=dict(\n",
    "            size=28,\n",
    "            color='white')),\n",
    "    xaxis_range=['2022-05-10','2022-08-13'],\n",
    "    yaxis_range=[0,3.1],\n",
    "    legend=dict(\n",
    "        title_text='',\n",
    "        orientation='h',\n",
    "        yanchor=\"top\",\n",
    "        y=0.947,\n",
    "        xanchor=\"left\",\n",
    "        x=0.345,\n",
    "        font=dict(\n",
    "            size=18,\n",
    "            color='white'),\n",
    "        bordercolor=gray,\n",
    "        borderwidth=2,\n",
    "        bgcolor=navy),\n",
    "    paper_bgcolor=navy,\n",
    "    plot_bgcolor=navy,\n",
    "    margin=dict(b=70, pad=3)\n",
    ")"
   ]
  }
 ],
 "metadata": {
  "kernelspec": {
   "display_name": "PythonData",
   "language": "python",
   "name": "pythondata"
  },
  "language_info": {
   "codemirror_mode": {
    "name": "ipython",
    "version": 3
   },
   "file_extension": ".py",
   "mimetype": "text/x-python",
   "name": "python",
   "nbconvert_exporter": "python",
   "pygments_lexer": "ipython3",
   "version": "3.7.11"
  }
 },
 "nbformat": 4,
 "nbformat_minor": 5
}
