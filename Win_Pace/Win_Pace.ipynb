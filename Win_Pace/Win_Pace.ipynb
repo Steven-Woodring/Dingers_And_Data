{
 "cells": [
  {
   "cell_type": "code",
   "execution_count": 1,
   "id": "e553ef6b",
   "metadata": {},
   "outputs": [],
   "source": [
    "# Import dependencies\n",
    "import pandas as pd\n",
    "pd.set_option('display.max_columns', 500)\n",
    "\n",
    "import plotly.graph_objects as go\n",
    "import chart_studio.plotly as py"
   ]
  },
  {
   "cell_type": "markdown",
   "id": "c5bfd60f",
   "metadata": {},
   "source": [
    "## Data Processing"
   ]
  },
  {
   "cell_type": "code",
   "execution_count": 2,
   "id": "64cccb57",
   "metadata": {},
   "outputs": [
    {
     "data": {
      "text/html": [
       "<div>\n",
       "<style scoped>\n",
       "    .dataframe tbody tr th:only-of-type {\n",
       "        vertical-align: middle;\n",
       "    }\n",
       "\n",
       "    .dataframe tbody tr th {\n",
       "        vertical-align: top;\n",
       "    }\n",
       "\n",
       "    .dataframe thead th {\n",
       "        text-align: right;\n",
       "    }\n",
       "</style>\n",
       "<table border=\"1\" class=\"dataframe\">\n",
       "  <thead>\n",
       "    <tr style=\"text-align: right;\">\n",
       "      <th></th>\n",
       "      <th>Gm#</th>\n",
       "      <th>Date</th>\n",
       "      <th>Unnamed: 2</th>\n",
       "      <th>Tm</th>\n",
       "      <th>Unnamed: 4</th>\n",
       "      <th>Opp</th>\n",
       "      <th>W/L</th>\n",
       "      <th>W/L/wo</th>\n",
       "      <th>R</th>\n",
       "      <th>RA</th>\n",
       "      <th>Inn</th>\n",
       "      <th>W-L</th>\n",
       "      <th>Rank</th>\n",
       "      <th>GB</th>\n",
       "      <th>Win</th>\n",
       "      <th>Loss</th>\n",
       "      <th>Save</th>\n",
       "      <th>Time</th>\n",
       "      <th>D/N</th>\n",
       "      <th>Attendance</th>\n",
       "      <th>cLI</th>\n",
       "      <th>Streak</th>\n",
       "      <th>Orig. Scheduled</th>\n",
       "    </tr>\n",
       "  </thead>\n",
       "  <tbody>\n",
       "    <tr>\n",
       "      <th>0</th>\n",
       "      <td>1</td>\n",
       "      <td>Friday, Apr 8</td>\n",
       "      <td>boxscore</td>\n",
       "      <td>NYY</td>\n",
       "      <td>NaN</td>\n",
       "      <td>BOS</td>\n",
       "      <td>W</td>\n",
       "      <td>W-wo</td>\n",
       "      <td>6</td>\n",
       "      <td>5</td>\n",
       "      <td>11.0</td>\n",
       "      <td>Jan-00</td>\n",
       "      <td>1</td>\n",
       "      <td>Tied</td>\n",
       "      <td>King</td>\n",
       "      <td>Crawford</td>\n",
       "      <td>NaN</td>\n",
       "      <td>3:56</td>\n",
       "      <td>D</td>\n",
       "      <td>46,097</td>\n",
       "      <td>0.97</td>\n",
       "      <td>+</td>\n",
       "      <td>NaN</td>\n",
       "    </tr>\n",
       "    <tr>\n",
       "      <th>1</th>\n",
       "      <td>2</td>\n",
       "      <td>Saturday, Apr 9</td>\n",
       "      <td>boxscore</td>\n",
       "      <td>NYY</td>\n",
       "      <td>NaN</td>\n",
       "      <td>BOS</td>\n",
       "      <td>W</td>\n",
       "      <td>W</td>\n",
       "      <td>4</td>\n",
       "      <td>2</td>\n",
       "      <td>NaN</td>\n",
       "      <td>Feb-00</td>\n",
       "      <td>1</td>\n",
       "      <td>Tied</td>\n",
       "      <td>Luetge</td>\n",
       "      <td>Pivetta</td>\n",
       "      <td>Chapman</td>\n",
       "      <td>2:58</td>\n",
       "      <td>D</td>\n",
       "      <td>46,882</td>\n",
       "      <td>1.03</td>\n",
       "      <td>++</td>\n",
       "      <td>NaN</td>\n",
       "    </tr>\n",
       "    <tr>\n",
       "      <th>2</th>\n",
       "      <td>3</td>\n",
       "      <td>Sunday, Apr 10</td>\n",
       "      <td>boxscore</td>\n",
       "      <td>NYY</td>\n",
       "      <td>NaN</td>\n",
       "      <td>BOS</td>\n",
       "      <td>L</td>\n",
       "      <td>L</td>\n",
       "      <td>3</td>\n",
       "      <td>4</td>\n",
       "      <td>NaN</td>\n",
       "      <td>1-Feb</td>\n",
       "      <td>2</td>\n",
       "      <td>1</td>\n",
       "      <td>Crawford</td>\n",
       "      <td>Schmidt</td>\n",
       "      <td>Diekman</td>\n",
       "      <td>3:40</td>\n",
       "      <td>N</td>\n",
       "      <td>40,108</td>\n",
       "      <td>1.04</td>\n",
       "      <td>-</td>\n",
       "      <td>NaN</td>\n",
       "    </tr>\n",
       "    <tr>\n",
       "      <th>3</th>\n",
       "      <td>4</td>\n",
       "      <td>Monday, Apr 11</td>\n",
       "      <td>boxscore</td>\n",
       "      <td>NYY</td>\n",
       "      <td>NaN</td>\n",
       "      <td>TOR</td>\n",
       "      <td>L</td>\n",
       "      <td>L</td>\n",
       "      <td>0</td>\n",
       "      <td>3</td>\n",
       "      <td>NaN</td>\n",
       "      <td>2-Feb</td>\n",
       "      <td>3</td>\n",
       "      <td>1</td>\n",
       "      <td>Manoah</td>\n",
       "      <td>Taillon</td>\n",
       "      <td>Romano</td>\n",
       "      <td>3:03</td>\n",
       "      <td>N</td>\n",
       "      <td>26,211</td>\n",
       "      <td>1.05</td>\n",
       "      <td>--</td>\n",
       "      <td>NaN</td>\n",
       "    </tr>\n",
       "    <tr>\n",
       "      <th>4</th>\n",
       "      <td>5</td>\n",
       "      <td>Tuesday, Apr 12</td>\n",
       "      <td>boxscore</td>\n",
       "      <td>NYY</td>\n",
       "      <td>NaN</td>\n",
       "      <td>TOR</td>\n",
       "      <td>W</td>\n",
       "      <td>W</td>\n",
       "      <td>4</td>\n",
       "      <td>0</td>\n",
       "      <td>NaN</td>\n",
       "      <td>2-Mar</td>\n",
       "      <td>2</td>\n",
       "      <td>1</td>\n",
       "      <td>Holmes</td>\n",
       "      <td>Kikuchi</td>\n",
       "      <td>NaN</td>\n",
       "      <td>3:07</td>\n",
       "      <td>N</td>\n",
       "      <td>25,068</td>\n",
       "      <td>1.03</td>\n",
       "      <td>+</td>\n",
       "      <td>NaN</td>\n",
       "    </tr>\n",
       "  </tbody>\n",
       "</table>\n",
       "</div>"
      ],
      "text/plain": [
       "   Gm#             Date Unnamed: 2   Tm Unnamed: 4  Opp W/L W/L/wo  R  RA  \\\n",
       "0    1    Friday, Apr 8   boxscore  NYY        NaN  BOS   W   W-wo  6   5   \n",
       "1    2  Saturday, Apr 9   boxscore  NYY        NaN  BOS   W      W  4   2   \n",
       "2    3   Sunday, Apr 10   boxscore  NYY        NaN  BOS   L      L  3   4   \n",
       "3    4   Monday, Apr 11   boxscore  NYY        NaN  TOR   L      L  0   3   \n",
       "4    5  Tuesday, Apr 12   boxscore  NYY        NaN  TOR   W      W  4   0   \n",
       "\n",
       "    Inn     W-L  Rank    GB       Win      Loss     Save  Time D/N Attendance  \\\n",
       "0  11.0  Jan-00     1  Tied      King  Crawford      NaN  3:56   D     46,097   \n",
       "1   NaN  Feb-00     1  Tied    Luetge   Pivetta  Chapman  2:58   D     46,882   \n",
       "2   NaN   1-Feb     2     1  Crawford   Schmidt  Diekman  3:40   N     40,108   \n",
       "3   NaN   2-Feb     3     1    Manoah   Taillon   Romano  3:03   N     26,211   \n",
       "4   NaN   2-Mar     2     1    Holmes   Kikuchi      NaN  3:07   N     25,068   \n",
       "\n",
       "    cLI Streak  Orig. Scheduled  \n",
       "0  0.97      +              NaN  \n",
       "1  1.03     ++              NaN  \n",
       "2  1.04      -              NaN  \n",
       "3  1.05     --              NaN  \n",
       "4  1.03      +              NaN  "
      ]
     },
     "execution_count": 2,
     "metadata": {},
     "output_type": "execute_result"
    }
   ],
   "source": [
    "# Read in Yankees schedule from FanGraphs\n",
    "sched_df = pd.read_csv('Resources/Data/yankees_schedule.csv')\n",
    "sched_df.head()"
   ]
  },
  {
   "cell_type": "code",
   "execution_count": 3,
   "id": "a95ab62a",
   "metadata": {},
   "outputs": [
    {
     "data": {
      "text/html": [
       "<div>\n",
       "<style scoped>\n",
       "    .dataframe tbody tr th:only-of-type {\n",
       "        vertical-align: middle;\n",
       "    }\n",
       "\n",
       "    .dataframe tbody tr th {\n",
       "        vertical-align: top;\n",
       "    }\n",
       "\n",
       "    .dataframe thead th {\n",
       "        text-align: right;\n",
       "    }\n",
       "</style>\n",
       "<table border=\"1\" class=\"dataframe\">\n",
       "  <thead>\n",
       "    <tr style=\"text-align: right;\">\n",
       "      <th></th>\n",
       "      <th>Gm#</th>\n",
       "      <th>Date</th>\n",
       "      <th>Tm</th>\n",
       "      <th>Opp</th>\n",
       "      <th>W/L</th>\n",
       "      <th>R</th>\n",
       "      <th>RA</th>\n",
       "      <th>GB</th>\n",
       "    </tr>\n",
       "  </thead>\n",
       "  <tbody>\n",
       "    <tr>\n",
       "      <th>0</th>\n",
       "      <td>1</td>\n",
       "      <td>Friday, Apr 8</td>\n",
       "      <td>NYY</td>\n",
       "      <td>BOS</td>\n",
       "      <td>W</td>\n",
       "      <td>6</td>\n",
       "      <td>5</td>\n",
       "      <td>Tied</td>\n",
       "    </tr>\n",
       "    <tr>\n",
       "      <th>1</th>\n",
       "      <td>2</td>\n",
       "      <td>Saturday, Apr 9</td>\n",
       "      <td>NYY</td>\n",
       "      <td>BOS</td>\n",
       "      <td>W</td>\n",
       "      <td>4</td>\n",
       "      <td>2</td>\n",
       "      <td>Tied</td>\n",
       "    </tr>\n",
       "    <tr>\n",
       "      <th>2</th>\n",
       "      <td>3</td>\n",
       "      <td>Sunday, Apr 10</td>\n",
       "      <td>NYY</td>\n",
       "      <td>BOS</td>\n",
       "      <td>L</td>\n",
       "      <td>3</td>\n",
       "      <td>4</td>\n",
       "      <td>1</td>\n",
       "    </tr>\n",
       "    <tr>\n",
       "      <th>3</th>\n",
       "      <td>4</td>\n",
       "      <td>Monday, Apr 11</td>\n",
       "      <td>NYY</td>\n",
       "      <td>TOR</td>\n",
       "      <td>L</td>\n",
       "      <td>0</td>\n",
       "      <td>3</td>\n",
       "      <td>1</td>\n",
       "    </tr>\n",
       "    <tr>\n",
       "      <th>4</th>\n",
       "      <td>5</td>\n",
       "      <td>Tuesday, Apr 12</td>\n",
       "      <td>NYY</td>\n",
       "      <td>TOR</td>\n",
       "      <td>W</td>\n",
       "      <td>4</td>\n",
       "      <td>0</td>\n",
       "      <td>1</td>\n",
       "    </tr>\n",
       "  </tbody>\n",
       "</table>\n",
       "</div>"
      ],
      "text/plain": [
       "   Gm#             Date   Tm  Opp W/L  R  RA    GB\n",
       "0    1    Friday, Apr 8  NYY  BOS   W  6   5  Tied\n",
       "1    2  Saturday, Apr 9  NYY  BOS   W  4   2  Tied\n",
       "2    3   Sunday, Apr 10  NYY  BOS   L  3   4     1\n",
       "3    4   Monday, Apr 11  NYY  TOR   L  0   3     1\n",
       "4    5  Tuesday, Apr 12  NYY  TOR   W  4   0     1"
      ]
     },
     "execution_count": 3,
     "metadata": {},
     "output_type": "execute_result"
    }
   ],
   "source": [
    "# Remove unnecessary columns\n",
    "sched_df = sched_df[['Gm#', 'Date', 'Tm', 'Opp', 'W/L', 'R', 'RA', 'GB']]\n",
    "sched_df.head()"
   ]
  },
  {
   "cell_type": "code",
   "execution_count": 4,
   "id": "2f58302e",
   "metadata": {},
   "outputs": [],
   "source": [
    "# Remove unnecessary rows\n",
    "#sched_df = sched_df.loc[(sched_df['Gm#'] >= 5) & (sched_df['Gm#'] <= 133)]"
   ]
  },
  {
   "cell_type": "code",
   "execution_count": 5,
   "id": "6d318c99",
   "metadata": {},
   "outputs": [
    {
     "data": {
      "text/html": [
       "<div>\n",
       "<style scoped>\n",
       "    .dataframe tbody tr th:only-of-type {\n",
       "        vertical-align: middle;\n",
       "    }\n",
       "\n",
       "    .dataframe tbody tr th {\n",
       "        vertical-align: top;\n",
       "    }\n",
       "\n",
       "    .dataframe thead th {\n",
       "        text-align: right;\n",
       "    }\n",
       "</style>\n",
       "<table border=\"1\" class=\"dataframe\">\n",
       "  <thead>\n",
       "    <tr style=\"text-align: right;\">\n",
       "      <th></th>\n",
       "      <th>Gm#</th>\n",
       "      <th>Date</th>\n",
       "      <th>Tm</th>\n",
       "      <th>Opp</th>\n",
       "      <th>W/L</th>\n",
       "      <th>R</th>\n",
       "      <th>RA</th>\n",
       "      <th>GB</th>\n",
       "      <th>Win T/F</th>\n",
       "      <th>Wins</th>\n",
       "      <th>Win_Pace</th>\n",
       "    </tr>\n",
       "  </thead>\n",
       "  <tbody>\n",
       "    <tr>\n",
       "      <th>0</th>\n",
       "      <td>1</td>\n",
       "      <td>Friday, Apr 8</td>\n",
       "      <td>NYY</td>\n",
       "      <td>BOS</td>\n",
       "      <td>W</td>\n",
       "      <td>6</td>\n",
       "      <td>5</td>\n",
       "      <td>Tied</td>\n",
       "      <td>1</td>\n",
       "      <td>1</td>\n",
       "      <td>162.0</td>\n",
       "    </tr>\n",
       "    <tr>\n",
       "      <th>1</th>\n",
       "      <td>2</td>\n",
       "      <td>Saturday, Apr 9</td>\n",
       "      <td>NYY</td>\n",
       "      <td>BOS</td>\n",
       "      <td>W</td>\n",
       "      <td>4</td>\n",
       "      <td>2</td>\n",
       "      <td>Tied</td>\n",
       "      <td>1</td>\n",
       "      <td>2</td>\n",
       "      <td>162.0</td>\n",
       "    </tr>\n",
       "    <tr>\n",
       "      <th>2</th>\n",
       "      <td>3</td>\n",
       "      <td>Sunday, Apr 10</td>\n",
       "      <td>NYY</td>\n",
       "      <td>BOS</td>\n",
       "      <td>L</td>\n",
       "      <td>3</td>\n",
       "      <td>4</td>\n",
       "      <td>1</td>\n",
       "      <td>0</td>\n",
       "      <td>2</td>\n",
       "      <td>108.0</td>\n",
       "    </tr>\n",
       "    <tr>\n",
       "      <th>3</th>\n",
       "      <td>4</td>\n",
       "      <td>Monday, Apr 11</td>\n",
       "      <td>NYY</td>\n",
       "      <td>TOR</td>\n",
       "      <td>L</td>\n",
       "      <td>0</td>\n",
       "      <td>3</td>\n",
       "      <td>1</td>\n",
       "      <td>0</td>\n",
       "      <td>2</td>\n",
       "      <td>81.0</td>\n",
       "    </tr>\n",
       "    <tr>\n",
       "      <th>4</th>\n",
       "      <td>5</td>\n",
       "      <td>Tuesday, Apr 12</td>\n",
       "      <td>NYY</td>\n",
       "      <td>TOR</td>\n",
       "      <td>W</td>\n",
       "      <td>4</td>\n",
       "      <td>0</td>\n",
       "      <td>1</td>\n",
       "      <td>1</td>\n",
       "      <td>3</td>\n",
       "      <td>97.2</td>\n",
       "    </tr>\n",
       "  </tbody>\n",
       "</table>\n",
       "</div>"
      ],
      "text/plain": [
       "   Gm#             Date   Tm  Opp W/L  R  RA    GB  Win T/F  Wins  Win_Pace\n",
       "0    1    Friday, Apr 8  NYY  BOS   W  6   5  Tied        1     1     162.0\n",
       "1    2  Saturday, Apr 9  NYY  BOS   W  4   2  Tied        1     2     162.0\n",
       "2    3   Sunday, Apr 10  NYY  BOS   L  3   4     1        0     2     108.0\n",
       "3    4   Monday, Apr 11  NYY  TOR   L  0   3     1        0     2      81.0\n",
       "4    5  Tuesday, Apr 12  NYY  TOR   W  4   0     1        1     3      97.2"
      ]
     },
     "execution_count": 5,
     "metadata": {},
     "output_type": "execute_result"
    }
   ],
   "source": [
    "sched_df['Win T/F'] = sched_df['W/L'].apply(lambda x: 1 if (x==\"W\") else 0)\n",
    "sched_df['Wins'] = sched_df['Win T/F'].cumsum()\n",
    "sched_df['Win_Pace'] = sched_df['Wins'] / sched_df['Gm#'] * 162\n",
    "sched_df.head()"
   ]
  },
  {
   "cell_type": "code",
   "execution_count": 6,
   "id": "1cdc72c8",
   "metadata": {},
   "outputs": [
    {
     "data": {
      "text/html": [
       "<div>\n",
       "<style scoped>\n",
       "    .dataframe tbody tr th:only-of-type {\n",
       "        vertical-align: middle;\n",
       "    }\n",
       "\n",
       "    .dataframe tbody tr th {\n",
       "        vertical-align: top;\n",
       "    }\n",
       "\n",
       "    .dataframe thead th {\n",
       "        text-align: right;\n",
       "    }\n",
       "</style>\n",
       "<table border=\"1\" class=\"dataframe\">\n",
       "  <thead>\n",
       "    <tr style=\"text-align: right;\">\n",
       "      <th></th>\n",
       "      <th>Gm#</th>\n",
       "      <th>Date</th>\n",
       "      <th>Tm</th>\n",
       "      <th>Opp</th>\n",
       "      <th>W/L</th>\n",
       "      <th>R</th>\n",
       "      <th>RA</th>\n",
       "      <th>GB</th>\n",
       "      <th>Win T/F</th>\n",
       "      <th>Wins</th>\n",
       "      <th>Win_Pace</th>\n",
       "    </tr>\n",
       "  </thead>\n",
       "  <tbody>\n",
       "    <tr>\n",
       "      <th>0</th>\n",
       "      <td>1</td>\n",
       "      <td>2022-04-08</td>\n",
       "      <td>NYY</td>\n",
       "      <td>BOS</td>\n",
       "      <td>W</td>\n",
       "      <td>6</td>\n",
       "      <td>5</td>\n",
       "      <td>Tied</td>\n",
       "      <td>1</td>\n",
       "      <td>1</td>\n",
       "      <td>162.0</td>\n",
       "    </tr>\n",
       "    <tr>\n",
       "      <th>1</th>\n",
       "      <td>2</td>\n",
       "      <td>2022-04-09</td>\n",
       "      <td>NYY</td>\n",
       "      <td>BOS</td>\n",
       "      <td>W</td>\n",
       "      <td>4</td>\n",
       "      <td>2</td>\n",
       "      <td>Tied</td>\n",
       "      <td>1</td>\n",
       "      <td>2</td>\n",
       "      <td>162.0</td>\n",
       "    </tr>\n",
       "    <tr>\n",
       "      <th>2</th>\n",
       "      <td>3</td>\n",
       "      <td>2022-04-10</td>\n",
       "      <td>NYY</td>\n",
       "      <td>BOS</td>\n",
       "      <td>L</td>\n",
       "      <td>3</td>\n",
       "      <td>4</td>\n",
       "      <td>1</td>\n",
       "      <td>0</td>\n",
       "      <td>2</td>\n",
       "      <td>108.0</td>\n",
       "    </tr>\n",
       "    <tr>\n",
       "      <th>3</th>\n",
       "      <td>4</td>\n",
       "      <td>2022-04-11</td>\n",
       "      <td>NYY</td>\n",
       "      <td>TOR</td>\n",
       "      <td>L</td>\n",
       "      <td>0</td>\n",
       "      <td>3</td>\n",
       "      <td>1</td>\n",
       "      <td>0</td>\n",
       "      <td>2</td>\n",
       "      <td>81.0</td>\n",
       "    </tr>\n",
       "    <tr>\n",
       "      <th>4</th>\n",
       "      <td>5</td>\n",
       "      <td>2022-04-12</td>\n",
       "      <td>NYY</td>\n",
       "      <td>TOR</td>\n",
       "      <td>W</td>\n",
       "      <td>4</td>\n",
       "      <td>0</td>\n",
       "      <td>1</td>\n",
       "      <td>1</td>\n",
       "      <td>3</td>\n",
       "      <td>97.2</td>\n",
       "    </tr>\n",
       "  </tbody>\n",
       "</table>\n",
       "</div>"
      ],
      "text/plain": [
       "   Gm#       Date   Tm  Opp W/L  R  RA    GB  Win T/F  Wins  Win_Pace\n",
       "0    1 2022-04-08  NYY  BOS   W  6   5  Tied        1     1     162.0\n",
       "1    2 2022-04-09  NYY  BOS   W  4   2  Tied        1     2     162.0\n",
       "2    3 2022-04-10  NYY  BOS   L  3   4     1        0     2     108.0\n",
       "3    4 2022-04-11  NYY  TOR   L  0   3     1        0     2      81.0\n",
       "4    5 2022-04-12  NYY  TOR   W  4   0     1        1     3      97.2"
      ]
     },
     "execution_count": 6,
     "metadata": {},
     "output_type": "execute_result"
    }
   ],
   "source": [
    "# Convert Date column to datetime\n",
    "sched_df['Date'] = sched_df['Date'] + ' 2022'\n",
    "sched_df['Date'] = pd.to_datetime(sched_df['Date'], format=\"%A, %b %d %Y\")\n",
    "sched_df.head()"
   ]
  },
  {
   "cell_type": "markdown",
   "id": "850fe210",
   "metadata": {},
   "source": [
    "## Viz"
   ]
  },
  {
   "cell_type": "code",
   "execution_count": 7,
   "id": "07d2f7e9",
   "metadata": {},
   "outputs": [],
   "source": [
    "# Create variables for use in chart\n",
    "\n",
    "# data variables\n",
    "x = sched_df['Gm#']\n",
    "y1 = sched_df['Wins']\n",
    "#text1 = [f'<b>{y}</b>' for y in sched_df['Wins']]\n",
    "y2 = sched_df['Win_Pace']\n",
    "#text2 = [f'<b>{y}</b>' for y in scherzer_df['SO']]\n",
    "\n",
    "\n",
    "# # hover label variables\n",
    "# teams = lemahieu_df['Team']\n",
    "# OBPs = lemahieu_df['OBP']\n",
    "# fWARs = lemahieu_df['fWAR']\n",
    "# wRCs = lemahieu_df['wRC+']\n",
    "\n",
    "# hover = [\n",
    "#     f'       {tm}<br><b>OBP:    {obp}th<br>fWAR:  {fwar}th<br>wRC+:  {wrc}th</b>'\n",
    "#     for tm, obp, fwar, wrc in\n",
    "#     zip(teams, OBPs, fWARs, wRCs)\n",
    "# ]\n",
    "\n",
    "\n",
    "# color variables\n",
    "navy = '#0C2340'\n",
    "gray = '#C4CED3'"
   ]
  },
  {
   "cell_type": "code",
   "execution_count": 10,
   "id": "3f9a53c0",
   "metadata": {},
   "outputs": [
    {
     "data": {
      "application/vnd.plotly.v1+json": {
       "config": {
        "plotlyServerURL": "https://plotly.com"
       },
       "data": [
        {
         "line": {
          "color": "#a2f5c1",
          "shape": "spline",
          "smoothing": 1.3,
          "width": 20
         },
         "mode": "lines",
         "name": "<b>Win Pace</b>",
         "type": "scatter",
         "x": [
          1,
          2,
          3,
          4,
          5,
          6,
          7,
          8,
          9,
          10,
          11,
          12,
          13,
          14,
          15,
          16,
          17,
          18,
          19,
          20,
          21,
          22,
          23,
          24,
          25,
          26,
          27,
          28,
          29,
          30,
          31,
          32,
          33,
          34,
          35,
          36,
          37,
          38,
          39,
          40,
          41,
          42,
          43,
          44,
          45,
          46,
          47,
          48,
          49,
          50,
          51,
          52,
          53,
          54,
          55,
          56,
          57,
          58,
          59,
          60,
          61,
          62,
          63,
          64,
          65,
          66,
          67,
          68,
          69,
          70,
          71,
          72,
          73,
          74,
          75,
          76,
          77,
          78,
          79,
          80,
          81,
          82,
          83,
          84,
          85,
          86,
          87,
          88,
          89,
          90,
          91,
          92,
          93,
          94,
          95,
          96,
          97,
          98,
          99,
          100,
          101,
          102,
          103,
          104,
          105,
          106,
          107,
          108,
          109,
          110,
          111,
          112,
          113,
          114,
          115,
          116,
          117,
          118,
          119,
          120,
          121,
          122,
          123,
          124,
          125,
          126,
          127,
          128,
          129,
          130,
          131,
          132,
          133
         ],
         "y": [
          162,
          162,
          108,
          81,
          97.2,
          81,
          92.57142857142857,
          81,
          90,
          81,
          88.36363636363636,
          94.5,
          87.23076923076923,
          92.57142857142857,
          97.2,
          101.25,
          104.82352941176471,
          108,
          110.8421052631579,
          113.39999999999999,
          115.71428571428572,
          117.81818181818183,
          119.7391304347826,
          121.5,
          116.64,
          118.38461538461537,
          114,
          115.71428571428572,
          117.3103448275862,
          118.8,
          120.19354838709677,
          121.5,
          117.81818181818183,
          119.11764705882354,
          120.34285714285714,
          121.5,
          122.5945945945946,
          119.36842105263158,
          120.46153846153847,
          117.45,
          114.58536585365853,
          111.85714285714286,
          113.0232558139535,
          114.13636363636364,
          115.2,
          116.21739130434781,
          113.74468085106383,
          111.375,
          112.40816326530611,
          113.39999999999999,
          114.3529411764706,
          115.26923076923077,
          116.15094339622641,
          117,
          117.81818181818183,
          115.71428571428572,
          116.52631578947368,
          117.3103448275862,
          118.06779661016948,
          118.8,
          119.50819672131148,
          120.19354838709677,
          120.85714285714286,
          121.5,
          122.12307692307692,
          120.27272727272728,
          120.8955223880597,
          119.11764705882354,
          119.7391304347826,
          120.34285714285714,
          118.64788732394366,
          117,
          117.61643835616438,
          118.21621621621621,
          118.8,
          119.36842105263158,
          117.81818181818183,
          118.38461538461537,
          118.9367088607595,
          117.45,
          116,
          116.5609756097561,
          117.10843373493975,
          117.64285714285714,
          116.25882352941177,
          114.90697674418605,
          113.58620689655173,
          114.13636363636364,
          112.85393258426967,
          111.6,
          112.15384615384615,
          112.69565217391305,
          111.48387096774195,
          110.29787234042553,
          110.8421052631579,
          109.6875,
          110.22680412371135,
          109.10204081632652,
          108,
          108.54,
          109.06930693069307,
          109.58823529411765,
          108.5242718446602,
          109.03846153846155,
          108,
          106.98113207547169,
          105.98130841121495,
          105,
          104.03669724770643,
          104.56363636363638,
          103.62162162162163,
          102.69642857142857,
          101.78761061946902,
          102.3157894736842,
          101.42608695652174,
          100.55172413793103,
          99.6923076923077,
          100.22033898305085,
          99.37815126050421,
          98.55,
          97.73553719008264,
          98.26229508196721,
          98.78048780487805,
          99.29032258064517,
          99.792,
          100.28571428571429,
          99.49606299212599,
          98.71875,
          97.95348837209302,
          98.44615384615383,
          97.69465648854963,
          96.95454545454545,
          96.22556390977444
         ]
        },
        {
         "line": {
          "color": "#20b358",
          "shape": "spline",
          "smoothing": 1.3,
          "width": 20
         },
         "mode": "lines",
         "name": "<b>Wins</b>",
         "type": "scatter",
         "x": [
          1,
          2,
          3,
          4,
          5,
          6,
          7,
          8,
          9,
          10,
          11,
          12,
          13,
          14,
          15,
          16,
          17,
          18,
          19,
          20,
          21,
          22,
          23,
          24,
          25,
          26,
          27,
          28,
          29,
          30,
          31,
          32,
          33,
          34,
          35,
          36,
          37,
          38,
          39,
          40,
          41,
          42,
          43,
          44,
          45,
          46,
          47,
          48,
          49,
          50,
          51,
          52,
          53,
          54,
          55,
          56,
          57,
          58,
          59,
          60,
          61,
          62,
          63,
          64,
          65,
          66,
          67,
          68,
          69,
          70,
          71,
          72,
          73,
          74,
          75,
          76,
          77,
          78,
          79,
          80,
          81,
          82,
          83,
          84,
          85,
          86,
          87,
          88,
          89,
          90,
          91,
          92,
          93,
          94,
          95,
          96,
          97,
          98,
          99,
          100,
          101,
          102,
          103,
          104,
          105,
          106,
          107,
          108,
          109,
          110,
          111,
          112,
          113,
          114,
          115,
          116,
          117,
          118,
          119,
          120,
          121,
          122,
          123,
          124,
          125,
          126,
          127,
          128,
          129,
          130,
          131,
          132,
          133
         ],
         "y": [
          1,
          2,
          2,
          2,
          3,
          3,
          4,
          4,
          5,
          5,
          6,
          7,
          7,
          8,
          9,
          10,
          11,
          12,
          13,
          14,
          15,
          16,
          17,
          18,
          18,
          19,
          19,
          20,
          21,
          22,
          23,
          24,
          24,
          25,
          26,
          27,
          28,
          28,
          29,
          29,
          29,
          29,
          30,
          31,
          32,
          33,
          33,
          33,
          34,
          35,
          36,
          37,
          38,
          39,
          40,
          40,
          41,
          42,
          43,
          44,
          45,
          46,
          47,
          48,
          49,
          49,
          50,
          50,
          51,
          52,
          52,
          52,
          53,
          54,
          55,
          56,
          56,
          57,
          58,
          58,
          58,
          59,
          60,
          61,
          61,
          61,
          61,
          62,
          62,
          62,
          63,
          64,
          64,
          64,
          65,
          65,
          66,
          66,
          66,
          67,
          68,
          69,
          69,
          70,
          70,
          70,
          70,
          70,
          70,
          71,
          71,
          71,
          71,
          72,
          72,
          72,
          72,
          73,
          73,
          73,
          73,
          74,
          75,
          76,
          77,
          78,
          78,
          78,
          78,
          79,
          79,
          79,
          79
         ]
        },
        {
         "hoverinfo": "skip",
         "line": {
          "shape": "spline",
          "smoothing": 1.3,
          "width": 20
         },
         "marker": {
          "color": "#a2f5c1",
          "line": {
           "color": "#0C2340",
           "width": 3
          },
          "size": 40
         },
         "mode": "markers+text",
         "showlegend": false,
         "text": [
          "<b>122</b>"
         ],
         "textfont": {
          "color": "#0C2340",
          "size": 16
         },
         "textposition": "middle center",
         "type": "scatter",
         "x": [
          65
         ],
         "y": [
          122.12307692307692
         ]
        },
        {
         "hoverinfo": "skip",
         "line": {
          "shape": "spline",
          "smoothing": 1.3,
          "width": 20
         },
         "marker": {
          "color": "#a2f5c1",
          "line": {
           "color": "#0C2340",
           "width": 3
          },
          "size": 40
         },
         "mode": "markers+text",
         "showlegend": false,
         "text": [
          "<b>96</b>"
         ],
         "textfont": {
          "color": "#0C2340",
          "size": 16
         },
         "textposition": "middle center",
         "type": "scatter",
         "x": [
          133
         ],
         "y": [
          96.22556390977444
         ]
        },
        {
         "hoverinfo": "skip",
         "line": {
          "shape": "spline",
          "smoothing": 1.3,
          "width": 20
         },
         "marker": {
          "color": "#20b358",
          "line": {
           "color": "#0C2340",
           "width": 3
          },
          "size": 40
         },
         "mode": "markers+text",
         "showlegend": false,
         "text": [
          "<b>49</b>"
         ],
         "textfont": {
          "color": "#0C2340",
          "size": 16
         },
         "textposition": "middle center",
         "type": "scatter",
         "x": [
          65
         ],
         "y": [
          49
         ]
        },
        {
         "hoverinfo": "skip",
         "line": {
          "shape": "spline",
          "smoothing": 1.3,
          "width": 20
         },
         "marker": {
          "color": "#20b358",
          "line": {
           "color": "#0C2340",
           "width": 3
          },
          "size": 40
         },
         "mode": "markers+text",
         "showlegend": false,
         "text": [
          "<b>79</b>"
         ],
         "textfont": {
          "color": "#0C2340",
          "size": 16
         },
         "textposition": "middle center",
         "type": "scatter",
         "x": [
          133
         ],
         "y": [
          79
         ]
        }
       ],
       "layout": {
        "hoverlabel": {
         "bgcolor": "#0C2340",
         "font": {
          "size": 16
         }
        },
        "legend": {
         "bgcolor": "white",
         "bordercolor": "#C4CED3",
         "borderwidth": 2,
         "font": {
          "color": "#0C2340",
          "size": 18
         },
         "orientation": "h",
         "title": {
          "text": ""
         },
         "traceorder": "reversed",
         "x": 0.357,
         "xanchor": "left",
         "y": 1.01,
         "yanchor": "top"
        },
        "margin": {
         "pad": 3,
         "t": 120
        },
        "paper_bgcolor": "#0C2340",
        "plot_bgcolor": "#0C2340",
        "template": {
         "data": {
          "bar": [
           {
            "error_x": {
             "color": "#2a3f5f"
            },
            "error_y": {
             "color": "#2a3f5f"
            },
            "marker": {
             "line": {
              "color": "#E5ECF6",
              "width": 0.5
             },
             "pattern": {
              "fillmode": "overlay",
              "size": 10,
              "solidity": 0.2
             }
            },
            "type": "bar"
           }
          ],
          "barpolar": [
           {
            "marker": {
             "line": {
              "color": "#E5ECF6",
              "width": 0.5
             },
             "pattern": {
              "fillmode": "overlay",
              "size": 10,
              "solidity": 0.2
             }
            },
            "type": "barpolar"
           }
          ],
          "carpet": [
           {
            "aaxis": {
             "endlinecolor": "#2a3f5f",
             "gridcolor": "white",
             "linecolor": "white",
             "minorgridcolor": "white",
             "startlinecolor": "#2a3f5f"
            },
            "baxis": {
             "endlinecolor": "#2a3f5f",
             "gridcolor": "white",
             "linecolor": "white",
             "minorgridcolor": "white",
             "startlinecolor": "#2a3f5f"
            },
            "type": "carpet"
           }
          ],
          "choropleth": [
           {
            "colorbar": {
             "outlinewidth": 0,
             "ticks": ""
            },
            "type": "choropleth"
           }
          ],
          "contour": [
           {
            "colorbar": {
             "outlinewidth": 0,
             "ticks": ""
            },
            "colorscale": [
             [
              0,
              "#0d0887"
             ],
             [
              0.1111111111111111,
              "#46039f"
             ],
             [
              0.2222222222222222,
              "#7201a8"
             ],
             [
              0.3333333333333333,
              "#9c179e"
             ],
             [
              0.4444444444444444,
              "#bd3786"
             ],
             [
              0.5555555555555556,
              "#d8576b"
             ],
             [
              0.6666666666666666,
              "#ed7953"
             ],
             [
              0.7777777777777778,
              "#fb9f3a"
             ],
             [
              0.8888888888888888,
              "#fdca26"
             ],
             [
              1,
              "#f0f921"
             ]
            ],
            "type": "contour"
           }
          ],
          "contourcarpet": [
           {
            "colorbar": {
             "outlinewidth": 0,
             "ticks": ""
            },
            "type": "contourcarpet"
           }
          ],
          "heatmap": [
           {
            "colorbar": {
             "outlinewidth": 0,
             "ticks": ""
            },
            "colorscale": [
             [
              0,
              "#0d0887"
             ],
             [
              0.1111111111111111,
              "#46039f"
             ],
             [
              0.2222222222222222,
              "#7201a8"
             ],
             [
              0.3333333333333333,
              "#9c179e"
             ],
             [
              0.4444444444444444,
              "#bd3786"
             ],
             [
              0.5555555555555556,
              "#d8576b"
             ],
             [
              0.6666666666666666,
              "#ed7953"
             ],
             [
              0.7777777777777778,
              "#fb9f3a"
             ],
             [
              0.8888888888888888,
              "#fdca26"
             ],
             [
              1,
              "#f0f921"
             ]
            ],
            "type": "heatmap"
           }
          ],
          "heatmapgl": [
           {
            "colorbar": {
             "outlinewidth": 0,
             "ticks": ""
            },
            "colorscale": [
             [
              0,
              "#0d0887"
             ],
             [
              0.1111111111111111,
              "#46039f"
             ],
             [
              0.2222222222222222,
              "#7201a8"
             ],
             [
              0.3333333333333333,
              "#9c179e"
             ],
             [
              0.4444444444444444,
              "#bd3786"
             ],
             [
              0.5555555555555556,
              "#d8576b"
             ],
             [
              0.6666666666666666,
              "#ed7953"
             ],
             [
              0.7777777777777778,
              "#fb9f3a"
             ],
             [
              0.8888888888888888,
              "#fdca26"
             ],
             [
              1,
              "#f0f921"
             ]
            ],
            "type": "heatmapgl"
           }
          ],
          "histogram": [
           {
            "marker": {
             "pattern": {
              "fillmode": "overlay",
              "size": 10,
              "solidity": 0.2
             }
            },
            "type": "histogram"
           }
          ],
          "histogram2d": [
           {
            "colorbar": {
             "outlinewidth": 0,
             "ticks": ""
            },
            "colorscale": [
             [
              0,
              "#0d0887"
             ],
             [
              0.1111111111111111,
              "#46039f"
             ],
             [
              0.2222222222222222,
              "#7201a8"
             ],
             [
              0.3333333333333333,
              "#9c179e"
             ],
             [
              0.4444444444444444,
              "#bd3786"
             ],
             [
              0.5555555555555556,
              "#d8576b"
             ],
             [
              0.6666666666666666,
              "#ed7953"
             ],
             [
              0.7777777777777778,
              "#fb9f3a"
             ],
             [
              0.8888888888888888,
              "#fdca26"
             ],
             [
              1,
              "#f0f921"
             ]
            ],
            "type": "histogram2d"
           }
          ],
          "histogram2dcontour": [
           {
            "colorbar": {
             "outlinewidth": 0,
             "ticks": ""
            },
            "colorscale": [
             [
              0,
              "#0d0887"
             ],
             [
              0.1111111111111111,
              "#46039f"
             ],
             [
              0.2222222222222222,
              "#7201a8"
             ],
             [
              0.3333333333333333,
              "#9c179e"
             ],
             [
              0.4444444444444444,
              "#bd3786"
             ],
             [
              0.5555555555555556,
              "#d8576b"
             ],
             [
              0.6666666666666666,
              "#ed7953"
             ],
             [
              0.7777777777777778,
              "#fb9f3a"
             ],
             [
              0.8888888888888888,
              "#fdca26"
             ],
             [
              1,
              "#f0f921"
             ]
            ],
            "type": "histogram2dcontour"
           }
          ],
          "mesh3d": [
           {
            "colorbar": {
             "outlinewidth": 0,
             "ticks": ""
            },
            "type": "mesh3d"
           }
          ],
          "parcoords": [
           {
            "line": {
             "colorbar": {
              "outlinewidth": 0,
              "ticks": ""
             }
            },
            "type": "parcoords"
           }
          ],
          "pie": [
           {
            "automargin": true,
            "type": "pie"
           }
          ],
          "scatter": [
           {
            "fillpattern": {
             "fillmode": "overlay",
             "size": 10,
             "solidity": 0.2
            },
            "type": "scatter"
           }
          ],
          "scatter3d": [
           {
            "line": {
             "colorbar": {
              "outlinewidth": 0,
              "ticks": ""
             }
            },
            "marker": {
             "colorbar": {
              "outlinewidth": 0,
              "ticks": ""
             }
            },
            "type": "scatter3d"
           }
          ],
          "scattercarpet": [
           {
            "marker": {
             "colorbar": {
              "outlinewidth": 0,
              "ticks": ""
             }
            },
            "type": "scattercarpet"
           }
          ],
          "scattergeo": [
           {
            "marker": {
             "colorbar": {
              "outlinewidth": 0,
              "ticks": ""
             }
            },
            "type": "scattergeo"
           }
          ],
          "scattergl": [
           {
            "marker": {
             "colorbar": {
              "outlinewidth": 0,
              "ticks": ""
             }
            },
            "type": "scattergl"
           }
          ],
          "scattermapbox": [
           {
            "marker": {
             "colorbar": {
              "outlinewidth": 0,
              "ticks": ""
             }
            },
            "type": "scattermapbox"
           }
          ],
          "scatterpolar": [
           {
            "marker": {
             "colorbar": {
              "outlinewidth": 0,
              "ticks": ""
             }
            },
            "type": "scatterpolar"
           }
          ],
          "scatterpolargl": [
           {
            "marker": {
             "colorbar": {
              "outlinewidth": 0,
              "ticks": ""
             }
            },
            "type": "scatterpolargl"
           }
          ],
          "scatterternary": [
           {
            "marker": {
             "colorbar": {
              "outlinewidth": 0,
              "ticks": ""
             }
            },
            "type": "scatterternary"
           }
          ],
          "surface": [
           {
            "colorbar": {
             "outlinewidth": 0,
             "ticks": ""
            },
            "colorscale": [
             [
              0,
              "#0d0887"
             ],
             [
              0.1111111111111111,
              "#46039f"
             ],
             [
              0.2222222222222222,
              "#7201a8"
             ],
             [
              0.3333333333333333,
              "#9c179e"
             ],
             [
              0.4444444444444444,
              "#bd3786"
             ],
             [
              0.5555555555555556,
              "#d8576b"
             ],
             [
              0.6666666666666666,
              "#ed7953"
             ],
             [
              0.7777777777777778,
              "#fb9f3a"
             ],
             [
              0.8888888888888888,
              "#fdca26"
             ],
             [
              1,
              "#f0f921"
             ]
            ],
            "type": "surface"
           }
          ],
          "table": [
           {
            "cells": {
             "fill": {
              "color": "#EBF0F8"
             },
             "line": {
              "color": "white"
             }
            },
            "header": {
             "fill": {
              "color": "#C8D4E3"
             },
             "line": {
              "color": "white"
             }
            },
            "type": "table"
           }
          ]
         },
         "layout": {
          "annotationdefaults": {
           "arrowcolor": "#2a3f5f",
           "arrowhead": 0,
           "arrowwidth": 1
          },
          "autotypenumbers": "strict",
          "coloraxis": {
           "colorbar": {
            "outlinewidth": 0,
            "ticks": ""
           }
          },
          "colorscale": {
           "diverging": [
            [
             0,
             "#8e0152"
            ],
            [
             0.1,
             "#c51b7d"
            ],
            [
             0.2,
             "#de77ae"
            ],
            [
             0.3,
             "#f1b6da"
            ],
            [
             0.4,
             "#fde0ef"
            ],
            [
             0.5,
             "#f7f7f7"
            ],
            [
             0.6,
             "#e6f5d0"
            ],
            [
             0.7,
             "#b8e186"
            ],
            [
             0.8,
             "#7fbc41"
            ],
            [
             0.9,
             "#4d9221"
            ],
            [
             1,
             "#276419"
            ]
           ],
           "sequential": [
            [
             0,
             "#0d0887"
            ],
            [
             0.1111111111111111,
             "#46039f"
            ],
            [
             0.2222222222222222,
             "#7201a8"
            ],
            [
             0.3333333333333333,
             "#9c179e"
            ],
            [
             0.4444444444444444,
             "#bd3786"
            ],
            [
             0.5555555555555556,
             "#d8576b"
            ],
            [
             0.6666666666666666,
             "#ed7953"
            ],
            [
             0.7777777777777778,
             "#fb9f3a"
            ],
            [
             0.8888888888888888,
             "#fdca26"
            ],
            [
             1,
             "#f0f921"
            ]
           ],
           "sequentialminus": [
            [
             0,
             "#0d0887"
            ],
            [
             0.1111111111111111,
             "#46039f"
            ],
            [
             0.2222222222222222,
             "#7201a8"
            ],
            [
             0.3333333333333333,
             "#9c179e"
            ],
            [
             0.4444444444444444,
             "#bd3786"
            ],
            [
             0.5555555555555556,
             "#d8576b"
            ],
            [
             0.6666666666666666,
             "#ed7953"
            ],
            [
             0.7777777777777778,
             "#fb9f3a"
            ],
            [
             0.8888888888888888,
             "#fdca26"
            ],
            [
             1,
             "#f0f921"
            ]
           ]
          },
          "colorway": [
           "#636efa",
           "#EF553B",
           "#00cc96",
           "#ab63fa",
           "#FFA15A",
           "#19d3f3",
           "#FF6692",
           "#B6E880",
           "#FF97FF",
           "#FECB52"
          ],
          "font": {
           "color": "#2a3f5f"
          },
          "geo": {
           "bgcolor": "white",
           "lakecolor": "white",
           "landcolor": "#E5ECF6",
           "showlakes": true,
           "showland": true,
           "subunitcolor": "white"
          },
          "hoverlabel": {
           "align": "left"
          },
          "hovermode": "closest",
          "mapbox": {
           "style": "light"
          },
          "paper_bgcolor": "white",
          "plot_bgcolor": "#E5ECF6",
          "polar": {
           "angularaxis": {
            "gridcolor": "white",
            "linecolor": "white",
            "ticks": ""
           },
           "bgcolor": "#E5ECF6",
           "radialaxis": {
            "gridcolor": "white",
            "linecolor": "white",
            "ticks": ""
           }
          },
          "scene": {
           "xaxis": {
            "backgroundcolor": "#E5ECF6",
            "gridcolor": "white",
            "gridwidth": 2,
            "linecolor": "white",
            "showbackground": true,
            "ticks": "",
            "zerolinecolor": "white"
           },
           "yaxis": {
            "backgroundcolor": "#E5ECF6",
            "gridcolor": "white",
            "gridwidth": 2,
            "linecolor": "white",
            "showbackground": true,
            "ticks": "",
            "zerolinecolor": "white"
           },
           "zaxis": {
            "backgroundcolor": "#E5ECF6",
            "gridcolor": "white",
            "gridwidth": 2,
            "linecolor": "white",
            "showbackground": true,
            "ticks": "",
            "zerolinecolor": "white"
           }
          },
          "shapedefaults": {
           "line": {
            "color": "#2a3f5f"
           }
          },
          "ternary": {
           "aaxis": {
            "gridcolor": "white",
            "linecolor": "white",
            "ticks": ""
           },
           "baxis": {
            "gridcolor": "white",
            "linecolor": "white",
            "ticks": ""
           },
           "bgcolor": "#E5ECF6",
           "caxis": {
            "gridcolor": "white",
            "linecolor": "white",
            "ticks": ""
           }
          },
          "title": {
           "x": 0.05
          },
          "xaxis": {
           "automargin": true,
           "gridcolor": "white",
           "linecolor": "white",
           "ticks": "",
           "title": {
            "standoff": 15
           },
           "zerolinecolor": "white",
           "zerolinewidth": 2
          },
          "yaxis": {
           "automargin": true,
           "gridcolor": "white",
           "linecolor": "white",
           "ticks": "",
           "title": {
            "standoff": 15
           },
           "zerolinecolor": "white",
           "zerolinewidth": 2
          }
         }
        },
        "title": {
         "font": {
          "color": "white",
          "size": 30
         },
         "text": "<b>History to Mystery</b><br>The Collapse of a Record-Setting Win Pace",
         "x": 0.5,
         "xanchor": "center",
         "y": 0.9,
         "yanchor": "top"
        },
        "xaxis": {
         "gridcolor": "rgb(20,45,75)",
         "gridwidth": 2,
         "range": [
          -0.2,
          137
         ],
         "tickfont": {
          "color": "#C4CED3",
          "size": 24
         },
         "tickmode": "array",
         "ticktext": [
          "<b>0</b>",
          "<b>20</b>",
          "<b>40</b>",
          "<b>60</b>",
          "<b>80</b>",
          "<b>100</b>",
          "<b>120</b>"
         ],
         "tickvals": [
          0,
          20,
          40,
          60,
          80,
          100,
          120
         ],
         "title": {
          "font": {
           "color": "white",
           "size": 26
          },
          "text": "<b>Games Played</b>"
         },
         "zeroline": false
        },
        "yaxis": {
         "gridcolor": "rgb(20,45,75)",
         "gridwidth": 2,
         "range": [
          -5,
          160
         ],
         "tickfont": {
          "color": "#C4CED3",
          "size": 24
         },
         "tickmode": "array",
         "ticktext": [
          "<b>0</b>",
          "<b>25</b>",
          "<b>50</b>",
          "<b>75</b>",
          "<b>100</b>",
          "<b>125</b>",
          "<b>150</b>",
          "<b>175</b>"
         ],
         "tickvals": [
          0,
          25,
          50,
          75,
          100,
          125,
          150,
          175
         ],
         "zeroline": false,
         "zerolinecolor": "rgb(20,45,75)",
         "zerolinewidth": 2
        }
       }
      },
      "text/html": [
       "<div>                            <div id=\"5e70a15f-8fef-42e7-9352-8714c2929f92\" class=\"plotly-graph-div\" style=\"height:525px; width:100%;\"></div>            <script type=\"text/javascript\">                require([\"plotly\"], function(Plotly) {                    window.PLOTLYENV=window.PLOTLYENV || {};                                    if (document.getElementById(\"5e70a15f-8fef-42e7-9352-8714c2929f92\")) {                    Plotly.newPlot(                        \"5e70a15f-8fef-42e7-9352-8714c2929f92\",                        [{\"line\":{\"color\":\"#a2f5c1\",\"shape\":\"spline\",\"smoothing\":1.3,\"width\":20},\"mode\":\"lines\",\"name\":\"<b>Win Pace</b>\",\"x\":[1,2,3,4,5,6,7,8,9,10,11,12,13,14,15,16,17,18,19,20,21,22,23,24,25,26,27,28,29,30,31,32,33,34,35,36,37,38,39,40,41,42,43,44,45,46,47,48,49,50,51,52,53,54,55,56,57,58,59,60,61,62,63,64,65,66,67,68,69,70,71,72,73,74,75,76,77,78,79,80,81,82,83,84,85,86,87,88,89,90,91,92,93,94,95,96,97,98,99,100,101,102,103,104,105,106,107,108,109,110,111,112,113,114,115,116,117,118,119,120,121,122,123,124,125,126,127,128,129,130,131,132,133],\"y\":[162.0,162.0,108.0,81.0,97.2,81.0,92.57142857142857,81.0,90.0,81.0,88.36363636363636,94.5,87.23076923076923,92.57142857142857,97.2,101.25,104.82352941176471,108.0,110.8421052631579,113.39999999999999,115.71428571428572,117.81818181818183,119.7391304347826,121.5,116.64,118.38461538461537,114.0,115.71428571428572,117.3103448275862,118.8,120.19354838709677,121.5,117.81818181818183,119.11764705882354,120.34285714285714,121.5,122.5945945945946,119.36842105263158,120.46153846153847,117.45,114.58536585365853,111.85714285714286,113.0232558139535,114.13636363636364,115.2,116.21739130434781,113.74468085106383,111.375,112.40816326530611,113.39999999999999,114.3529411764706,115.26923076923077,116.15094339622641,117.0,117.81818181818183,115.71428571428572,116.52631578947368,117.3103448275862,118.06779661016948,118.8,119.50819672131148,120.19354838709677,120.85714285714286,121.5,122.12307692307692,120.27272727272728,120.8955223880597,119.11764705882354,119.7391304347826,120.34285714285714,118.64788732394366,117.0,117.61643835616438,118.21621621621621,118.8,119.36842105263158,117.81818181818183,118.38461538461537,118.9367088607595,117.45,116.0,116.5609756097561,117.10843373493975,117.64285714285714,116.25882352941177,114.90697674418605,113.58620689655173,114.13636363636364,112.85393258426967,111.6,112.15384615384615,112.69565217391305,111.48387096774195,110.29787234042553,110.8421052631579,109.6875,110.22680412371135,109.10204081632652,108.0,108.54,109.06930693069307,109.58823529411765,108.5242718446602,109.03846153846155,108.0,106.98113207547169,105.98130841121495,105.0,104.03669724770643,104.56363636363638,103.62162162162163,102.69642857142857,101.78761061946902,102.3157894736842,101.42608695652174,100.55172413793103,99.6923076923077,100.22033898305085,99.37815126050421,98.55,97.73553719008264,98.26229508196721,98.78048780487805,99.29032258064517,99.792,100.28571428571429,99.49606299212599,98.71875,97.95348837209302,98.44615384615383,97.69465648854963,96.95454545454545,96.22556390977444],\"type\":\"scatter\"},{\"line\":{\"color\":\"#20b358\",\"shape\":\"spline\",\"smoothing\":1.3,\"width\":20},\"mode\":\"lines\",\"name\":\"<b>Wins</b>\",\"x\":[1,2,3,4,5,6,7,8,9,10,11,12,13,14,15,16,17,18,19,20,21,22,23,24,25,26,27,28,29,30,31,32,33,34,35,36,37,38,39,40,41,42,43,44,45,46,47,48,49,50,51,52,53,54,55,56,57,58,59,60,61,62,63,64,65,66,67,68,69,70,71,72,73,74,75,76,77,78,79,80,81,82,83,84,85,86,87,88,89,90,91,92,93,94,95,96,97,98,99,100,101,102,103,104,105,106,107,108,109,110,111,112,113,114,115,116,117,118,119,120,121,122,123,124,125,126,127,128,129,130,131,132,133],\"y\":[1,2,2,2,3,3,4,4,5,5,6,7,7,8,9,10,11,12,13,14,15,16,17,18,18,19,19,20,21,22,23,24,24,25,26,27,28,28,29,29,29,29,30,31,32,33,33,33,34,35,36,37,38,39,40,40,41,42,43,44,45,46,47,48,49,49,50,50,51,52,52,52,53,54,55,56,56,57,58,58,58,59,60,61,61,61,61,62,62,62,63,64,64,64,65,65,66,66,66,67,68,69,69,70,70,70,70,70,70,71,71,71,71,72,72,72,72,73,73,73,73,74,75,76,77,78,78,78,78,79,79,79,79],\"type\":\"scatter\"},{\"hoverinfo\":\"skip\",\"marker\":{\"color\":\"#a2f5c1\",\"line\":{\"color\":\"#0C2340\",\"width\":3},\"size\":40},\"mode\":\"markers+text\",\"showlegend\":false,\"text\":[\"<b>122</b>\"],\"textfont\":{\"color\":\"#0C2340\",\"size\":16},\"textposition\":\"middle center\",\"x\":[65],\"y\":[122.12307692307692],\"type\":\"scatter\",\"line\":{\"shape\":\"spline\",\"smoothing\":1.3,\"width\":20}},{\"hoverinfo\":\"skip\",\"marker\":{\"color\":\"#a2f5c1\",\"line\":{\"color\":\"#0C2340\",\"width\":3},\"size\":40},\"mode\":\"markers+text\",\"showlegend\":false,\"text\":[\"<b>96</b>\"],\"textfont\":{\"color\":\"#0C2340\",\"size\":16},\"textposition\":\"middle center\",\"x\":[133],\"y\":[96.22556390977444],\"type\":\"scatter\",\"line\":{\"shape\":\"spline\",\"smoothing\":1.3,\"width\":20}},{\"hoverinfo\":\"skip\",\"marker\":{\"color\":\"#20b358\",\"line\":{\"color\":\"#0C2340\",\"width\":3},\"size\":40},\"mode\":\"markers+text\",\"showlegend\":false,\"text\":[\"<b>49</b>\"],\"textfont\":{\"color\":\"#0C2340\",\"size\":16},\"textposition\":\"middle center\",\"x\":[65],\"y\":[49],\"type\":\"scatter\",\"line\":{\"shape\":\"spline\",\"smoothing\":1.3,\"width\":20}},{\"hoverinfo\":\"skip\",\"marker\":{\"color\":\"#20b358\",\"line\":{\"color\":\"#0C2340\",\"width\":3},\"size\":40},\"mode\":\"markers+text\",\"showlegend\":false,\"text\":[\"<b>79</b>\"],\"textfont\":{\"color\":\"#0C2340\",\"size\":16},\"textposition\":\"middle center\",\"x\":[133],\"y\":[79],\"type\":\"scatter\",\"line\":{\"shape\":\"spline\",\"smoothing\":1.3,\"width\":20}}],                        {\"template\":{\"data\":{\"histogram2dcontour\":[{\"type\":\"histogram2dcontour\",\"colorbar\":{\"outlinewidth\":0,\"ticks\":\"\"},\"colorscale\":[[0.0,\"#0d0887\"],[0.1111111111111111,\"#46039f\"],[0.2222222222222222,\"#7201a8\"],[0.3333333333333333,\"#9c179e\"],[0.4444444444444444,\"#bd3786\"],[0.5555555555555556,\"#d8576b\"],[0.6666666666666666,\"#ed7953\"],[0.7777777777777778,\"#fb9f3a\"],[0.8888888888888888,\"#fdca26\"],[1.0,\"#f0f921\"]]}],\"choropleth\":[{\"type\":\"choropleth\",\"colorbar\":{\"outlinewidth\":0,\"ticks\":\"\"}}],\"histogram2d\":[{\"type\":\"histogram2d\",\"colorbar\":{\"outlinewidth\":0,\"ticks\":\"\"},\"colorscale\":[[0.0,\"#0d0887\"],[0.1111111111111111,\"#46039f\"],[0.2222222222222222,\"#7201a8\"],[0.3333333333333333,\"#9c179e\"],[0.4444444444444444,\"#bd3786\"],[0.5555555555555556,\"#d8576b\"],[0.6666666666666666,\"#ed7953\"],[0.7777777777777778,\"#fb9f3a\"],[0.8888888888888888,\"#fdca26\"],[1.0,\"#f0f921\"]]}],\"heatmap\":[{\"type\":\"heatmap\",\"colorbar\":{\"outlinewidth\":0,\"ticks\":\"\"},\"colorscale\":[[0.0,\"#0d0887\"],[0.1111111111111111,\"#46039f\"],[0.2222222222222222,\"#7201a8\"],[0.3333333333333333,\"#9c179e\"],[0.4444444444444444,\"#bd3786\"],[0.5555555555555556,\"#d8576b\"],[0.6666666666666666,\"#ed7953\"],[0.7777777777777778,\"#fb9f3a\"],[0.8888888888888888,\"#fdca26\"],[1.0,\"#f0f921\"]]}],\"heatmapgl\":[{\"type\":\"heatmapgl\",\"colorbar\":{\"outlinewidth\":0,\"ticks\":\"\"},\"colorscale\":[[0.0,\"#0d0887\"],[0.1111111111111111,\"#46039f\"],[0.2222222222222222,\"#7201a8\"],[0.3333333333333333,\"#9c179e\"],[0.4444444444444444,\"#bd3786\"],[0.5555555555555556,\"#d8576b\"],[0.6666666666666666,\"#ed7953\"],[0.7777777777777778,\"#fb9f3a\"],[0.8888888888888888,\"#fdca26\"],[1.0,\"#f0f921\"]]}],\"contourcarpet\":[{\"type\":\"contourcarpet\",\"colorbar\":{\"outlinewidth\":0,\"ticks\":\"\"}}],\"contour\":[{\"type\":\"contour\",\"colorbar\":{\"outlinewidth\":0,\"ticks\":\"\"},\"colorscale\":[[0.0,\"#0d0887\"],[0.1111111111111111,\"#46039f\"],[0.2222222222222222,\"#7201a8\"],[0.3333333333333333,\"#9c179e\"],[0.4444444444444444,\"#bd3786\"],[0.5555555555555556,\"#d8576b\"],[0.6666666666666666,\"#ed7953\"],[0.7777777777777778,\"#fb9f3a\"],[0.8888888888888888,\"#fdca26\"],[1.0,\"#f0f921\"]]}],\"surface\":[{\"type\":\"surface\",\"colorbar\":{\"outlinewidth\":0,\"ticks\":\"\"},\"colorscale\":[[0.0,\"#0d0887\"],[0.1111111111111111,\"#46039f\"],[0.2222222222222222,\"#7201a8\"],[0.3333333333333333,\"#9c179e\"],[0.4444444444444444,\"#bd3786\"],[0.5555555555555556,\"#d8576b\"],[0.6666666666666666,\"#ed7953\"],[0.7777777777777778,\"#fb9f3a\"],[0.8888888888888888,\"#fdca26\"],[1.0,\"#f0f921\"]]}],\"mesh3d\":[{\"type\":\"mesh3d\",\"colorbar\":{\"outlinewidth\":0,\"ticks\":\"\"}}],\"scatter\":[{\"fillpattern\":{\"fillmode\":\"overlay\",\"size\":10,\"solidity\":0.2},\"type\":\"scatter\"}],\"parcoords\":[{\"type\":\"parcoords\",\"line\":{\"colorbar\":{\"outlinewidth\":0,\"ticks\":\"\"}}}],\"scatterpolargl\":[{\"type\":\"scatterpolargl\",\"marker\":{\"colorbar\":{\"outlinewidth\":0,\"ticks\":\"\"}}}],\"bar\":[{\"error_x\":{\"color\":\"#2a3f5f\"},\"error_y\":{\"color\":\"#2a3f5f\"},\"marker\":{\"line\":{\"color\":\"#E5ECF6\",\"width\":0.5},\"pattern\":{\"fillmode\":\"overlay\",\"size\":10,\"solidity\":0.2}},\"type\":\"bar\"}],\"scattergeo\":[{\"type\":\"scattergeo\",\"marker\":{\"colorbar\":{\"outlinewidth\":0,\"ticks\":\"\"}}}],\"scatterpolar\":[{\"type\":\"scatterpolar\",\"marker\":{\"colorbar\":{\"outlinewidth\":0,\"ticks\":\"\"}}}],\"histogram\":[{\"marker\":{\"pattern\":{\"fillmode\":\"overlay\",\"size\":10,\"solidity\":0.2}},\"type\":\"histogram\"}],\"scattergl\":[{\"type\":\"scattergl\",\"marker\":{\"colorbar\":{\"outlinewidth\":0,\"ticks\":\"\"}}}],\"scatter3d\":[{\"type\":\"scatter3d\",\"line\":{\"colorbar\":{\"outlinewidth\":0,\"ticks\":\"\"}},\"marker\":{\"colorbar\":{\"outlinewidth\":0,\"ticks\":\"\"}}}],\"scattermapbox\":[{\"type\":\"scattermapbox\",\"marker\":{\"colorbar\":{\"outlinewidth\":0,\"ticks\":\"\"}}}],\"scatterternary\":[{\"type\":\"scatterternary\",\"marker\":{\"colorbar\":{\"outlinewidth\":0,\"ticks\":\"\"}}}],\"scattercarpet\":[{\"type\":\"scattercarpet\",\"marker\":{\"colorbar\":{\"outlinewidth\":0,\"ticks\":\"\"}}}],\"carpet\":[{\"aaxis\":{\"endlinecolor\":\"#2a3f5f\",\"gridcolor\":\"white\",\"linecolor\":\"white\",\"minorgridcolor\":\"white\",\"startlinecolor\":\"#2a3f5f\"},\"baxis\":{\"endlinecolor\":\"#2a3f5f\",\"gridcolor\":\"white\",\"linecolor\":\"white\",\"minorgridcolor\":\"white\",\"startlinecolor\":\"#2a3f5f\"},\"type\":\"carpet\"}],\"table\":[{\"cells\":{\"fill\":{\"color\":\"#EBF0F8\"},\"line\":{\"color\":\"white\"}},\"header\":{\"fill\":{\"color\":\"#C8D4E3\"},\"line\":{\"color\":\"white\"}},\"type\":\"table\"}],\"barpolar\":[{\"marker\":{\"line\":{\"color\":\"#E5ECF6\",\"width\":0.5},\"pattern\":{\"fillmode\":\"overlay\",\"size\":10,\"solidity\":0.2}},\"type\":\"barpolar\"}],\"pie\":[{\"automargin\":true,\"type\":\"pie\"}]},\"layout\":{\"autotypenumbers\":\"strict\",\"colorway\":[\"#636efa\",\"#EF553B\",\"#00cc96\",\"#ab63fa\",\"#FFA15A\",\"#19d3f3\",\"#FF6692\",\"#B6E880\",\"#FF97FF\",\"#FECB52\"],\"font\":{\"color\":\"#2a3f5f\"},\"hovermode\":\"closest\",\"hoverlabel\":{\"align\":\"left\"},\"paper_bgcolor\":\"white\",\"plot_bgcolor\":\"#E5ECF6\",\"polar\":{\"bgcolor\":\"#E5ECF6\",\"angularaxis\":{\"gridcolor\":\"white\",\"linecolor\":\"white\",\"ticks\":\"\"},\"radialaxis\":{\"gridcolor\":\"white\",\"linecolor\":\"white\",\"ticks\":\"\"}},\"ternary\":{\"bgcolor\":\"#E5ECF6\",\"aaxis\":{\"gridcolor\":\"white\",\"linecolor\":\"white\",\"ticks\":\"\"},\"baxis\":{\"gridcolor\":\"white\",\"linecolor\":\"white\",\"ticks\":\"\"},\"caxis\":{\"gridcolor\":\"white\",\"linecolor\":\"white\",\"ticks\":\"\"}},\"coloraxis\":{\"colorbar\":{\"outlinewidth\":0,\"ticks\":\"\"}},\"colorscale\":{\"sequential\":[[0.0,\"#0d0887\"],[0.1111111111111111,\"#46039f\"],[0.2222222222222222,\"#7201a8\"],[0.3333333333333333,\"#9c179e\"],[0.4444444444444444,\"#bd3786\"],[0.5555555555555556,\"#d8576b\"],[0.6666666666666666,\"#ed7953\"],[0.7777777777777778,\"#fb9f3a\"],[0.8888888888888888,\"#fdca26\"],[1.0,\"#f0f921\"]],\"sequentialminus\":[[0.0,\"#0d0887\"],[0.1111111111111111,\"#46039f\"],[0.2222222222222222,\"#7201a8\"],[0.3333333333333333,\"#9c179e\"],[0.4444444444444444,\"#bd3786\"],[0.5555555555555556,\"#d8576b\"],[0.6666666666666666,\"#ed7953\"],[0.7777777777777778,\"#fb9f3a\"],[0.8888888888888888,\"#fdca26\"],[1.0,\"#f0f921\"]],\"diverging\":[[0,\"#8e0152\"],[0.1,\"#c51b7d\"],[0.2,\"#de77ae\"],[0.3,\"#f1b6da\"],[0.4,\"#fde0ef\"],[0.5,\"#f7f7f7\"],[0.6,\"#e6f5d0\"],[0.7,\"#b8e186\"],[0.8,\"#7fbc41\"],[0.9,\"#4d9221\"],[1,\"#276419\"]]},\"xaxis\":{\"gridcolor\":\"white\",\"linecolor\":\"white\",\"ticks\":\"\",\"title\":{\"standoff\":15},\"zerolinecolor\":\"white\",\"automargin\":true,\"zerolinewidth\":2},\"yaxis\":{\"gridcolor\":\"white\",\"linecolor\":\"white\",\"ticks\":\"\",\"title\":{\"standoff\":15},\"zerolinecolor\":\"white\",\"automargin\":true,\"zerolinewidth\":2},\"scene\":{\"xaxis\":{\"backgroundcolor\":\"#E5ECF6\",\"gridcolor\":\"white\",\"linecolor\":\"white\",\"showbackground\":true,\"ticks\":\"\",\"zerolinecolor\":\"white\",\"gridwidth\":2},\"yaxis\":{\"backgroundcolor\":\"#E5ECF6\",\"gridcolor\":\"white\",\"linecolor\":\"white\",\"showbackground\":true,\"ticks\":\"\",\"zerolinecolor\":\"white\",\"gridwidth\":2},\"zaxis\":{\"backgroundcolor\":\"#E5ECF6\",\"gridcolor\":\"white\",\"linecolor\":\"white\",\"showbackground\":true,\"ticks\":\"\",\"zerolinecolor\":\"white\",\"gridwidth\":2}},\"shapedefaults\":{\"line\":{\"color\":\"#2a3f5f\"}},\"annotationdefaults\":{\"arrowcolor\":\"#2a3f5f\",\"arrowhead\":0,\"arrowwidth\":1},\"geo\":{\"bgcolor\":\"white\",\"landcolor\":\"#E5ECF6\",\"subunitcolor\":\"white\",\"showland\":true,\"showlakes\":true,\"lakecolor\":\"white\"},\"title\":{\"x\":0.05},\"mapbox\":{\"style\":\"light\"}}},\"xaxis\":{\"title\":{\"font\":{\"size\":26,\"color\":\"white\"},\"text\":\"<b>Games Played</b>\"},\"tickfont\":{\"size\":24,\"color\":\"#C4CED3\"},\"tickmode\":\"array\",\"ticktext\":[\"<b>0</b>\",\"<b>20</b>\",\"<b>40</b>\",\"<b>60</b>\",\"<b>80</b>\",\"<b>100</b>\",\"<b>120</b>\"],\"tickvals\":[0,20,40,60,80,100,120],\"gridcolor\":\"rgb(20,45,75)\",\"gridwidth\":2,\"zeroline\":false,\"range\":[-0.2,137]},\"yaxis\":{\"tickfont\":{\"size\":24,\"color\":\"#C4CED3\"},\"tickmode\":\"array\",\"ticktext\":[\"<b>0</b>\",\"<b>25</b>\",\"<b>50</b>\",\"<b>75</b>\",\"<b>100</b>\",\"<b>125</b>\",\"<b>150</b>\",\"<b>175</b>\"],\"tickvals\":[0,25,50,75,100,125,150,175],\"zeroline\":false,\"zerolinecolor\":\"rgb(20,45,75)\",\"zerolinewidth\":2,\"gridcolor\":\"rgb(20,45,75)\",\"gridwidth\":2,\"range\":[-5,160]},\"title\":{\"font\":{\"size\":30,\"color\":\"white\"},\"text\":\"<b>History to Mystery</b><br>The Collapse of a Record-Setting Win Pace\",\"y\":0.9,\"x\":0.5,\"xanchor\":\"center\",\"yanchor\":\"top\"},\"legend\":{\"title\":{\"text\":\"\"},\"font\":{\"size\":18,\"color\":\"#0C2340\"},\"orientation\":\"h\",\"traceorder\":\"reversed\",\"yanchor\":\"top\",\"y\":1.01,\"xanchor\":\"left\",\"x\":0.357,\"bordercolor\":\"#C4CED3\",\"borderwidth\":2,\"bgcolor\":\"white\"},\"hoverlabel\":{\"font\":{\"size\":16},\"bgcolor\":\"#0C2340\"},\"margin\":{\"t\":120,\"pad\":3},\"paper_bgcolor\":\"#0C2340\",\"plot_bgcolor\":\"#0C2340\"},                        {\"responsive\": true}                    ).then(function(){\n",
       "                            \n",
       "var gd = document.getElementById('5e70a15f-8fef-42e7-9352-8714c2929f92');\n",
       "var x = new MutationObserver(function (mutations, observer) {{\n",
       "        var display = window.getComputedStyle(gd).display;\n",
       "        if (!display || display === 'none') {{\n",
       "            console.log([gd, 'removed!']);\n",
       "            Plotly.purge(gd);\n",
       "            observer.disconnect();\n",
       "        }}\n",
       "}});\n",
       "\n",
       "// Listen for the removal of the full notebook cells\n",
       "var notebookContainer = gd.closest('#notebook-container');\n",
       "if (notebookContainer) {{\n",
       "    x.observe(notebookContainer, {childList: true});\n",
       "}}\n",
       "\n",
       "// Listen for the clearing of the current output cell\n",
       "var outputEl = gd.closest('.output');\n",
       "if (outputEl) {{\n",
       "    x.observe(outputEl, {childList: true});\n",
       "}}\n",
       "\n",
       "                        })                };                });            </script>        </div>"
      ]
     },
     "metadata": {},
     "output_type": "display_data"
    }
   ],
   "source": [
    "# Create traces\n",
    "fig = go.Figure()\n",
    "\n",
    "\n",
    "fig.add_trace(\n",
    "    go.Scatter(\n",
    "        x=x, y=y2, mode='lines', name='<b>Win Pace</b>', line_color='#a2f5c1', #text=text2\n",
    "        #customdata=hover, hovertemplate='%{customdata}<extra></extra>'\n",
    "))\n",
    "\n",
    "fig.add_trace(\n",
    "    go.Scatter(\n",
    "        x=x, y=y1, mode='lines', name='<b>Wins</b>', line_color='#20b358', #text=text1\n",
    "        #customdata=hover, hovertemplate='%{customdata}<extra></extra>'\n",
    "))\n",
    "\n",
    "\n",
    "# Add traces for annotations and text for end of lines\n",
    "for i, d in enumerate(fig.data):\n",
    "    fig.add_trace(go.Scatter(x=[d.x[64]],\n",
    "                             y=[d.y[64]],\n",
    "                             mode='markers+text',\n",
    "                             text=['<b>' + str(int(round(y))) + '</b>' for y in [d.y[64]]],\n",
    "                             textfont = dict(\n",
    "                                 size=16,\n",
    "                                 color=navy),\n",
    "                             textposition='middle center',\n",
    "                             marker = dict(\n",
    "                                 size=40,\n",
    "                                 color=d.line.color,\n",
    "                                 line=dict(\n",
    "                                     width=3,\n",
    "                                     color=navy)),\n",
    "                             hoverinfo='skip',\n",
    "                             showlegend=False))\n",
    "    \n",
    "    fig.add_trace(go.Scatter(x=[d.x[-1]],\n",
    "                             y=[d.y[-1]],\n",
    "                             mode='markers+text',\n",
    "                             text=['<b>' + str(int(round(y))) + '</b>' for y in [d.y[-1]]],\n",
    "                             textfont = dict(\n",
    "                                 size=16,\n",
    "                                 color=navy),\n",
    "                             textposition='middle center',\n",
    "                             marker = dict(\n",
    "                                 size=40,\n",
    "                                 color = d.line.color,\n",
    "                                 line=dict(\n",
    "                                     width=3,\n",
    "                                     color=navy)),\n",
    "                             hoverinfo='skip',\n",
    "                             showlegend=False))\n",
    "\n",
    "# Add traces for annotations and text for end of lines\n",
    "# for i, d in enumerate(fig.data):\n",
    "#     fig.add_trace(go.Scatter(x=[d.x[-1]],\n",
    "#                              y=[d.y[-1]],\n",
    "#                              mode='markers+text',\n",
    "#                              text=['<b>' + str(int(round(y))) + '</b>' for y in [d.y[-1]]],\n",
    "#                              textfont = dict(\n",
    "#                                  size=16,\n",
    "#                                  color=navy),\n",
    "#                              textposition='middle center',\n",
    "#                              marker = dict(\n",
    "#                                  size=40,\n",
    "#                                  color = d.line.color,\n",
    "#                                  line=dict(\n",
    "#                                      width=3,\n",
    "#                                      color=navy)),\n",
    "#                              hoverinfo='skip',\n",
    "#                              showlegend=False))\n",
    "    \n",
    "\n",
    "# Format traces\n",
    "fig.update_traces(\n",
    "#     textposition=['middle center'] + ['middle center']*17,\n",
    "#     textfont=dict(\n",
    "#         size=18,\n",
    "#         color='white'),\n",
    "#     marker=dict(\n",
    "#         size=25,\n",
    "#         color=d.line.color),\n",
    "    line=dict(\n",
    "        shape='spline',\n",
    "        smoothing=1.3,\n",
    "        width=20)\n",
    ")\n",
    "\n",
    "\n",
    "# Format axes\n",
    "fig.update_xaxes(\n",
    "#     dtick='M1',\n",
    "#     tickformat='<b>%b</b>',\n",
    "#     ticklabelmode='period',\n",
    "    title=dict(\n",
    "        text=\"<b>Games Played</b>\",\n",
    "        font=dict(\n",
    "            size=26,\n",
    "            color='white')),\n",
    "    tickmode='array',\n",
    "    ticktext=['<b>' + x + '</b>' for x in ['0','20','40','60','80','100','120']],\n",
    "    tickvals=[0, 20, 40, 60, 80, 100, 120],\n",
    "    tickfont=dict(\n",
    "        size=24,\n",
    "        color=gray),\n",
    "    gridcolor='rgb(20,45,75)',\n",
    "    gridwidth=2,\n",
    "    zeroline=False\n",
    ")\n",
    "\n",
    "fig.update_yaxes(\n",
    "    tickmode='array',\n",
    "    ticktext=['<b>' + x + '</b>' for x in ['0','25','50','75','100','125','150','175']],\n",
    "    tickvals=[0, 25, 50, 75, 100, 125, 150, 175],\n",
    "    tickfont=dict(\n",
    "        size=24,\n",
    "        color=gray),\n",
    "    zeroline=False,\n",
    "    zerolinecolor='rgb(20,45,75)',\n",
    "    zerolinewidth=2,\n",
    "    gridcolor='rgb(20,45,75)',\n",
    "    gridwidth=2\n",
    ")\n",
    "\n",
    "\n",
    "# Format layout\n",
    "fig.update_layout(\n",
    "    title=dict(\n",
    "        text=\"<b>History to Mystery</b><br>The Collapse of a Record-Setting Win Pace\",\n",
    "        y=0.9,\n",
    "        x=0.5,\n",
    "        xanchor='center',\n",
    "        yanchor='top',\n",
    "        font=dict(\n",
    "            size=30,\n",
    "            color='white')),\n",
    "    xaxis_range=[-0.2,137],\n",
    "    yaxis_range=[-5,160],\n",
    "    legend=dict(\n",
    "        title_text='',\n",
    "        orientation='h',\n",
    "        traceorder='reversed',\n",
    "        yanchor=\"top\",\n",
    "        y=1.01,\n",
    "        xanchor=\"left\",\n",
    "        x=0.357,\n",
    "        font=dict(\n",
    "            size=18,\n",
    "            color=navy),\n",
    "        bordercolor=gray,\n",
    "        borderwidth=2,\n",
    "        bgcolor='white'),\n",
    "    hoverlabel=dict(\n",
    "        bgcolor=navy,\n",
    "        font_size=16),\n",
    "    paper_bgcolor=navy,\n",
    "    plot_bgcolor=navy,\n",
    "    margin=dict(\n",
    "        t=120,\n",
    "        #b=70,\n",
    "        pad=3)\n",
    ")\n",
    "\n",
    "\n",
    "# Save chart online to Plotly Chart Studio\n",
    "#py.iplot(fig, filename='DJ-LeMahieu')"
   ]
  }
 ],
 "metadata": {
  "kernelspec": {
   "display_name": "PythonData",
   "language": "python",
   "name": "pythondata"
  },
  "language_info": {
   "codemirror_mode": {
    "name": "ipython",
    "version": 3
   },
   "file_extension": ".py",
   "mimetype": "text/x-python",
   "name": "python",
   "nbconvert_exporter": "python",
   "pygments_lexer": "ipython3",
   "version": "3.7.11"
  }
 },
 "nbformat": 4,
 "nbformat_minor": 5
}
