{
 "cells": [
  {
   "cell_type": "code",
   "execution_count": 1,
   "id": "e6f607c7",
   "metadata": {},
   "outputs": [],
   "source": [
    "# Import dependencies\n",
    "import pandas as pd\n",
    "import plotly.express as px\n",
    "import plotly.graph_objects as go"
   ]
  },
  {
   "cell_type": "code",
   "execution_count": 2,
   "id": "7fa12335",
   "metadata": {},
   "outputs": [
    {
     "data": {
      "text/html": [
       "<div>\n",
       "<style scoped>\n",
       "    .dataframe tbody tr th:only-of-type {\n",
       "        vertical-align: middle;\n",
       "    }\n",
       "\n",
       "    .dataframe tbody tr th {\n",
       "        vertical-align: top;\n",
       "    }\n",
       "\n",
       "    .dataframe thead th {\n",
       "        text-align: right;\n",
       "    }\n",
       "</style>\n",
       "<table border=\"1\" class=\"dataframe\">\n",
       "  <thead>\n",
       "    <tr style=\"text-align: right;\">\n",
       "      <th></th>\n",
       "      <th>Rk</th>\n",
       "      <th>Gtm</th>\n",
       "      <th>Date</th>\n",
       "      <th>At</th>\n",
       "      <th>Opp</th>\n",
       "      <th>Rslt</th>\n",
       "      <th>PA</th>\n",
       "      <th>AB</th>\n",
       "      <th>R</th>\n",
       "      <th>H</th>\n",
       "      <th>...</th>\n",
       "      <th>SB</th>\n",
       "      <th>CS</th>\n",
       "      <th>BA</th>\n",
       "      <th>OBP</th>\n",
       "      <th>SLG</th>\n",
       "      <th>OPS</th>\n",
       "      <th>LOB</th>\n",
       "      <th>#</th>\n",
       "      <th>Thr</th>\n",
       "      <th>Opp. Starter (GmeSc)</th>\n",
       "    </tr>\n",
       "  </thead>\n",
       "  <tbody>\n",
       "    <tr>\n",
       "      <th>0</th>\n",
       "      <td>1</td>\n",
       "      <td>1</td>\n",
       "      <td>4/8/22</td>\n",
       "      <td>NaN</td>\n",
       "      <td>BOS</td>\n",
       "      <td>W,6-5</td>\n",
       "      <td>46</td>\n",
       "      <td>39</td>\n",
       "      <td>6</td>\n",
       "      <td>9</td>\n",
       "      <td>...</td>\n",
       "      <td>0</td>\n",
       "      <td>0</td>\n",
       "      <td>0.231</td>\n",
       "      <td>0.326</td>\n",
       "      <td>0.487</td>\n",
       "      <td>0.813</td>\n",
       "      <td>12</td>\n",
       "      <td>12</td>\n",
       "      <td>R</td>\n",
       "      <td>N.Eovaldi(51)</td>\n",
       "    </tr>\n",
       "    <tr>\n",
       "      <th>1</th>\n",
       "      <td>2</td>\n",
       "      <td>2</td>\n",
       "      <td>4/9/22</td>\n",
       "      <td>NaN</td>\n",
       "      <td>BOS</td>\n",
       "      <td>W,4-2</td>\n",
       "      <td>30</td>\n",
       "      <td>27</td>\n",
       "      <td>4</td>\n",
       "      <td>4</td>\n",
       "      <td>...</td>\n",
       "      <td>0</td>\n",
       "      <td>0</td>\n",
       "      <td>0.197</td>\n",
       "      <td>0.289</td>\n",
       "      <td>0.439</td>\n",
       "      <td>0.729</td>\n",
       "      <td>2</td>\n",
       "      <td>10</td>\n",
       "      <td>R</td>\n",
       "      <td>N.Pivetta(46)</td>\n",
       "    </tr>\n",
       "    <tr>\n",
       "      <th>2</th>\n",
       "      <td>3</td>\n",
       "      <td>3</td>\n",
       "      <td>4/10/22</td>\n",
       "      <td>NaN</td>\n",
       "      <td>BOS</td>\n",
       "      <td>L,3-4</td>\n",
       "      <td>41</td>\n",
       "      <td>36</td>\n",
       "      <td>3</td>\n",
       "      <td>11</td>\n",
       "      <td>...</td>\n",
       "      <td>1</td>\n",
       "      <td>0</td>\n",
       "      <td>0.235</td>\n",
       "      <td>0.325</td>\n",
       "      <td>0.412</td>\n",
       "      <td>0.737</td>\n",
       "      <td>11</td>\n",
       "      <td>11</td>\n",
       "      <td>R</td>\n",
       "      <td>T.Houck(36)</td>\n",
       "    </tr>\n",
       "    <tr>\n",
       "      <th>3</th>\n",
       "      <td>4</td>\n",
       "      <td>4</td>\n",
       "      <td>4/11/22</td>\n",
       "      <td>NaN</td>\n",
       "      <td>TOR</td>\n",
       "      <td>L,0-3</td>\n",
       "      <td>35</td>\n",
       "      <td>29</td>\n",
       "      <td>0</td>\n",
       "      <td>4</td>\n",
       "      <td>...</td>\n",
       "      <td>0</td>\n",
       "      <td>0</td>\n",
       "      <td>0.214</td>\n",
       "      <td>0.316</td>\n",
       "      <td>0.351</td>\n",
       "      <td>0.667</td>\n",
       "      <td>8</td>\n",
       "      <td>10</td>\n",
       "      <td>R</td>\n",
       "      <td>A.Manoah(73)</td>\n",
       "    </tr>\n",
       "    <tr>\n",
       "      <th>4</th>\n",
       "      <td>5</td>\n",
       "      <td>5</td>\n",
       "      <td>4/12/22</td>\n",
       "      <td>NaN</td>\n",
       "      <td>TOR</td>\n",
       "      <td>W,4-0</td>\n",
       "      <td>33</td>\n",
       "      <td>28</td>\n",
       "      <td>4</td>\n",
       "      <td>7</td>\n",
       "      <td>...</td>\n",
       "      <td>0</td>\n",
       "      <td>0</td>\n",
       "      <td>0.220</td>\n",
       "      <td>0.319</td>\n",
       "      <td>0.377</td>\n",
       "      <td>0.696</td>\n",
       "      <td>5</td>\n",
       "      <td>10</td>\n",
       "      <td>L</td>\n",
       "      <td>Y.Kikuchi(40)</td>\n",
       "    </tr>\n",
       "  </tbody>\n",
       "</table>\n",
       "<p>5 rows × 32 columns</p>\n",
       "</div>"
      ],
      "text/plain": [
       "   Rk  Gtm     Date   At  Opp   Rslt  PA  AB  R   H  ...  SB  CS     BA  \\\n",
       "0   1    1   4/8/22  NaN  BOS  W,6-5  46  39  6   9  ...   0   0  0.231   \n",
       "1   2    2   4/9/22  NaN  BOS  W,4-2  30  27  4   4  ...   0   0  0.197   \n",
       "2   3    3  4/10/22  NaN  BOS  L,3-4  41  36  3  11  ...   1   0  0.235   \n",
       "3   4    4  4/11/22  NaN  TOR  L,0-3  35  29  0   4  ...   0   0  0.214   \n",
       "4   5    5  4/12/22  NaN  TOR  W,4-0  33  28  4   7  ...   0   0  0.220   \n",
       "\n",
       "     OBP    SLG    OPS  LOB   #  Thr  Opp. Starter (GmeSc)  \n",
       "0  0.326  0.487  0.813   12  12    R         N.Eovaldi(51)  \n",
       "1  0.289  0.439  0.729    2  10    R         N.Pivetta(46)  \n",
       "2  0.325  0.412  0.737   11  11    R           T.Houck(36)  \n",
       "3  0.316  0.351  0.667    8  10    R          A.Manoah(73)  \n",
       "4  0.319  0.377  0.696    5  10    L         Y.Kikuchi(40)  \n",
       "\n",
       "[5 rows x 32 columns]"
      ]
     },
     "execution_count": 2,
     "metadata": {},
     "output_type": "execute_result"
    }
   ],
   "source": [
    "# Read in Yankees 2022 batting game logs\n",
    "yankees_df = pd.read_csv('Resources/Data/yankees_batting_logs.csv')\n",
    "yankees_df.head()"
   ]
  },
  {
   "cell_type": "code",
   "execution_count": 3,
   "id": "2b8c86b2",
   "metadata": {},
   "outputs": [
    {
     "data": {
      "text/html": [
       "<div>\n",
       "<style scoped>\n",
       "    .dataframe tbody tr th:only-of-type {\n",
       "        vertical-align: middle;\n",
       "    }\n",
       "\n",
       "    .dataframe tbody tr th {\n",
       "        vertical-align: top;\n",
       "    }\n",
       "\n",
       "    .dataframe thead th {\n",
       "        text-align: right;\n",
       "    }\n",
       "</style>\n",
       "<table border=\"1\" class=\"dataframe\">\n",
       "  <thead>\n",
       "    <tr style=\"text-align: right;\">\n",
       "      <th></th>\n",
       "      <th>Rk</th>\n",
       "      <th>Date</th>\n",
       "      <th>At</th>\n",
       "      <th>Opp</th>\n",
       "      <th>Rslt</th>\n",
       "      <th>PA</th>\n",
       "      <th>AB</th>\n",
       "      <th>R</th>\n",
       "      <th>H</th>\n",
       "      <th>2B</th>\n",
       "      <th>3B</th>\n",
       "      <th>HR</th>\n",
       "      <th>RBI</th>\n",
       "      <th>BB</th>\n",
       "      <th>SO</th>\n",
       "      <th>HBP</th>\n",
       "      <th>SF</th>\n",
       "      <th>GDP</th>\n",
       "      <th>LOB</th>\n",
       "      <th>Thr</th>\n",
       "    </tr>\n",
       "  </thead>\n",
       "  <tbody>\n",
       "    <tr>\n",
       "      <th>0</th>\n",
       "      <td>1</td>\n",
       "      <td>4/8/22</td>\n",
       "      <td>NaN</td>\n",
       "      <td>BOS</td>\n",
       "      <td>W,6-5</td>\n",
       "      <td>46</td>\n",
       "      <td>39</td>\n",
       "      <td>6</td>\n",
       "      <td>9</td>\n",
       "      <td>1</td>\n",
       "      <td>0</td>\n",
       "      <td>3</td>\n",
       "      <td>6</td>\n",
       "      <td>4</td>\n",
       "      <td>15</td>\n",
       "      <td>2</td>\n",
       "      <td>1</td>\n",
       "      <td>0</td>\n",
       "      <td>12</td>\n",
       "      <td>R</td>\n",
       "    </tr>\n",
       "    <tr>\n",
       "      <th>1</th>\n",
       "      <td>2</td>\n",
       "      <td>4/9/22</td>\n",
       "      <td>NaN</td>\n",
       "      <td>BOS</td>\n",
       "      <td>W,4-2</td>\n",
       "      <td>30</td>\n",
       "      <td>27</td>\n",
       "      <td>4</td>\n",
       "      <td>4</td>\n",
       "      <td>0</td>\n",
       "      <td>0</td>\n",
       "      <td>2</td>\n",
       "      <td>4</td>\n",
       "      <td>3</td>\n",
       "      <td>5</td>\n",
       "      <td>0</td>\n",
       "      <td>0</td>\n",
       "      <td>0</td>\n",
       "      <td>2</td>\n",
       "      <td>R</td>\n",
       "    </tr>\n",
       "    <tr>\n",
       "      <th>2</th>\n",
       "      <td>3</td>\n",
       "      <td>4/10/22</td>\n",
       "      <td>NaN</td>\n",
       "      <td>BOS</td>\n",
       "      <td>L,3-4</td>\n",
       "      <td>41</td>\n",
       "      <td>36</td>\n",
       "      <td>3</td>\n",
       "      <td>11</td>\n",
       "      <td>2</td>\n",
       "      <td>0</td>\n",
       "      <td>0</td>\n",
       "      <td>3</td>\n",
       "      <td>4</td>\n",
       "      <td>9</td>\n",
       "      <td>1</td>\n",
       "      <td>0</td>\n",
       "      <td>2</td>\n",
       "      <td>11</td>\n",
       "      <td>R</td>\n",
       "    </tr>\n",
       "    <tr>\n",
       "      <th>3</th>\n",
       "      <td>4</td>\n",
       "      <td>4/11/22</td>\n",
       "      <td>NaN</td>\n",
       "      <td>TOR</td>\n",
       "      <td>L,0-3</td>\n",
       "      <td>35</td>\n",
       "      <td>29</td>\n",
       "      <td>0</td>\n",
       "      <td>4</td>\n",
       "      <td>0</td>\n",
       "      <td>0</td>\n",
       "      <td>0</td>\n",
       "      <td>0</td>\n",
       "      <td>5</td>\n",
       "      <td>9</td>\n",
       "      <td>1</td>\n",
       "      <td>0</td>\n",
       "      <td>2</td>\n",
       "      <td>8</td>\n",
       "      <td>R</td>\n",
       "    </tr>\n",
       "    <tr>\n",
       "      <th>4</th>\n",
       "      <td>5</td>\n",
       "      <td>4/12/22</td>\n",
       "      <td>NaN</td>\n",
       "      <td>TOR</td>\n",
       "      <td>W,4-0</td>\n",
       "      <td>33</td>\n",
       "      <td>28</td>\n",
       "      <td>4</td>\n",
       "      <td>7</td>\n",
       "      <td>4</td>\n",
       "      <td>0</td>\n",
       "      <td>1</td>\n",
       "      <td>3</td>\n",
       "      <td>3</td>\n",
       "      <td>5</td>\n",
       "      <td>1</td>\n",
       "      <td>1</td>\n",
       "      <td>1</td>\n",
       "      <td>5</td>\n",
       "      <td>L</td>\n",
       "    </tr>\n",
       "  </tbody>\n",
       "</table>\n",
       "</div>"
      ],
      "text/plain": [
       "   Rk     Date   At  Opp   Rslt  PA  AB  R   H  2B  3B  HR  RBI  BB  SO  HBP  \\\n",
       "0   1   4/8/22  NaN  BOS  W,6-5  46  39  6   9   1   0   3    6   4  15    2   \n",
       "1   2   4/9/22  NaN  BOS  W,4-2  30  27  4   4   0   0   2    4   3   5    0   \n",
       "2   3  4/10/22  NaN  BOS  L,3-4  41  36  3  11   2   0   0    3   4   9    1   \n",
       "3   4  4/11/22  NaN  TOR  L,0-3  35  29  0   4   0   0   0    0   5   9    1   \n",
       "4   5  4/12/22  NaN  TOR  W,4-0  33  28  4   7   4   0   1    3   3   5    1   \n",
       "\n",
       "   SF  GDP  LOB Thr  \n",
       "0   1    0   12   R  \n",
       "1   0    0    2   R  \n",
       "2   0    2   11   R  \n",
       "3   0    2    8   R  \n",
       "4   1    1    5   L  "
      ]
     },
     "execution_count": 3,
     "metadata": {},
     "output_type": "execute_result"
    }
   ],
   "source": [
    "# Filter df for columns of need\n",
    "yankees_df = yankees_df[['Rk', 'Date', 'At', 'Opp', 'Rslt', 'PA', 'AB', 'R', 'H', '2B', '3B', 'HR', 'RBI', 'BB', 'SO', 'HBP', 'SF', 'GDP', 'LOB', 'Thr']]\n",
    "yankees_df.head()\n"
   ]
  },
  {
   "cell_type": "code",
   "execution_count": 4,
   "id": "d57a53d6",
   "metadata": {},
   "outputs": [
    {
     "data": {
      "text/html": [
       "<div>\n",
       "<style scoped>\n",
       "    .dataframe tbody tr th:only-of-type {\n",
       "        vertical-align: middle;\n",
       "    }\n",
       "\n",
       "    .dataframe tbody tr th {\n",
       "        vertical-align: top;\n",
       "    }\n",
       "\n",
       "    .dataframe thead th {\n",
       "        text-align: right;\n",
       "    }\n",
       "</style>\n",
       "<table border=\"1\" class=\"dataframe\">\n",
       "  <thead>\n",
       "    <tr style=\"text-align: right;\">\n",
       "      <th></th>\n",
       "      <th>G</th>\n",
       "    </tr>\n",
       "    <tr>\n",
       "      <th>Opp</th>\n",
       "      <th></th>\n",
       "    </tr>\n",
       "  </thead>\n",
       "  <tbody>\n",
       "    <tr>\n",
       "      <th>BAL</th>\n",
       "      <td>16</td>\n",
       "    </tr>\n",
       "    <tr>\n",
       "      <th>BOS</th>\n",
       "      <td>10</td>\n",
       "    </tr>\n",
       "    <tr>\n",
       "      <th>CHC</th>\n",
       "      <td>3</td>\n",
       "    </tr>\n",
       "    <tr>\n",
       "      <th>CHW</th>\n",
       "      <td>7</td>\n",
       "    </tr>\n",
       "    <tr>\n",
       "      <th>CIN</th>\n",
       "      <td>3</td>\n",
       "    </tr>\n",
       "    <tr>\n",
       "      <th>CLE</th>\n",
       "      <td>6</td>\n",
       "    </tr>\n",
       "    <tr>\n",
       "      <th>DET</th>\n",
       "      <td>6</td>\n",
       "    </tr>\n",
       "    <tr>\n",
       "      <th>HOU</th>\n",
       "      <td>7</td>\n",
       "    </tr>\n",
       "    <tr>\n",
       "      <th>KCR</th>\n",
       "      <td>7</td>\n",
       "    </tr>\n",
       "    <tr>\n",
       "      <th>LAA</th>\n",
       "      <td>3</td>\n",
       "    </tr>\n",
       "    <tr>\n",
       "      <th>MIN</th>\n",
       "      <td>3</td>\n",
       "    </tr>\n",
       "    <tr>\n",
       "      <th>NYM</th>\n",
       "      <td>2</td>\n",
       "    </tr>\n",
       "    <tr>\n",
       "      <th>OAK</th>\n",
       "      <td>3</td>\n",
       "    </tr>\n",
       "    <tr>\n",
       "      <th>PIT</th>\n",
       "      <td>2</td>\n",
       "    </tr>\n",
       "    <tr>\n",
       "      <th>TBR</th>\n",
       "      <td>10</td>\n",
       "    </tr>\n",
       "    <tr>\n",
       "      <th>TEX</th>\n",
       "      <td>3</td>\n",
       "    </tr>\n",
       "    <tr>\n",
       "      <th>TOR</th>\n",
       "      <td>12</td>\n",
       "    </tr>\n",
       "  </tbody>\n",
       "</table>\n",
       "</div>"
      ],
      "text/plain": [
       "      G\n",
       "Opp    \n",
       "BAL  16\n",
       "BOS  10\n",
       "CHC   3\n",
       "CHW   7\n",
       "CIN   3\n",
       "CLE   6\n",
       "DET   6\n",
       "HOU   7\n",
       "KCR   7\n",
       "LAA   3\n",
       "MIN   3\n",
       "NYM   2\n",
       "OAK   3\n",
       "PIT   2\n",
       "TBR  10\n",
       "TEX   3\n",
       "TOR  12"
      ]
     },
     "execution_count": 4,
     "metadata": {},
     "output_type": "execute_result"
    }
   ],
   "source": [
    "# Group by opponent to count number of games against each opponent\n",
    "games_against_df = yankees_df[['Rk', 'Opp']].groupby(['Opp']).count()\n",
    "games_against_df.rename(columns={'Rk': 'G'}, inplace=True)\n",
    "games_against_df"
   ]
  },
  {
   "cell_type": "code",
   "execution_count": 5,
   "id": "90510dbc",
   "metadata": {},
   "outputs": [
    {
     "data": {
      "text/html": [
       "<div>\n",
       "<style scoped>\n",
       "    .dataframe tbody tr th:only-of-type {\n",
       "        vertical-align: middle;\n",
       "    }\n",
       "\n",
       "    .dataframe tbody tr th {\n",
       "        vertical-align: top;\n",
       "    }\n",
       "\n",
       "    .dataframe thead th {\n",
       "        text-align: right;\n",
       "    }\n",
       "</style>\n",
       "<table border=\"1\" class=\"dataframe\">\n",
       "  <thead>\n",
       "    <tr style=\"text-align: right;\">\n",
       "      <th></th>\n",
       "      <th>G</th>\n",
       "      <th>PA</th>\n",
       "      <th>AB</th>\n",
       "      <th>R</th>\n",
       "      <th>H</th>\n",
       "      <th>2B</th>\n",
       "      <th>3B</th>\n",
       "      <th>HR</th>\n",
       "      <th>RBI</th>\n",
       "      <th>BB</th>\n",
       "      <th>SO</th>\n",
       "      <th>HBP</th>\n",
       "      <th>SF</th>\n",
       "      <th>GDP</th>\n",
       "      <th>LOB</th>\n",
       "    </tr>\n",
       "    <tr>\n",
       "      <th>Opp</th>\n",
       "      <th></th>\n",
       "      <th></th>\n",
       "      <th></th>\n",
       "      <th></th>\n",
       "      <th></th>\n",
       "      <th></th>\n",
       "      <th></th>\n",
       "      <th></th>\n",
       "      <th></th>\n",
       "      <th></th>\n",
       "      <th></th>\n",
       "      <th></th>\n",
       "      <th></th>\n",
       "      <th></th>\n",
       "      <th></th>\n",
       "    </tr>\n",
       "  </thead>\n",
       "  <tbody>\n",
       "    <tr>\n",
       "      <th>BAL</th>\n",
       "      <td>16</td>\n",
       "      <td>622</td>\n",
       "      <td>558</td>\n",
       "      <td>82</td>\n",
       "      <td>148</td>\n",
       "      <td>25</td>\n",
       "      <td>1</td>\n",
       "      <td>26</td>\n",
       "      <td>75</td>\n",
       "      <td>51</td>\n",
       "      <td>140</td>\n",
       "      <td>8</td>\n",
       "      <td>2</td>\n",
       "      <td>14</td>\n",
       "      <td>114</td>\n",
       "    </tr>\n",
       "    <tr>\n",
       "      <th>BOS</th>\n",
       "      <td>10</td>\n",
       "      <td>421</td>\n",
       "      <td>362</td>\n",
       "      <td>73</td>\n",
       "      <td>101</td>\n",
       "      <td>18</td>\n",
       "      <td>2</td>\n",
       "      <td>19</td>\n",
       "      <td>71</td>\n",
       "      <td>46</td>\n",
       "      <td>89</td>\n",
       "      <td>10</td>\n",
       "      <td>2</td>\n",
       "      <td>9</td>\n",
       "      <td>80</td>\n",
       "    </tr>\n",
       "    <tr>\n",
       "      <th>CHC</th>\n",
       "      <td>3</td>\n",
       "      <td>137</td>\n",
       "      <td>119</td>\n",
       "      <td>28</td>\n",
       "      <td>34</td>\n",
       "      <td>5</td>\n",
       "      <td>0</td>\n",
       "      <td>11</td>\n",
       "      <td>28</td>\n",
       "      <td>16</td>\n",
       "      <td>26</td>\n",
       "      <td>1</td>\n",
       "      <td>1</td>\n",
       "      <td>0</td>\n",
       "      <td>27</td>\n",
       "    </tr>\n",
       "    <tr>\n",
       "      <th>CHW</th>\n",
       "      <td>7</td>\n",
       "      <td>268</td>\n",
       "      <td>233</td>\n",
       "      <td>40</td>\n",
       "      <td>59</td>\n",
       "      <td>8</td>\n",
       "      <td>1</td>\n",
       "      <td>11</td>\n",
       "      <td>39</td>\n",
       "      <td>31</td>\n",
       "      <td>54</td>\n",
       "      <td>0</td>\n",
       "      <td>4</td>\n",
       "      <td>4</td>\n",
       "      <td>42</td>\n",
       "    </tr>\n",
       "    <tr>\n",
       "      <th>CIN</th>\n",
       "      <td>3</td>\n",
       "      <td>123</td>\n",
       "      <td>104</td>\n",
       "      <td>16</td>\n",
       "      <td>21</td>\n",
       "      <td>5</td>\n",
       "      <td>0</td>\n",
       "      <td>4</td>\n",
       "      <td>15</td>\n",
       "      <td>17</td>\n",
       "      <td>33</td>\n",
       "      <td>2</td>\n",
       "      <td>0</td>\n",
       "      <td>2</td>\n",
       "      <td>24</td>\n",
       "    </tr>\n",
       "    <tr>\n",
       "      <th>CLE</th>\n",
       "      <td>6</td>\n",
       "      <td>224</td>\n",
       "      <td>195</td>\n",
       "      <td>38</td>\n",
       "      <td>51</td>\n",
       "      <td>8</td>\n",
       "      <td>0</td>\n",
       "      <td>12</td>\n",
       "      <td>36</td>\n",
       "      <td>24</td>\n",
       "      <td>48</td>\n",
       "      <td>2</td>\n",
       "      <td>3</td>\n",
       "      <td>7</td>\n",
       "      <td>31</td>\n",
       "    </tr>\n",
       "    <tr>\n",
       "      <th>DET</th>\n",
       "      <td>6</td>\n",
       "      <td>224</td>\n",
       "      <td>195</td>\n",
       "      <td>30</td>\n",
       "      <td>45</td>\n",
       "      <td>9</td>\n",
       "      <td>1</td>\n",
       "      <td>8</td>\n",
       "      <td>28</td>\n",
       "      <td>23</td>\n",
       "      <td>49</td>\n",
       "      <td>2</td>\n",
       "      <td>3</td>\n",
       "      <td>3</td>\n",
       "      <td>38</td>\n",
       "    </tr>\n",
       "    <tr>\n",
       "      <th>HOU</th>\n",
       "      <td>7</td>\n",
       "      <td>255</td>\n",
       "      <td>219</td>\n",
       "      <td>22</td>\n",
       "      <td>33</td>\n",
       "      <td>1</td>\n",
       "      <td>0</td>\n",
       "      <td>10</td>\n",
       "      <td>22</td>\n",
       "      <td>31</td>\n",
       "      <td>67</td>\n",
       "      <td>4</td>\n",
       "      <td>0</td>\n",
       "      <td>2</td>\n",
       "      <td>44</td>\n",
       "    </tr>\n",
       "    <tr>\n",
       "      <th>KCR</th>\n",
       "      <td>7</td>\n",
       "      <td>269</td>\n",
       "      <td>229</td>\n",
       "      <td>47</td>\n",
       "      <td>54</td>\n",
       "      <td>9</td>\n",
       "      <td>0</td>\n",
       "      <td>15</td>\n",
       "      <td>44</td>\n",
       "      <td>34</td>\n",
       "      <td>53</td>\n",
       "      <td>3</td>\n",
       "      <td>3</td>\n",
       "      <td>3</td>\n",
       "      <td>44</td>\n",
       "    </tr>\n",
       "    <tr>\n",
       "      <th>LAA</th>\n",
       "      <td>3</td>\n",
       "      <td>112</td>\n",
       "      <td>99</td>\n",
       "      <td>17</td>\n",
       "      <td>33</td>\n",
       "      <td>8</td>\n",
       "      <td>0</td>\n",
       "      <td>6</td>\n",
       "      <td>17</td>\n",
       "      <td>11</td>\n",
       "      <td>20</td>\n",
       "      <td>0</td>\n",
       "      <td>2</td>\n",
       "      <td>2</td>\n",
       "      <td>23</td>\n",
       "    </tr>\n",
       "    <tr>\n",
       "      <th>MIN</th>\n",
       "      <td>3</td>\n",
       "      <td>128</td>\n",
       "      <td>108</td>\n",
       "      <td>21</td>\n",
       "      <td>33</td>\n",
       "      <td>3</td>\n",
       "      <td>0</td>\n",
       "      <td>7</td>\n",
       "      <td>20</td>\n",
       "      <td>18</td>\n",
       "      <td>23</td>\n",
       "      <td>0</td>\n",
       "      <td>2</td>\n",
       "      <td>5</td>\n",
       "      <td>26</td>\n",
       "    </tr>\n",
       "    <tr>\n",
       "      <th>NYM</th>\n",
       "      <td>2</td>\n",
       "      <td>78</td>\n",
       "      <td>70</td>\n",
       "      <td>5</td>\n",
       "      <td>16</td>\n",
       "      <td>2</td>\n",
       "      <td>0</td>\n",
       "      <td>3</td>\n",
       "      <td>5</td>\n",
       "      <td>5</td>\n",
       "      <td>17</td>\n",
       "      <td>3</td>\n",
       "      <td>0</td>\n",
       "      <td>0</td>\n",
       "      <td>19</td>\n",
       "    </tr>\n",
       "    <tr>\n",
       "      <th>OAK</th>\n",
       "      <td>3</td>\n",
       "      <td>99</td>\n",
       "      <td>86</td>\n",
       "      <td>16</td>\n",
       "      <td>19</td>\n",
       "      <td>5</td>\n",
       "      <td>0</td>\n",
       "      <td>5</td>\n",
       "      <td>16</td>\n",
       "      <td>10</td>\n",
       "      <td>21</td>\n",
       "      <td>1</td>\n",
       "      <td>0</td>\n",
       "      <td>3</td>\n",
       "      <td>11</td>\n",
       "    </tr>\n",
       "    <tr>\n",
       "      <th>PIT</th>\n",
       "      <td>2</td>\n",
       "      <td>93</td>\n",
       "      <td>82</td>\n",
       "      <td>18</td>\n",
       "      <td>32</td>\n",
       "      <td>7</td>\n",
       "      <td>0</td>\n",
       "      <td>6</td>\n",
       "      <td>18</td>\n",
       "      <td>10</td>\n",
       "      <td>19</td>\n",
       "      <td>0</td>\n",
       "      <td>1</td>\n",
       "      <td>3</td>\n",
       "      <td>21</td>\n",
       "    </tr>\n",
       "    <tr>\n",
       "      <th>TBR</th>\n",
       "      <td>10</td>\n",
       "      <td>346</td>\n",
       "      <td>311</td>\n",
       "      <td>33</td>\n",
       "      <td>56</td>\n",
       "      <td>8</td>\n",
       "      <td>1</td>\n",
       "      <td>12</td>\n",
       "      <td>27</td>\n",
       "      <td>29</td>\n",
       "      <td>81</td>\n",
       "      <td>3</td>\n",
       "      <td>3</td>\n",
       "      <td>7</td>\n",
       "      <td>51</td>\n",
       "    </tr>\n",
       "    <tr>\n",
       "      <th>TEX</th>\n",
       "      <td>3</td>\n",
       "      <td>101</td>\n",
       "      <td>85</td>\n",
       "      <td>5</td>\n",
       "      <td>13</td>\n",
       "      <td>1</td>\n",
       "      <td>0</td>\n",
       "      <td>2</td>\n",
       "      <td>5</td>\n",
       "      <td>13</td>\n",
       "      <td>21</td>\n",
       "      <td>1</td>\n",
       "      <td>1</td>\n",
       "      <td>3</td>\n",
       "      <td>21</td>\n",
       "    </tr>\n",
       "    <tr>\n",
       "      <th>TOR</th>\n",
       "      <td>12</td>\n",
       "      <td>448</td>\n",
       "      <td>399</td>\n",
       "      <td>60</td>\n",
       "      <td>98</td>\n",
       "      <td>24</td>\n",
       "      <td>0</td>\n",
       "      <td>20</td>\n",
       "      <td>59</td>\n",
       "      <td>39</td>\n",
       "      <td>105</td>\n",
       "      <td>8</td>\n",
       "      <td>1</td>\n",
       "      <td>8</td>\n",
       "      <td>75</td>\n",
       "    </tr>\n",
       "  </tbody>\n",
       "</table>\n",
       "</div>"
      ],
      "text/plain": [
       "      G   PA   AB   R    H  2B  3B  HR  RBI  BB   SO  HBP  SF  GDP  LOB\n",
       "Opp                                                                    \n",
       "BAL  16  622  558  82  148  25   1  26   75  51  140    8   2   14  114\n",
       "BOS  10  421  362  73  101  18   2  19   71  46   89   10   2    9   80\n",
       "CHC   3  137  119  28   34   5   0  11   28  16   26    1   1    0   27\n",
       "CHW   7  268  233  40   59   8   1  11   39  31   54    0   4    4   42\n",
       "CIN   3  123  104  16   21   5   0   4   15  17   33    2   0    2   24\n",
       "CLE   6  224  195  38   51   8   0  12   36  24   48    2   3    7   31\n",
       "DET   6  224  195  30   45   9   1   8   28  23   49    2   3    3   38\n",
       "HOU   7  255  219  22   33   1   0  10   22  31   67    4   0    2   44\n",
       "KCR   7  269  229  47   54   9   0  15   44  34   53    3   3    3   44\n",
       "LAA   3  112   99  17   33   8   0   6   17  11   20    0   2    2   23\n",
       "MIN   3  128  108  21   33   3   0   7   20  18   23    0   2    5   26\n",
       "NYM   2   78   70   5   16   2   0   3    5   5   17    3   0    0   19\n",
       "OAK   3   99   86  16   19   5   0   5   16  10   21    1   0    3   11\n",
       "PIT   2   93   82  18   32   7   0   6   18  10   19    0   1    3   21\n",
       "TBR  10  346  311  33   56   8   1  12   27  29   81    3   3    7   51\n",
       "TEX   3  101   85   5   13   1   0   2    5  13   21    1   1    3   21\n",
       "TOR  12  448  399  60   98  24   0  20   59  39  105    8   1    8   75"
      ]
     },
     "execution_count": 5,
     "metadata": {},
     "output_type": "execute_result"
    }
   ],
   "source": [
    "# Group by opponent\n",
    "opp_df = yankees_df[['Opp', 'PA', 'AB', 'R', 'H', '2B', '3B', 'HR', 'RBI', 'BB', 'SO', 'HBP', 'SF', 'GDP', 'LOB']].groupby(['Opp']).sum()\n",
    "opp_df.insert(loc=0, column='G', value=games_against_df['G'])\n",
    "opp_df"
   ]
  },
  {
   "cell_type": "code",
   "execution_count": 6,
   "id": "0eb8c1c7",
   "metadata": {},
   "outputs": [
    {
     "data": {
      "text/html": [
       "<div>\n",
       "<style scoped>\n",
       "    .dataframe tbody tr th:only-of-type {\n",
       "        vertical-align: middle;\n",
       "    }\n",
       "\n",
       "    .dataframe tbody tr th {\n",
       "        vertical-align: top;\n",
       "    }\n",
       "\n",
       "    .dataframe thead th {\n",
       "        text-align: right;\n",
       "    }\n",
       "</style>\n",
       "<table border=\"1\" class=\"dataframe\">\n",
       "  <thead>\n",
       "    <tr style=\"text-align: right;\">\n",
       "      <th></th>\n",
       "      <th>G</th>\n",
       "      <th>PA</th>\n",
       "      <th>AB</th>\n",
       "      <th>R</th>\n",
       "      <th>H</th>\n",
       "      <th>2B</th>\n",
       "      <th>3B</th>\n",
       "      <th>HR</th>\n",
       "      <th>RBI</th>\n",
       "      <th>BB</th>\n",
       "      <th>SO</th>\n",
       "      <th>HBP</th>\n",
       "      <th>SF</th>\n",
       "      <th>GDP</th>\n",
       "      <th>LOB</th>\n",
       "      <th>BA</th>\n",
       "      <th>OBP</th>\n",
       "      <th>SLG</th>\n",
       "      <th>OPS</th>\n",
       "      <th>SO/G</th>\n",
       "    </tr>\n",
       "    <tr>\n",
       "      <th>Opp</th>\n",
       "      <th></th>\n",
       "      <th></th>\n",
       "      <th></th>\n",
       "      <th></th>\n",
       "      <th></th>\n",
       "      <th></th>\n",
       "      <th></th>\n",
       "      <th></th>\n",
       "      <th></th>\n",
       "      <th></th>\n",
       "      <th></th>\n",
       "      <th></th>\n",
       "      <th></th>\n",
       "      <th></th>\n",
       "      <th></th>\n",
       "      <th></th>\n",
       "      <th></th>\n",
       "      <th></th>\n",
       "      <th></th>\n",
       "      <th></th>\n",
       "    </tr>\n",
       "  </thead>\n",
       "  <tbody>\n",
       "    <tr>\n",
       "      <th>BAL</th>\n",
       "      <td>16</td>\n",
       "      <td>622</td>\n",
       "      <td>558</td>\n",
       "      <td>82</td>\n",
       "      <td>148</td>\n",
       "      <td>25</td>\n",
       "      <td>1</td>\n",
       "      <td>26</td>\n",
       "      <td>75</td>\n",
       "      <td>51</td>\n",
       "      <td>140</td>\n",
       "      <td>8</td>\n",
       "      <td>2</td>\n",
       "      <td>14</td>\n",
       "      <td>114</td>\n",
       "      <td>0.265233</td>\n",
       "      <td>0.334410</td>\n",
       "      <td>0.453405</td>\n",
       "      <td>0.787815</td>\n",
       "      <td>8.750000</td>\n",
       "    </tr>\n",
       "    <tr>\n",
       "      <th>BOS</th>\n",
       "      <td>10</td>\n",
       "      <td>421</td>\n",
       "      <td>362</td>\n",
       "      <td>73</td>\n",
       "      <td>101</td>\n",
       "      <td>18</td>\n",
       "      <td>2</td>\n",
       "      <td>19</td>\n",
       "      <td>71</td>\n",
       "      <td>46</td>\n",
       "      <td>89</td>\n",
       "      <td>10</td>\n",
       "      <td>2</td>\n",
       "      <td>9</td>\n",
       "      <td>80</td>\n",
       "      <td>0.279006</td>\n",
       "      <td>0.373810</td>\n",
       "      <td>0.497238</td>\n",
       "      <td>0.871047</td>\n",
       "      <td>8.900000</td>\n",
       "    </tr>\n",
       "    <tr>\n",
       "      <th>CHC</th>\n",
       "      <td>3</td>\n",
       "      <td>137</td>\n",
       "      <td>119</td>\n",
       "      <td>28</td>\n",
       "      <td>34</td>\n",
       "      <td>5</td>\n",
       "      <td>0</td>\n",
       "      <td>11</td>\n",
       "      <td>28</td>\n",
       "      <td>16</td>\n",
       "      <td>26</td>\n",
       "      <td>1</td>\n",
       "      <td>1</td>\n",
       "      <td>0</td>\n",
       "      <td>27</td>\n",
       "      <td>0.285714</td>\n",
       "      <td>0.372263</td>\n",
       "      <td>0.605042</td>\n",
       "      <td>0.977305</td>\n",
       "      <td>8.666667</td>\n",
       "    </tr>\n",
       "    <tr>\n",
       "      <th>CHW</th>\n",
       "      <td>7</td>\n",
       "      <td>268</td>\n",
       "      <td>233</td>\n",
       "      <td>40</td>\n",
       "      <td>59</td>\n",
       "      <td>8</td>\n",
       "      <td>1</td>\n",
       "      <td>11</td>\n",
       "      <td>39</td>\n",
       "      <td>31</td>\n",
       "      <td>54</td>\n",
       "      <td>0</td>\n",
       "      <td>4</td>\n",
       "      <td>4</td>\n",
       "      <td>42</td>\n",
       "      <td>0.253219</td>\n",
       "      <td>0.335821</td>\n",
       "      <td>0.437768</td>\n",
       "      <td>0.773589</td>\n",
       "      <td>7.714286</td>\n",
       "    </tr>\n",
       "    <tr>\n",
       "      <th>CIN</th>\n",
       "      <td>3</td>\n",
       "      <td>123</td>\n",
       "      <td>104</td>\n",
       "      <td>16</td>\n",
       "      <td>21</td>\n",
       "      <td>5</td>\n",
       "      <td>0</td>\n",
       "      <td>4</td>\n",
       "      <td>15</td>\n",
       "      <td>17</td>\n",
       "      <td>33</td>\n",
       "      <td>2</td>\n",
       "      <td>0</td>\n",
       "      <td>2</td>\n",
       "      <td>24</td>\n",
       "      <td>0.201923</td>\n",
       "      <td>0.325203</td>\n",
       "      <td>0.365385</td>\n",
       "      <td>0.690588</td>\n",
       "      <td>11.000000</td>\n",
       "    </tr>\n",
       "    <tr>\n",
       "      <th>CLE</th>\n",
       "      <td>6</td>\n",
       "      <td>224</td>\n",
       "      <td>195</td>\n",
       "      <td>38</td>\n",
       "      <td>51</td>\n",
       "      <td>8</td>\n",
       "      <td>0</td>\n",
       "      <td>12</td>\n",
       "      <td>36</td>\n",
       "      <td>24</td>\n",
       "      <td>48</td>\n",
       "      <td>2</td>\n",
       "      <td>3</td>\n",
       "      <td>7</td>\n",
       "      <td>31</td>\n",
       "      <td>0.261538</td>\n",
       "      <td>0.343750</td>\n",
       "      <td>0.487179</td>\n",
       "      <td>0.830929</td>\n",
       "      <td>8.000000</td>\n",
       "    </tr>\n",
       "    <tr>\n",
       "      <th>DET</th>\n",
       "      <td>6</td>\n",
       "      <td>224</td>\n",
       "      <td>195</td>\n",
       "      <td>30</td>\n",
       "      <td>45</td>\n",
       "      <td>9</td>\n",
       "      <td>1</td>\n",
       "      <td>8</td>\n",
       "      <td>28</td>\n",
       "      <td>23</td>\n",
       "      <td>49</td>\n",
       "      <td>2</td>\n",
       "      <td>3</td>\n",
       "      <td>3</td>\n",
       "      <td>38</td>\n",
       "      <td>0.230769</td>\n",
       "      <td>0.313901</td>\n",
       "      <td>0.410256</td>\n",
       "      <td>0.724158</td>\n",
       "      <td>8.166667</td>\n",
       "    </tr>\n",
       "    <tr>\n",
       "      <th>HOU</th>\n",
       "      <td>7</td>\n",
       "      <td>255</td>\n",
       "      <td>219</td>\n",
       "      <td>22</td>\n",
       "      <td>33</td>\n",
       "      <td>1</td>\n",
       "      <td>0</td>\n",
       "      <td>10</td>\n",
       "      <td>22</td>\n",
       "      <td>31</td>\n",
       "      <td>67</td>\n",
       "      <td>4</td>\n",
       "      <td>0</td>\n",
       "      <td>2</td>\n",
       "      <td>44</td>\n",
       "      <td>0.150685</td>\n",
       "      <td>0.267717</td>\n",
       "      <td>0.292237</td>\n",
       "      <td>0.559954</td>\n",
       "      <td>9.571429</td>\n",
       "    </tr>\n",
       "    <tr>\n",
       "      <th>KCR</th>\n",
       "      <td>7</td>\n",
       "      <td>269</td>\n",
       "      <td>229</td>\n",
       "      <td>47</td>\n",
       "      <td>54</td>\n",
       "      <td>9</td>\n",
       "      <td>0</td>\n",
       "      <td>15</td>\n",
       "      <td>44</td>\n",
       "      <td>34</td>\n",
       "      <td>53</td>\n",
       "      <td>3</td>\n",
       "      <td>3</td>\n",
       "      <td>3</td>\n",
       "      <td>44</td>\n",
       "      <td>0.235808</td>\n",
       "      <td>0.338290</td>\n",
       "      <td>0.471616</td>\n",
       "      <td>0.809906</td>\n",
       "      <td>7.571429</td>\n",
       "    </tr>\n",
       "    <tr>\n",
       "      <th>LAA</th>\n",
       "      <td>3</td>\n",
       "      <td>112</td>\n",
       "      <td>99</td>\n",
       "      <td>17</td>\n",
       "      <td>33</td>\n",
       "      <td>8</td>\n",
       "      <td>0</td>\n",
       "      <td>6</td>\n",
       "      <td>17</td>\n",
       "      <td>11</td>\n",
       "      <td>20</td>\n",
       "      <td>0</td>\n",
       "      <td>2</td>\n",
       "      <td>2</td>\n",
       "      <td>23</td>\n",
       "      <td>0.333333</td>\n",
       "      <td>0.392857</td>\n",
       "      <td>0.595960</td>\n",
       "      <td>0.988817</td>\n",
       "      <td>6.666667</td>\n",
       "    </tr>\n",
       "    <tr>\n",
       "      <th>MIN</th>\n",
       "      <td>3</td>\n",
       "      <td>128</td>\n",
       "      <td>108</td>\n",
       "      <td>21</td>\n",
       "      <td>33</td>\n",
       "      <td>3</td>\n",
       "      <td>0</td>\n",
       "      <td>7</td>\n",
       "      <td>20</td>\n",
       "      <td>18</td>\n",
       "      <td>23</td>\n",
       "      <td>0</td>\n",
       "      <td>2</td>\n",
       "      <td>5</td>\n",
       "      <td>26</td>\n",
       "      <td>0.305556</td>\n",
       "      <td>0.398438</td>\n",
       "      <td>0.527778</td>\n",
       "      <td>0.926215</td>\n",
       "      <td>7.666667</td>\n",
       "    </tr>\n",
       "    <tr>\n",
       "      <th>NYM</th>\n",
       "      <td>2</td>\n",
       "      <td>78</td>\n",
       "      <td>70</td>\n",
       "      <td>5</td>\n",
       "      <td>16</td>\n",
       "      <td>2</td>\n",
       "      <td>0</td>\n",
       "      <td>3</td>\n",
       "      <td>5</td>\n",
       "      <td>5</td>\n",
       "      <td>17</td>\n",
       "      <td>3</td>\n",
       "      <td>0</td>\n",
       "      <td>0</td>\n",
       "      <td>19</td>\n",
       "      <td>0.228571</td>\n",
       "      <td>0.307692</td>\n",
       "      <td>0.385714</td>\n",
       "      <td>0.693407</td>\n",
       "      <td>8.500000</td>\n",
       "    </tr>\n",
       "    <tr>\n",
       "      <th>OAK</th>\n",
       "      <td>3</td>\n",
       "      <td>99</td>\n",
       "      <td>86</td>\n",
       "      <td>16</td>\n",
       "      <td>19</td>\n",
       "      <td>5</td>\n",
       "      <td>0</td>\n",
       "      <td>5</td>\n",
       "      <td>16</td>\n",
       "      <td>10</td>\n",
       "      <td>21</td>\n",
       "      <td>1</td>\n",
       "      <td>0</td>\n",
       "      <td>3</td>\n",
       "      <td>11</td>\n",
       "      <td>0.220930</td>\n",
       "      <td>0.309278</td>\n",
       "      <td>0.453488</td>\n",
       "      <td>0.762767</td>\n",
       "      <td>7.000000</td>\n",
       "    </tr>\n",
       "    <tr>\n",
       "      <th>PIT</th>\n",
       "      <td>2</td>\n",
       "      <td>93</td>\n",
       "      <td>82</td>\n",
       "      <td>18</td>\n",
       "      <td>32</td>\n",
       "      <td>7</td>\n",
       "      <td>0</td>\n",
       "      <td>6</td>\n",
       "      <td>18</td>\n",
       "      <td>10</td>\n",
       "      <td>19</td>\n",
       "      <td>0</td>\n",
       "      <td>1</td>\n",
       "      <td>3</td>\n",
       "      <td>21</td>\n",
       "      <td>0.390244</td>\n",
       "      <td>0.451613</td>\n",
       "      <td>0.695122</td>\n",
       "      <td>1.146735</td>\n",
       "      <td>9.500000</td>\n",
       "    </tr>\n",
       "    <tr>\n",
       "      <th>TBR</th>\n",
       "      <td>10</td>\n",
       "      <td>346</td>\n",
       "      <td>311</td>\n",
       "      <td>33</td>\n",
       "      <td>56</td>\n",
       "      <td>8</td>\n",
       "      <td>1</td>\n",
       "      <td>12</td>\n",
       "      <td>27</td>\n",
       "      <td>29</td>\n",
       "      <td>81</td>\n",
       "      <td>3</td>\n",
       "      <td>3</td>\n",
       "      <td>7</td>\n",
       "      <td>51</td>\n",
       "      <td>0.180064</td>\n",
       "      <td>0.254335</td>\n",
       "      <td>0.327974</td>\n",
       "      <td>0.582310</td>\n",
       "      <td>8.100000</td>\n",
       "    </tr>\n",
       "    <tr>\n",
       "      <th>TEX</th>\n",
       "      <td>3</td>\n",
       "      <td>101</td>\n",
       "      <td>85</td>\n",
       "      <td>5</td>\n",
       "      <td>13</td>\n",
       "      <td>1</td>\n",
       "      <td>0</td>\n",
       "      <td>2</td>\n",
       "      <td>5</td>\n",
       "      <td>13</td>\n",
       "      <td>21</td>\n",
       "      <td>1</td>\n",
       "      <td>1</td>\n",
       "      <td>3</td>\n",
       "      <td>21</td>\n",
       "      <td>0.152941</td>\n",
       "      <td>0.270000</td>\n",
       "      <td>0.235294</td>\n",
       "      <td>0.505294</td>\n",
       "      <td>7.000000</td>\n",
       "    </tr>\n",
       "    <tr>\n",
       "      <th>TOR</th>\n",
       "      <td>12</td>\n",
       "      <td>448</td>\n",
       "      <td>399</td>\n",
       "      <td>60</td>\n",
       "      <td>98</td>\n",
       "      <td>24</td>\n",
       "      <td>0</td>\n",
       "      <td>20</td>\n",
       "      <td>59</td>\n",
       "      <td>39</td>\n",
       "      <td>105</td>\n",
       "      <td>8</td>\n",
       "      <td>1</td>\n",
       "      <td>8</td>\n",
       "      <td>75</td>\n",
       "      <td>0.245614</td>\n",
       "      <td>0.324385</td>\n",
       "      <td>0.456140</td>\n",
       "      <td>0.780525</td>\n",
       "      <td>8.750000</td>\n",
       "    </tr>\n",
       "  </tbody>\n",
       "</table>\n",
       "</div>"
      ],
      "text/plain": [
       "      G   PA   AB   R    H  2B  3B  HR  RBI  BB   SO  HBP  SF  GDP  LOB  \\\n",
       "Opp                                                                       \n",
       "BAL  16  622  558  82  148  25   1  26   75  51  140    8   2   14  114   \n",
       "BOS  10  421  362  73  101  18   2  19   71  46   89   10   2    9   80   \n",
       "CHC   3  137  119  28   34   5   0  11   28  16   26    1   1    0   27   \n",
       "CHW   7  268  233  40   59   8   1  11   39  31   54    0   4    4   42   \n",
       "CIN   3  123  104  16   21   5   0   4   15  17   33    2   0    2   24   \n",
       "CLE   6  224  195  38   51   8   0  12   36  24   48    2   3    7   31   \n",
       "DET   6  224  195  30   45   9   1   8   28  23   49    2   3    3   38   \n",
       "HOU   7  255  219  22   33   1   0  10   22  31   67    4   0    2   44   \n",
       "KCR   7  269  229  47   54   9   0  15   44  34   53    3   3    3   44   \n",
       "LAA   3  112   99  17   33   8   0   6   17  11   20    0   2    2   23   \n",
       "MIN   3  128  108  21   33   3   0   7   20  18   23    0   2    5   26   \n",
       "NYM   2   78   70   5   16   2   0   3    5   5   17    3   0    0   19   \n",
       "OAK   3   99   86  16   19   5   0   5   16  10   21    1   0    3   11   \n",
       "PIT   2   93   82  18   32   7   0   6   18  10   19    0   1    3   21   \n",
       "TBR  10  346  311  33   56   8   1  12   27  29   81    3   3    7   51   \n",
       "TEX   3  101   85   5   13   1   0   2    5  13   21    1   1    3   21   \n",
       "TOR  12  448  399  60   98  24   0  20   59  39  105    8   1    8   75   \n",
       "\n",
       "           BA       OBP       SLG       OPS       SO/G  \n",
       "Opp                                                     \n",
       "BAL  0.265233  0.334410  0.453405  0.787815   8.750000  \n",
       "BOS  0.279006  0.373810  0.497238  0.871047   8.900000  \n",
       "CHC  0.285714  0.372263  0.605042  0.977305   8.666667  \n",
       "CHW  0.253219  0.335821  0.437768  0.773589   7.714286  \n",
       "CIN  0.201923  0.325203  0.365385  0.690588  11.000000  \n",
       "CLE  0.261538  0.343750  0.487179  0.830929   8.000000  \n",
       "DET  0.230769  0.313901  0.410256  0.724158   8.166667  \n",
       "HOU  0.150685  0.267717  0.292237  0.559954   9.571429  \n",
       "KCR  0.235808  0.338290  0.471616  0.809906   7.571429  \n",
       "LAA  0.333333  0.392857  0.595960  0.988817   6.666667  \n",
       "MIN  0.305556  0.398438  0.527778  0.926215   7.666667  \n",
       "NYM  0.228571  0.307692  0.385714  0.693407   8.500000  \n",
       "OAK  0.220930  0.309278  0.453488  0.762767   7.000000  \n",
       "PIT  0.390244  0.451613  0.695122  1.146735   9.500000  \n",
       "TBR  0.180064  0.254335  0.327974  0.582310   8.100000  \n",
       "TEX  0.152941  0.270000  0.235294  0.505294   7.000000  \n",
       "TOR  0.245614  0.324385  0.456140  0.780525   8.750000  "
      ]
     },
     "execution_count": 6,
     "metadata": {},
     "output_type": "execute_result"
    }
   ],
   "source": [
    "# Create BA, OBP, 1B, SLG, OPS columns\n",
    "opp_df['BA'] = opp_df['H'] / opp_df['AB']\n",
    "opp_df['OBP'] = (opp_df['H'] + opp_df['BB'] + opp_df['HBP']) / (opp_df['AB'] + opp_df['BB'] + opp_df['HBP'] + opp_df['SF'])\n",
    "opp_df['1B'] = opp_df['H'] - opp_df['2B'] - opp_df['3B'] - opp_df['HR']\n",
    "opp_df['SLG'] = (opp_df['1B'] + opp_df['2B']*2 + opp_df['3B']*3 + opp_df['HR']*4) / opp_df['AB']\n",
    "opp_df['OPS'] = opp_df['OBP'] + opp_df['SLG']\n",
    "opp_df['SO/G'] = opp_df['SO'] / opp_df['G']\n",
    "\n",
    "del opp_df['1B']\n",
    "\n",
    "opp_df"
   ]
  },
  {
   "cell_type": "code",
   "execution_count": 20,
   "id": "89a6406e",
   "metadata": {},
   "outputs": [
    {
     "data": {
      "application/vnd.plotly.v1+json": {
       "config": {
        "plotlyServerURL": "https://plot.ly"
       },
       "data": [
        {
         "hovertemplate": "Opp=%{text}<br>SO/G=%{x}<br>BA=%{y}<extra></extra>",
         "legendgroup": "BAL",
         "marker": {
          "color": "#291c57",
          "opacity": 0,
          "size": 15,
          "symbol": "circle"
         },
         "mode": "markers+text",
         "name": "BAL",
         "orientation": "v",
         "showlegend": true,
         "text": [
          "BAL"
         ],
         "textfont": {
          "color": "#291c57",
          "size": 18
         },
         "textposition": "middle center",
         "type": "scatter",
         "x": [
          8.75
         ],
         "xaxis": "x",
         "y": [
          0.26523297491039427
         ],
         "yaxis": "y"
        },
        {
         "hovertemplate": "Opp=%{text}<br>SO/G=%{x}<br>BA=%{y}<extra></extra>",
         "legendgroup": "BOS",
         "marker": {
          "color": "#291c57",
          "opacity": 0,
          "size": 15,
          "symbol": "circle"
         },
         "mode": "markers+text",
         "name": "BOS",
         "orientation": "v",
         "showlegend": true,
         "text": [
          "BOS"
         ],
         "textfont": {
          "color": "#291c57",
          "size": 18
         },
         "textposition": "middle center",
         "type": "scatter",
         "x": [
          8.9
         ],
         "xaxis": "x",
         "y": [
          0.27900552486187846
         ],
         "yaxis": "y"
        },
        {
         "hovertemplate": "Opp=%{text}<br>SO/G=%{x}<br>BA=%{y}<extra></extra>",
         "legendgroup": "CHC",
         "marker": {
          "color": "#291c57",
          "opacity": 0,
          "size": 15,
          "symbol": "circle"
         },
         "mode": "markers+text",
         "name": "CHC",
         "orientation": "v",
         "showlegend": true,
         "text": [
          "CHC"
         ],
         "textfont": {
          "color": "#291c57",
          "size": 18
         },
         "textposition": "middle center",
         "type": "scatter",
         "x": [
          8.666666666666666
         ],
         "xaxis": "x",
         "y": [
          0.2857142857142857
         ],
         "yaxis": "y"
        },
        {
         "hovertemplate": "Opp=%{text}<br>SO/G=%{x}<br>BA=%{y}<extra></extra>",
         "legendgroup": "CHW",
         "marker": {
          "color": "#291c57",
          "opacity": 0,
          "size": 15,
          "symbol": "circle"
         },
         "mode": "markers+text",
         "name": "CHW",
         "orientation": "v",
         "showlegend": true,
         "text": [
          "CHW"
         ],
         "textfont": {
          "color": "#291c57",
          "size": 18
         },
         "textposition": "middle center",
         "type": "scatter",
         "x": [
          7.714285714285714
         ],
         "xaxis": "x",
         "y": [
          0.2532188841201717
         ],
         "yaxis": "y"
        },
        {
         "hovertemplate": "Opp=%{text}<br>SO/G=%{x}<br>BA=%{y}<extra></extra>",
         "legendgroup": "CIN",
         "marker": {
          "color": "#291c57",
          "opacity": 0,
          "size": 15,
          "symbol": "circle"
         },
         "mode": "markers+text",
         "name": "CIN",
         "orientation": "v",
         "showlegend": true,
         "text": [
          "CIN"
         ],
         "textfont": {
          "color": "#291c57",
          "size": 18
         },
         "textposition": "middle center",
         "type": "scatter",
         "x": [
          11
         ],
         "xaxis": "x",
         "y": [
          0.20192307692307693
         ],
         "yaxis": "y"
        },
        {
         "hovertemplate": "Opp=%{text}<br>SO/G=%{x}<br>BA=%{y}<extra></extra>",
         "legendgroup": "CLE",
         "marker": {
          "color": "#291c57",
          "opacity": 0,
          "size": 15,
          "symbol": "circle"
         },
         "mode": "markers+text",
         "name": "CLE",
         "orientation": "v",
         "showlegend": true,
         "text": [
          "CLE"
         ],
         "textfont": {
          "color": "#291c57",
          "size": 18
         },
         "textposition": "middle center",
         "type": "scatter",
         "x": [
          8
         ],
         "xaxis": "x",
         "y": [
          0.26153846153846155
         ],
         "yaxis": "y"
        },
        {
         "hovertemplate": "Opp=%{text}<br>SO/G=%{x}<br>BA=%{y}<extra></extra>",
         "legendgroup": "DET",
         "marker": {
          "color": "#291c57",
          "opacity": 0,
          "size": 15,
          "symbol": "circle"
         },
         "mode": "markers+text",
         "name": "DET",
         "orientation": "v",
         "showlegend": true,
         "text": [
          "DET"
         ],
         "textfont": {
          "color": "#291c57",
          "size": 18
         },
         "textposition": "middle center",
         "type": "scatter",
         "x": [
          8.166666666666666
         ],
         "xaxis": "x",
         "y": [
          0.23076923076923078
         ],
         "yaxis": "y"
        },
        {
         "hovertemplate": "Opp=%{text}<br>SO/G=%{x}<br>BA=%{y}<extra></extra>",
         "legendgroup": "HOU",
         "marker": {
          "color": "#EB6E1F",
          "opacity": 0,
          "size": 15,
          "symbol": "circle"
         },
         "mode": "markers+text",
         "name": "HOU",
         "orientation": "v",
         "showlegend": true,
         "text": [
          "HOU"
         ],
         "textfont": {
          "color": "#EB6E1F",
          "size": 18
         },
         "textposition": "middle center",
         "type": "scatter",
         "x": [
          9.571428571428571
         ],
         "xaxis": "x",
         "y": [
          0.1506849315068493
         ],
         "yaxis": "y"
        },
        {
         "hovertemplate": "Opp=%{text}<br>SO/G=%{x}<br>BA=%{y}<extra></extra>",
         "legendgroup": "KCR",
         "marker": {
          "color": "#291c57",
          "opacity": 0,
          "size": 15,
          "symbol": "circle"
         },
         "mode": "markers+text",
         "name": "KCR",
         "orientation": "v",
         "showlegend": true,
         "text": [
          "KCR"
         ],
         "textfont": {
          "color": "#291c57",
          "size": 18
         },
         "textposition": "middle center",
         "type": "scatter",
         "x": [
          7.571428571428571
         ],
         "xaxis": "x",
         "y": [
          0.23580786026200873
         ],
         "yaxis": "y"
        },
        {
         "hovertemplate": "Opp=%{text}<br>SO/G=%{x}<br>BA=%{y}<extra></extra>",
         "legendgroup": "LAA",
         "marker": {
          "color": "#291c57",
          "opacity": 0,
          "size": 15,
          "symbol": "circle"
         },
         "mode": "markers+text",
         "name": "LAA",
         "orientation": "v",
         "showlegend": true,
         "text": [
          "LAA"
         ],
         "textfont": {
          "color": "#291c57",
          "size": 18
         },
         "textposition": "middle center",
         "type": "scatter",
         "x": [
          6.666666666666667
         ],
         "xaxis": "x",
         "y": [
          0.3333333333333333
         ],
         "yaxis": "y"
        },
        {
         "hovertemplate": "Opp=%{text}<br>SO/G=%{x}<br>BA=%{y}<extra></extra>",
         "legendgroup": "MIN",
         "marker": {
          "color": "#291c57",
          "opacity": 0,
          "size": 15,
          "symbol": "circle"
         },
         "mode": "markers+text",
         "name": "MIN",
         "orientation": "v",
         "showlegend": true,
         "text": [
          "MIN"
         ],
         "textfont": {
          "color": "#291c57",
          "size": 18
         },
         "textposition": "middle center",
         "type": "scatter",
         "x": [
          7.666666666666667
         ],
         "xaxis": "x",
         "y": [
          0.3055555555555556
         ],
         "yaxis": "y"
        },
        {
         "hovertemplate": "Opp=%{text}<br>SO/G=%{x}<br>BA=%{y}<extra></extra>",
         "legendgroup": "NYM",
         "marker": {
          "color": "#291c57",
          "opacity": 0,
          "size": 15,
          "symbol": "circle"
         },
         "mode": "markers+text",
         "name": "NYM",
         "orientation": "v",
         "showlegend": true,
         "text": [
          "NYM"
         ],
         "textfont": {
          "color": "#291c57",
          "size": 18
         },
         "textposition": "middle center",
         "type": "scatter",
         "x": [
          8.5
         ],
         "xaxis": "x",
         "y": [
          0.22857142857142856
         ],
         "yaxis": "y"
        },
        {
         "hovertemplate": "Opp=%{text}<br>SO/G=%{x}<br>BA=%{y}<extra></extra>",
         "legendgroup": "OAK",
         "marker": {
          "color": "#291c57",
          "opacity": 0,
          "size": 15,
          "symbol": "circle"
         },
         "mode": "markers+text",
         "name": "OAK",
         "orientation": "v",
         "showlegend": true,
         "text": [
          "OAK"
         ],
         "textfont": {
          "color": "#291c57",
          "size": 18
         },
         "textposition": "middle center",
         "type": "scatter",
         "x": [
          7
         ],
         "xaxis": "x",
         "y": [
          0.22093023255813954
         ],
         "yaxis": "y"
        },
        {
         "hovertemplate": "Opp=%{text}<br>SO/G=%{x}<br>BA=%{y}<extra></extra>",
         "legendgroup": "PIT",
         "marker": {
          "color": "#291c57",
          "opacity": 0,
          "size": 15,
          "symbol": "circle"
         },
         "mode": "markers+text",
         "name": "PIT",
         "orientation": "v",
         "showlegend": true,
         "text": [
          "PIT"
         ],
         "textfont": {
          "color": "#291c57",
          "size": 18
         },
         "textposition": "middle center",
         "type": "scatter",
         "x": [
          9.5
         ],
         "xaxis": "x",
         "y": [
          0.3902439024390244
         ],
         "yaxis": "y"
        },
        {
         "hovertemplate": "Opp=%{text}<br>SO/G=%{x}<br>BA=%{y}<extra></extra>",
         "legendgroup": "TBR",
         "marker": {
          "color": "#291c57",
          "opacity": 0,
          "size": 15,
          "symbol": "circle"
         },
         "mode": "markers+text",
         "name": "TBR",
         "orientation": "v",
         "showlegend": true,
         "text": [
          "TBR"
         ],
         "textfont": {
          "color": "#291c57",
          "size": 18
         },
         "textposition": "middle center",
         "type": "scatter",
         "x": [
          8.1
         ],
         "xaxis": "x",
         "y": [
          0.18006430868167203
         ],
         "yaxis": "y"
        },
        {
         "hovertemplate": "Opp=%{text}<br>SO/G=%{x}<br>BA=%{y}<extra></extra>",
         "legendgroup": "TEX",
         "marker": {
          "color": "#291c57",
          "opacity": 0,
          "size": 15,
          "symbol": "circle"
         },
         "mode": "markers+text",
         "name": "TEX",
         "orientation": "v",
         "showlegend": true,
         "text": [
          "TEX"
         ],
         "textfont": {
          "color": "#291c57",
          "size": 18
         },
         "textposition": "middle center",
         "type": "scatter",
         "x": [
          7
         ],
         "xaxis": "x",
         "y": [
          0.15294117647058825
         ],
         "yaxis": "y"
        },
        {
         "hovertemplate": "Opp=%{text}<br>SO/G=%{x}<br>BA=%{y}<extra></extra>",
         "legendgroup": "TOR",
         "marker": {
          "color": "#291c57",
          "opacity": 0,
          "size": 15,
          "symbol": "circle"
         },
         "mode": "markers+text",
         "name": "TOR",
         "orientation": "v",
         "showlegend": true,
         "text": [
          "TOR"
         ],
         "textfont": {
          "color": "#291c57",
          "size": 18
         },
         "textposition": "middle center",
         "type": "scatter",
         "x": [
          8.75
         ],
         "xaxis": "x",
         "y": [
          0.24561403508771928
         ],
         "yaxis": "y"
        }
       ],
       "layout": {
        "legend": {
         "title": {
          "text": "Opp"
         },
         "tracegroupgap": 0
        },
        "margin": {
         "t": 100
        },
        "paper_bgcolor": "white",
        "plot_bgcolor": "white",
        "showlegend": false,
        "template": {
         "data": {
          "bar": [
           {
            "error_x": {
             "color": "#2a3f5f"
            },
            "error_y": {
             "color": "#2a3f5f"
            },
            "marker": {
             "line": {
              "color": "#E5ECF6",
              "width": 0.5
             },
             "pattern": {
              "fillmode": "overlay",
              "size": 10,
              "solidity": 0.2
             }
            },
            "type": "bar"
           }
          ],
          "barpolar": [
           {
            "marker": {
             "line": {
              "color": "#E5ECF6",
              "width": 0.5
             },
             "pattern": {
              "fillmode": "overlay",
              "size": 10,
              "solidity": 0.2
             }
            },
            "type": "barpolar"
           }
          ],
          "carpet": [
           {
            "aaxis": {
             "endlinecolor": "#2a3f5f",
             "gridcolor": "white",
             "linecolor": "white",
             "minorgridcolor": "white",
             "startlinecolor": "#2a3f5f"
            },
            "baxis": {
             "endlinecolor": "#2a3f5f",
             "gridcolor": "white",
             "linecolor": "white",
             "minorgridcolor": "white",
             "startlinecolor": "#2a3f5f"
            },
            "type": "carpet"
           }
          ],
          "choropleth": [
           {
            "colorbar": {
             "outlinewidth": 0,
             "ticks": ""
            },
            "type": "choropleth"
           }
          ],
          "contour": [
           {
            "colorbar": {
             "outlinewidth": 0,
             "ticks": ""
            },
            "colorscale": [
             [
              0,
              "#0d0887"
             ],
             [
              0.1111111111111111,
              "#46039f"
             ],
             [
              0.2222222222222222,
              "#7201a8"
             ],
             [
              0.3333333333333333,
              "#9c179e"
             ],
             [
              0.4444444444444444,
              "#bd3786"
             ],
             [
              0.5555555555555556,
              "#d8576b"
             ],
             [
              0.6666666666666666,
              "#ed7953"
             ],
             [
              0.7777777777777778,
              "#fb9f3a"
             ],
             [
              0.8888888888888888,
              "#fdca26"
             ],
             [
              1,
              "#f0f921"
             ]
            ],
            "type": "contour"
           }
          ],
          "contourcarpet": [
           {
            "colorbar": {
             "outlinewidth": 0,
             "ticks": ""
            },
            "type": "contourcarpet"
           }
          ],
          "heatmap": [
           {
            "colorbar": {
             "outlinewidth": 0,
             "ticks": ""
            },
            "colorscale": [
             [
              0,
              "#0d0887"
             ],
             [
              0.1111111111111111,
              "#46039f"
             ],
             [
              0.2222222222222222,
              "#7201a8"
             ],
             [
              0.3333333333333333,
              "#9c179e"
             ],
             [
              0.4444444444444444,
              "#bd3786"
             ],
             [
              0.5555555555555556,
              "#d8576b"
             ],
             [
              0.6666666666666666,
              "#ed7953"
             ],
             [
              0.7777777777777778,
              "#fb9f3a"
             ],
             [
              0.8888888888888888,
              "#fdca26"
             ],
             [
              1,
              "#f0f921"
             ]
            ],
            "type": "heatmap"
           }
          ],
          "heatmapgl": [
           {
            "colorbar": {
             "outlinewidth": 0,
             "ticks": ""
            },
            "colorscale": [
             [
              0,
              "#0d0887"
             ],
             [
              0.1111111111111111,
              "#46039f"
             ],
             [
              0.2222222222222222,
              "#7201a8"
             ],
             [
              0.3333333333333333,
              "#9c179e"
             ],
             [
              0.4444444444444444,
              "#bd3786"
             ],
             [
              0.5555555555555556,
              "#d8576b"
             ],
             [
              0.6666666666666666,
              "#ed7953"
             ],
             [
              0.7777777777777778,
              "#fb9f3a"
             ],
             [
              0.8888888888888888,
              "#fdca26"
             ],
             [
              1,
              "#f0f921"
             ]
            ],
            "type": "heatmapgl"
           }
          ],
          "histogram": [
           {
            "marker": {
             "pattern": {
              "fillmode": "overlay",
              "size": 10,
              "solidity": 0.2
             }
            },
            "type": "histogram"
           }
          ],
          "histogram2d": [
           {
            "colorbar": {
             "outlinewidth": 0,
             "ticks": ""
            },
            "colorscale": [
             [
              0,
              "#0d0887"
             ],
             [
              0.1111111111111111,
              "#46039f"
             ],
             [
              0.2222222222222222,
              "#7201a8"
             ],
             [
              0.3333333333333333,
              "#9c179e"
             ],
             [
              0.4444444444444444,
              "#bd3786"
             ],
             [
              0.5555555555555556,
              "#d8576b"
             ],
             [
              0.6666666666666666,
              "#ed7953"
             ],
             [
              0.7777777777777778,
              "#fb9f3a"
             ],
             [
              0.8888888888888888,
              "#fdca26"
             ],
             [
              1,
              "#f0f921"
             ]
            ],
            "type": "histogram2d"
           }
          ],
          "histogram2dcontour": [
           {
            "colorbar": {
             "outlinewidth": 0,
             "ticks": ""
            },
            "colorscale": [
             [
              0,
              "#0d0887"
             ],
             [
              0.1111111111111111,
              "#46039f"
             ],
             [
              0.2222222222222222,
              "#7201a8"
             ],
             [
              0.3333333333333333,
              "#9c179e"
             ],
             [
              0.4444444444444444,
              "#bd3786"
             ],
             [
              0.5555555555555556,
              "#d8576b"
             ],
             [
              0.6666666666666666,
              "#ed7953"
             ],
             [
              0.7777777777777778,
              "#fb9f3a"
             ],
             [
              0.8888888888888888,
              "#fdca26"
             ],
             [
              1,
              "#f0f921"
             ]
            ],
            "type": "histogram2dcontour"
           }
          ],
          "mesh3d": [
           {
            "colorbar": {
             "outlinewidth": 0,
             "ticks": ""
            },
            "type": "mesh3d"
           }
          ],
          "parcoords": [
           {
            "line": {
             "colorbar": {
              "outlinewidth": 0,
              "ticks": ""
             }
            },
            "type": "parcoords"
           }
          ],
          "pie": [
           {
            "automargin": true,
            "type": "pie"
           }
          ],
          "scatter": [
           {
            "fillpattern": {
             "fillmode": "overlay",
             "size": 10,
             "solidity": 0.2
            },
            "type": "scatter"
           }
          ],
          "scatter3d": [
           {
            "line": {
             "colorbar": {
              "outlinewidth": 0,
              "ticks": ""
             }
            },
            "marker": {
             "colorbar": {
              "outlinewidth": 0,
              "ticks": ""
             }
            },
            "type": "scatter3d"
           }
          ],
          "scattercarpet": [
           {
            "marker": {
             "colorbar": {
              "outlinewidth": 0,
              "ticks": ""
             }
            },
            "type": "scattercarpet"
           }
          ],
          "scattergeo": [
           {
            "marker": {
             "colorbar": {
              "outlinewidth": 0,
              "ticks": ""
             }
            },
            "type": "scattergeo"
           }
          ],
          "scattergl": [
           {
            "marker": {
             "colorbar": {
              "outlinewidth": 0,
              "ticks": ""
             }
            },
            "type": "scattergl"
           }
          ],
          "scattermapbox": [
           {
            "marker": {
             "colorbar": {
              "outlinewidth": 0,
              "ticks": ""
             }
            },
            "type": "scattermapbox"
           }
          ],
          "scatterpolar": [
           {
            "marker": {
             "colorbar": {
              "outlinewidth": 0,
              "ticks": ""
             }
            },
            "type": "scatterpolar"
           }
          ],
          "scatterpolargl": [
           {
            "marker": {
             "colorbar": {
              "outlinewidth": 0,
              "ticks": ""
             }
            },
            "type": "scatterpolargl"
           }
          ],
          "scatterternary": [
           {
            "marker": {
             "colorbar": {
              "outlinewidth": 0,
              "ticks": ""
             }
            },
            "type": "scatterternary"
           }
          ],
          "surface": [
           {
            "colorbar": {
             "outlinewidth": 0,
             "ticks": ""
            },
            "colorscale": [
             [
              0,
              "#0d0887"
             ],
             [
              0.1111111111111111,
              "#46039f"
             ],
             [
              0.2222222222222222,
              "#7201a8"
             ],
             [
              0.3333333333333333,
              "#9c179e"
             ],
             [
              0.4444444444444444,
              "#bd3786"
             ],
             [
              0.5555555555555556,
              "#d8576b"
             ],
             [
              0.6666666666666666,
              "#ed7953"
             ],
             [
              0.7777777777777778,
              "#fb9f3a"
             ],
             [
              0.8888888888888888,
              "#fdca26"
             ],
             [
              1,
              "#f0f921"
             ]
            ],
            "type": "surface"
           }
          ],
          "table": [
           {
            "cells": {
             "fill": {
              "color": "#EBF0F8"
             },
             "line": {
              "color": "white"
             }
            },
            "header": {
             "fill": {
              "color": "#C8D4E3"
             },
             "line": {
              "color": "white"
             }
            },
            "type": "table"
           }
          ]
         },
         "layout": {
          "annotationdefaults": {
           "arrowcolor": "#2a3f5f",
           "arrowhead": 0,
           "arrowwidth": 1
          },
          "autotypenumbers": "strict",
          "coloraxis": {
           "colorbar": {
            "outlinewidth": 0,
            "ticks": ""
           }
          },
          "colorscale": {
           "diverging": [
            [
             0,
             "#8e0152"
            ],
            [
             0.1,
             "#c51b7d"
            ],
            [
             0.2,
             "#de77ae"
            ],
            [
             0.3,
             "#f1b6da"
            ],
            [
             0.4,
             "#fde0ef"
            ],
            [
             0.5,
             "#f7f7f7"
            ],
            [
             0.6,
             "#e6f5d0"
            ],
            [
             0.7,
             "#b8e186"
            ],
            [
             0.8,
             "#7fbc41"
            ],
            [
             0.9,
             "#4d9221"
            ],
            [
             1,
             "#276419"
            ]
           ],
           "sequential": [
            [
             0,
             "#0d0887"
            ],
            [
             0.1111111111111111,
             "#46039f"
            ],
            [
             0.2222222222222222,
             "#7201a8"
            ],
            [
             0.3333333333333333,
             "#9c179e"
            ],
            [
             0.4444444444444444,
             "#bd3786"
            ],
            [
             0.5555555555555556,
             "#d8576b"
            ],
            [
             0.6666666666666666,
             "#ed7953"
            ],
            [
             0.7777777777777778,
             "#fb9f3a"
            ],
            [
             0.8888888888888888,
             "#fdca26"
            ],
            [
             1,
             "#f0f921"
            ]
           ],
           "sequentialminus": [
            [
             0,
             "#0d0887"
            ],
            [
             0.1111111111111111,
             "#46039f"
            ],
            [
             0.2222222222222222,
             "#7201a8"
            ],
            [
             0.3333333333333333,
             "#9c179e"
            ],
            [
             0.4444444444444444,
             "#bd3786"
            ],
            [
             0.5555555555555556,
             "#d8576b"
            ],
            [
             0.6666666666666666,
             "#ed7953"
            ],
            [
             0.7777777777777778,
             "#fb9f3a"
            ],
            [
             0.8888888888888888,
             "#fdca26"
            ],
            [
             1,
             "#f0f921"
            ]
           ]
          },
          "colorway": [
           "#636efa",
           "#EF553B",
           "#00cc96",
           "#ab63fa",
           "#FFA15A",
           "#19d3f3",
           "#FF6692",
           "#B6E880",
           "#FF97FF",
           "#FECB52"
          ],
          "font": {
           "color": "#2a3f5f"
          },
          "geo": {
           "bgcolor": "white",
           "lakecolor": "white",
           "landcolor": "#E5ECF6",
           "showlakes": true,
           "showland": true,
           "subunitcolor": "white"
          },
          "hoverlabel": {
           "align": "left"
          },
          "hovermode": "closest",
          "mapbox": {
           "style": "light"
          },
          "paper_bgcolor": "white",
          "plot_bgcolor": "#E5ECF6",
          "polar": {
           "angularaxis": {
            "gridcolor": "white",
            "linecolor": "white",
            "ticks": ""
           },
           "bgcolor": "#E5ECF6",
           "radialaxis": {
            "gridcolor": "white",
            "linecolor": "white",
            "ticks": ""
           }
          },
          "scene": {
           "xaxis": {
            "backgroundcolor": "#E5ECF6",
            "gridcolor": "white",
            "gridwidth": 2,
            "linecolor": "white",
            "showbackground": true,
            "ticks": "",
            "zerolinecolor": "white"
           },
           "yaxis": {
            "backgroundcolor": "#E5ECF6",
            "gridcolor": "white",
            "gridwidth": 2,
            "linecolor": "white",
            "showbackground": true,
            "ticks": "",
            "zerolinecolor": "white"
           },
           "zaxis": {
            "backgroundcolor": "#E5ECF6",
            "gridcolor": "white",
            "gridwidth": 2,
            "linecolor": "white",
            "showbackground": true,
            "ticks": "",
            "zerolinecolor": "white"
           }
          },
          "shapedefaults": {
           "line": {
            "color": "#2a3f5f"
           }
          },
          "ternary": {
           "aaxis": {
            "gridcolor": "white",
            "linecolor": "white",
            "ticks": ""
           },
           "baxis": {
            "gridcolor": "white",
            "linecolor": "white",
            "ticks": ""
           },
           "bgcolor": "#E5ECF6",
           "caxis": {
            "gridcolor": "white",
            "linecolor": "white",
            "ticks": ""
           }
          },
          "title": {
           "x": 0.05
          },
          "xaxis": {
           "automargin": true,
           "gridcolor": "white",
           "linecolor": "white",
           "ticks": "",
           "title": {
            "standoff": 15
           },
           "zerolinecolor": "white",
           "zerolinewidth": 2
          },
          "yaxis": {
           "automargin": true,
           "gridcolor": "white",
           "linecolor": "white",
           "ticks": "",
           "title": {
            "standoff": 15
           },
           "zerolinecolor": "white",
           "zerolinewidth": 2
          }
         }
        },
        "title": {
         "font": {
          "size": 25
         },
         "text": "<b>Astros Woes</b><br>Yankees Offense by Opponent",
         "x": 0.5,
         "xanchor": "center",
         "y": 0.9,
         "yanchor": "top"
        },
        "xaxis": {
         "anchor": "y",
         "domain": [
          0,
          1
         ],
         "gridcolor": "#c6f7f7",
         "gridwidth": 2,
         "range": [
          11.25,
          5.75
         ],
         "tickfont": {
          "size": 18
         },
         "title": {
          "font": {
           "size": 20
          },
          "text": "<b>Strikeouts per Game</b>"
         },
         "zerolinecolor": "#c6f7f7"
        },
        "yaxis": {
         "anchor": "x",
         "domain": [
          0,
          1
         ],
         "gridcolor": "#c6f7f7",
         "gridwidth": 2,
         "tickfont": {
          "size": 18
         },
         "tickformat": ".3f",
         "title": {
          "font": {
           "size": 20
          },
          "text": "<b>Batting Average</b>"
         },
         "zeroline": false
        }
       }
      },
      "text/html": [
       "<div>                            <div id=\"a238e069-3613-4e66-89f9-309485554c8a\" class=\"plotly-graph-div\" style=\"height:525px; width:100%;\"></div>            <script type=\"text/javascript\">                require([\"plotly\"], function(Plotly) {                    window.PLOTLYENV=window.PLOTLYENV || {};                                    if (document.getElementById(\"a238e069-3613-4e66-89f9-309485554c8a\")) {                    Plotly.newPlot(                        \"a238e069-3613-4e66-89f9-309485554c8a\",                        [{\"hovertemplate\":\"Opp=%{text}<br>SO/G=%{x}<br>BA=%{y}<extra></extra>\",\"legendgroup\":\"BAL\",\"marker\":{\"color\":\"#291c57\",\"symbol\":\"circle\",\"opacity\":0,\"size\":15},\"mode\":\"markers+text\",\"name\":\"BAL\",\"orientation\":\"v\",\"showlegend\":true,\"text\":[\"BAL\"],\"x\":[8.75],\"xaxis\":\"x\",\"y\":[0.26523297491039427],\"yaxis\":\"y\",\"type\":\"scatter\",\"textfont\":{\"color\":\"#291c57\",\"size\":18},\"textposition\":\"middle center\"},{\"hovertemplate\":\"Opp=%{text}<br>SO/G=%{x}<br>BA=%{y}<extra></extra>\",\"legendgroup\":\"BOS\",\"marker\":{\"color\":\"#291c57\",\"symbol\":\"circle\",\"opacity\":0,\"size\":15},\"mode\":\"markers+text\",\"name\":\"BOS\",\"orientation\":\"v\",\"showlegend\":true,\"text\":[\"BOS\"],\"x\":[8.9],\"xaxis\":\"x\",\"y\":[0.27900552486187846],\"yaxis\":\"y\",\"type\":\"scatter\",\"textfont\":{\"color\":\"#291c57\",\"size\":18},\"textposition\":\"middle center\"},{\"hovertemplate\":\"Opp=%{text}<br>SO/G=%{x}<br>BA=%{y}<extra></extra>\",\"legendgroup\":\"CHC\",\"marker\":{\"color\":\"#291c57\",\"symbol\":\"circle\",\"opacity\":0,\"size\":15},\"mode\":\"markers+text\",\"name\":\"CHC\",\"orientation\":\"v\",\"showlegend\":true,\"text\":[\"CHC\"],\"x\":[8.666666666666666],\"xaxis\":\"x\",\"y\":[0.2857142857142857],\"yaxis\":\"y\",\"type\":\"scatter\",\"textfont\":{\"color\":\"#291c57\",\"size\":18},\"textposition\":\"middle center\"},{\"hovertemplate\":\"Opp=%{text}<br>SO/G=%{x}<br>BA=%{y}<extra></extra>\",\"legendgroup\":\"CHW\",\"marker\":{\"color\":\"#291c57\",\"symbol\":\"circle\",\"opacity\":0,\"size\":15},\"mode\":\"markers+text\",\"name\":\"CHW\",\"orientation\":\"v\",\"showlegend\":true,\"text\":[\"CHW\"],\"x\":[7.714285714285714],\"xaxis\":\"x\",\"y\":[0.2532188841201717],\"yaxis\":\"y\",\"type\":\"scatter\",\"textfont\":{\"color\":\"#291c57\",\"size\":18},\"textposition\":\"middle center\"},{\"hovertemplate\":\"Opp=%{text}<br>SO/G=%{x}<br>BA=%{y}<extra></extra>\",\"legendgroup\":\"CIN\",\"marker\":{\"color\":\"#291c57\",\"symbol\":\"circle\",\"opacity\":0,\"size\":15},\"mode\":\"markers+text\",\"name\":\"CIN\",\"orientation\":\"v\",\"showlegend\":true,\"text\":[\"CIN\"],\"x\":[11.0],\"xaxis\":\"x\",\"y\":[0.20192307692307693],\"yaxis\":\"y\",\"type\":\"scatter\",\"textfont\":{\"color\":\"#291c57\",\"size\":18},\"textposition\":\"middle center\"},{\"hovertemplate\":\"Opp=%{text}<br>SO/G=%{x}<br>BA=%{y}<extra></extra>\",\"legendgroup\":\"CLE\",\"marker\":{\"color\":\"#291c57\",\"symbol\":\"circle\",\"opacity\":0,\"size\":15},\"mode\":\"markers+text\",\"name\":\"CLE\",\"orientation\":\"v\",\"showlegend\":true,\"text\":[\"CLE\"],\"x\":[8.0],\"xaxis\":\"x\",\"y\":[0.26153846153846155],\"yaxis\":\"y\",\"type\":\"scatter\",\"textfont\":{\"color\":\"#291c57\",\"size\":18},\"textposition\":\"middle center\"},{\"hovertemplate\":\"Opp=%{text}<br>SO/G=%{x}<br>BA=%{y}<extra></extra>\",\"legendgroup\":\"DET\",\"marker\":{\"color\":\"#291c57\",\"symbol\":\"circle\",\"opacity\":0,\"size\":15},\"mode\":\"markers+text\",\"name\":\"DET\",\"orientation\":\"v\",\"showlegend\":true,\"text\":[\"DET\"],\"x\":[8.166666666666666],\"xaxis\":\"x\",\"y\":[0.23076923076923078],\"yaxis\":\"y\",\"type\":\"scatter\",\"textfont\":{\"color\":\"#291c57\",\"size\":18},\"textposition\":\"middle center\"},{\"hovertemplate\":\"Opp=%{text}<br>SO/G=%{x}<br>BA=%{y}<extra></extra>\",\"legendgroup\":\"HOU\",\"marker\":{\"color\":\"#EB6E1F\",\"symbol\":\"circle\",\"opacity\":0,\"size\":15},\"mode\":\"markers+text\",\"name\":\"HOU\",\"orientation\":\"v\",\"showlegend\":true,\"text\":[\"HOU\"],\"x\":[9.571428571428571],\"xaxis\":\"x\",\"y\":[0.1506849315068493],\"yaxis\":\"y\",\"type\":\"scatter\",\"textfont\":{\"color\":\"#EB6E1F\",\"size\":18},\"textposition\":\"middle center\"},{\"hovertemplate\":\"Opp=%{text}<br>SO/G=%{x}<br>BA=%{y}<extra></extra>\",\"legendgroup\":\"KCR\",\"marker\":{\"color\":\"#291c57\",\"symbol\":\"circle\",\"opacity\":0,\"size\":15},\"mode\":\"markers+text\",\"name\":\"KCR\",\"orientation\":\"v\",\"showlegend\":true,\"text\":[\"KCR\"],\"x\":[7.571428571428571],\"xaxis\":\"x\",\"y\":[0.23580786026200873],\"yaxis\":\"y\",\"type\":\"scatter\",\"textfont\":{\"color\":\"#291c57\",\"size\":18},\"textposition\":\"middle center\"},{\"hovertemplate\":\"Opp=%{text}<br>SO/G=%{x}<br>BA=%{y}<extra></extra>\",\"legendgroup\":\"LAA\",\"marker\":{\"color\":\"#291c57\",\"symbol\":\"circle\",\"opacity\":0,\"size\":15},\"mode\":\"markers+text\",\"name\":\"LAA\",\"orientation\":\"v\",\"showlegend\":true,\"text\":[\"LAA\"],\"x\":[6.666666666666667],\"xaxis\":\"x\",\"y\":[0.3333333333333333],\"yaxis\":\"y\",\"type\":\"scatter\",\"textfont\":{\"color\":\"#291c57\",\"size\":18},\"textposition\":\"middle center\"},{\"hovertemplate\":\"Opp=%{text}<br>SO/G=%{x}<br>BA=%{y}<extra></extra>\",\"legendgroup\":\"MIN\",\"marker\":{\"color\":\"#291c57\",\"symbol\":\"circle\",\"opacity\":0,\"size\":15},\"mode\":\"markers+text\",\"name\":\"MIN\",\"orientation\":\"v\",\"showlegend\":true,\"text\":[\"MIN\"],\"x\":[7.666666666666667],\"xaxis\":\"x\",\"y\":[0.3055555555555556],\"yaxis\":\"y\",\"type\":\"scatter\",\"textfont\":{\"color\":\"#291c57\",\"size\":18},\"textposition\":\"middle center\"},{\"hovertemplate\":\"Opp=%{text}<br>SO/G=%{x}<br>BA=%{y}<extra></extra>\",\"legendgroup\":\"NYM\",\"marker\":{\"color\":\"#291c57\",\"symbol\":\"circle\",\"opacity\":0,\"size\":15},\"mode\":\"markers+text\",\"name\":\"NYM\",\"orientation\":\"v\",\"showlegend\":true,\"text\":[\"NYM\"],\"x\":[8.5],\"xaxis\":\"x\",\"y\":[0.22857142857142856],\"yaxis\":\"y\",\"type\":\"scatter\",\"textfont\":{\"color\":\"#291c57\",\"size\":18},\"textposition\":\"middle center\"},{\"hovertemplate\":\"Opp=%{text}<br>SO/G=%{x}<br>BA=%{y}<extra></extra>\",\"legendgroup\":\"OAK\",\"marker\":{\"color\":\"#291c57\",\"symbol\":\"circle\",\"opacity\":0,\"size\":15},\"mode\":\"markers+text\",\"name\":\"OAK\",\"orientation\":\"v\",\"showlegend\":true,\"text\":[\"OAK\"],\"x\":[7.0],\"xaxis\":\"x\",\"y\":[0.22093023255813954],\"yaxis\":\"y\",\"type\":\"scatter\",\"textfont\":{\"color\":\"#291c57\",\"size\":18},\"textposition\":\"middle center\"},{\"hovertemplate\":\"Opp=%{text}<br>SO/G=%{x}<br>BA=%{y}<extra></extra>\",\"legendgroup\":\"PIT\",\"marker\":{\"color\":\"#291c57\",\"symbol\":\"circle\",\"opacity\":0,\"size\":15},\"mode\":\"markers+text\",\"name\":\"PIT\",\"orientation\":\"v\",\"showlegend\":true,\"text\":[\"PIT\"],\"x\":[9.5],\"xaxis\":\"x\",\"y\":[0.3902439024390244],\"yaxis\":\"y\",\"type\":\"scatter\",\"textfont\":{\"color\":\"#291c57\",\"size\":18},\"textposition\":\"middle center\"},{\"hovertemplate\":\"Opp=%{text}<br>SO/G=%{x}<br>BA=%{y}<extra></extra>\",\"legendgroup\":\"TBR\",\"marker\":{\"color\":\"#291c57\",\"symbol\":\"circle\",\"opacity\":0,\"size\":15},\"mode\":\"markers+text\",\"name\":\"TBR\",\"orientation\":\"v\",\"showlegend\":true,\"text\":[\"TBR\"],\"x\":[8.1],\"xaxis\":\"x\",\"y\":[0.18006430868167203],\"yaxis\":\"y\",\"type\":\"scatter\",\"textfont\":{\"color\":\"#291c57\",\"size\":18},\"textposition\":\"middle center\"},{\"hovertemplate\":\"Opp=%{text}<br>SO/G=%{x}<br>BA=%{y}<extra></extra>\",\"legendgroup\":\"TEX\",\"marker\":{\"color\":\"#291c57\",\"symbol\":\"circle\",\"opacity\":0,\"size\":15},\"mode\":\"markers+text\",\"name\":\"TEX\",\"orientation\":\"v\",\"showlegend\":true,\"text\":[\"TEX\"],\"x\":[7.0],\"xaxis\":\"x\",\"y\":[0.15294117647058825],\"yaxis\":\"y\",\"type\":\"scatter\",\"textfont\":{\"color\":\"#291c57\",\"size\":18},\"textposition\":\"middle center\"},{\"hovertemplate\":\"Opp=%{text}<br>SO/G=%{x}<br>BA=%{y}<extra></extra>\",\"legendgroup\":\"TOR\",\"marker\":{\"color\":\"#291c57\",\"symbol\":\"circle\",\"opacity\":0,\"size\":15},\"mode\":\"markers+text\",\"name\":\"TOR\",\"orientation\":\"v\",\"showlegend\":true,\"text\":[\"TOR\"],\"x\":[8.75],\"xaxis\":\"x\",\"y\":[0.24561403508771928],\"yaxis\":\"y\",\"type\":\"scatter\",\"textfont\":{\"color\":\"#291c57\",\"size\":18},\"textposition\":\"middle center\"}],                        {\"template\":{\"data\":{\"histogram2dcontour\":[{\"type\":\"histogram2dcontour\",\"colorbar\":{\"outlinewidth\":0,\"ticks\":\"\"},\"colorscale\":[[0.0,\"#0d0887\"],[0.1111111111111111,\"#46039f\"],[0.2222222222222222,\"#7201a8\"],[0.3333333333333333,\"#9c179e\"],[0.4444444444444444,\"#bd3786\"],[0.5555555555555556,\"#d8576b\"],[0.6666666666666666,\"#ed7953\"],[0.7777777777777778,\"#fb9f3a\"],[0.8888888888888888,\"#fdca26\"],[1.0,\"#f0f921\"]]}],\"choropleth\":[{\"type\":\"choropleth\",\"colorbar\":{\"outlinewidth\":0,\"ticks\":\"\"}}],\"histogram2d\":[{\"type\":\"histogram2d\",\"colorbar\":{\"outlinewidth\":0,\"ticks\":\"\"},\"colorscale\":[[0.0,\"#0d0887\"],[0.1111111111111111,\"#46039f\"],[0.2222222222222222,\"#7201a8\"],[0.3333333333333333,\"#9c179e\"],[0.4444444444444444,\"#bd3786\"],[0.5555555555555556,\"#d8576b\"],[0.6666666666666666,\"#ed7953\"],[0.7777777777777778,\"#fb9f3a\"],[0.8888888888888888,\"#fdca26\"],[1.0,\"#f0f921\"]]}],\"heatmap\":[{\"type\":\"heatmap\",\"colorbar\":{\"outlinewidth\":0,\"ticks\":\"\"},\"colorscale\":[[0.0,\"#0d0887\"],[0.1111111111111111,\"#46039f\"],[0.2222222222222222,\"#7201a8\"],[0.3333333333333333,\"#9c179e\"],[0.4444444444444444,\"#bd3786\"],[0.5555555555555556,\"#d8576b\"],[0.6666666666666666,\"#ed7953\"],[0.7777777777777778,\"#fb9f3a\"],[0.8888888888888888,\"#fdca26\"],[1.0,\"#f0f921\"]]}],\"heatmapgl\":[{\"type\":\"heatmapgl\",\"colorbar\":{\"outlinewidth\":0,\"ticks\":\"\"},\"colorscale\":[[0.0,\"#0d0887\"],[0.1111111111111111,\"#46039f\"],[0.2222222222222222,\"#7201a8\"],[0.3333333333333333,\"#9c179e\"],[0.4444444444444444,\"#bd3786\"],[0.5555555555555556,\"#d8576b\"],[0.6666666666666666,\"#ed7953\"],[0.7777777777777778,\"#fb9f3a\"],[0.8888888888888888,\"#fdca26\"],[1.0,\"#f0f921\"]]}],\"contourcarpet\":[{\"type\":\"contourcarpet\",\"colorbar\":{\"outlinewidth\":0,\"ticks\":\"\"}}],\"contour\":[{\"type\":\"contour\",\"colorbar\":{\"outlinewidth\":0,\"ticks\":\"\"},\"colorscale\":[[0.0,\"#0d0887\"],[0.1111111111111111,\"#46039f\"],[0.2222222222222222,\"#7201a8\"],[0.3333333333333333,\"#9c179e\"],[0.4444444444444444,\"#bd3786\"],[0.5555555555555556,\"#d8576b\"],[0.6666666666666666,\"#ed7953\"],[0.7777777777777778,\"#fb9f3a\"],[0.8888888888888888,\"#fdca26\"],[1.0,\"#f0f921\"]]}],\"surface\":[{\"type\":\"surface\",\"colorbar\":{\"outlinewidth\":0,\"ticks\":\"\"},\"colorscale\":[[0.0,\"#0d0887\"],[0.1111111111111111,\"#46039f\"],[0.2222222222222222,\"#7201a8\"],[0.3333333333333333,\"#9c179e\"],[0.4444444444444444,\"#bd3786\"],[0.5555555555555556,\"#d8576b\"],[0.6666666666666666,\"#ed7953\"],[0.7777777777777778,\"#fb9f3a\"],[0.8888888888888888,\"#fdca26\"],[1.0,\"#f0f921\"]]}],\"mesh3d\":[{\"type\":\"mesh3d\",\"colorbar\":{\"outlinewidth\":0,\"ticks\":\"\"}}],\"scatter\":[{\"fillpattern\":{\"fillmode\":\"overlay\",\"size\":10,\"solidity\":0.2},\"type\":\"scatter\"}],\"parcoords\":[{\"type\":\"parcoords\",\"line\":{\"colorbar\":{\"outlinewidth\":0,\"ticks\":\"\"}}}],\"scatterpolargl\":[{\"type\":\"scatterpolargl\",\"marker\":{\"colorbar\":{\"outlinewidth\":0,\"ticks\":\"\"}}}],\"bar\":[{\"error_x\":{\"color\":\"#2a3f5f\"},\"error_y\":{\"color\":\"#2a3f5f\"},\"marker\":{\"line\":{\"color\":\"#E5ECF6\",\"width\":0.5},\"pattern\":{\"fillmode\":\"overlay\",\"size\":10,\"solidity\":0.2}},\"type\":\"bar\"}],\"scattergeo\":[{\"type\":\"scattergeo\",\"marker\":{\"colorbar\":{\"outlinewidth\":0,\"ticks\":\"\"}}}],\"scatterpolar\":[{\"type\":\"scatterpolar\",\"marker\":{\"colorbar\":{\"outlinewidth\":0,\"ticks\":\"\"}}}],\"histogram\":[{\"marker\":{\"pattern\":{\"fillmode\":\"overlay\",\"size\":10,\"solidity\":0.2}},\"type\":\"histogram\"}],\"scattergl\":[{\"type\":\"scattergl\",\"marker\":{\"colorbar\":{\"outlinewidth\":0,\"ticks\":\"\"}}}],\"scatter3d\":[{\"type\":\"scatter3d\",\"line\":{\"colorbar\":{\"outlinewidth\":0,\"ticks\":\"\"}},\"marker\":{\"colorbar\":{\"outlinewidth\":0,\"ticks\":\"\"}}}],\"scattermapbox\":[{\"type\":\"scattermapbox\",\"marker\":{\"colorbar\":{\"outlinewidth\":0,\"ticks\":\"\"}}}],\"scatterternary\":[{\"type\":\"scatterternary\",\"marker\":{\"colorbar\":{\"outlinewidth\":0,\"ticks\":\"\"}}}],\"scattercarpet\":[{\"type\":\"scattercarpet\",\"marker\":{\"colorbar\":{\"outlinewidth\":0,\"ticks\":\"\"}}}],\"carpet\":[{\"aaxis\":{\"endlinecolor\":\"#2a3f5f\",\"gridcolor\":\"white\",\"linecolor\":\"white\",\"minorgridcolor\":\"white\",\"startlinecolor\":\"#2a3f5f\"},\"baxis\":{\"endlinecolor\":\"#2a3f5f\",\"gridcolor\":\"white\",\"linecolor\":\"white\",\"minorgridcolor\":\"white\",\"startlinecolor\":\"#2a3f5f\"},\"type\":\"carpet\"}],\"table\":[{\"cells\":{\"fill\":{\"color\":\"#EBF0F8\"},\"line\":{\"color\":\"white\"}},\"header\":{\"fill\":{\"color\":\"#C8D4E3\"},\"line\":{\"color\":\"white\"}},\"type\":\"table\"}],\"barpolar\":[{\"marker\":{\"line\":{\"color\":\"#E5ECF6\",\"width\":0.5},\"pattern\":{\"fillmode\":\"overlay\",\"size\":10,\"solidity\":0.2}},\"type\":\"barpolar\"}],\"pie\":[{\"automargin\":true,\"type\":\"pie\"}]},\"layout\":{\"autotypenumbers\":\"strict\",\"colorway\":[\"#636efa\",\"#EF553B\",\"#00cc96\",\"#ab63fa\",\"#FFA15A\",\"#19d3f3\",\"#FF6692\",\"#B6E880\",\"#FF97FF\",\"#FECB52\"],\"font\":{\"color\":\"#2a3f5f\"},\"hovermode\":\"closest\",\"hoverlabel\":{\"align\":\"left\"},\"paper_bgcolor\":\"white\",\"plot_bgcolor\":\"#E5ECF6\",\"polar\":{\"bgcolor\":\"#E5ECF6\",\"angularaxis\":{\"gridcolor\":\"white\",\"linecolor\":\"white\",\"ticks\":\"\"},\"radialaxis\":{\"gridcolor\":\"white\",\"linecolor\":\"white\",\"ticks\":\"\"}},\"ternary\":{\"bgcolor\":\"#E5ECF6\",\"aaxis\":{\"gridcolor\":\"white\",\"linecolor\":\"white\",\"ticks\":\"\"},\"baxis\":{\"gridcolor\":\"white\",\"linecolor\":\"white\",\"ticks\":\"\"},\"caxis\":{\"gridcolor\":\"white\",\"linecolor\":\"white\",\"ticks\":\"\"}},\"coloraxis\":{\"colorbar\":{\"outlinewidth\":0,\"ticks\":\"\"}},\"colorscale\":{\"sequential\":[[0.0,\"#0d0887\"],[0.1111111111111111,\"#46039f\"],[0.2222222222222222,\"#7201a8\"],[0.3333333333333333,\"#9c179e\"],[0.4444444444444444,\"#bd3786\"],[0.5555555555555556,\"#d8576b\"],[0.6666666666666666,\"#ed7953\"],[0.7777777777777778,\"#fb9f3a\"],[0.8888888888888888,\"#fdca26\"],[1.0,\"#f0f921\"]],\"sequentialminus\":[[0.0,\"#0d0887\"],[0.1111111111111111,\"#46039f\"],[0.2222222222222222,\"#7201a8\"],[0.3333333333333333,\"#9c179e\"],[0.4444444444444444,\"#bd3786\"],[0.5555555555555556,\"#d8576b\"],[0.6666666666666666,\"#ed7953\"],[0.7777777777777778,\"#fb9f3a\"],[0.8888888888888888,\"#fdca26\"],[1.0,\"#f0f921\"]],\"diverging\":[[0,\"#8e0152\"],[0.1,\"#c51b7d\"],[0.2,\"#de77ae\"],[0.3,\"#f1b6da\"],[0.4,\"#fde0ef\"],[0.5,\"#f7f7f7\"],[0.6,\"#e6f5d0\"],[0.7,\"#b8e186\"],[0.8,\"#7fbc41\"],[0.9,\"#4d9221\"],[1,\"#276419\"]]},\"xaxis\":{\"gridcolor\":\"white\",\"linecolor\":\"white\",\"ticks\":\"\",\"title\":{\"standoff\":15},\"zerolinecolor\":\"white\",\"automargin\":true,\"zerolinewidth\":2},\"yaxis\":{\"gridcolor\":\"white\",\"linecolor\":\"white\",\"ticks\":\"\",\"title\":{\"standoff\":15},\"zerolinecolor\":\"white\",\"automargin\":true,\"zerolinewidth\":2},\"scene\":{\"xaxis\":{\"backgroundcolor\":\"#E5ECF6\",\"gridcolor\":\"white\",\"linecolor\":\"white\",\"showbackground\":true,\"ticks\":\"\",\"zerolinecolor\":\"white\",\"gridwidth\":2},\"yaxis\":{\"backgroundcolor\":\"#E5ECF6\",\"gridcolor\":\"white\",\"linecolor\":\"white\",\"showbackground\":true,\"ticks\":\"\",\"zerolinecolor\":\"white\",\"gridwidth\":2},\"zaxis\":{\"backgroundcolor\":\"#E5ECF6\",\"gridcolor\":\"white\",\"linecolor\":\"white\",\"showbackground\":true,\"ticks\":\"\",\"zerolinecolor\":\"white\",\"gridwidth\":2}},\"shapedefaults\":{\"line\":{\"color\":\"#2a3f5f\"}},\"annotationdefaults\":{\"arrowcolor\":\"#2a3f5f\",\"arrowhead\":0,\"arrowwidth\":1},\"geo\":{\"bgcolor\":\"white\",\"landcolor\":\"#E5ECF6\",\"subunitcolor\":\"white\",\"showland\":true,\"showlakes\":true,\"lakecolor\":\"white\"},\"title\":{\"x\":0.05},\"mapbox\":{\"style\":\"light\"}}},\"xaxis\":{\"anchor\":\"y\",\"domain\":[0.0,1.0],\"title\":{\"text\":\"<b>Strikeouts per Game</b>\",\"font\":{\"size\":20}},\"tickfont\":{\"size\":18},\"zerolinecolor\":\"#c6f7f7\",\"gridcolor\":\"#c6f7f7\",\"gridwidth\":2,\"range\":[11.25,5.75]},\"yaxis\":{\"anchor\":\"x\",\"domain\":[0.0,1.0],\"title\":{\"text\":\"<b>Batting Average</b>\",\"font\":{\"size\":20}},\"tickfont\":{\"size\":18},\"tickformat\":\".3f\",\"zeroline\":false,\"gridcolor\":\"#c6f7f7\",\"gridwidth\":2},\"legend\":{\"title\":{\"text\":\"Opp\"},\"tracegroupgap\":0},\"margin\":{\"t\":100},\"title\":{\"font\":{\"size\":25},\"text\":\"<b>Astros Woes</b><br>Yankees Offense by Opponent\",\"y\":0.9,\"x\":0.5,\"xanchor\":\"center\",\"yanchor\":\"top\"},\"showlegend\":false,\"paper_bgcolor\":\"white\",\"plot_bgcolor\":\"white\"},                        {\"responsive\": true}                    ).then(function(){\n",
       "                            \n",
       "var gd = document.getElementById('a238e069-3613-4e66-89f9-309485554c8a');\n",
       "var x = new MutationObserver(function (mutations, observer) {{\n",
       "        var display = window.getComputedStyle(gd).display;\n",
       "        if (!display || display === 'none') {{\n",
       "            console.log([gd, 'removed!']);\n",
       "            Plotly.purge(gd);\n",
       "            observer.disconnect();\n",
       "        }}\n",
       "}});\n",
       "\n",
       "// Listen for the removal of the full notebook cells\n",
       "var notebookContainer = gd.closest('#notebook-container');\n",
       "if (notebookContainer) {{\n",
       "    x.observe(notebookContainer, {childList: true});\n",
       "}}\n",
       "\n",
       "// Listen for the clearing of the current output cell\n",
       "var outputEl = gd.closest('.output');\n",
       "if (outputEl) {{\n",
       "    x.observe(outputEl, {childList: true});\n",
       "}}\n",
       "\n",
       "                        })                };                });            </script>        </div>"
      ]
     },
     "metadata": {},
     "output_type": "display_data"
    }
   ],
   "source": [
    "# Scatter plot of BA and SO/G\n",
    "colors = ['#291c57']*7 + ['#EB6E1F'] + ['#291c57']*8\n",
    "fig = px.scatter(opp_df, x='SO/G', y='BA', text=opp_df.index, color=opp_df.index, color_discrete_sequence=colors)\n",
    "\n",
    "# Match text color with marker color\n",
    "fig.for_each_trace(lambda t: t.update(textfont_color=t.marker.color, textposition='middle center'))\n",
    "\n",
    "\n",
    "# Format figure\n",
    "fig.update_xaxes(\n",
    "    title=dict(text=\"<b>Strikeouts per Game</b>\",\n",
    "               font=dict(size=20)),\n",
    "    tickfont=dict(size=18),\n",
    "    zerolinecolor='#c6f7f7',\n",
    "    gridcolor='#c6f7f7',\n",
    "    gridwidth=2\n",
    ")\n",
    "\n",
    "fig.update_yaxes(\n",
    "    title=dict(text=\"<b>Batting Average</b>\",\n",
    "               font=dict(size=20)),\n",
    "    tickfont=dict(size=18),\n",
    "    tickformat=\".3f\",\n",
    "    zeroline=False,\n",
    "    gridcolor='#c6f7f7',\n",
    "    gridwidth=2\n",
    ")\n",
    "\n",
    "fig.update_traces(marker=dict(size=15, opacity=0),\n",
    "                  textfont_size=18)\n",
    "\n",
    "fig.update_layout(title=dict(text=\"<b>Astros Woes</b><br>Yankees Offense by Opponent\",\n",
    "                             y=0.9,\n",
    "                             x=0.5,\n",
    "                             xanchor='center',\n",
    "                             yanchor='top',\n",
    "                             font=dict(size=25)),\n",
    "                  margin=dict(t=100),\n",
    "                  xaxis_range=[11.25,5.75],\n",
    "                  showlegend=False,\n",
    "                  paper_bgcolor='white',\n",
    "                  plot_bgcolor='white') \n",
    "\n",
    "fig.show()"
   ]
  }
 ],
 "metadata": {
  "kernelspec": {
   "display_name": "PythonData",
   "language": "python",
   "name": "pythondata"
  },
  "language_info": {
   "codemirror_mode": {
    "name": "ipython",
    "version": 3
   },
   "file_extension": ".py",
   "mimetype": "text/x-python",
   "name": "python",
   "nbconvert_exporter": "python",
   "pygments_lexer": "ipython3",
   "version": "3.7.11"
  }
 },
 "nbformat": 4,
 "nbformat_minor": 5
}
